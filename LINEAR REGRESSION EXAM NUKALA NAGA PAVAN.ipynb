{
 "cells": [
  {
   "cell_type": "markdown",
   "metadata": {},
   "source": [
    "## NUKALA NAGA PAVAN\n",
    "\n",
    "\n",
    "\n",
    "\n",
    "\n",
    "###    "
   ]
  },
  {
   "cell_type": "markdown",
   "metadata": {},
   "source": [
    "#                                   Reading PISATest Scores"
   ]
  },
  {
   "cell_type": "markdown",
   "metadata": {},
   "source": [
    "## Problem 1.1 - Dataset size\n",
    "\n",
    "Load the training and testing sets and save them as variables with the names pisaTrain and pisaTest.\n",
    "\n",
    "How many students are there in the training set?\n"
   ]
  },
  {
   "cell_type": "code",
   "execution_count": 6,
   "metadata": {
    "collapsed": true
   },
   "outputs": [],
   "source": [
    "import pandas as pd\n",
    "import numpy as np\n",
    "import matplotlib.pylab as plt\n",
    "import seaborn as sn\n",
    "%matplotlib inline "
   ]
  },
  {
   "cell_type": "code",
   "execution_count": 7,
   "metadata": {},
   "outputs": [],
   "source": [
    "pisaTrain = pd.read_csv(\"pisa2009train.csv\")\n",
    "pisaTest = pd.read_csv(\"pisa2009test.csv\")"
   ]
  },
  {
   "cell_type": "code",
   "execution_count": 8,
   "metadata": {},
   "outputs": [
    {
     "name": "stdout",
     "output_type": "stream",
     "text": [
      "<class 'pandas.core.frame.DataFrame'>\n",
      "RangeIndex: 3663 entries, 0 to 3662\n",
      "Data columns (total 24 columns):\n",
      "grade                    3663 non-null int64\n",
      "male                     3663 non-null int64\n",
      "raceeth                  3628 non-null object\n",
      "preschool                3607 non-null float64\n",
      "expectBachelors          3601 non-null float64\n",
      "motherHS                 3566 non-null float64\n",
      "motherBachelors          3266 non-null float64\n",
      "motherWork               3570 non-null float64\n",
      "fatherHS                 3418 non-null float64\n",
      "fatherBachelors          3094 non-null float64\n",
      "fatherWork               3430 non-null float64\n",
      "selfBornUS               3594 non-null float64\n",
      "motherBornUS             3592 non-null float64\n",
      "fatherBornUS             3550 non-null float64\n",
      "englishAtHome            3592 non-null float64\n",
      "computerForSchoolwork    3598 non-null float64\n",
      "read30MinsADay           3629 non-null float64\n",
      "minutesPerWeekEnglish    3477 non-null float64\n",
      "studentsInEnglish        3414 non-null float64\n",
      "schoolHasLibrary         3520 non-null float64\n",
      "publicSchool             3663 non-null int64\n",
      "urban                    3663 non-null int64\n",
      "schoolSize               3501 non-null float64\n",
      "readingScore             3663 non-null float64\n",
      "dtypes: float64(19), int64(4), object(1)\n",
      "memory usage: 686.9+ KB\n"
     ]
    }
   ],
   "source": [
    "pisaTrain.info()"
   ]
  },
  {
   "cell_type": "code",
   "execution_count": 9,
   "metadata": {},
   "outputs": [
    {
     "data": {
      "text/plain": [
       "(3663, 24)"
      ]
     },
     "execution_count": 9,
     "metadata": {},
     "output_type": "execute_result"
    }
   ],
   "source": [
    "pisaTrain.shape"
   ]
  },
  {
   "cell_type": "markdown",
   "metadata": {},
   "source": [
    "By observing the above result , there are 3663 entries which are the number of students in the train dataset"
   ]
  },
  {
   "cell_type": "markdown",
   "metadata": {},
   "source": [
    "## Problem 1.2 - Summarizing the dataset\n",
    "What is the average reading test score of males & Of females??\n"
   ]
  },
  {
   "cell_type": "code",
   "execution_count": 11,
   "metadata": {},
   "outputs": [
    {
     "data": {
      "text/plain": [
       "483.53247863247805"
      ]
     },
     "execution_count": 11,
     "metadata": {},
     "output_type": "execute_result"
    }
   ],
   "source": [
    "pisaTrain[pisaTrain.male == 1].readingScore.mean() ## The average reading score of males in the train dataset"
   ]
  },
  {
   "cell_type": "code",
   "execution_count": 12,
   "metadata": {},
   "outputs": [
    {
     "data": {
      "text/plain": [
       "512.94063093244"
      ]
     },
     "execution_count": 12,
     "metadata": {},
     "output_type": "execute_result"
    }
   ],
   "source": [
    "pisaTrain[pisaTrain.male == 0].readingScore.mean() ## The average reading score of females in the train dataset"
   ]
  },
  {
   "cell_type": "markdown",
   "metadata": {},
   "source": [
    "## Problem 1.3 - Locating missing values\n",
    "Which variables have missing data in at least one observation in the training set? "
   ]
  },
  {
   "cell_type": "code",
   "execution_count": 13,
   "metadata": {},
   "outputs": [
    {
     "data": {
      "text/plain": [
       "raceeth                   35\n",
       "preschool                 56\n",
       "expectBachelors           62\n",
       "motherHS                  97\n",
       "motherBachelors          397\n",
       "motherWork                93\n",
       "fatherHS                 245\n",
       "fatherBachelors          569\n",
       "fatherWork               233\n",
       "selfBornUS                69\n",
       "motherBornUS              71\n",
       "fatherBornUS             113\n",
       "englishAtHome             71\n",
       "computerForSchoolwork     65\n",
       "read30MinsADay            34\n",
       "minutesPerWeekEnglish    186\n",
       "studentsInEnglish        249\n",
       "schoolHasLibrary         143\n",
       "schoolSize               162\n",
       "dtype: int64"
      ]
     },
     "execution_count": 13,
     "metadata": {},
     "output_type": "execute_result"
    }
   ],
   "source": [
    "pisaTrain.isnull().sum()[ pisaTrain.isnull().sum() != 0]"
   ]
  },
  {
   "cell_type": "markdown",
   "metadata": {},
   "source": [
    "\n",
    "\n",
    "\n",
    "The above variables have missing values.\n"
   ]
  },
  {
   "cell_type": "markdown",
   "metadata": {},
   "source": [
    "## Problem 1.4 - Removing missing values\n",
    "Linear regression discards observations with missing data, so we will remove all such observations from the training and testing sets.\n"
   ]
  },
  {
   "cell_type": "code",
   "execution_count": 14,
   "metadata": {
    "collapsed": true
   },
   "outputs": [],
   "source": [
    "ptrain_nomiss = pisaTrain.dropna(axis=0)"
   ]
  },
  {
   "cell_type": "code",
   "execution_count": 15,
   "metadata": {},
   "outputs": [
    {
     "data": {
      "text/plain": [
       "grade                    0\n",
       "male                     0\n",
       "raceeth                  0\n",
       "preschool                0\n",
       "expectBachelors          0\n",
       "motherHS                 0\n",
       "motherBachelors          0\n",
       "motherWork               0\n",
       "fatherHS                 0\n",
       "fatherBachelors          0\n",
       "fatherWork               0\n",
       "selfBornUS               0\n",
       "motherBornUS             0\n",
       "fatherBornUS             0\n",
       "englishAtHome            0\n",
       "computerForSchoolwork    0\n",
       "read30MinsADay           0\n",
       "minutesPerWeekEnglish    0\n",
       "studentsInEnglish        0\n",
       "schoolHasLibrary         0\n",
       "publicSchool             0\n",
       "urban                    0\n",
       "schoolSize               0\n",
       "readingScore             0\n",
       "dtype: int64"
      ]
     },
     "execution_count": 15,
     "metadata": {},
     "output_type": "execute_result"
    }
   ],
   "source": [
    "ptrain_nomiss.isnull().sum()"
   ]
  },
  {
   "cell_type": "code",
   "execution_count": 16,
   "metadata": {
    "collapsed": true
   },
   "outputs": [],
   "source": [
    "ptest_nomiss = pisaTest.dropna(axis=0)"
   ]
  },
  {
   "cell_type": "code",
   "execution_count": 17,
   "metadata": {},
   "outputs": [
    {
     "data": {
      "text/plain": [
       "grade                    0\n",
       "male                     0\n",
       "raceeth                  0\n",
       "preschool                0\n",
       "expectBachelors          0\n",
       "motherHS                 0\n",
       "motherBachelors          0\n",
       "motherWork               0\n",
       "fatherHS                 0\n",
       "fatherBachelors          0\n",
       "fatherWork               0\n",
       "selfBornUS               0\n",
       "motherBornUS             0\n",
       "fatherBornUS             0\n",
       "englishAtHome            0\n",
       "computerForSchoolwork    0\n",
       "read30MinsADay           0\n",
       "minutesPerWeekEnglish    0\n",
       "studentsInEnglish        0\n",
       "schoolHasLibrary         0\n",
       "publicSchool             0\n",
       "urban                    0\n",
       "schoolSize               0\n",
       "readingScore             0\n",
       "dtype: int64"
      ]
     },
     "execution_count": 17,
     "metadata": {},
     "output_type": "execute_result"
    }
   ],
   "source": [
    "ptest_nomiss.isnull().sum()"
   ]
  },
  {
   "cell_type": "markdown",
   "metadata": {},
   "source": [
    "## Problem 2.1 - Factor variables\n",
    "Factor variables are variables that take on a discrete set of values, like the \"States\" of India. This is an unordered factor because there isn't any natural ordering between the states. An ordered factor has a natural ordering between the levels (an example would be the classifications \"large,\" \"medium,\" and \"small\").\n",
    "\n",
    "1) Which of the following variables is an unordered factor with at least 3 levels? (Select all that apply.)\n",
    "\n",
    " grade\n",
    " \n",
    " male\n",
    " \n",
    " raceeth\n"
   ]
  },
  {
   "cell_type": "code",
   "execution_count": 18,
   "metadata": {},
   "outputs": [
    {
     "data": {
      "text/plain": [
       "array([11, 10,  9, 12,  8], dtype=int64)"
      ]
     },
     "execution_count": 18,
     "metadata": {},
     "output_type": "execute_result"
    }
   ],
   "source": [
    "ptrain_nomiss.grade.unique()"
   ]
  },
  {
   "cell_type": "code",
   "execution_count": 19,
   "metadata": {},
   "outputs": [
    {
     "data": {
      "text/plain": [
       "array([1, 0], dtype=int64)"
      ]
     },
     "execution_count": 19,
     "metadata": {},
     "output_type": "execute_result"
    }
   ],
   "source": [
    "ptrain_nomiss.male.unique()"
   ]
  },
  {
   "cell_type": "code",
   "execution_count": 20,
   "metadata": {},
   "outputs": [
    {
     "data": {
      "text/plain": [
       "array(['White', 'Black', 'Hispanic', 'More than one race',\n",
       "       'American Indian/Alaska Native', 'Asian',\n",
       "       'Native Hawaiian/Other Pacific Islander'], dtype=object)"
      ]
     },
     "execution_count": 20,
     "metadata": {},
     "output_type": "execute_result"
    }
   ],
   "source": [
    "ptrain_nomiss.raceeth.unique()"
   ]
  },
  {
   "cell_type": "markdown",
   "metadata": {},
   "source": [
    "As , we can see that 'Grade' has 5 levels , but it's ordered. 'Male' is not ordered but it has only 2 levels.\n",
    "\n",
    "'Raceeth' is the categorical variable with no order and more that 3 levels\n",
    "\n",
    "\n",
    "\n",
    "\n",
    "\n",
    "##    "
   ]
  },
  {
   "cell_type": "markdown",
   "metadata": {},
   "source": [
    "2)  Which of the following variables is an ordered factor with at least 3 levels? (Select all that apply.)\n",
    " \n",
    " grade\n",
    " \n",
    " male\n",
    " \n",
    " raceeth\n"
   ]
  },
  {
   "cell_type": "code",
   "execution_count": 21,
   "metadata": {},
   "outputs": [
    {
     "data": {
      "text/plain": [
       "array(['White', 'Black', 'Hispanic', 'More than one race',\n",
       "       'American Indian/Alaska Native', 'Asian',\n",
       "       'Native Hawaiian/Other Pacific Islander'], dtype=object)"
      ]
     },
     "execution_count": 21,
     "metadata": {},
     "output_type": "execute_result"
    }
   ],
   "source": [
    "ptrain_nomiss.raceeth.unique()"
   ]
  },
  {
   "cell_type": "code",
   "execution_count": 22,
   "metadata": {},
   "outputs": [
    {
     "data": {
      "text/plain": [
       "array([1, 0], dtype=int64)"
      ]
     },
     "execution_count": 22,
     "metadata": {},
     "output_type": "execute_result"
    }
   ],
   "source": [
    "ptrain_nomiss.male.unique()"
   ]
  },
  {
   "cell_type": "code",
   "execution_count": 23,
   "metadata": {},
   "outputs": [
    {
     "data": {
      "text/plain": [
       "array([11, 10,  9, 12,  8], dtype=int64)"
      ]
     },
     "execution_count": 23,
     "metadata": {},
     "output_type": "execute_result"
    }
   ],
   "source": [
    "ptrain_nomiss.grade.unique()"
   ]
  },
  {
   "cell_type": "markdown",
   "metadata": {},
   "source": [
    "As , we can see that 'Raceeth' has 7 levels , but it's not ordered. 'Male' is not ordered but it has only 2 levels.\n",
    "\n",
    "'Grade' is the categorical variable which is ordered and has more than 3 levels"
   ]
  },
  {
   "cell_type": "markdown",
   "metadata": {},
   "source": [
    "## Problem 2.2 - Unordered factors in regression models\n",
    "To include unordered factors in a linear regression model, we define one level as the \"reference level\" and add a binary variable for each of the remaining levels. In this way, a factor with n levels is replaced by n-1 binary variables. The reference level is typically selected to be the most frequently occurring level in the dataset.\n",
    "As an example, consider the unordered factor variable \"color\", with levels \"red\", \"green\", and \"blue\". If \"green\" were the reference level, then we would add binary variables \"colorred\" and \"colorblue\" to a linear regression problem. All red examples would have colorred=1 and colorblue=0. All blue examples would have colorred=0 and colorblue=1. All green examples would have colorred=0 and colorblue=0.\n",
    "Now, consider the variable \"raceeth\" in our problem, which has levels \"American Indian/Alaska Native\", \"Asian\", \"Black\", \"Hispanic\", \"More than one race\", \"Native Hawaiian/Other Pacific Islander\", and \"White\". Because it is the most common in our population, we will select White as the reference level.\n"
   ]
  },
  {
   "cell_type": "markdown",
   "metadata": {},
   "source": [
    "Which binary variables will be included in the regression model? (Select all that apply.)\n",
    "\n",
    " raceethAmerican Indian/Alaska Native\n",
    " \n",
    " raceethAsian\n",
    " \n",
    " raceethBlack\n",
    " \n",
    " raceethHispanic\n",
    " \n",
    " raceethMore than one race\n",
    " \n",
    " raceethNative Hawaiian/Other Pacific Islander\n",
    " \n",
    " raceethWhite\n"
   ]
  },
  {
   "cell_type": "markdown",
   "metadata": {},
   "source": [
    " ## ANSWER:\n",
    " \n",
    " raceethAmerican Indian/Alaska Native\n",
    "\n",
    " raceethAsian \n",
    " \n",
    " raceethBlack\n",
    " \n",
    " raceethHispanic\n",
    " \n",
    " raceethMore than one race\n",
    " \n",
    " raceethNative Hawaiian/Other Pacific Islander\n",
    "\n",
    "\n",
    "The above mentioned will be binary variables.(except raceethWhite which is the reference variable and doesn't get included in the Linear Model as Binary variable)"
   ]
  },
  {
   "cell_type": "markdown",
   "metadata": {},
   "source": [
    "## Problem 2.3 - Example unordered factors\n",
    "Consider again adding our unordered factor race to the regression model with reference level \"White\".\n",
    "For a student who is Asian, which binary variables would be set to 0? All remaining variables will be set to 1. (Select all that apply.)\n",
    " \n",
    " raceethAmerican Indian/Alaska Native                 -  0\n",
    " \n",
    " raceethAsian                                         -  1\n",
    " \n",
    " raceethBlack                                         -  0\n",
    " \n",
    " raceethHispanic                                      -  0\n",
    " \n",
    " raceethMore than one race                            -  0\n",
    " \n",
    " raceethNative Hawaiian/Other Pacific Islander        -  0\n",
    " \n",
    "\n",
    "### For a student who is white, which binary variables would be set to 0? All remaining variables will be set to 1. (Select all that apply.)\n",
    " raceethAmerican Indian/Alaska Native                 -  0\n",
    " \n",
    " raceethAsian                                         -  0\n",
    " \n",
    " raceethBlack                                         -  0\n",
    " \n",
    " raceethHispanic                                      -  0\n",
    " \n",
    " raceethMore than one race                            -  0\n",
    " \n",
    " raceethNative Hawaiian/Other Pacific Islander        -  0\n"
   ]
  },
  {
   "cell_type": "markdown",
   "metadata": {},
   "source": [
    "## Problem 3.1 - Building a model\n",
    "Because the race variable takes on text values, it was loaded as a factor variable when we read in the dataset with read.csv() -- you can see this when you run str(pisaTrain) or str(pisaTest). However, by default R selects the first level alphabetically (\"American Indian/Alaska Native\") as the reference level of our factor instead of the most common level (\"White\"). Set the reference level of the factor. \n",
    "\n",
    "Now, build a linear regression model (call it lmScore) using the training set to predict readingScore using all the remaining variables.\n",
    "\n",
    "It would be time-consuming to type all the variables, but R provides the shorthand notation \"readingScore ~ .\" to mean \"predict readingScore using all the other variables in the data frame.\" The period is used to replace listing out all of the independent variables. As an example, if your dependent variable is called \"Y\", your independent variables are called \"X1\", \"X2\", and \"X3\", and your training data set is called \"Train\", instead of the regular notation:\n",
    "What is the Multiple R-squared value of lmScore on the training set?\n"
   ]
  },
  {
   "cell_type": "code",
   "execution_count": 24,
   "metadata": {},
   "outputs": [
    {
     "data": {
      "text/plain": [
       "['grade',\n",
       " 'male',\n",
       " 'raceeth',\n",
       " 'preschool',\n",
       " 'expectBachelors',\n",
       " 'motherHS',\n",
       " 'motherBachelors',\n",
       " 'motherWork',\n",
       " 'fatherHS',\n",
       " 'fatherBachelors',\n",
       " 'fatherWork',\n",
       " 'selfBornUS',\n",
       " 'motherBornUS',\n",
       " 'fatherBornUS',\n",
       " 'englishAtHome',\n",
       " 'computerForSchoolwork',\n",
       " 'read30MinsADay',\n",
       " 'minutesPerWeekEnglish',\n",
       " 'studentsInEnglish',\n",
       " 'schoolHasLibrary',\n",
       " 'publicSchool',\n",
       " 'urban',\n",
       " 'schoolSize']"
      ]
     },
     "execution_count": 24,
     "metadata": {},
     "output_type": "execute_result"
    }
   ],
   "source": [
    "X_features = list(ptrain_nomiss.columns )\n",
    "X_features.remove( 'readingScore' )\n",
    "X_features"
   ]
  },
  {
   "cell_type": "code",
   "execution_count": 25,
   "metadata": {
    "collapsed": true
   },
   "outputs": [],
   "source": [
    "Train = pd.get_dummies(ptrain_nomiss[X_features], drop_first = True ) ## drop_first = True takes care of the reference level"
   ]
  },
  {
   "cell_type": "code",
   "execution_count": 26,
   "metadata": {},
   "outputs": [
    {
     "data": {
      "text/plain": [
       "Index(['grade', 'male', 'preschool', 'expectBachelors', 'motherHS',\n",
       "       'motherBachelors', 'motherWork', 'fatherHS', 'fatherBachelors',\n",
       "       'fatherWork', 'selfBornUS', 'motherBornUS', 'fatherBornUS',\n",
       "       'englishAtHome', 'computerForSchoolwork', 'read30MinsADay',\n",
       "       'minutesPerWeekEnglish', 'studentsInEnglish', 'schoolHasLibrary',\n",
       "       'publicSchool', 'urban', 'schoolSize', 'raceeth_Asian', 'raceeth_Black',\n",
       "       'raceeth_Hispanic', 'raceeth_More than one race',\n",
       "       'raceeth_Native Hawaiian/Other Pacific Islander', 'raceeth_White'],\n",
       "      dtype='object')"
      ]
     },
     "execution_count": 26,
     "metadata": {},
     "output_type": "execute_result"
    }
   ],
   "source": [
    "Train.columns"
   ]
  },
  {
   "cell_type": "code",
   "execution_count": 27,
   "metadata": {},
   "outputs": [
    {
     "name": "stderr",
     "output_type": "stream",
     "text": [
      "C:\\Users\\nagapavan\\Anaconda3\\lib\\site-packages\\statsmodels\\compat\\pandas.py:56: FutureWarning: The pandas.core.datetools module is deprecated and will be removed in a future version. Please use the pandas.tseries module instead.\n",
      "  from pandas.core import datetools\n"
     ]
    }
   ],
   "source": [
    "import statsmodels.api as sm"
   ]
  },
  {
   "cell_type": "code",
   "execution_count": 28,
   "metadata": {
    "collapsed": true
   },
   "outputs": [],
   "source": [
    "x = sm.add_constant(Train)"
   ]
  },
  {
   "cell_type": "code",
   "execution_count": 29,
   "metadata": {
    "collapsed": true
   },
   "outputs": [],
   "source": [
    "y = ptrain_nomiss.readingScore"
   ]
  },
  {
   "cell_type": "code",
   "execution_count": 30,
   "metadata": {
    "collapsed": true
   },
   "outputs": [],
   "source": [
    "lmScore = sm.OLS( y, x ).fit()"
   ]
  },
  {
   "cell_type": "code",
   "execution_count": 31,
   "metadata": {},
   "outputs": [
    {
     "data": {
      "text/plain": [
       "const                                             76.489006\n",
       "grade                                             29.542707\n",
       "male                                             -14.521653\n",
       "preschool                                         -4.463670\n",
       "expectBachelors                                   55.267080\n",
       "motherHS                                           6.058774\n",
       "motherBachelors                                   12.638068\n",
       "motherWork                                        -2.809101\n",
       "fatherHS                                           4.018214\n",
       "fatherBachelors                                   16.929755\n",
       "fatherWork                                         5.842798\n",
       "selfBornUS                                        -3.806278\n",
       "motherBornUS                                      -8.798153\n",
       "fatherBornUS                                       4.306994\n",
       "englishAtHome                                      8.035685\n",
       "computerForSchoolwork                             22.500232\n",
       "read30MinsADay                                    34.871924\n",
       "minutesPerWeekEnglish                              0.012788\n",
       "studentsInEnglish                                 -0.286631\n",
       "schoolHasLibrary                                  12.215085\n",
       "publicSchool                                     -16.857475\n",
       "urban                                             -0.110132\n",
       "schoolSize                                         0.006540\n",
       "raceeth_Asian                                     63.167002\n",
       "raceeth_Black                                      0.264980\n",
       "raceeth_Hispanic                                  28.301842\n",
       "raceeth_More than one race                        50.354805\n",
       "raceeth_Native Hawaiian/Other Pacific Islander    62.175726\n",
       "raceeth_White                                     67.277327\n",
       "dtype: float64"
      ]
     },
     "execution_count": 31,
     "metadata": {},
     "output_type": "execute_result"
    }
   ],
   "source": [
    "lmScore.params"
   ]
  },
  {
   "cell_type": "code",
   "execution_count": 32,
   "metadata": {},
   "outputs": [
    {
     "data": {
      "text/html": [
       "<table class=\"simpletable\">\n",
       "<caption>OLS Regression Results</caption>\n",
       "<tr>\n",
       "  <th>Dep. Variable:</th>      <td>readingScore</td>   <th>  R-squared:         </th> <td>   0.325</td> \n",
       "</tr>\n",
       "<tr>\n",
       "  <th>Model:</th>                   <td>OLS</td>       <th>  Adj. R-squared:    </th> <td>   0.317</td> \n",
       "</tr>\n",
       "<tr>\n",
       "  <th>Method:</th>             <td>Least Squares</td>  <th>  F-statistic:       </th> <td>   41.04</td> \n",
       "</tr>\n",
       "<tr>\n",
       "  <th>Date:</th>             <td>Fri, 31 Aug 2018</td> <th>  Prob (F-statistic):</th> <td>1.72e-180</td>\n",
       "</tr>\n",
       "<tr>\n",
       "  <th>Time:</th>                 <td>02:57:03</td>     <th>  Log-Likelihood:    </th> <td> -13795.</td> \n",
       "</tr>\n",
       "<tr>\n",
       "  <th>No. Observations:</th>      <td>  2414</td>      <th>  AIC:               </th> <td>2.765e+04</td>\n",
       "</tr>\n",
       "<tr>\n",
       "  <th>Df Residuals:</th>          <td>  2385</td>      <th>  BIC:               </th> <td>2.781e+04</td>\n",
       "</tr>\n",
       "<tr>\n",
       "  <th>Df Model:</th>              <td>    28</td>      <th>                     </th>     <td> </td>    \n",
       "</tr>\n",
       "<tr>\n",
       "  <th>Covariance Type:</th>      <td>nonrobust</td>    <th>                     </th>     <td> </td>    \n",
       "</tr>\n",
       "</table>\n",
       "<table class=\"simpletable\">\n",
       "<tr>\n",
       "                         <td></td>                           <th>coef</th>     <th>std err</th>      <th>t</th>      <th>P>|t|</th>  <th>[0.025</th>    <th>0.975]</th>  \n",
       "</tr>\n",
       "<tr>\n",
       "  <th>const</th>                                          <td>   76.4890</td> <td>   37.303</td> <td>    2.050</td> <td> 0.040</td> <td>    3.340</td> <td>  149.638</td>\n",
       "</tr>\n",
       "<tr>\n",
       "  <th>grade</th>                                          <td>   29.5427</td> <td>    2.937</td> <td>   10.057</td> <td> 0.000</td> <td>   23.783</td> <td>   35.303</td>\n",
       "</tr>\n",
       "<tr>\n",
       "  <th>male</th>                                           <td>  -14.5217</td> <td>    3.156</td> <td>   -4.601</td> <td> 0.000</td> <td>  -20.710</td> <td>   -8.333</td>\n",
       "</tr>\n",
       "<tr>\n",
       "  <th>preschool</th>                                      <td>   -4.4637</td> <td>    3.486</td> <td>   -1.280</td> <td> 0.201</td> <td>  -11.300</td> <td>    2.372</td>\n",
       "</tr>\n",
       "<tr>\n",
       "  <th>expectBachelors</th>                                <td>   55.2671</td> <td>    4.294</td> <td>   12.871</td> <td> 0.000</td> <td>   46.847</td> <td>   63.687</td>\n",
       "</tr>\n",
       "<tr>\n",
       "  <th>motherHS</th>                                       <td>    6.0588</td> <td>    6.091</td> <td>    0.995</td> <td> 0.320</td> <td>   -5.886</td> <td>   18.004</td>\n",
       "</tr>\n",
       "<tr>\n",
       "  <th>motherBachelors</th>                                <td>   12.6381</td> <td>    3.861</td> <td>    3.273</td> <td> 0.001</td> <td>    5.066</td> <td>   20.210</td>\n",
       "</tr>\n",
       "<tr>\n",
       "  <th>motherWork</th>                                     <td>   -2.8091</td> <td>    3.522</td> <td>   -0.798</td> <td> 0.425</td> <td>   -9.715</td> <td>    4.097</td>\n",
       "</tr>\n",
       "<tr>\n",
       "  <th>fatherHS</th>                                       <td>    4.0182</td> <td>    5.579</td> <td>    0.720</td> <td> 0.471</td> <td>   -6.923</td> <td>   14.959</td>\n",
       "</tr>\n",
       "<tr>\n",
       "  <th>fatherBachelors</th>                                <td>   16.9298</td> <td>    3.995</td> <td>    4.237</td> <td> 0.000</td> <td>    9.095</td> <td>   24.764</td>\n",
       "</tr>\n",
       "<tr>\n",
       "  <th>fatherWork</th>                                     <td>    5.8428</td> <td>    4.396</td> <td>    1.329</td> <td> 0.184</td> <td>   -2.778</td> <td>   14.463</td>\n",
       "</tr>\n",
       "<tr>\n",
       "  <th>selfBornUS</th>                                     <td>   -3.8063</td> <td>    7.324</td> <td>   -0.520</td> <td> 0.603</td> <td>  -18.168</td> <td>   10.555</td>\n",
       "</tr>\n",
       "<tr>\n",
       "  <th>motherBornUS</th>                                   <td>   -8.7982</td> <td>    6.588</td> <td>   -1.336</td> <td> 0.182</td> <td>  -21.716</td> <td>    4.120</td>\n",
       "</tr>\n",
       "<tr>\n",
       "  <th>fatherBornUS</th>                                   <td>    4.3070</td> <td>    6.264</td> <td>    0.688</td> <td> 0.492</td> <td>   -7.976</td> <td>   16.590</td>\n",
       "</tr>\n",
       "<tr>\n",
       "  <th>englishAtHome</th>                                  <td>    8.0357</td> <td>    6.859</td> <td>    1.171</td> <td> 0.242</td> <td>   -5.415</td> <td>   21.487</td>\n",
       "</tr>\n",
       "<tr>\n",
       "  <th>computerForSchoolwork</th>                          <td>   22.5002</td> <td>    5.703</td> <td>    3.946</td> <td> 0.000</td> <td>   11.318</td> <td>   33.683</td>\n",
       "</tr>\n",
       "<tr>\n",
       "  <th>read30MinsADay</th>                                 <td>   34.8719</td> <td>    3.408</td> <td>   10.231</td> <td> 0.000</td> <td>   28.188</td> <td>   41.556</td>\n",
       "</tr>\n",
       "<tr>\n",
       "  <th>minutesPerWeekEnglish</th>                          <td>    0.0128</td> <td>    0.011</td> <td>    1.194</td> <td> 0.233</td> <td>   -0.008</td> <td>    0.034</td>\n",
       "</tr>\n",
       "<tr>\n",
       "  <th>studentsInEnglish</th>                              <td>   -0.2866</td> <td>    0.228</td> <td>   -1.258</td> <td> 0.208</td> <td>   -0.733</td> <td>    0.160</td>\n",
       "</tr>\n",
       "<tr>\n",
       "  <th>schoolHasLibrary</th>                               <td>   12.2151</td> <td>    9.265</td> <td>    1.318</td> <td> 0.187</td> <td>   -5.953</td> <td>   30.383</td>\n",
       "</tr>\n",
       "<tr>\n",
       "  <th>publicSchool</th>                                   <td>  -16.8575</td> <td>    6.726</td> <td>   -2.506</td> <td> 0.012</td> <td>  -30.046</td> <td>   -3.669</td>\n",
       "</tr>\n",
       "<tr>\n",
       "  <th>urban</th>                                          <td>   -0.1101</td> <td>    3.963</td> <td>   -0.028</td> <td> 0.978</td> <td>   -7.881</td> <td>    7.661</td>\n",
       "</tr>\n",
       "<tr>\n",
       "  <th>schoolSize</th>                                     <td>    0.0065</td> <td>    0.002</td> <td>    2.977</td> <td> 0.003</td> <td>    0.002</td> <td>    0.011</td>\n",
       "</tr>\n",
       "<tr>\n",
       "  <th>raceeth_Asian</th>                                  <td>   63.1670</td> <td>   18.973</td> <td>    3.329</td> <td> 0.001</td> <td>   25.962</td> <td>  100.372</td>\n",
       "</tr>\n",
       "<tr>\n",
       "  <th>raceeth_Black</th>                                  <td>    0.2650</td> <td>   17.370</td> <td>    0.015</td> <td> 0.988</td> <td>  -33.796</td> <td>   34.326</td>\n",
       "</tr>\n",
       "<tr>\n",
       "  <th>raceeth_Hispanic</th>                               <td>   28.3018</td> <td>   17.259</td> <td>    1.640</td> <td> 0.101</td> <td>   -5.542</td> <td>   62.146</td>\n",
       "</tr>\n",
       "<tr>\n",
       "  <th>raceeth_More than one race</th>                     <td>   50.3548</td> <td>   18.570</td> <td>    2.712</td> <td> 0.007</td> <td>   13.940</td> <td>   86.770</td>\n",
       "</tr>\n",
       "<tr>\n",
       "  <th>raceeth_Native Hawaiian/Other Pacific Islander</th> <td>   62.1757</td> <td>   23.783</td> <td>    2.614</td> <td> 0.009</td> <td>   15.539</td> <td>  108.813</td>\n",
       "</tr>\n",
       "<tr>\n",
       "  <th>raceeth_White</th>                                  <td>   67.2773</td> <td>   16.787</td> <td>    4.008</td> <td> 0.000</td> <td>   34.359</td> <td>  100.196</td>\n",
       "</tr>\n",
       "</table>\n",
       "<table class=\"simpletable\">\n",
       "<tr>\n",
       "  <th>Omnibus:</th>       <td> 8.273</td> <th>  Durbin-Watson:     </th> <td>   1.998</td>\n",
       "</tr>\n",
       "<tr>\n",
       "  <th>Prob(Omnibus):</th> <td> 0.016</td> <th>  Jarque-Bera (JB):  </th> <td>   8.362</td>\n",
       "</tr>\n",
       "<tr>\n",
       "  <th>Skew:</th>          <td>-0.141</td> <th>  Prob(JB):          </th> <td>  0.0153</td>\n",
       "</tr>\n",
       "<tr>\n",
       "  <th>Kurtosis:</th>      <td> 2.943</td> <th>  Cond. No.          </th> <td>5.17e+04</td>\n",
       "</tr>\n",
       "</table>"
      ],
      "text/plain": [
       "<class 'statsmodels.iolib.summary.Summary'>\n",
       "\"\"\"\n",
       "                            OLS Regression Results                            \n",
       "==============================================================================\n",
       "Dep. Variable:           readingScore   R-squared:                       0.325\n",
       "Model:                            OLS   Adj. R-squared:                  0.317\n",
       "Method:                 Least Squares   F-statistic:                     41.04\n",
       "Date:                Fri, 31 Aug 2018   Prob (F-statistic):          1.72e-180\n",
       "Time:                        02:57:03   Log-Likelihood:                -13795.\n",
       "No. Observations:                2414   AIC:                         2.765e+04\n",
       "Df Residuals:                    2385   BIC:                         2.781e+04\n",
       "Df Model:                          28                                         \n",
       "Covariance Type:            nonrobust                                         \n",
       "==================================================================================================================\n",
       "                                                     coef    std err          t      P>|t|      [0.025      0.975]\n",
       "------------------------------------------------------------------------------------------------------------------\n",
       "const                                             76.4890     37.303      2.050      0.040       3.340     149.638\n",
       "grade                                             29.5427      2.937     10.057      0.000      23.783      35.303\n",
       "male                                             -14.5217      3.156     -4.601      0.000     -20.710      -8.333\n",
       "preschool                                         -4.4637      3.486     -1.280      0.201     -11.300       2.372\n",
       "expectBachelors                                   55.2671      4.294     12.871      0.000      46.847      63.687\n",
       "motherHS                                           6.0588      6.091      0.995      0.320      -5.886      18.004\n",
       "motherBachelors                                   12.6381      3.861      3.273      0.001       5.066      20.210\n",
       "motherWork                                        -2.8091      3.522     -0.798      0.425      -9.715       4.097\n",
       "fatherHS                                           4.0182      5.579      0.720      0.471      -6.923      14.959\n",
       "fatherBachelors                                   16.9298      3.995      4.237      0.000       9.095      24.764\n",
       "fatherWork                                         5.8428      4.396      1.329      0.184      -2.778      14.463\n",
       "selfBornUS                                        -3.8063      7.324     -0.520      0.603     -18.168      10.555\n",
       "motherBornUS                                      -8.7982      6.588     -1.336      0.182     -21.716       4.120\n",
       "fatherBornUS                                       4.3070      6.264      0.688      0.492      -7.976      16.590\n",
       "englishAtHome                                      8.0357      6.859      1.171      0.242      -5.415      21.487\n",
       "computerForSchoolwork                             22.5002      5.703      3.946      0.000      11.318      33.683\n",
       "read30MinsADay                                    34.8719      3.408     10.231      0.000      28.188      41.556\n",
       "minutesPerWeekEnglish                              0.0128      0.011      1.194      0.233      -0.008       0.034\n",
       "studentsInEnglish                                 -0.2866      0.228     -1.258      0.208      -0.733       0.160\n",
       "schoolHasLibrary                                  12.2151      9.265      1.318      0.187      -5.953      30.383\n",
       "publicSchool                                     -16.8575      6.726     -2.506      0.012     -30.046      -3.669\n",
       "urban                                             -0.1101      3.963     -0.028      0.978      -7.881       7.661\n",
       "schoolSize                                         0.0065      0.002      2.977      0.003       0.002       0.011\n",
       "raceeth_Asian                                     63.1670     18.973      3.329      0.001      25.962     100.372\n",
       "raceeth_Black                                      0.2650     17.370      0.015      0.988     -33.796      34.326\n",
       "raceeth_Hispanic                                  28.3018     17.259      1.640      0.101      -5.542      62.146\n",
       "raceeth_More than one race                        50.3548     18.570      2.712      0.007      13.940      86.770\n",
       "raceeth_Native Hawaiian/Other Pacific Islander    62.1757     23.783      2.614      0.009      15.539     108.813\n",
       "raceeth_White                                     67.2773     16.787      4.008      0.000      34.359     100.196\n",
       "==============================================================================\n",
       "Omnibus:                        8.273   Durbin-Watson:                   1.998\n",
       "Prob(Omnibus):                  0.016   Jarque-Bera (JB):                8.362\n",
       "Skew:                          -0.141   Prob(JB):                       0.0153\n",
       "Kurtosis:                       2.943   Cond. No.                     5.17e+04\n",
       "==============================================================================\n",
       "\n",
       "Warnings:\n",
       "[1] Standard Errors assume that the covariance matrix of the errors is correctly specified.\n",
       "[2] The condition number is large, 5.17e+04. This might indicate that there are\n",
       "strong multicollinearity or other numerical problems.\n",
       "\"\"\""
      ]
     },
     "execution_count": 32,
     "metadata": {},
     "output_type": "execute_result"
    }
   ],
   "source": [
    "lmScore.summary()"
   ]
  },
  {
   "cell_type": "markdown",
   "metadata": {},
   "source": [
    "##              From the lmScore model's summary, we obtained Multiple  R-squared:\t0.325\n",
    "\n",
    "\n",
    "\n",
    "\n",
    "##   "
   ]
  },
  {
   "cell_type": "markdown",
   "metadata": {},
   "source": [
    "## Problem 3.2 - Computing the root-mean squared error of the model\n",
    "What is the training-set root-mean squared error (RMSE) of lmScore?"
   ]
  },
  {
   "cell_type": "markdown",
   "metadata": {},
   "source": [
    "## RMSE is obtained by actual 'y' values and predicted 'y' values"
   ]
  },
  {
   "cell_type": "code",
   "execution_count": 33,
   "metadata": {
    "collapsed": true
   },
   "outputs": [],
   "source": [
    "lmpredict = lmScore.predict( x )"
   ]
  },
  {
   "cell_type": "code",
   "execution_count": 34,
   "metadata": {},
   "outputs": [
    {
     "data": {
      "text/plain": [
       "1    538.692128\n",
       "3    495.626051\n",
       "4    436.878125\n",
       "7    566.133978\n",
       "9    500.639739\n",
       "dtype: float64"
      ]
     },
     "execution_count": 34,
     "metadata": {},
     "output_type": "execute_result"
    }
   ],
   "source": [
    "lmpredict.head()"
   ]
  },
  {
   "cell_type": "code",
   "execution_count": 35,
   "metadata": {
    "collapsed": true
   },
   "outputs": [],
   "source": [
    "from statsmodels.tools.eval_measures import rmse"
   ]
  },
  {
   "cell_type": "code",
   "execution_count": 36,
   "metadata": {},
   "outputs": [
    {
     "data": {
      "text/plain": [
       "73.365551432984503"
      ]
     },
     "execution_count": 36,
     "metadata": {},
     "output_type": "execute_result"
    }
   ],
   "source": [
    "rmse( y, lmpredict )"
   ]
  },
  {
   "cell_type": "markdown",
   "metadata": {},
   "source": [
    "## RMSE is  73.36"
   ]
  },
  {
   "cell_type": "markdown",
   "metadata": {},
   "source": [
    "## Problem 3.3 - Comparing predictions for similar students\n",
    "Consider two students A and B. They have all variable values the same, except that student A is in grade 11 and student B is in grade 9. What is the predicted reading score of student A minus the predicted reading score of student B?\n",
    "\n",
    " -59.09\n",
    " \n",
    " -29.54\n",
    " \n",
    " 0\n",
    " \n",
    " 29.54\n",
    " \n",
    " 59.09\n",
    " \n",
    " The difference cannot be determined without more information about the two students\n"
   ]
  },
  {
   "cell_type": "code",
   "execution_count": 43,
   "metadata": {},
   "outputs": [
    {
     "data": {
      "text/plain": [
       "59.0854"
      ]
     },
     "execution_count": 43,
     "metadata": {},
     "output_type": "execute_result"
    }
   ],
   "source": [
    "29.5427 *(11-9)  ## co-efficient of grade = 29.5427 and the values of grades are 11 , 9 . All other terms cancel each other."
   ]
  },
  {
   "cell_type": "markdown",
   "metadata": {},
   "source": [
    "## The difference obtained will be 59.09"
   ]
  },
  {
   "cell_type": "markdown",
   "metadata": {},
   "source": [
    "## Problem 3.4 - Interpreting model coefficients\n",
    "What is the meaning of the coefficient associated with variable raceethAsian?\n",
    "\n",
    " Predicted average reading score of an Asian student\n",
    " \n",
    " Difference between the average reading score of an Asian student and the average reading score of a white student\n",
    " \n",
    " Difference between the average reading score of an Asian student and the average reading score of all the students in the dataset\n",
    " \n",
    " Predicted difference in the reading score between an Asian student and a white student who is otherwise identical\n"
   ]
  },
  {
   "cell_type": "markdown",
   "metadata": {},
   "source": [
    "## ANSWER\n",
    " Difference between the average reading score of an Asian student and the average reading score of a white student\n",
    "Because, the co-efficents determine the slope = (y2-y1)/(x2-x1) . Here 'x' is categorical.(denominator can't be zero)"
   ]
  },
  {
   "cell_type": "markdown",
   "metadata": {},
   "source": [
    "## Problem 3.5 - Identifying variables lacking statistical significance\n",
    "Based on the significance codes, which variables are candidates for removal from the model? Select all that apply. (We'll assume that the factor variable raceeth should only be removed if none of its levels are significant.)\n",
    "\n",
    " grade\n",
    " \n",
    " male\n",
    " \n",
    " raceeth\n",
    " \n",
    " preschool\n",
    " \n",
    " expectBachelors\n",
    " \n",
    " motherHS\n",
    " \n",
    " motherBachelors\n",
    " \n",
    " motherWork\n",
    " \n",
    " fatherHS\n",
    " \n",
    " fatherBachelors\n",
    " \n",
    " fatherWork\n",
    " \n",
    " selfBornUS\n",
    " \n",
    " motherBornUS\n",
    " \n",
    " fatherBornUS\n",
    " \n",
    " englishAtHome\n",
    " \n",
    " computerForSchoolwork\n",
    " \n",
    " read30MinsADay\n",
    " \n",
    " minutesPerWeekEnglish\n",
    " \n",
    " studentsInEnglish\n",
    " \n",
    " schoolHasLibrary\n",
    " \n",
    " publicSchool\n",
    " \n",
    " urban\n",
    " \n",
    " schoolSize\n"
   ]
  },
  {
   "cell_type": "code",
   "execution_count": 44,
   "metadata": {
    "collapsed": true
   },
   "outputs": [],
   "source": [
    "def get_insignificant_vars( lm ):\n",
    "    var_p_vals_df = pd.DataFrame( lm.pvalues )\n",
    "    var_p_vals_df['vars'] = var_p_vals_df.index\n",
    "    var_p_vals_df.columns = ['pvals', 'vars']\n",
    "    return list( var_p_vals_df[var_p_vals_df.pvals > 0.05]['vars'] )"
   ]
  },
  {
   "cell_type": "code",
   "execution_count": 45,
   "metadata": {
    "collapsed": true
   },
   "outputs": [],
   "source": [
    "insignificant_vars = get_insignificant_vars( lmScore)"
   ]
  },
  {
   "cell_type": "code",
   "execution_count": 46,
   "metadata": {},
   "outputs": [
    {
     "data": {
      "text/plain": [
       "['preschool',\n",
       " 'motherHS',\n",
       " 'motherWork',\n",
       " 'fatherHS',\n",
       " 'fatherWork',\n",
       " 'selfBornUS',\n",
       " 'motherBornUS',\n",
       " 'fatherBornUS',\n",
       " 'englishAtHome',\n",
       " 'minutesPerWeekEnglish',\n",
       " 'studentsInEnglish',\n",
       " 'schoolHasLibrary',\n",
       " 'urban',\n",
       " 'raceeth_Black',\n",
       " 'raceeth_Hispanic']"
      ]
     },
     "execution_count": 46,
     "metadata": {},
     "output_type": "execute_result"
    }
   ],
   "source": [
    "insignificant_vars"
   ]
  },
  {
   "cell_type": "markdown",
   "metadata": {},
   "source": [
    "## Problem 4.1 - Predicting on unseen data\n",
    "Using the \"predict\" function and supplying the \"newdata\" argument, use the lmScore model to predict the reading scores of students in pisaTest. Call this vector of predictions \"predTest\". Do not change the variables in the model (for example, do not remove variables that we found were not significant in the previous part of this problem). Use the summary function to describe the test set predictions.\n",
    "What is the range between the maximum and minimum predicted reading score on the test set?\n"
   ]
  },
  {
   "cell_type": "code",
   "execution_count": 47,
   "metadata": {},
   "outputs": [
    {
     "data": {
      "text/plain": [
       "['grade',\n",
       " 'male',\n",
       " 'raceeth',\n",
       " 'preschool',\n",
       " 'expectBachelors',\n",
       " 'motherHS',\n",
       " 'motherBachelors',\n",
       " 'motherWork',\n",
       " 'fatherHS',\n",
       " 'fatherBachelors',\n",
       " 'fatherWork',\n",
       " 'selfBornUS',\n",
       " 'motherBornUS',\n",
       " 'fatherBornUS',\n",
       " 'englishAtHome',\n",
       " 'computerForSchoolwork',\n",
       " 'read30MinsADay',\n",
       " 'minutesPerWeekEnglish',\n",
       " 'studentsInEnglish',\n",
       " 'schoolHasLibrary',\n",
       " 'publicSchool',\n",
       " 'urban',\n",
       " 'schoolSize']"
      ]
     },
     "execution_count": 47,
     "metadata": {},
     "output_type": "execute_result"
    }
   ],
   "source": [
    "X_features = list(ptest_nomiss.columns )\n",
    "X_features.remove( 'readingScore' )\n",
    "X_features"
   ]
  },
  {
   "cell_type": "code",
   "execution_count": 53,
   "metadata": {
    "collapsed": true
   },
   "outputs": [],
   "source": [
    "Test = pd.get_dummies(ptest_nomiss[X_features], drop_first = True )"
   ]
  },
  {
   "cell_type": "code",
   "execution_count": 54,
   "metadata": {},
   "outputs": [
    {
     "data": {
      "text/plain": [
       "Index(['grade', 'male', 'preschool', 'expectBachelors', 'motherHS',\n",
       "       'motherBachelors', 'motherWork', 'fatherHS', 'fatherBachelors',\n",
       "       'fatherWork', 'selfBornUS', 'motherBornUS', 'fatherBornUS',\n",
       "       'englishAtHome', 'computerForSchoolwork', 'read30MinsADay',\n",
       "       'minutesPerWeekEnglish', 'studentsInEnglish', 'schoolHasLibrary',\n",
       "       'publicSchool', 'urban', 'schoolSize', 'raceeth_Asian', 'raceeth_Black',\n",
       "       'raceeth_Hispanic', 'raceeth_More than one race',\n",
       "       'raceeth_Native Hawaiian/Other Pacific Islander', 'raceeth_White'],\n",
       "      dtype='object')"
      ]
     },
     "execution_count": 54,
     "metadata": {},
     "output_type": "execute_result"
    }
   ],
   "source": [
    "Test.columns"
   ]
  },
  {
   "cell_type": "code",
   "execution_count": 55,
   "metadata": {
    "collapsed": true
   },
   "outputs": [],
   "source": [
    "x_test = sm.add_constant(Test)"
   ]
  },
  {
   "cell_type": "code",
   "execution_count": 56,
   "metadata": {
    "collapsed": true
   },
   "outputs": [],
   "source": [
    "y_test = ptest_nomiss.readingScore"
   ]
  },
  {
   "cell_type": "code",
   "execution_count": 57,
   "metadata": {},
   "outputs": [
    {
     "data": {
      "text/plain": [
       "(990, 29)"
      ]
     },
     "execution_count": 57,
     "metadata": {},
     "output_type": "execute_result"
    }
   ],
   "source": [
    "x_test.shape"
   ]
  },
  {
   "cell_type": "code",
   "execution_count": 58,
   "metadata": {},
   "outputs": [],
   "source": [
    "lmpredict = lmScore.predict( x_test )"
   ]
  },
  {
   "cell_type": "code",
   "execution_count": 59,
   "metadata": {},
   "outputs": [
    {
     "data": {
      "text/plain": [
       "const                                             76.489006\n",
       "grade                                             29.542707\n",
       "male                                             -14.521653\n",
       "preschool                                         -4.463670\n",
       "expectBachelors                                   55.267080\n",
       "motherHS                                           6.058774\n",
       "motherBachelors                                   12.638068\n",
       "motherWork                                        -2.809101\n",
       "fatherHS                                           4.018214\n",
       "fatherBachelors                                   16.929755\n",
       "fatherWork                                         5.842798\n",
       "selfBornUS                                        -3.806278\n",
       "motherBornUS                                      -8.798153\n",
       "fatherBornUS                                       4.306994\n",
       "englishAtHome                                      8.035685\n",
       "computerForSchoolwork                             22.500232\n",
       "read30MinsADay                                    34.871924\n",
       "minutesPerWeekEnglish                              0.012788\n",
       "studentsInEnglish                                 -0.286631\n",
       "schoolHasLibrary                                  12.215085\n",
       "publicSchool                                     -16.857475\n",
       "urban                                             -0.110132\n",
       "schoolSize                                         0.006540\n",
       "raceeth_Asian                                     63.167002\n",
       "raceeth_Black                                      0.264980\n",
       "raceeth_Hispanic                                  28.301842\n",
       "raceeth_More than one race                        50.354805\n",
       "raceeth_Native Hawaiian/Other Pacific Islander    62.175726\n",
       "raceeth_White                                     67.277327\n",
       "dtype: float64"
      ]
     },
     "execution_count": 59,
     "metadata": {},
     "output_type": "execute_result"
    }
   ],
   "source": [
    "lmScore.params"
   ]
  },
  {
   "cell_type": "code",
   "execution_count": 80,
   "metadata": {},
   "outputs": [],
   "source": [
    "lm_test_predict = lmScore.predict( x_test)"
   ]
  },
  {
   "cell_type": "code",
   "execution_count": 81,
   "metadata": {},
   "outputs": [
    {
     "data": {
      "text/plain": [
       "284.46831179513185"
      ]
     },
     "execution_count": 81,
     "metadata": {},
     "output_type": "execute_result"
    }
   ],
   "source": [
    "lm_test_predict.max() - lm_test_predict.min()"
   ]
  },
  {
   "cell_type": "markdown",
   "metadata": {},
   "source": [
    "## Problem 4.2 - Test set SSE and RMSE\n",
    "What is the sum of squared errors (SSE) of lmScore on the testing set?\n",
    "What is the root-mean squared error (RMSE) of lmScore on the testing set?\n"
   ]
  },
  {
   "cell_type": "code",
   "execution_count": 74,
   "metadata": {
    "collapsed": true
   },
   "outputs": [],
   "source": [
    "class Stats:\n",
    "    \n",
    "    def __init__(self, X, y, model):\n",
    "        self.data = X\n",
    "        self.target = y\n",
    "        self.model = model\n",
    "        ## degrees of freedom population dep. variable variance\n",
    "        self._dft = X.shape[0] - 1   \n",
    "        ## degrees of freedom population error variance\n",
    "        self._dfe = X.shape[0] - X.shape[1] - 1  \n",
    "    \n",
    "    def sse(self):\n",
    "        '''returns sum of squared errors (model vs actual)'''\n",
    "        squared_errors = (self.target - self.model.predict(self.data)) ** 2\n",
    "        return np.sum(squared_errors)\n",
    "        \n",
    "    def sst(self):\n",
    "        '''returns total sum of squared errors (actual vs avg(actual))'''\n",
    "        avg_y = np.mean(self.target)\n",
    "        squared_errors = (self.target - avg_y) ** 2\n",
    "        return np.sum(squared_errors)\n",
    "    \n",
    "    def r_squared(self):\n",
    "        '''returns calculated value of r^2'''\n",
    "        return 1 - self.sse()/self.sst()\n",
    "    \n",
    "    def adj_r_squared(self):\n",
    "        '''returns calculated value of adjusted r^2'''\n",
    "        return 1 - (self.sse()/self._dfe) / (self.sst()/self._dft)"
   ]
  },
  {
   "cell_type": "code",
   "execution_count": 75,
   "metadata": {
    "collapsed": true
   },
   "outputs": [],
   "source": [
    "def pretty_print_stats(stats_obj):\n",
    "    '''returns report of statistics for a given model object'''\n",
    "    items = ( ('sse:', stats_obj.sse()), ('sst:', stats_obj.sst()), \n",
    "             ('r^2:', stats_obj.r_squared()), ('adj_r^2:', stats_obj.adj_r_squared()) )\n",
    "    for item in items:\n",
    "        print('{0:8} {1:.4f}'.format(item[0], item[1]))"
   ]
  },
  {
   "cell_type": "code",
   "execution_count": 82,
   "metadata": {},
   "outputs": [
    {
     "name": "stdout",
     "output_type": "stream",
     "text": [
      "sse:     5762082.3711\n",
      "sst:     7798774.9638\n",
      "r^2:     0.2612\n",
      "adj_r^2: 0.2388\n"
     ]
    }
   ],
   "source": [
    "stats = Stats(x_test, y_test, lmScore)\n",
    "pretty_print_stats(stats)"
   ]
  },
  {
   "cell_type": "code",
   "execution_count": 78,
   "metadata": {
    "collapsed": true
   },
   "outputs": [],
   "source": [
    "from sklearn import metrics"
   ]
  },
  {
   "cell_type": "code",
   "execution_count": 83,
   "metadata": {},
   "outputs": [
    {
     "data": {
      "text/plain": [
       "76.290793831092344"
      ]
     },
     "execution_count": 83,
     "metadata": {},
     "output_type": "execute_result"
    }
   ],
   "source": [
    "np.sqrt(metrics.mean_squared_error(lm_test_predict,y_test)) # RMSE "
   ]
  },
  {
   "cell_type": "markdown",
   "metadata": {},
   "source": [
    "## SSE = 5762082.37 , RMSE = 76.29"
   ]
  },
  {
   "cell_type": "markdown",
   "metadata": {},
   "source": [
    "## Problem 4.3 - Baseline prediction and test-set SSE\n",
    "What is the predicted test score used in the baseline model? Remember to compute this value using the training set and not the test set.\n",
    "What is the sum of squared errors of the baseline model on the testing set? HINT: We call the sum of squared errors for the baseline model the total sum of squares (SST).\n"
   ]
  },
  {
   "cell_type": "code",
   "execution_count": 88,
   "metadata": {},
   "outputs": [
    {
     "data": {
      "text/plain": [
       "517.96288732394294"
      ]
     },
     "execution_count": 88,
     "metadata": {},
     "output_type": "execute_result"
    }
   ],
   "source": [
    "baseline =  sum(y) / len(y) ## here y - train dataset\n",
    "baseline"
   ]
  },
  {
   "cell_type": "code",
   "execution_count": 90,
   "metadata": {},
   "outputs": [
    {
     "data": {
      "text/plain": [
       "519.86427272727224"
      ]
     },
     "execution_count": 90,
     "metadata": {},
     "output_type": "execute_result"
    }
   ],
   "source": [
    "base_test = sum(y_test) / len(y_test)\n",
    "base_test"
   ]
  },
  {
   "cell_type": "code",
   "execution_count": 93,
   "metadata": {},
   "outputs": [
    {
     "data": {
      "text/plain": [
       "7798774.963826365"
      ]
     },
     "execution_count": 93,
     "metadata": {},
     "output_type": "execute_result"
    }
   ],
   "source": [
    "SSE_test = np.sum((y_test - base_test)**2)\n",
    "SSE_test"
   ]
  },
  {
   "cell_type": "markdown",
   "metadata": {},
   "source": [
    "## Problem 4.4 - Test-set R-squared\n",
    "What is the test-set R-squared value of lmScore?\n"
   ]
  },
  {
   "cell_type": "code",
   "execution_count": 97,
   "metadata": {},
   "outputs": [
    {
     "data": {
      "text/plain": [
       "0.261155451115503"
      ]
     },
     "execution_count": 97,
     "metadata": {},
     "output_type": "execute_result"
    }
   ],
   "source": [
    "r_squared = (1-(5762082.37/SSE_test)) ## Since , R^2 = 1 - (SSE / SST)  , Here SSE=5762082.37 , SSE_test = SST\n",
    "r_squared"
   ]
  }
 ],
 "metadata": {
  "kernelspec": {
   "display_name": "Python 3",
   "language": "python",
   "name": "python3"
  },
  "language_info": {
   "codemirror_mode": {
    "name": "ipython",
    "version": 3
   },
   "file_extension": ".py",
   "mimetype": "text/x-python",
   "name": "python",
   "nbconvert_exporter": "python",
   "pygments_lexer": "ipython3",
   "version": "3.6.3"
  }
 },
 "nbformat": 4,
 "nbformat_minor": 2
}
