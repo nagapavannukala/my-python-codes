{
 "cells": [
  {
   "cell_type": "markdown",
   "metadata": {},
   "source": [
    "# Predicting Loan Defaults"
   ]
  },
  {
   "cell_type": "code",
   "execution_count": 176,
   "metadata": {
    "collapsed": true
   },
   "outputs": [],
   "source": [
    "import numpy as np\n",
    "import pandas as pd"
   ]
  },
  {
   "cell_type": "code",
   "execution_count": 177,
   "metadata": {
    "collapsed": true
   },
   "outputs": [],
   "source": [
    "data=pd.read_csv(\"C:\\Users\\hp\\Desktop\\loans.csv\")"
   ]
  },
  {
   "cell_type": "code",
   "execution_count": 178,
   "metadata": {},
   "outputs": [
    {
     "data": {
      "text/html": [
       "<div>\n",
       "<style scoped>\n",
       "    .dataframe tbody tr th:only-of-type {\n",
       "        vertical-align: middle;\n",
       "    }\n",
       "\n",
       "    .dataframe tbody tr th {\n",
       "        vertical-align: top;\n",
       "    }\n",
       "\n",
       "    .dataframe thead th {\n",
       "        text-align: right;\n",
       "    }\n",
       "</style>\n",
       "<table border=\"1\" class=\"dataframe\">\n",
       "  <thead>\n",
       "    <tr style=\"text-align: right;\">\n",
       "      <th></th>\n",
       "      <th>credit.policy</th>\n",
       "      <th>purpose</th>\n",
       "      <th>int.rate</th>\n",
       "      <th>installment</th>\n",
       "      <th>log.annual.inc</th>\n",
       "      <th>dti</th>\n",
       "      <th>fico</th>\n",
       "      <th>days.with.cr.line</th>\n",
       "      <th>revol.bal</th>\n",
       "      <th>revol.util</th>\n",
       "      <th>inq.last.6mths</th>\n",
       "      <th>delinq.2yrs</th>\n",
       "      <th>pub.rec</th>\n",
       "      <th>not.fully.paid</th>\n",
       "    </tr>\n",
       "  </thead>\n",
       "  <tbody>\n",
       "    <tr>\n",
       "      <th>0</th>\n",
       "      <td>1</td>\n",
       "      <td>debt_consolidation</td>\n",
       "      <td>0.1189</td>\n",
       "      <td>829.10</td>\n",
       "      <td>11.350407</td>\n",
       "      <td>19.48</td>\n",
       "      <td>737</td>\n",
       "      <td>5639.958333</td>\n",
       "      <td>28854</td>\n",
       "      <td>52.1</td>\n",
       "      <td>0</td>\n",
       "      <td>0</td>\n",
       "      <td>0</td>\n",
       "      <td>0</td>\n",
       "    </tr>\n",
       "    <tr>\n",
       "      <th>1</th>\n",
       "      <td>1</td>\n",
       "      <td>credit_card</td>\n",
       "      <td>0.1071</td>\n",
       "      <td>228.22</td>\n",
       "      <td>11.082143</td>\n",
       "      <td>14.29</td>\n",
       "      <td>707</td>\n",
       "      <td>2760.000000</td>\n",
       "      <td>33623</td>\n",
       "      <td>76.7</td>\n",
       "      <td>0</td>\n",
       "      <td>0</td>\n",
       "      <td>0</td>\n",
       "      <td>0</td>\n",
       "    </tr>\n",
       "    <tr>\n",
       "      <th>2</th>\n",
       "      <td>1</td>\n",
       "      <td>debt_consolidation</td>\n",
       "      <td>0.1357</td>\n",
       "      <td>366.86</td>\n",
       "      <td>10.373491</td>\n",
       "      <td>11.63</td>\n",
       "      <td>682</td>\n",
       "      <td>4710.000000</td>\n",
       "      <td>3511</td>\n",
       "      <td>25.6</td>\n",
       "      <td>1</td>\n",
       "      <td>0</td>\n",
       "      <td>0</td>\n",
       "      <td>0</td>\n",
       "    </tr>\n",
       "    <tr>\n",
       "      <th>3</th>\n",
       "      <td>1</td>\n",
       "      <td>debt_consolidation</td>\n",
       "      <td>0.1008</td>\n",
       "      <td>162.34</td>\n",
       "      <td>11.350407</td>\n",
       "      <td>8.10</td>\n",
       "      <td>712</td>\n",
       "      <td>2699.958333</td>\n",
       "      <td>33667</td>\n",
       "      <td>73.2</td>\n",
       "      <td>1</td>\n",
       "      <td>0</td>\n",
       "      <td>0</td>\n",
       "      <td>0</td>\n",
       "    </tr>\n",
       "    <tr>\n",
       "      <th>4</th>\n",
       "      <td>1</td>\n",
       "      <td>credit_card</td>\n",
       "      <td>0.1426</td>\n",
       "      <td>102.92</td>\n",
       "      <td>11.299732</td>\n",
       "      <td>14.97</td>\n",
       "      <td>667</td>\n",
       "      <td>4066.000000</td>\n",
       "      <td>4740</td>\n",
       "      <td>39.5</td>\n",
       "      <td>0</td>\n",
       "      <td>1</td>\n",
       "      <td>0</td>\n",
       "      <td>0</td>\n",
       "    </tr>\n",
       "  </tbody>\n",
       "</table>\n",
       "</div>"
      ],
      "text/plain": [
       "   credit.policy             purpose  int.rate  installment  log.annual.inc  \\\n",
       "0              1  debt_consolidation    0.1189       829.10       11.350407   \n",
       "1              1         credit_card    0.1071       228.22       11.082143   \n",
       "2              1  debt_consolidation    0.1357       366.86       10.373491   \n",
       "3              1  debt_consolidation    0.1008       162.34       11.350407   \n",
       "4              1         credit_card    0.1426       102.92       11.299732   \n",
       "\n",
       "     dti  fico  days.with.cr.line  revol.bal  revol.util  inq.last.6mths  \\\n",
       "0  19.48   737        5639.958333      28854        52.1               0   \n",
       "1  14.29   707        2760.000000      33623        76.7               0   \n",
       "2  11.63   682        4710.000000       3511        25.6               1   \n",
       "3   8.10   712        2699.958333      33667        73.2               1   \n",
       "4  14.97   667        4066.000000       4740        39.5               0   \n",
       "\n",
       "   delinq.2yrs  pub.rec  not.fully.paid  \n",
       "0            0        0               0  \n",
       "1            0        0               0  \n",
       "2            0        0               0  \n",
       "3            0        0               0  \n",
       "4            1        0               0  "
      ]
     },
     "execution_count": 178,
     "metadata": {},
     "output_type": "execute_result"
    }
   ],
   "source": [
    "data.head(5)"
   ]
  },
  {
   "cell_type": "code",
   "execution_count": 179,
   "metadata": {},
   "outputs": [
    {
     "name": "stdout",
     "output_type": "stream",
     "text": [
      "<class 'pandas.core.frame.DataFrame'>\n",
      "RangeIndex: 9578 entries, 0 to 9577\n",
      "Data columns (total 14 columns):\n",
      "credit.policy        9578 non-null int64\n",
      "purpose              9578 non-null object\n",
      "int.rate             9578 non-null float64\n",
      "installment          9578 non-null float64\n",
      "log.annual.inc       9578 non-null float64\n",
      "dti                  9578 non-null float64\n",
      "fico                 9578 non-null int64\n",
      "days.with.cr.line    9578 non-null float64\n",
      "revol.bal            9578 non-null int64\n",
      "revol.util           9578 non-null float64\n",
      "inq.last.6mths       9578 non-null int64\n",
      "delinq.2yrs          9578 non-null int64\n",
      "pub.rec              9578 non-null int64\n",
      "not.fully.paid       9578 non-null int64\n",
      "dtypes: float64(6), int64(7), object(1)\n",
      "memory usage: 1.0+ MB\n"
     ]
    }
   ],
   "source": [
    "data.info()"
   ]
  },
  {
   "cell_type": "code",
   "execution_count": 180,
   "metadata": {},
   "outputs": [
    {
     "data": {
      "text/plain": [
       "Index([u'credit.policy', u'purpose', u'int.rate', u'installment',\n",
       "       u'log.annual.inc', u'dti', u'fico', u'days.with.cr.line', u'revol.bal',\n",
       "       u'revol.util', u'inq.last.6mths', u'delinq.2yrs', u'pub.rec',\n",
       "       u'not.fully.paid'],\n",
       "      dtype='object')"
      ]
     },
     "execution_count": 180,
     "metadata": {},
     "output_type": "execute_result"
    }
   ],
   "source": [
    "data.columns"
   ]
  },
  {
   "cell_type": "code",
   "execution_count": 181,
   "metadata": {
    "collapsed": true
   },
   "outputs": [],
   "source": [
    "column=[\"credit.policy\", \"purpose\", \"int.rate\", \"installment\",\n",
    "       \"log_annual_inc\", \"dti\", \"fico\", \"days_with_cr_line\", \"revol_bal\",\n",
    "       \"revol_util\", \"inq_last_6mths\", \"delinq_2yrs\", \"pub_rec\",\n",
    "       \"not_fully_paid\"]"
   ]
  },
  {
   "cell_type": "code",
   "execution_count": 182,
   "metadata": {
    "collapsed": true
   },
   "outputs": [],
   "source": [
    "data.columns=column"
   ]
  },
  {
   "cell_type": "code",
   "execution_count": 183,
   "metadata": {},
   "outputs": [
    {
     "data": {
      "text/plain": [
       "0    8045\n",
       "1    1533\n",
       "Name: not_fully_paid, dtype: int64"
      ]
     },
     "execution_count": 183,
     "metadata": {},
     "output_type": "execute_result"
    }
   ],
   "source": [
    "data.not_fully_paid.value_counts()"
   ]
  },
  {
   "cell_type": "code",
   "execution_count": 184,
   "metadata": {},
   "outputs": [
    {
     "data": {
      "text/plain": [
       "['credit.policy',\n",
       " 'purpose',\n",
       " 'int.rate',\n",
       " 'installment',\n",
       " 'log_annual_inc',\n",
       " 'dti',\n",
       " 'fico',\n",
       " 'days_with_cr_line',\n",
       " 'revol_bal',\n",
       " 'revol_util',\n",
       " 'inq_last_6mths',\n",
       " 'delinq_2yrs',\n",
       " 'pub_rec']"
      ]
     },
     "execution_count": 184,
     "metadata": {},
     "output_type": "execute_result"
    }
   ],
   "source": [
    "X_features = list(data.columns )\n",
    "X_features.remove( 'not_fully_paid' )\n",
    "X_features"
   ]
  },
  {
   "cell_type": "code",
   "execution_count": 185,
   "metadata": {
    "collapsed": true
   },
   "outputs": [],
   "source": [
    "data_complete = pd.get_dummies(data[X_features],drop_first=True) "
   ]
  },
  {
   "cell_type": "code",
   "execution_count": 186,
   "metadata": {},
   "outputs": [
    {
     "data": {
      "text/plain": [
       "18"
      ]
     },
     "execution_count": 186,
     "metadata": {},
     "output_type": "execute_result"
    }
   ],
   "source": [
    "len(data_complete.columns )"
   ]
  },
  {
   "cell_type": "code",
   "execution_count": 187,
   "metadata": {},
   "outputs": [
    {
     "data": {
      "text/html": [
       "<div>\n",
       "<style scoped>\n",
       "    .dataframe tbody tr th:only-of-type {\n",
       "        vertical-align: middle;\n",
       "    }\n",
       "\n",
       "    .dataframe tbody tr th {\n",
       "        vertical-align: top;\n",
       "    }\n",
       "\n",
       "    .dataframe thead th {\n",
       "        text-align: right;\n",
       "    }\n",
       "</style>\n",
       "<table border=\"1\" class=\"dataframe\">\n",
       "  <thead>\n",
       "    <tr style=\"text-align: right;\">\n",
       "      <th></th>\n",
       "      <th>0</th>\n",
       "      <th>1</th>\n",
       "      <th>2</th>\n",
       "      <th>3</th>\n",
       "      <th>4</th>\n",
       "    </tr>\n",
       "  </thead>\n",
       "  <tbody>\n",
       "    <tr>\n",
       "      <th>credit.policy</th>\n",
       "      <td>1.000000</td>\n",
       "      <td>1.000000</td>\n",
       "      <td>1.000000</td>\n",
       "      <td>1.000000</td>\n",
       "      <td>1.000000</td>\n",
       "    </tr>\n",
       "    <tr>\n",
       "      <th>int.rate</th>\n",
       "      <td>0.118900</td>\n",
       "      <td>0.107100</td>\n",
       "      <td>0.135700</td>\n",
       "      <td>0.100800</td>\n",
       "      <td>0.142600</td>\n",
       "    </tr>\n",
       "    <tr>\n",
       "      <th>installment</th>\n",
       "      <td>829.100000</td>\n",
       "      <td>228.220000</td>\n",
       "      <td>366.860000</td>\n",
       "      <td>162.340000</td>\n",
       "      <td>102.920000</td>\n",
       "    </tr>\n",
       "    <tr>\n",
       "      <th>log_annual_inc</th>\n",
       "      <td>11.350407</td>\n",
       "      <td>11.082143</td>\n",
       "      <td>10.373491</td>\n",
       "      <td>11.350407</td>\n",
       "      <td>11.299732</td>\n",
       "    </tr>\n",
       "    <tr>\n",
       "      <th>dti</th>\n",
       "      <td>19.480000</td>\n",
       "      <td>14.290000</td>\n",
       "      <td>11.630000</td>\n",
       "      <td>8.100000</td>\n",
       "      <td>14.970000</td>\n",
       "    </tr>\n",
       "    <tr>\n",
       "      <th>fico</th>\n",
       "      <td>737.000000</td>\n",
       "      <td>707.000000</td>\n",
       "      <td>682.000000</td>\n",
       "      <td>712.000000</td>\n",
       "      <td>667.000000</td>\n",
       "    </tr>\n",
       "    <tr>\n",
       "      <th>days_with_cr_line</th>\n",
       "      <td>5639.958333</td>\n",
       "      <td>2760.000000</td>\n",
       "      <td>4710.000000</td>\n",
       "      <td>2699.958333</td>\n",
       "      <td>4066.000000</td>\n",
       "    </tr>\n",
       "    <tr>\n",
       "      <th>revol_bal</th>\n",
       "      <td>28854.000000</td>\n",
       "      <td>33623.000000</td>\n",
       "      <td>3511.000000</td>\n",
       "      <td>33667.000000</td>\n",
       "      <td>4740.000000</td>\n",
       "    </tr>\n",
       "    <tr>\n",
       "      <th>revol_util</th>\n",
       "      <td>52.100000</td>\n",
       "      <td>76.700000</td>\n",
       "      <td>25.600000</td>\n",
       "      <td>73.200000</td>\n",
       "      <td>39.500000</td>\n",
       "    </tr>\n",
       "    <tr>\n",
       "      <th>inq_last_6mths</th>\n",
       "      <td>0.000000</td>\n",
       "      <td>0.000000</td>\n",
       "      <td>1.000000</td>\n",
       "      <td>1.000000</td>\n",
       "      <td>0.000000</td>\n",
       "    </tr>\n",
       "    <tr>\n",
       "      <th>delinq_2yrs</th>\n",
       "      <td>0.000000</td>\n",
       "      <td>0.000000</td>\n",
       "      <td>0.000000</td>\n",
       "      <td>0.000000</td>\n",
       "      <td>1.000000</td>\n",
       "    </tr>\n",
       "    <tr>\n",
       "      <th>pub_rec</th>\n",
       "      <td>0.000000</td>\n",
       "      <td>0.000000</td>\n",
       "      <td>0.000000</td>\n",
       "      <td>0.000000</td>\n",
       "      <td>0.000000</td>\n",
       "    </tr>\n",
       "    <tr>\n",
       "      <th>purpose_credit_card</th>\n",
       "      <td>0.000000</td>\n",
       "      <td>1.000000</td>\n",
       "      <td>0.000000</td>\n",
       "      <td>0.000000</td>\n",
       "      <td>1.000000</td>\n",
       "    </tr>\n",
       "    <tr>\n",
       "      <th>purpose_debt_consolidation</th>\n",
       "      <td>1.000000</td>\n",
       "      <td>0.000000</td>\n",
       "      <td>1.000000</td>\n",
       "      <td>1.000000</td>\n",
       "      <td>0.000000</td>\n",
       "    </tr>\n",
       "    <tr>\n",
       "      <th>purpose_educational</th>\n",
       "      <td>0.000000</td>\n",
       "      <td>0.000000</td>\n",
       "      <td>0.000000</td>\n",
       "      <td>0.000000</td>\n",
       "      <td>0.000000</td>\n",
       "    </tr>\n",
       "    <tr>\n",
       "      <th>purpose_home_improvement</th>\n",
       "      <td>0.000000</td>\n",
       "      <td>0.000000</td>\n",
       "      <td>0.000000</td>\n",
       "      <td>0.000000</td>\n",
       "      <td>0.000000</td>\n",
       "    </tr>\n",
       "    <tr>\n",
       "      <th>purpose_major_purchase</th>\n",
       "      <td>0.000000</td>\n",
       "      <td>0.000000</td>\n",
       "      <td>0.000000</td>\n",
       "      <td>0.000000</td>\n",
       "      <td>0.000000</td>\n",
       "    </tr>\n",
       "    <tr>\n",
       "      <th>purpose_small_business</th>\n",
       "      <td>0.000000</td>\n",
       "      <td>0.000000</td>\n",
       "      <td>0.000000</td>\n",
       "      <td>0.000000</td>\n",
       "      <td>0.000000</td>\n",
       "    </tr>\n",
       "  </tbody>\n",
       "</table>\n",
       "</div>"
      ],
      "text/plain": [
       "                                       0             1            2  \\\n",
       "credit.policy                   1.000000      1.000000     1.000000   \n",
       "int.rate                        0.118900      0.107100     0.135700   \n",
       "installment                   829.100000    228.220000   366.860000   \n",
       "log_annual_inc                 11.350407     11.082143    10.373491   \n",
       "dti                            19.480000     14.290000    11.630000   \n",
       "fico                          737.000000    707.000000   682.000000   \n",
       "days_with_cr_line            5639.958333   2760.000000  4710.000000   \n",
       "revol_bal                   28854.000000  33623.000000  3511.000000   \n",
       "revol_util                     52.100000     76.700000    25.600000   \n",
       "inq_last_6mths                  0.000000      0.000000     1.000000   \n",
       "delinq_2yrs                     0.000000      0.000000     0.000000   \n",
       "pub_rec                         0.000000      0.000000     0.000000   \n",
       "purpose_credit_card             0.000000      1.000000     0.000000   \n",
       "purpose_debt_consolidation      1.000000      0.000000     1.000000   \n",
       "purpose_educational             0.000000      0.000000     0.000000   \n",
       "purpose_home_improvement        0.000000      0.000000     0.000000   \n",
       "purpose_major_purchase          0.000000      0.000000     0.000000   \n",
       "purpose_small_business          0.000000      0.000000     0.000000   \n",
       "\n",
       "                                       3            4  \n",
       "credit.policy                   1.000000     1.000000  \n",
       "int.rate                        0.100800     0.142600  \n",
       "installment                   162.340000   102.920000  \n",
       "log_annual_inc                 11.350407    11.299732  \n",
       "dti                             8.100000    14.970000  \n",
       "fico                          712.000000   667.000000  \n",
       "days_with_cr_line            2699.958333  4066.000000  \n",
       "revol_bal                   33667.000000  4740.000000  \n",
       "revol_util                     73.200000    39.500000  \n",
       "inq_last_6mths                  1.000000     0.000000  \n",
       "delinq_2yrs                     0.000000     1.000000  \n",
       "pub_rec                         0.000000     0.000000  \n",
       "purpose_credit_card             0.000000     1.000000  \n",
       "purpose_debt_consolidation      1.000000     0.000000  \n",
       "purpose_educational             0.000000     0.000000  \n",
       "purpose_home_improvement        0.000000     0.000000  \n",
       "purpose_major_purchase          0.000000     0.000000  \n",
       "purpose_small_business          0.000000     0.000000  "
      ]
     },
     "execution_count": 187,
     "metadata": {},
     "output_type": "execute_result"
    }
   ],
   "source": [
    "data_complete.head().T"
   ]
  },
  {
   "cell_type": "code",
   "execution_count": 188,
   "metadata": {},
   "outputs": [
    {
     "name": "stdout",
     "output_type": "stream",
     "text": [
      "<class 'pandas.core.frame.DataFrame'>\n",
      "RangeIndex: 9578 entries, 0 to 9577\n",
      "Data columns (total 18 columns):\n",
      "credit.policy                 9578 non-null int64\n",
      "int.rate                      9578 non-null float64\n",
      "installment                   9578 non-null float64\n",
      "log_annual_inc                9578 non-null float64\n",
      "dti                           9578 non-null float64\n",
      "fico                          9578 non-null int64\n",
      "days_with_cr_line             9578 non-null float64\n",
      "revol_bal                     9578 non-null int64\n",
      "revol_util                    9578 non-null float64\n",
      "inq_last_6mths                9578 non-null int64\n",
      "delinq_2yrs                   9578 non-null int64\n",
      "pub_rec                       9578 non-null int64\n",
      "purpose_credit_card           9578 non-null uint8\n",
      "purpose_debt_consolidation    9578 non-null uint8\n",
      "purpose_educational           9578 non-null uint8\n",
      "purpose_home_improvement      9578 non-null uint8\n",
      "purpose_major_purchase        9578 non-null uint8\n",
      "purpose_small_business        9578 non-null uint8\n",
      "dtypes: float64(6), int64(6), uint8(6)\n",
      "memory usage: 954.1 KB\n"
     ]
    }
   ],
   "source": [
    "data_complete.info()"
   ]
  },
  {
   "cell_type": "markdown",
   "metadata": {},
   "source": [
    "## 1.\tSplit it into a training and testing set. How should the split be made? Why? Which function will you use to split the data?\n",
    "\n",
    "### Ans:\n",
    "### The Splitting is nothing but dividing the dataset into train and test part. Here the splitting should be done randomly without any biasness in the data. \n",
    "### So we make use of  train_test_split from sklearn.cross_validation. \n",
    "### The train dataset should always have larger portion compare to test dataset. "
   ]
  },
  {
   "cell_type": "code",
   "execution_count": 189,
   "metadata": {
    "collapsed": true
   },
   "outputs": [],
   "source": [
    "y=data.not_fully_paid"
   ]
  },
  {
   "cell_type": "code",
   "execution_count": 190,
   "metadata": {
    "collapsed": true
   },
   "outputs": [],
   "source": [
    "x=data_complete"
   ]
  },
  {
   "cell_type": "code",
   "execution_count": 191,
   "metadata": {
    "collapsed": true
   },
   "outputs": [],
   "source": [
    "from sklearn.cross_validation import train_test_split"
   ]
  },
  {
   "cell_type": "code",
   "execution_count": 192,
   "metadata": {
    "collapsed": true
   },
   "outputs": [],
   "source": [
    "x_train, x_test, y_train, y_test = train_test_split( x, y, test_size = 0.3)"
   ]
  },
  {
   "cell_type": "code",
   "execution_count": 193,
   "metadata": {},
   "outputs": [
    {
     "data": {
      "text/plain": [
       "8917    0\n",
       "2676    0\n",
       "1446    0\n",
       "1516    0\n",
       "5038    0\n",
       "Name: not_fully_paid, dtype: int64"
      ]
     },
     "execution_count": 193,
     "metadata": {},
     "output_type": "execute_result"
    }
   ],
   "source": [
    "y_test[0:5]"
   ]
  },
  {
   "cell_type": "markdown",
   "metadata": {},
   "source": [
    "## 2.\tNow, use logistic regression trained on the training set to predict the dependent variable not.fully.paid using all the independent variables."
   ]
  },
  {
   "cell_type": "code",
   "execution_count": 194,
   "metadata": {
    "collapsed": true
   },
   "outputs": [],
   "source": [
    "import statsmodels.api as sm\n",
    "from scipy import stats\n",
    "stats.chisqprob = lambda chisq, df: stats.chi2.sf(chisq, df)"
   ]
  },
  {
   "cell_type": "code",
   "execution_count": 195,
   "metadata": {
    "collapsed": true
   },
   "outputs": [],
   "source": [
    "logit = sm.Logit( y_train, sm.add_constant( x_train ) )"
   ]
  },
  {
   "cell_type": "code",
   "execution_count": 196,
   "metadata": {},
   "outputs": [
    {
     "name": "stdout",
     "output_type": "stream",
     "text": [
      "Optimization terminated successfully.\n",
      "         Current function value: 0.414749\n",
      "         Iterations 6\n"
     ]
    }
   ],
   "source": [
    "lg = logit.fit()"
   ]
  },
  {
   "cell_type": "code",
   "execution_count": 197,
   "metadata": {},
   "outputs": [
    {
     "data": {
      "text/html": [
       "<table class=\"simpletable\">\n",
       "<caption>Logit Regression Results</caption>\n",
       "<tr>\n",
       "  <th>Dep. Variable:</th>  <td>not_fully_paid</td>  <th>  No. Observations:  </th>  <td>  6704</td>  \n",
       "</tr>\n",
       "<tr>\n",
       "  <th>Model:</th>               <td>Logit</td>      <th>  Df Residuals:      </th>  <td>  6685</td>  \n",
       "</tr>\n",
       "<tr>\n",
       "  <th>Method:</th>               <td>MLE</td>       <th>  Df Model:          </th>  <td>    18</td>  \n",
       "</tr>\n",
       "<tr>\n",
       "  <th>Date:</th>          <td>Thu, 23 Aug 2018</td> <th>  Pseudo R-squ.:     </th>  <td>0.06831</td> \n",
       "</tr>\n",
       "<tr>\n",
       "  <th>Time:</th>              <td>15:22:48</td>     <th>  Log-Likelihood:    </th> <td> -2780.5</td> \n",
       "</tr>\n",
       "<tr>\n",
       "  <th>converged:</th>           <td>True</td>       <th>  LL-Null:           </th> <td> -2984.3</td> \n",
       "</tr>\n",
       "<tr>\n",
       "  <th> </th>                      <td> </td>        <th>  LLR p-value:       </th> <td>2.213e-75</td>\n",
       "</tr>\n",
       "</table>\n",
       "<table class=\"simpletable\">\n",
       "<tr>\n",
       "               <td></td>                 <th>coef</th>     <th>std err</th>      <th>z</th>      <th>P>|z|</th>  <th>[0.025</th>    <th>0.975]</th>  \n",
       "</tr>\n",
       "<tr>\n",
       "  <th>const</th>                      <td>    6.1964</td> <td>    1.543</td> <td>    4.016</td> <td> 0.000</td> <td>    3.173</td> <td>    9.220</td>\n",
       "</tr>\n",
       "<tr>\n",
       "  <th>credit.policy</th>              <td>   -0.3726</td> <td>    0.099</td> <td>   -3.768</td> <td> 0.000</td> <td>   -0.566</td> <td>   -0.179</td>\n",
       "</tr>\n",
       "<tr>\n",
       "  <th>int.rate</th>                   <td>    3.8858</td> <td>    2.077</td> <td>    1.871</td> <td> 0.061</td> <td>   -0.185</td> <td>    7.957</td>\n",
       "</tr>\n",
       "<tr>\n",
       "  <th>installment</th>                <td>    0.0012</td> <td>    0.000</td> <td>    5.890</td> <td> 0.000</td> <td>    0.001</td> <td>    0.002</td>\n",
       "</tr>\n",
       "<tr>\n",
       "  <th>log_annual_inc</th>             <td>   -0.3803</td> <td>    0.070</td> <td>   -5.398</td> <td> 0.000</td> <td>   -0.518</td> <td>   -0.242</td>\n",
       "</tr>\n",
       "<tr>\n",
       "  <th>dti</th>                        <td>   -0.0001</td> <td>    0.005</td> <td>   -0.022</td> <td> 0.982</td> <td>   -0.011</td> <td>    0.010</td>\n",
       "</tr>\n",
       "<tr>\n",
       "  <th>fico</th>                       <td>   -0.0064</td> <td>    0.002</td> <td>   -3.749</td> <td> 0.000</td> <td>   -0.010</td> <td>   -0.003</td>\n",
       "</tr>\n",
       "<tr>\n",
       "  <th>days_with_cr_line</th>          <td> 3.063e-06</td> <td> 1.59e-05</td> <td>    0.193</td> <td> 0.847</td> <td>-2.81e-05</td> <td> 3.42e-05</td>\n",
       "</tr>\n",
       "<tr>\n",
       "  <th>revol_bal</th>                  <td> 1.898e-06</td> <td> 1.06e-06</td> <td>    1.792</td> <td> 0.073</td> <td>-1.78e-07</td> <td> 3.97e-06</td>\n",
       "</tr>\n",
       "<tr>\n",
       "  <th>revol_util</th>                 <td>    0.0036</td> <td>    0.002</td> <td>    2.356</td> <td> 0.018</td> <td>    0.001</td> <td>    0.007</td>\n",
       "</tr>\n",
       "<tr>\n",
       "  <th>inq_last_6mths</th>             <td>    0.0869</td> <td>    0.016</td> <td>    5.372</td> <td> 0.000</td> <td>    0.055</td> <td>    0.119</td>\n",
       "</tr>\n",
       "<tr>\n",
       "  <th>delinq_2yrs</th>                <td>   -0.0671</td> <td>    0.063</td> <td>   -1.065</td> <td> 0.287</td> <td>   -0.191</td> <td>    0.056</td>\n",
       "</tr>\n",
       "<tr>\n",
       "  <th>pub_rec</th>                    <td>    0.2159</td> <td>    0.120</td> <td>    1.792</td> <td> 0.073</td> <td>   -0.020</td> <td>    0.452</td>\n",
       "</tr>\n",
       "<tr>\n",
       "  <th>purpose_credit_card</th>        <td>   -0.5551</td> <td>    0.129</td> <td>   -4.312</td> <td> 0.000</td> <td>   -0.807</td> <td>   -0.303</td>\n",
       "</tr>\n",
       "<tr>\n",
       "  <th>purpose_debt_consolidation</th> <td>   -0.3947</td> <td>    0.091</td> <td>   -4.316</td> <td> 0.000</td> <td>   -0.574</td> <td>   -0.215</td>\n",
       "</tr>\n",
       "<tr>\n",
       "  <th>purpose_educational</th>        <td>    0.2528</td> <td>    0.172</td> <td>    1.473</td> <td> 0.141</td> <td>   -0.084</td> <td>    0.589</td>\n",
       "</tr>\n",
       "<tr>\n",
       "  <th>purpose_home_improvement</th>   <td>   -0.0298</td> <td>    0.152</td> <td>   -0.196</td> <td> 0.845</td> <td>   -0.328</td> <td>    0.269</td>\n",
       "</tr>\n",
       "<tr>\n",
       "  <th>purpose_major_purchase</th>     <td>   -0.3905</td> <td>    0.201</td> <td>   -1.946</td> <td> 0.052</td> <td>   -0.784</td> <td>    0.003</td>\n",
       "</tr>\n",
       "<tr>\n",
       "  <th>purpose_small_business</th>     <td>    0.4770</td> <td>    0.140</td> <td>    3.410</td> <td> 0.001</td> <td>    0.203</td> <td>    0.751</td>\n",
       "</tr>\n",
       "</table>"
      ],
      "text/plain": [
       "<class 'statsmodels.iolib.summary.Summary'>\n",
       "\"\"\"\n",
       "                           Logit Regression Results                           \n",
       "==============================================================================\n",
       "Dep. Variable:         not_fully_paid   No. Observations:                 6704\n",
       "Model:                          Logit   Df Residuals:                     6685\n",
       "Method:                           MLE   Df Model:                           18\n",
       "Date:                Thu, 23 Aug 2018   Pseudo R-squ.:                 0.06831\n",
       "Time:                        15:22:48   Log-Likelihood:                -2780.5\n",
       "converged:                       True   LL-Null:                       -2984.3\n",
       "                                        LLR p-value:                 2.213e-75\n",
       "==============================================================================================\n",
       "                                 coef    std err          z      P>|z|      [0.025      0.975]\n",
       "----------------------------------------------------------------------------------------------\n",
       "const                          6.1964      1.543      4.016      0.000       3.173       9.220\n",
       "credit.policy                 -0.3726      0.099     -3.768      0.000      -0.566      -0.179\n",
       "int.rate                       3.8858      2.077      1.871      0.061      -0.185       7.957\n",
       "installment                    0.0012      0.000      5.890      0.000       0.001       0.002\n",
       "log_annual_inc                -0.3803      0.070     -5.398      0.000      -0.518      -0.242\n",
       "dti                           -0.0001      0.005     -0.022      0.982      -0.011       0.010\n",
       "fico                          -0.0064      0.002     -3.749      0.000      -0.010      -0.003\n",
       "days_with_cr_line           3.063e-06   1.59e-05      0.193      0.847   -2.81e-05    3.42e-05\n",
       "revol_bal                   1.898e-06   1.06e-06      1.792      0.073   -1.78e-07    3.97e-06\n",
       "revol_util                     0.0036      0.002      2.356      0.018       0.001       0.007\n",
       "inq_last_6mths                 0.0869      0.016      5.372      0.000       0.055       0.119\n",
       "delinq_2yrs                   -0.0671      0.063     -1.065      0.287      -0.191       0.056\n",
       "pub_rec                        0.2159      0.120      1.792      0.073      -0.020       0.452\n",
       "purpose_credit_card           -0.5551      0.129     -4.312      0.000      -0.807      -0.303\n",
       "purpose_debt_consolidation    -0.3947      0.091     -4.316      0.000      -0.574      -0.215\n",
       "purpose_educational            0.2528      0.172      1.473      0.141      -0.084       0.589\n",
       "purpose_home_improvement      -0.0298      0.152     -0.196      0.845      -0.328       0.269\n",
       "purpose_major_purchase        -0.3905      0.201     -1.946      0.052      -0.784       0.003\n",
       "purpose_small_business         0.4770      0.140      3.410      0.001       0.203       0.751\n",
       "==============================================================================================\n",
       "\"\"\""
      ]
     },
     "execution_count": 197,
     "metadata": {},
     "output_type": "execute_result"
    }
   ],
   "source": [
    "lg.summary()"
   ]
  },
  {
   "cell_type": "markdown",
   "metadata": {},
   "source": [
    "## 3.\tWhich independent variables are significant in our model? "
   ]
  },
  {
   "cell_type": "code",
   "execution_count": 198,
   "metadata": {
    "collapsed": true
   },
   "outputs": [],
   "source": [
    "def get_significant_vars( lm ):\n",
    "    var_p_vals_df = pd.DataFrame( lm.pvalues )\n",
    "    var_p_vals_df['vars'] = var_p_vals_df.index\n",
    "    var_p_vals_df.columns = ['pvals', 'vars']\n",
    "    return list( var_p_vals_df[var_p_vals_df.pvals <= 0.05]['vars'] )"
   ]
  },
  {
   "cell_type": "code",
   "execution_count": 199,
   "metadata": {
    "collapsed": true
   },
   "outputs": [],
   "source": [
    "significant_vars = get_significant_vars( lg )"
   ]
  },
  {
   "cell_type": "code",
   "execution_count": 200,
   "metadata": {},
   "outputs": [
    {
     "data": {
      "text/plain": [
       "['const',\n",
       " 'credit.policy',\n",
       " 'installment',\n",
       " 'log_annual_inc',\n",
       " 'fico',\n",
       " 'revol_util',\n",
       " 'inq_last_6mths',\n",
       " 'purpose_credit_card',\n",
       " 'purpose_debt_consolidation',\n",
       " 'purpose_small_business']"
      ]
     },
     "execution_count": 200,
     "metadata": {},
     "output_type": "execute_result"
    }
   ],
   "source": [
    "significant_vars"
   ]
  },
  {
   "cell_type": "code",
   "execution_count": 201,
   "metadata": {
    "collapsed": true
   },
   "outputs": [],
   "source": [
    "from sklearn import metrics"
   ]
  },
  {
   "cell_type": "code",
   "execution_count": 202,
   "metadata": {
    "collapsed": true
   },
   "outputs": [],
   "source": [
    "def get_predictions( y_test, model ):\n",
    "    y_pred_df = pd.DataFrame( { 'actual': y_test,\n",
    "                               \"predicted_prob\": lg.predict( sm.add_constant( x_test ) ) } )\n",
    "    return y_pred_df"
   ]
  },
  {
   "cell_type": "code",
   "execution_count": 203,
   "metadata": {
    "collapsed": true
   },
   "outputs": [],
   "source": [
    "y_pred_df = get_predictions( y_test, lg )"
   ]
  },
  {
   "cell_type": "code",
   "execution_count": 204,
   "metadata": {},
   "outputs": [
    {
     "data": {
      "text/html": [
       "<div>\n",
       "<style scoped>\n",
       "    .dataframe tbody tr th:only-of-type {\n",
       "        vertical-align: middle;\n",
       "    }\n",
       "\n",
       "    .dataframe tbody tr th {\n",
       "        vertical-align: top;\n",
       "    }\n",
       "\n",
       "    .dataframe thead th {\n",
       "        text-align: right;\n",
       "    }\n",
       "</style>\n",
       "<table border=\"1\" class=\"dataframe\">\n",
       "  <thead>\n",
       "    <tr style=\"text-align: right;\">\n",
       "      <th></th>\n",
       "      <th>actual</th>\n",
       "      <th>predicted_prob</th>\n",
       "    </tr>\n",
       "  </thead>\n",
       "  <tbody>\n",
       "    <tr>\n",
       "      <th>8917</th>\n",
       "      <td>0</td>\n",
       "      <td>0.238090</td>\n",
       "    </tr>\n",
       "    <tr>\n",
       "      <th>2676</th>\n",
       "      <td>0</td>\n",
       "      <td>0.089357</td>\n",
       "    </tr>\n",
       "    <tr>\n",
       "      <th>1446</th>\n",
       "      <td>0</td>\n",
       "      <td>0.148484</td>\n",
       "    </tr>\n",
       "    <tr>\n",
       "      <th>1516</th>\n",
       "      <td>0</td>\n",
       "      <td>0.080655</td>\n",
       "    </tr>\n",
       "    <tr>\n",
       "      <th>5038</th>\n",
       "      <td>0</td>\n",
       "      <td>0.075254</td>\n",
       "    </tr>\n",
       "    <tr>\n",
       "      <th>5786</th>\n",
       "      <td>0</td>\n",
       "      <td>0.065811</td>\n",
       "    </tr>\n",
       "    <tr>\n",
       "      <th>8543</th>\n",
       "      <td>1</td>\n",
       "      <td>0.262420</td>\n",
       "    </tr>\n",
       "    <tr>\n",
       "      <th>741</th>\n",
       "      <td>0</td>\n",
       "      <td>0.093176</td>\n",
       "    </tr>\n",
       "    <tr>\n",
       "      <th>1592</th>\n",
       "      <td>0</td>\n",
       "      <td>0.096483</td>\n",
       "    </tr>\n",
       "    <tr>\n",
       "      <th>309</th>\n",
       "      <td>1</td>\n",
       "      <td>0.166483</td>\n",
       "    </tr>\n",
       "  </tbody>\n",
       "</table>\n",
       "</div>"
      ],
      "text/plain": [
       "      actual  predicted_prob\n",
       "8917       0        0.238090\n",
       "2676       0        0.089357\n",
       "1446       0        0.148484\n",
       "1516       0        0.080655\n",
       "5038       0        0.075254\n",
       "5786       0        0.065811\n",
       "8543       1        0.262420\n",
       "741        0        0.093176\n",
       "1592       0        0.096483\n",
       "309        1        0.166483"
      ]
     },
     "execution_count": 204,
     "metadata": {},
     "output_type": "execute_result"
    }
   ],
   "source": [
    "y_pred_df[0:10]"
   ]
  },
  {
   "cell_type": "code",
   "execution_count": 205,
   "metadata": {
    "collapsed": true
   },
   "outputs": [],
   "source": [
    "y_pred_df['predicted'] = y_pred_df.predicted_prob.map( lambda x: 1 if x > 0.5 else 0)"
   ]
  },
  {
   "cell_type": "code",
   "execution_count": 138,
   "metadata": {},
   "outputs": [
    {
     "data": {
      "text/html": [
       "<div>\n",
       "<style scoped>\n",
       "    .dataframe tbody tr th:only-of-type {\n",
       "        vertical-align: middle;\n",
       "    }\n",
       "\n",
       "    .dataframe tbody tr th {\n",
       "        vertical-align: top;\n",
       "    }\n",
       "\n",
       "    .dataframe thead th {\n",
       "        text-align: right;\n",
       "    }\n",
       "</style>\n",
       "<table border=\"1\" class=\"dataframe\">\n",
       "  <thead>\n",
       "    <tr style=\"text-align: right;\">\n",
       "      <th></th>\n",
       "      <th>actual</th>\n",
       "      <th>predicted_prob</th>\n",
       "      <th>predicted</th>\n",
       "    </tr>\n",
       "  </thead>\n",
       "  <tbody>\n",
       "    <tr>\n",
       "      <th>2320</th>\n",
       "      <td>0</td>\n",
       "      <td>0.061466</td>\n",
       "      <td>0</td>\n",
       "    </tr>\n",
       "    <tr>\n",
       "      <th>8734</th>\n",
       "      <td>1</td>\n",
       "      <td>0.200262</td>\n",
       "      <td>0</td>\n",
       "    </tr>\n",
       "    <tr>\n",
       "      <th>8103</th>\n",
       "      <td>0</td>\n",
       "      <td>0.150577</td>\n",
       "      <td>0</td>\n",
       "    </tr>\n",
       "    <tr>\n",
       "      <th>358</th>\n",
       "      <td>0</td>\n",
       "      <td>0.187393</td>\n",
       "      <td>0</td>\n",
       "    </tr>\n",
       "    <tr>\n",
       "      <th>7670</th>\n",
       "      <td>0</td>\n",
       "      <td>0.173713</td>\n",
       "      <td>0</td>\n",
       "    </tr>\n",
       "    <tr>\n",
       "      <th>2511</th>\n",
       "      <td>0</td>\n",
       "      <td>0.183737</td>\n",
       "      <td>0</td>\n",
       "    </tr>\n",
       "    <tr>\n",
       "      <th>6250</th>\n",
       "      <td>0</td>\n",
       "      <td>0.108872</td>\n",
       "      <td>0</td>\n",
       "    </tr>\n",
       "    <tr>\n",
       "      <th>4591</th>\n",
       "      <td>1</td>\n",
       "      <td>0.068144</td>\n",
       "      <td>0</td>\n",
       "    </tr>\n",
       "    <tr>\n",
       "      <th>543</th>\n",
       "      <td>0</td>\n",
       "      <td>0.136580</td>\n",
       "      <td>0</td>\n",
       "    </tr>\n",
       "    <tr>\n",
       "      <th>9574</th>\n",
       "      <td>1</td>\n",
       "      <td>0.183486</td>\n",
       "      <td>0</td>\n",
       "    </tr>\n",
       "  </tbody>\n",
       "</table>\n",
       "</div>"
      ],
      "text/plain": [
       "      actual  predicted_prob  predicted\n",
       "2320       0        0.061466          0\n",
       "8734       1        0.200262          0\n",
       "8103       0        0.150577          0\n",
       "358        0        0.187393          0\n",
       "7670       0        0.173713          0\n",
       "2511       0        0.183737          0\n",
       "6250       0        0.108872          0\n",
       "4591       1        0.068144          0\n",
       "543        0        0.136580          0\n",
       "9574       1        0.183486          0"
      ]
     },
     "execution_count": 138,
     "metadata": {},
     "output_type": "execute_result"
    }
   ],
   "source": [
    "y_pred_df[0:10]"
   ]
  },
  {
   "cell_type": "code",
   "execution_count": 206,
   "metadata": {
    "collapsed": true
   },
   "outputs": [],
   "source": [
    "import matplotlib.pylab as plt\n",
    "import seaborn as sn\n",
    "%matplotlib inline "
   ]
  },
  {
   "cell_type": "code",
   "execution_count": 207,
   "metadata": {
    "collapsed": true
   },
   "outputs": [],
   "source": [
    "def draw_cm( actual, predicted ):\n",
    "    cm = metrics.confusion_matrix( actual, predicted, [1,0] )\n",
    "    sn.heatmap(cm, annot=True,  fmt='.2f', xticklabels = [\"Default\", \"No Default\"] , yticklabels = [\"Default\", \"No Default\"] )\n",
    "    plt.ylabel('True label')\n",
    "    plt.xlabel('Predicted label')\n",
    "    plt.show()"
   ]
  },
  {
   "cell_type": "code",
   "execution_count": 208,
   "metadata": {},
   "outputs": [
    {
     "data": {
      "image/png": "[encoded data removed]",
      "text/plain": [
       "<Figure size 432x288 with 2 Axes>"
      ]
     },
     "metadata": {},
     "output_type": "display_data"
    }
   ],
   "source": [
    "draw_cm( y_pred_df.actual, y_pred_df.predicted )"
   ]
  },
  {
   "cell_type": "code",
   "execution_count": 209,
   "metadata": {},
   "outputs": [
    {
     "name": "stdout",
     "output_type": "stream",
     "text": [
      "('Total Accuracy : ', 0.85)\n"
     ]
    }
   ],
   "source": [
    "print( 'Total Accuracy : ',np.round( metrics.accuracy_score( y_test, y_pred_df.predicted ), 2 ) )"
   ]
  },
  {
   "cell_type": "code",
   "execution_count": 210,
   "metadata": {},
   "outputs": [
    {
     "name": "stdout",
     "output_type": "stream",
     "text": [
      "('Precision : ', 0.52)\n"
     ]
    }
   ],
   "source": [
    "print( 'Precision : ',np.round(metrics.precision_score( y_test, y_pred_df.predicted),2))"
   ]
  },
  {
   "cell_type": "code",
   "execution_count": 211,
   "metadata": {},
   "outputs": [
    {
     "name": "stdout",
     "output_type": "stream",
     "text": [
      "('Recall : ', 0.04)\n"
     ]
    }
   ],
   "source": [
    "print( 'Recall : ',np.round( metrics.recall_score( y_test, y_pred_df.predicted ), 2 ) )"
   ]
  },
  {
   "cell_type": "code",
   "execution_count": 212,
   "metadata": {
    "collapsed": true
   },
   "outputs": [],
   "source": [
    "cm1 = metrics.confusion_matrix( y_pred_df.actual, y_pred_df.predicted, [1,0] )"
   ]
  },
  {
   "cell_type": "code",
   "execution_count": 217,
   "metadata": {},
   "outputs": [
    {
     "data": {
      "text/plain": [
       "array([[  17,  421],\n",
       "       [  16, 2420]], dtype=int64)"
      ]
     },
     "execution_count": 217,
     "metadata": {},
     "output_type": "execute_result"
    }
   ],
   "source": [
    "cm1"
   ]
  },
  {
   "cell_type": "code",
   "execution_count": 213,
   "metadata": {
    "collapsed": true
   },
   "outputs": [],
   "source": [
    "sensitivity = cm1[0,0]/(cm1[0,0]+cm1[0,1])"
   ]
  },
  {
   "cell_type": "code",
   "execution_count": 214,
   "metadata": {},
   "outputs": [
    {
     "name": "stdout",
     "output_type": "stream",
     "text": [
      "('Sensitivity : ', 0.0)\n"
     ]
    }
   ],
   "source": [
    "print('Sensitivity : ', round( sensitivity, 2) )"
   ]
  },
  {
   "cell_type": "code",
   "execution_count": 218,
   "metadata": {
    "collapsed": true
   },
   "outputs": [],
   "source": [
    "specificity = cm1[1,1]/(cm1[1,0]+cm1[1,1])"
   ]
  },
  {
   "cell_type": "code",
   "execution_count": 219,
   "metadata": {},
   "outputs": [
    {
     "name": "stdout",
     "output_type": "stream",
     "text": [
      "('Specificity : ', 0.0)\n"
     ]
    }
   ],
   "source": [
    "print('Specificity : ', round( specificity, 2 ) )"
   ]
  },
  {
   "cell_type": "code",
   "execution_count": 220,
   "metadata": {},
   "outputs": [
    {
     "data": {
      "text/plain": [
       "0.68"
      ]
     },
     "execution_count": 220,
     "metadata": {},
     "output_type": "execute_result"
    }
   ],
   "source": [
    "auc_score = metrics.roc_auc_score( y_pred_df.actual, y_pred_df.predicted_prob  )\n",
    "round( float( auc_score ), 2 )"
   ]
  },
  {
   "cell_type": "code",
   "execution_count": 221,
   "metadata": {
    "collapsed": true
   },
   "outputs": [],
   "source": [
    "def draw_roc( actual, probs ):\n",
    "    fpr, tpr, thresholds = metrics.roc_curve( actual, probs,\n",
    "                                              drop_intermediate = False )\n",
    "    auc_score = metrics.roc_auc_score( actual, probs )\n",
    "    plt.figure(figsize=(6, 4))\n",
    "    plt.plot( fpr, tpr, label='ROC curve (area = %0.2f)' % auc_score )\n",
    "    plt.plot([0, 1], [0, 1], 'k--')\n",
    "    plt.xlim([0.0, 1.0])\n",
    "    plt.ylim([0.0, 1.05])\n",
    "    plt.xlabel('False Positive Rate or [1 - True Negative Rate]')\n",
    "    plt.ylabel('True Positive Rate')\n",
    "    plt.title('Receiver operating characteristic example')\n",
    "    plt.legend(loc=\"lower right\")\n",
    "    plt.show()\n",
    "\n",
    "    return fpr, tpr, thresholds"
   ]
  },
  {
   "cell_type": "code",
   "execution_count": 222,
   "metadata": {},
   "outputs": [
    {
     "data": {
      "image/png": "[encoded data removed]",
      "text/plain": [
       "<Figure size 432x288 with 1 Axes>"
      ]
     },
     "metadata": {},
     "output_type": "display_data"
    }
   ],
   "source": [
    "fpr, tpr, thresholds = draw_roc( y_pred_df.actual, y_pred_df.predicted_prob )"
   ]
  },
  {
   "cell_type": "code",
   "execution_count": 223,
   "metadata": {
    "collapsed": true
   },
   "outputs": [],
   "source": [
    "tpr_fpr = pd.DataFrame( { 'tpr': tpr, 'fpr': fpr, 'thresholds': thresholds } )"
   ]
  },
  {
   "cell_type": "code",
   "execution_count": 224,
   "metadata": {
    "collapsed": true
   },
   "outputs": [],
   "source": [
    "tpr_fpr['diff'] = tpr_fpr.tpr - tpr_fpr.fpr"
   ]
  },
  {
   "cell_type": "code",
   "execution_count": 225,
   "metadata": {},
   "outputs": [
    {
     "data": {
      "text/html": [
       "<div>\n",
       "<style scoped>\n",
       "    .dataframe tbody tr th:only-of-type {\n",
       "        vertical-align: middle;\n",
       "    }\n",
       "\n",
       "    .dataframe tbody tr th {\n",
       "        vertical-align: top;\n",
       "    }\n",
       "\n",
       "    .dataframe thead th {\n",
       "        text-align: right;\n",
       "    }\n",
       "</style>\n",
       "<table border=\"1\" class=\"dataframe\">\n",
       "  <thead>\n",
       "    <tr style=\"text-align: right;\">\n",
       "      <th></th>\n",
       "      <th>fpr</th>\n",
       "      <th>thresholds</th>\n",
       "      <th>tpr</th>\n",
       "      <th>diff</th>\n",
       "    </tr>\n",
       "  </thead>\n",
       "  <tbody>\n",
       "    <tr>\n",
       "      <th>1528</th>\n",
       "      <td>0.492611</td>\n",
       "      <td>0.132963</td>\n",
       "      <td>0.751142</td>\n",
       "      <td>0.258531</td>\n",
       "    </tr>\n",
       "    <tr>\n",
       "      <th>1542</th>\n",
       "      <td>0.497537</td>\n",
       "      <td>0.131596</td>\n",
       "      <td>0.755708</td>\n",
       "      <td>0.258171</td>\n",
       "    </tr>\n",
       "    <tr>\n",
       "      <th>1529</th>\n",
       "      <td>0.493021</td>\n",
       "      <td>0.132829</td>\n",
       "      <td>0.751142</td>\n",
       "      <td>0.258120</td>\n",
       "    </tr>\n",
       "    <tr>\n",
       "      <th>1549</th>\n",
       "      <td>0.500000</td>\n",
       "      <td>0.131285</td>\n",
       "      <td>0.757991</td>\n",
       "      <td>0.257991</td>\n",
       "    </tr>\n",
       "    <tr>\n",
       "      <th>1543</th>\n",
       "      <td>0.497947</td>\n",
       "      <td>0.131578</td>\n",
       "      <td>0.755708</td>\n",
       "      <td>0.257760</td>\n",
       "    </tr>\n",
       "    <tr>\n",
       "      <th>1530</th>\n",
       "      <td>0.493432</td>\n",
       "      <td>0.132685</td>\n",
       "      <td>0.751142</td>\n",
       "      <td>0.257710</td>\n",
       "    </tr>\n",
       "    <tr>\n",
       "      <th>1550</th>\n",
       "      <td>0.500411</td>\n",
       "      <td>0.131186</td>\n",
       "      <td>0.757991</td>\n",
       "      <td>0.257580</td>\n",
       "    </tr>\n",
       "    <tr>\n",
       "      <th>1544</th>\n",
       "      <td>0.498358</td>\n",
       "      <td>0.131535</td>\n",
       "      <td>0.755708</td>\n",
       "      <td>0.257350</td>\n",
       "    </tr>\n",
       "    <tr>\n",
       "      <th>1531</th>\n",
       "      <td>0.493842</td>\n",
       "      <td>0.132647</td>\n",
       "      <td>0.751142</td>\n",
       "      <td>0.257299</td>\n",
       "    </tr>\n",
       "    <tr>\n",
       "      <th>1551</th>\n",
       "      <td>0.500821</td>\n",
       "      <td>0.131156</td>\n",
       "      <td>0.757991</td>\n",
       "      <td>0.257170</td>\n",
       "    </tr>\n",
       "  </tbody>\n",
       "</table>\n",
       "</div>"
      ],
      "text/plain": [
       "           fpr  thresholds       tpr      diff\n",
       "1528  0.492611    0.132963  0.751142  0.258531\n",
       "1542  0.497537    0.131596  0.755708  0.258171\n",
       "1529  0.493021    0.132829  0.751142  0.258120\n",
       "1549  0.500000    0.131285  0.757991  0.257991\n",
       "1543  0.497947    0.131578  0.755708  0.257760\n",
       "1530  0.493432    0.132685  0.751142  0.257710\n",
       "1550  0.500411    0.131186  0.757991  0.257580\n",
       "1544  0.498358    0.131535  0.755708  0.257350\n",
       "1531  0.493842    0.132647  0.751142  0.257299\n",
       "1551  0.500821    0.131156  0.757991  0.257170"
      ]
     },
     "execution_count": 225,
     "metadata": {},
     "output_type": "execute_result"
    }
   ],
   "source": [
    "tpr_fpr.sort_values( 'diff', ascending = False )[0:10]"
   ]
  },
  {
   "cell_type": "code",
   "execution_count": 303,
   "metadata": {
    "collapsed": true
   },
   "outputs": [],
   "source": [
    "y_pred_df['predicted_final'] = y_pred_df.predicted_prob.map( lambda x: 1 if x > 0.133 else 0)\n",
    "#draw_cm( y_pred_df.actual, y_pred_df.predicted_final )"
   ]
  },
  {
   "cell_type": "code",
   "execution_count": 304,
   "metadata": {},
   "outputs": [
    {
     "name": "stdout",
     "output_type": "stream",
     "text": [
      "('Total Accuracy : ', 0.54)\n",
      "('Precision : ', 0.21)\n",
      "('Recall : ', 0.75)\n",
      "('Sensitivity : ', 0.75)\n",
      "('Specificity : ', 0.51)\n"
     ]
    }
   ],
   "source": [
    "print( 'Total Accuracy : ',np.round( metrics.accuracy_score( y_test, y_pred_df.predicted_final ), 2 ) )\n",
    "print( 'Precision : ',np.round( metrics.precision_score( y_test, y_pred_df.predicted_final ), 2 ) )\n",
    "print( 'Recall : ',np.round( metrics.recall_score( y_test, y_pred_df.predicted_final ), 2 ) )\n",
    "\n",
    "cm1 = metrics.confusion_matrix( y_pred_df.actual, y_pred_df.predicted_final, [1,0] )\n",
    "\n",
    "from __future__ import division\n",
    "sensitivity = cm1[0,0]/(cm1[0,0]+cm1[0,1])\n",
    "print('Sensitivity : ', round( sensitivity,2))\n",
    "\n",
    "specificity = cm1[1,1]/(cm1[1,0]+cm1[1,1])\n",
    "print('Specificity : ', round( specificity, 2 ))"
   ]
  },
  {
   "cell_type": "markdown",
   "metadata": {},
   "source": [
    "## 4.\tWhat is the concept of Dummy variables in Logistic Regression? How would you interpret a Categorical IV in Logistic Regression? What is Logit and Why is it used?\n",
    "\n",
    "### Ans:\n",
    "### The concept of dummy varibale occurs in logistic regression when a Categorical Predictor Variable has More than Two Levels. \n",
    "### Here we are just recoding the original categorical variable into a set of binary variables that have values of one and zero\n",
    "### The logit in logistic regression is a special case of a link function in a generalized linear model. \n",
    "### In other words, when Y is categorical, we use the logit of Y as the response in our regression equation instead of just Y\n",
    "### It is the canonical link function for the Bernoulli/Binomial distribution.\n",
    "### The logit function is the natural log of the odds that Y equals one of the categories.  For mathematical simplicity, we’re going to assume Y has only two categories and code them as 0 and 1"
   ]
  },
  {
   "cell_type": "markdown",
   "metadata": {},
   "source": [
    "## 5. Predict the probability of the test set loans not being paid back in full. What is the accuracy of the logistic regression model? Input the accuracy as a number between 0 and 1.\n",
    "\n",
    "### Ans\n",
    "### Total Accuracy of the Model : 0.72"
   ]
  },
  {
   "cell_type": "markdown",
   "metadata": {},
   "source": [
    "## 7. What is the Sensitivity, Specificity and Precision of a classification Model? Which one are used and when?\n",
    "\n",
    "### Ans:\n",
    "### Precision : 0.26\n",
    "### Recall : 0.44\n",
    "### Sensitivity : 0.0\n",
    "### Specificity : 0.0\n",
    "### Sensitivity/Recall – how good a test is at detecting the positives. A test can cheat and maximize this by always returning “positive”.\n",
    "### Specificity – how good a test is at avoiding false alarms. A test can cheat and maximize this by always returning “negative”.\n",
    "### Precision – how many of the positively classified were relevant. A test can cheat and maximize this by only returning positive on one result it’s most confident in."
   ]
  },
  {
   "cell_type": "markdown",
   "metadata": {},
   "source": [
    "## 8. What is a ROC Curve? Why is it used?\n",
    "\n",
    "### Ans:\n",
    "### Receiver Operating Characteristic curve (or ROC curve) is a plot of the true positive rate against the false positive rate for the different possible cutpoints of a diagnostic test.\n",
    "### An ROC curve demonstrates several things:\n",
    "\n",
    "### It shows the tradeoff between sensitivity and specificity (any increase in sensitivity will be accompanied by a decrease in specificity).\n",
    "### The closer the curve follows the left-hand border and then the top border of the ROC space, the more accurate the test.\n",
    "### The closer the curve comes to the 45-degree diagonal of the ROC space, the less accurate the test.\n",
    "### The area under the curve is a measure of text accuracy"
   ]
  },
  {
   "cell_type": "code",
   "execution_count": null,
   "metadata": {
    "collapsed": true
   },
   "outputs": [],
   "source": []
  }
 ],
 "metadata": {
  "kernelspec": {
   "display_name": "Python 3",
   "language": "python",
   "name": "python3"
  },
  "language_info": {
   "codemirror_mode": {
    "name": "ipython",
    "version": 3
   },
   "file_extension": ".py",
   "mimetype": "text/x-python",
   "name": "python",
   "nbconvert_exporter": "python",
   "pygments_lexer": "ipython3",
   "version": "3.6.3"
  }
 },
 "nbformat": 4,
 "nbformat_minor": 2
}
