{
 "cells": [
  {
   "cell_type": "code",
   "execution_count": 39,
   "metadata": {},
   "outputs": [],
   "source": [
    "import pandas as pd\n",
    "import numpy as np\n",
    "import matplotlib.pyplot as plt\n",
    "import seaborn as sns\n",
    "%matplotlib inline\n",
    "sns.set_style('darkgrid')"
   ]
  },
  {
   "cell_type": "code",
   "execution_count": 18,
   "metadata": {},
   "outputs": [],
   "source": [
    "data = pd.read_csv(\"GlobalWarming.csv\",delimiter=',')"
   ]
  },
  {
   "cell_type": "code",
   "execution_count": 19,
   "metadata": {},
   "outputs": [
    {
     "data": {
      "text/html": [
       "<div>\n",
       "<style>\n",
       "    .dataframe thead tr:only-child th {\n",
       "        text-align: right;\n",
       "    }\n",
       "\n",
       "    .dataframe thead th {\n",
       "        text-align: left;\n",
       "    }\n",
       "\n",
       "    .dataframe tbody tr th {\n",
       "        vertical-align: top;\n",
       "    }\n",
       "</style>\n",
       "<table border=\"1\" class=\"dataframe\">\n",
       "  <thead>\n",
       "    <tr style=\"text-align: right;\">\n",
       "      <th></th>\n",
       "      <th>Year</th>\n",
       "      <th>Month</th>\n",
       "      <th>MEI</th>\n",
       "      <th>CO2</th>\n",
       "      <th>CH4</th>\n",
       "      <th>N2O</th>\n",
       "      <th>CFC-11</th>\n",
       "      <th>CFC-12</th>\n",
       "      <th>TSI</th>\n",
       "      <th>Aerosols</th>\n",
       "      <th>Temp</th>\n",
       "    </tr>\n",
       "  </thead>\n",
       "  <tbody>\n",
       "    <tr>\n",
       "      <th>0</th>\n",
       "      <td>1983</td>\n",
       "      <td>5</td>\n",
       "      <td>2.556</td>\n",
       "      <td>345.96</td>\n",
       "      <td>1638.59</td>\n",
       "      <td>303.677</td>\n",
       "      <td>191.324</td>\n",
       "      <td>350.113</td>\n",
       "      <td>1366.1024</td>\n",
       "      <td>0.0863</td>\n",
       "      <td>0.109</td>\n",
       "    </tr>\n",
       "    <tr>\n",
       "      <th>1</th>\n",
       "      <td>1983</td>\n",
       "      <td>6</td>\n",
       "      <td>2.167</td>\n",
       "      <td>345.52</td>\n",
       "      <td>1633.71</td>\n",
       "      <td>303.746</td>\n",
       "      <td>192.057</td>\n",
       "      <td>351.848</td>\n",
       "      <td>1366.1208</td>\n",
       "      <td>0.0794</td>\n",
       "      <td>0.118</td>\n",
       "    </tr>\n",
       "    <tr>\n",
       "      <th>2</th>\n",
       "      <td>1983</td>\n",
       "      <td>7</td>\n",
       "      <td>1.741</td>\n",
       "      <td>344.15</td>\n",
       "      <td>1633.22</td>\n",
       "      <td>303.795</td>\n",
       "      <td>192.818</td>\n",
       "      <td>353.725</td>\n",
       "      <td>1366.2850</td>\n",
       "      <td>0.0731</td>\n",
       "      <td>0.137</td>\n",
       "    </tr>\n",
       "    <tr>\n",
       "      <th>3</th>\n",
       "      <td>1983</td>\n",
       "      <td>8</td>\n",
       "      <td>1.130</td>\n",
       "      <td>342.25</td>\n",
       "      <td>1631.35</td>\n",
       "      <td>303.839</td>\n",
       "      <td>193.602</td>\n",
       "      <td>355.633</td>\n",
       "      <td>1366.4202</td>\n",
       "      <td>0.0673</td>\n",
       "      <td>0.176</td>\n",
       "    </tr>\n",
       "    <tr>\n",
       "      <th>4</th>\n",
       "      <td>1983</td>\n",
       "      <td>9</td>\n",
       "      <td>0.428</td>\n",
       "      <td>340.17</td>\n",
       "      <td>1648.40</td>\n",
       "      <td>303.901</td>\n",
       "      <td>194.392</td>\n",
       "      <td>357.465</td>\n",
       "      <td>1366.2335</td>\n",
       "      <td>0.0619</td>\n",
       "      <td>0.149</td>\n",
       "    </tr>\n",
       "  </tbody>\n",
       "</table>\n",
       "</div>"
      ],
      "text/plain": [
       "   Year  Month    MEI     CO2      CH4      N2O   CFC-11   CFC-12        TSI  \\\n",
       "0  1983      5  2.556  345.96  1638.59  303.677  191.324  350.113  1366.1024   \n",
       "1  1983      6  2.167  345.52  1633.71  303.746  192.057  351.848  1366.1208   \n",
       "2  1983      7  1.741  344.15  1633.22  303.795  192.818  353.725  1366.2850   \n",
       "3  1983      8  1.130  342.25  1631.35  303.839  193.602  355.633  1366.4202   \n",
       "4  1983      9  0.428  340.17  1648.40  303.901  194.392  357.465  1366.2335   \n",
       "\n",
       "   Aerosols   Temp  \n",
       "0    0.0863  0.109  \n",
       "1    0.0794  0.118  \n",
       "2    0.0731  0.137  \n",
       "3    0.0673  0.176  \n",
       "4    0.0619  0.149  "
      ]
     },
     "execution_count": 19,
     "metadata": {},
     "output_type": "execute_result"
    }
   ],
   "source": [
    "data.head()"
   ]
  },
  {
   "cell_type": "code",
   "execution_count": 20,
   "metadata": {},
   "outputs": [
    {
     "name": "stdout",
     "output_type": "stream",
     "text": [
      "<class 'pandas.core.frame.DataFrame'>\n",
      "RangeIndex: 308 entries, 0 to 307\n",
      "Data columns (total 11 columns):\n",
      "Year        308 non-null int64\n",
      "Month       308 non-null int64\n",
      "MEI         308 non-null float64\n",
      "CO2         308 non-null float64\n",
      "CH4         308 non-null float64\n",
      "N2O         308 non-null float64\n",
      "CFC-11      308 non-null float64\n",
      "CFC-12      308 non-null float64\n",
      "TSI         308 non-null float64\n",
      "Aerosols    308 non-null float64\n",
      "Temp        308 non-null float64\n",
      "dtypes: float64(9), int64(2)\n",
      "memory usage: 26.5 KB\n"
     ]
    }
   ],
   "source": [
    "data.info()"
   ]
  },
  {
   "cell_type": "code",
   "execution_count": 22,
   "metadata": {},
   "outputs": [
    {
     "data": {
      "text/plain": [
       "['MEI', 'CO2', 'CH4', 'N2O', 'CFC-11', 'CFC-12', 'TSI', 'Aerosols', 'Temp']"
      ]
     },
     "execution_count": 22,
     "metadata": {},
     "output_type": "execute_result"
    }
   ],
   "source": [
    "X_features = list(data.columns )\n",
    "X_features.remove( 'Year')\n",
    "X_features.remove( 'Month' )\n",
    "X_features"
   ]
  },
  {
   "cell_type": "code",
   "execution_count": 23,
   "metadata": {},
   "outputs": [
    {
     "data": {
      "text/plain": [
       "Index(['MEI', 'CO2', 'CH4', 'N2O', 'CFC-11', 'CFC-12', 'TSI', 'Aerosols',\n",
       "       'Temp'],\n",
       "      dtype='object')"
      ]
     },
     "execution_count": 23,
     "metadata": {},
     "output_type": "execute_result"
    }
   ],
   "source": [
    "data_corr = data[X_features]\n",
    "data_corr.columns"
   ]
  },
  {
   "cell_type": "code",
   "execution_count": 31,
   "metadata": {},
   "outputs": [
    {
     "data": {
      "text/html": [
       "<div>\n",
       "<style>\n",
       "    .dataframe thead tr:only-child th {\n",
       "        text-align: right;\n",
       "    }\n",
       "\n",
       "    .dataframe thead th {\n",
       "        text-align: left;\n",
       "    }\n",
       "\n",
       "    .dataframe tbody tr th {\n",
       "        vertical-align: top;\n",
       "    }\n",
       "</style>\n",
       "<table border=\"1\" class=\"dataframe\">\n",
       "  <thead>\n",
       "    <tr style=\"text-align: right;\">\n",
       "      <th></th>\n",
       "      <th>MEI</th>\n",
       "      <th>CO2</th>\n",
       "      <th>CH4</th>\n",
       "      <th>N2O</th>\n",
       "      <th>CFC-11</th>\n",
       "      <th>CFC-12</th>\n",
       "      <th>TSI</th>\n",
       "      <th>Aerosols</th>\n",
       "      <th>Temp</th>\n",
       "    </tr>\n",
       "  </thead>\n",
       "  <tbody>\n",
       "    <tr>\n",
       "      <th>MEI</th>\n",
       "      <td>1.000000</td>\n",
       "      <td>-0.152911</td>\n",
       "      <td>-0.105555</td>\n",
       "      <td>-0.162375</td>\n",
       "      <td>0.088171</td>\n",
       "      <td>-0.039836</td>\n",
       "      <td>-0.076826</td>\n",
       "      <td>0.352351</td>\n",
       "      <td>0.135292</td>\n",
       "    </tr>\n",
       "    <tr>\n",
       "      <th>CO2</th>\n",
       "      <td>-0.152911</td>\n",
       "      <td>1.000000</td>\n",
       "      <td>0.872253</td>\n",
       "      <td>0.981135</td>\n",
       "      <td>0.401284</td>\n",
       "      <td>0.823210</td>\n",
       "      <td>0.017867</td>\n",
       "      <td>-0.369265</td>\n",
       "      <td>0.748505</td>\n",
       "    </tr>\n",
       "    <tr>\n",
       "      <th>CH4</th>\n",
       "      <td>-0.105555</td>\n",
       "      <td>0.872253</td>\n",
       "      <td>1.000000</td>\n",
       "      <td>0.894409</td>\n",
       "      <td>0.713504</td>\n",
       "      <td>0.958237</td>\n",
       "      <td>0.146335</td>\n",
       "      <td>-0.290381</td>\n",
       "      <td>0.699697</td>\n",
       "    </tr>\n",
       "    <tr>\n",
       "      <th>N2O</th>\n",
       "      <td>-0.162375</td>\n",
       "      <td>0.981135</td>\n",
       "      <td>0.894409</td>\n",
       "      <td>1.000000</td>\n",
       "      <td>0.412155</td>\n",
       "      <td>0.839295</td>\n",
       "      <td>0.039892</td>\n",
       "      <td>-0.353499</td>\n",
       "      <td>0.743242</td>\n",
       "    </tr>\n",
       "    <tr>\n",
       "      <th>CFC-11</th>\n",
       "      <td>0.088171</td>\n",
       "      <td>0.401284</td>\n",
       "      <td>0.713504</td>\n",
       "      <td>0.412155</td>\n",
       "      <td>1.000000</td>\n",
       "      <td>0.831381</td>\n",
       "      <td>0.284629</td>\n",
       "      <td>-0.032302</td>\n",
       "      <td>0.380111</td>\n",
       "    </tr>\n",
       "    <tr>\n",
       "      <th>CFC-12</th>\n",
       "      <td>-0.039836</td>\n",
       "      <td>0.823210</td>\n",
       "      <td>0.958237</td>\n",
       "      <td>0.839295</td>\n",
       "      <td>0.831381</td>\n",
       "      <td>1.000000</td>\n",
       "      <td>0.189270</td>\n",
       "      <td>-0.243785</td>\n",
       "      <td>0.688944</td>\n",
       "    </tr>\n",
       "    <tr>\n",
       "      <th>TSI</th>\n",
       "      <td>-0.076826</td>\n",
       "      <td>0.017867</td>\n",
       "      <td>0.146335</td>\n",
       "      <td>0.039892</td>\n",
       "      <td>0.284629</td>\n",
       "      <td>0.189270</td>\n",
       "      <td>1.000000</td>\n",
       "      <td>0.083238</td>\n",
       "      <td>0.182186</td>\n",
       "    </tr>\n",
       "    <tr>\n",
       "      <th>Aerosols</th>\n",
       "      <td>0.352351</td>\n",
       "      <td>-0.369265</td>\n",
       "      <td>-0.290381</td>\n",
       "      <td>-0.353499</td>\n",
       "      <td>-0.032302</td>\n",
       "      <td>-0.243785</td>\n",
       "      <td>0.083238</td>\n",
       "      <td>1.000000</td>\n",
       "      <td>-0.392069</td>\n",
       "    </tr>\n",
       "    <tr>\n",
       "      <th>Temp</th>\n",
       "      <td>0.135292</td>\n",
       "      <td>0.748505</td>\n",
       "      <td>0.699697</td>\n",
       "      <td>0.743242</td>\n",
       "      <td>0.380111</td>\n",
       "      <td>0.688944</td>\n",
       "      <td>0.182186</td>\n",
       "      <td>-0.392069</td>\n",
       "      <td>1.000000</td>\n",
       "    </tr>\n",
       "  </tbody>\n",
       "</table>\n",
       "</div>"
      ],
      "text/plain": [
       "               MEI       CO2       CH4       N2O    CFC-11    CFC-12  \\\n",
       "MEI       1.000000 -0.152911 -0.105555 -0.162375  0.088171 -0.039836   \n",
       "CO2      -0.152911  1.000000  0.872253  0.981135  0.401284  0.823210   \n",
       "CH4      -0.105555  0.872253  1.000000  0.894409  0.713504  0.958237   \n",
       "N2O      -0.162375  0.981135  0.894409  1.000000  0.412155  0.839295   \n",
       "CFC-11    0.088171  0.401284  0.713504  0.412155  1.000000  0.831381   \n",
       "CFC-12   -0.039836  0.823210  0.958237  0.839295  0.831381  1.000000   \n",
       "TSI      -0.076826  0.017867  0.146335  0.039892  0.284629  0.189270   \n",
       "Aerosols  0.352351 -0.369265 -0.290381 -0.353499 -0.032302 -0.243785   \n",
       "Temp      0.135292  0.748505  0.699697  0.743242  0.380111  0.688944   \n",
       "\n",
       "               TSI  Aerosols      Temp  \n",
       "MEI      -0.076826  0.352351  0.135292  \n",
       "CO2       0.017867 -0.369265  0.748505  \n",
       "CH4       0.146335 -0.290381  0.699697  \n",
       "N2O       0.039892 -0.353499  0.743242  \n",
       "CFC-11    0.284629 -0.032302  0.380111  \n",
       "CFC-12    0.189270 -0.243785  0.688944  \n",
       "TSI       1.000000  0.083238  0.182186  \n",
       "Aerosols  0.083238  1.000000 -0.392069  \n",
       "Temp      0.182186 -0.392069  1.000000  "
      ]
     },
     "execution_count": 31,
     "metadata": {},
     "output_type": "execute_result"
    }
   ],
   "source": [
    "corr = data_corr.corr()\n",
    "corr"
   ]
  },
  {
   "cell_type": "code",
   "execution_count": 47,
   "metadata": {},
   "outputs": [
    {
     "data": {
      "text/plain": [
       "<function matplotlib.pyplot.show>"
      ]
     },
     "execution_count": 47,
     "metadata": {},
     "output_type": "execute_result"
    },
    {
     "data": {
      "image/png": "[encoded data removed]",
      "text/plain": [
       "<matplotlib.figure.Figure at 0x1b7ae193208>"
      ]
     },
     "metadata": {},
     "output_type": "display_data"
    }
   ],
   "source": [
    "plt.figure(figsize=(10,8)) \n",
    "sns.heatmap(corr,annot= True)\n",
    "plt.title('Correlation HeatMap')\n",
    "plt.show"
   ]
  },
  {
   "cell_type": "markdown",
   "metadata": {},
   "source": [
    "##    (CO2-N2O) have high correlation i.e., 0.98 "
   ]
  },
  {
   "cell_type": "code",
   "execution_count": 49,
   "metadata": {},
   "outputs": [],
   "source": []
  },
  {
   "cell_type": "code",
   "execution_count": null,
   "metadata": {
    "collapsed": true
   },
   "outputs": [],
   "source": []
  },
  {
   "cell_type": "code",
   "execution_count": null,
   "metadata": {
    "collapsed": true
   },
   "outputs": [],
   "source": []
  },
  {
   "cell_type": "code",
   "execution_count": 60,
   "metadata": {
    "collapsed": true
   },
   "outputs": [],
   "source": [
    "import pandas as pd\n",
    "import numpy as np\n",
    "import matplotlib.pyplot as plt\n",
    "import seaborn as sns\n",
    "%matplotlib inline\n",
    "sns.set_style('darkgrid')"
   ]
  },
  {
   "cell_type": "code",
   "execution_count": 61,
   "metadata": {
    "collapsed": true
   },
   "outputs": [],
   "source": [
    "data = pd.read_csv(\"loans.csv\",delimiter=',')"
   ]
  },
  {
   "cell_type": "code",
   "execution_count": 62,
   "metadata": {},
   "outputs": [
    {
     "data": {
      "text/html": [
       "<div>\n",
       "<style>\n",
       "    .dataframe thead tr:only-child th {\n",
       "        text-align: right;\n",
       "    }\n",
       "\n",
       "    .dataframe thead th {\n",
       "        text-align: left;\n",
       "    }\n",
       "\n",
       "    .dataframe tbody tr th {\n",
       "        vertical-align: top;\n",
       "    }\n",
       "</style>\n",
       "<table border=\"1\" class=\"dataframe\">\n",
       "  <thead>\n",
       "    <tr style=\"text-align: right;\">\n",
       "      <th></th>\n",
       "      <th>credit_policy</th>\n",
       "      <th>purpose</th>\n",
       "      <th>int_rate</th>\n",
       "      <th>installment</th>\n",
       "      <th>log_annual_inc</th>\n",
       "      <th>dti</th>\n",
       "      <th>fico</th>\n",
       "      <th>days_with_cr_line</th>\n",
       "      <th>revol_bal</th>\n",
       "      <th>revol_util</th>\n",
       "      <th>inq_last_6mths</th>\n",
       "      <th>delinq_2yrs</th>\n",
       "      <th>pub_rec</th>\n",
       "      <th>not_fully_paid</th>\n",
       "    </tr>\n",
       "  </thead>\n",
       "  <tbody>\n",
       "    <tr>\n",
       "      <th>0</th>\n",
       "      <td>1</td>\n",
       "      <td>debt_consolidation</td>\n",
       "      <td>0.1189</td>\n",
       "      <td>829.10</td>\n",
       "      <td>11.350407</td>\n",
       "      <td>19.48</td>\n",
       "      <td>737</td>\n",
       "      <td>5639.958333</td>\n",
       "      <td>28854</td>\n",
       "      <td>52.1</td>\n",
       "      <td>0</td>\n",
       "      <td>0</td>\n",
       "      <td>0</td>\n",
       "      <td>0</td>\n",
       "    </tr>\n",
       "    <tr>\n",
       "      <th>1</th>\n",
       "      <td>1</td>\n",
       "      <td>credit_card</td>\n",
       "      <td>0.1071</td>\n",
       "      <td>228.22</td>\n",
       "      <td>11.082143</td>\n",
       "      <td>14.29</td>\n",
       "      <td>707</td>\n",
       "      <td>2760.000000</td>\n",
       "      <td>33623</td>\n",
       "      <td>76.7</td>\n",
       "      <td>0</td>\n",
       "      <td>0</td>\n",
       "      <td>0</td>\n",
       "      <td>0</td>\n",
       "    </tr>\n",
       "  </tbody>\n",
       "</table>\n",
       "</div>"
      ],
      "text/plain": [
       "   credit_policy             purpose  int_rate  installment  log_annual_inc  \\\n",
       "0              1  debt_consolidation    0.1189       829.10       11.350407   \n",
       "1              1         credit_card    0.1071       228.22       11.082143   \n",
       "\n",
       "     dti  fico  days_with_cr_line  revol_bal  revol_util  inq_last_6mths  \\\n",
       "0  19.48   737        5639.958333      28854        52.1               0   \n",
       "1  14.29   707        2760.000000      33623        76.7               0   \n",
       "\n",
       "   delinq_2yrs  pub_rec  not_fully_paid  \n",
       "0            0        0               0  \n",
       "1            0        0               0  "
      ]
     },
     "execution_count": 62,
     "metadata": {},
     "output_type": "execute_result"
    }
   ],
   "source": [
    "data.head(2)"
   ]
  },
  {
   "cell_type": "code",
   "execution_count": 63,
   "metadata": {},
   "outputs": [
    {
     "name": "stdout",
     "output_type": "stream",
     "text": [
      "<class 'pandas.core.frame.DataFrame'>\n",
      "RangeIndex: 9578 entries, 0 to 9577\n",
      "Data columns (total 14 columns):\n",
      "credit_policy        9578 non-null int64\n",
      "purpose              9578 non-null object\n",
      "int_rate             9578 non-null float64\n",
      "installment          9578 non-null float64\n",
      "log_annual_inc       9578 non-null float64\n",
      "dti                  9578 non-null float64\n",
      "fico                 9578 non-null int64\n",
      "days_with_cr_line    9578 non-null float64\n",
      "revol_bal            9578 non-null int64\n",
      "revol_util           9578 non-null float64\n",
      "inq_last_6mths       9578 non-null int64\n",
      "delinq_2yrs          9578 non-null int64\n",
      "pub_rec              9578 non-null int64\n",
      "not_fully_paid       9578 non-null int64\n",
      "dtypes: float64(6), int64(7), object(1)\n",
      "memory usage: 1.0+ MB\n"
     ]
    }
   ],
   "source": [
    "data.info() ## There are no missing values"
   ]
  },
  {
   "cell_type": "code",
   "execution_count": 65,
   "metadata": {},
   "outputs": [
    {
     "data": {
      "text/plain": [
       "0    8045\n",
       "1    1533\n",
       "Name: not_fully_paid, dtype: int64"
      ]
     },
     "execution_count": 65,
     "metadata": {},
     "output_type": "execute_result"
    }
   ],
   "source": [
    "data.not_fully_paid.value_counts()"
   ]
  },
  {
   "cell_type": "code",
   "execution_count": 66,
   "metadata": {},
   "outputs": [
    {
     "data": {
      "text/plain": [
       "['credit_policy',\n",
       " 'purpose',\n",
       " 'int_rate',\n",
       " 'installment',\n",
       " 'log_annual_inc',\n",
       " 'dti',\n",
       " 'fico',\n",
       " 'days_with_cr_line',\n",
       " 'revol_bal',\n",
       " 'revol_util',\n",
       " 'inq_last_6mths',\n",
       " 'delinq_2yrs',\n",
       " 'pub_rec']"
      ]
     },
     "execution_count": 66,
     "metadata": {},
     "output_type": "execute_result"
    }
   ],
   "source": [
    "X_features = list(data.columns )\n",
    "X_features.remove( 'not_fully_paid' )\n",
    "X_features"
   ]
  },
  {
   "cell_type": "code",
   "execution_count": 67,
   "metadata": {
    "collapsed": true
   },
   "outputs": [],
   "source": [
    "data_complete = pd.get_dummies(data[X_features], drop_first = True )"
   ]
  },
  {
   "cell_type": "code",
   "execution_count": 68,
   "metadata": {},
   "outputs": [
    {
     "data": {
      "text/plain": [
       "18"
      ]
     },
     "execution_count": 68,
     "metadata": {},
     "output_type": "execute_result"
    }
   ],
   "source": [
    "len(data_complete.columns )"
   ]
  },
  {
   "cell_type": "code",
   "execution_count": 69,
   "metadata": {},
   "outputs": [
    {
     "data": {
      "text/html": [
       "<div>\n",
       "<style>\n",
       "    .dataframe thead tr:only-child th {\n",
       "        text-align: right;\n",
       "    }\n",
       "\n",
       "    .dataframe thead th {\n",
       "        text-align: left;\n",
       "    }\n",
       "\n",
       "    .dataframe tbody tr th {\n",
       "        vertical-align: top;\n",
       "    }\n",
       "</style>\n",
       "<table border=\"1\" class=\"dataframe\">\n",
       "  <thead>\n",
       "    <tr style=\"text-align: right;\">\n",
       "      <th></th>\n",
       "      <th>0</th>\n",
       "      <th>1</th>\n",
       "      <th>2</th>\n",
       "      <th>3</th>\n",
       "      <th>4</th>\n",
       "    </tr>\n",
       "  </thead>\n",
       "  <tbody>\n",
       "    <tr>\n",
       "      <th>credit_policy</th>\n",
       "      <td>1.000000</td>\n",
       "      <td>1.000000</td>\n",
       "      <td>1.000000</td>\n",
       "      <td>1.000000</td>\n",
       "      <td>1.000000</td>\n",
       "    </tr>\n",
       "    <tr>\n",
       "      <th>int_rate</th>\n",
       "      <td>0.118900</td>\n",
       "      <td>0.107100</td>\n",
       "      <td>0.135700</td>\n",
       "      <td>0.100800</td>\n",
       "      <td>0.142600</td>\n",
       "    </tr>\n",
       "    <tr>\n",
       "      <th>installment</th>\n",
       "      <td>829.100000</td>\n",
       "      <td>228.220000</td>\n",
       "      <td>366.860000</td>\n",
       "      <td>162.340000</td>\n",
       "      <td>102.920000</td>\n",
       "    </tr>\n",
       "    <tr>\n",
       "      <th>log_annual_inc</th>\n",
       "      <td>11.350407</td>\n",
       "      <td>11.082143</td>\n",
       "      <td>10.373491</td>\n",
       "      <td>11.350407</td>\n",
       "      <td>11.299732</td>\n",
       "    </tr>\n",
       "    <tr>\n",
       "      <th>dti</th>\n",
       "      <td>19.480000</td>\n",
       "      <td>14.290000</td>\n",
       "      <td>11.630000</td>\n",
       "      <td>8.100000</td>\n",
       "      <td>14.970000</td>\n",
       "    </tr>\n",
       "    <tr>\n",
       "      <th>fico</th>\n",
       "      <td>737.000000</td>\n",
       "      <td>707.000000</td>\n",
       "      <td>682.000000</td>\n",
       "      <td>712.000000</td>\n",
       "      <td>667.000000</td>\n",
       "    </tr>\n",
       "    <tr>\n",
       "      <th>days_with_cr_line</th>\n",
       "      <td>5639.958333</td>\n",
       "      <td>2760.000000</td>\n",
       "      <td>4710.000000</td>\n",
       "      <td>2699.958333</td>\n",
       "      <td>4066.000000</td>\n",
       "    </tr>\n",
       "    <tr>\n",
       "      <th>revol_bal</th>\n",
       "      <td>28854.000000</td>\n",
       "      <td>33623.000000</td>\n",
       "      <td>3511.000000</td>\n",
       "      <td>33667.000000</td>\n",
       "      <td>4740.000000</td>\n",
       "    </tr>\n",
       "    <tr>\n",
       "      <th>revol_util</th>\n",
       "      <td>52.100000</td>\n",
       "      <td>76.700000</td>\n",
       "      <td>25.600000</td>\n",
       "      <td>73.200000</td>\n",
       "      <td>39.500000</td>\n",
       "    </tr>\n",
       "    <tr>\n",
       "      <th>inq_last_6mths</th>\n",
       "      <td>0.000000</td>\n",
       "      <td>0.000000</td>\n",
       "      <td>1.000000</td>\n",
       "      <td>1.000000</td>\n",
       "      <td>0.000000</td>\n",
       "    </tr>\n",
       "    <tr>\n",
       "      <th>delinq_2yrs</th>\n",
       "      <td>0.000000</td>\n",
       "      <td>0.000000</td>\n",
       "      <td>0.000000</td>\n",
       "      <td>0.000000</td>\n",
       "      <td>1.000000</td>\n",
       "    </tr>\n",
       "    <tr>\n",
       "      <th>pub_rec</th>\n",
       "      <td>0.000000</td>\n",
       "      <td>0.000000</td>\n",
       "      <td>0.000000</td>\n",
       "      <td>0.000000</td>\n",
       "      <td>0.000000</td>\n",
       "    </tr>\n",
       "    <tr>\n",
       "      <th>purpose_credit_card</th>\n",
       "      <td>0.000000</td>\n",
       "      <td>1.000000</td>\n",
       "      <td>0.000000</td>\n",
       "      <td>0.000000</td>\n",
       "      <td>1.000000</td>\n",
       "    </tr>\n",
       "    <tr>\n",
       "      <th>purpose_debt_consolidation</th>\n",
       "      <td>1.000000</td>\n",
       "      <td>0.000000</td>\n",
       "      <td>1.000000</td>\n",
       "      <td>1.000000</td>\n",
       "      <td>0.000000</td>\n",
       "    </tr>\n",
       "    <tr>\n",
       "      <th>purpose_educational</th>\n",
       "      <td>0.000000</td>\n",
       "      <td>0.000000</td>\n",
       "      <td>0.000000</td>\n",
       "      <td>0.000000</td>\n",
       "      <td>0.000000</td>\n",
       "    </tr>\n",
       "    <tr>\n",
       "      <th>purpose_home_improvement</th>\n",
       "      <td>0.000000</td>\n",
       "      <td>0.000000</td>\n",
       "      <td>0.000000</td>\n",
       "      <td>0.000000</td>\n",
       "      <td>0.000000</td>\n",
       "    </tr>\n",
       "    <tr>\n",
       "      <th>purpose_major_purchase</th>\n",
       "      <td>0.000000</td>\n",
       "      <td>0.000000</td>\n",
       "      <td>0.000000</td>\n",
       "      <td>0.000000</td>\n",
       "      <td>0.000000</td>\n",
       "    </tr>\n",
       "    <tr>\n",
       "      <th>purpose_small_business</th>\n",
       "      <td>0.000000</td>\n",
       "      <td>0.000000</td>\n",
       "      <td>0.000000</td>\n",
       "      <td>0.000000</td>\n",
       "      <td>0.000000</td>\n",
       "    </tr>\n",
       "  </tbody>\n",
       "</table>\n",
       "</div>"
      ],
      "text/plain": [
       "                                       0             1            2  \\\n",
       "credit_policy                   1.000000      1.000000     1.000000   \n",
       "int_rate                        0.118900      0.107100     0.135700   \n",
       "installment                   829.100000    228.220000   366.860000   \n",
       "log_annual_inc                 11.350407     11.082143    10.373491   \n",
       "dti                            19.480000     14.290000    11.630000   \n",
       "fico                          737.000000    707.000000   682.000000   \n",
       "days_with_cr_line            5639.958333   2760.000000  4710.000000   \n",
       "revol_bal                   28854.000000  33623.000000  3511.000000   \n",
       "revol_util                     52.100000     76.700000    25.600000   \n",
       "inq_last_6mths                  0.000000      0.000000     1.000000   \n",
       "delinq_2yrs                     0.000000      0.000000     0.000000   \n",
       "pub_rec                         0.000000      0.000000     0.000000   \n",
       "purpose_credit_card             0.000000      1.000000     0.000000   \n",
       "purpose_debt_consolidation      1.000000      0.000000     1.000000   \n",
       "purpose_educational             0.000000      0.000000     0.000000   \n",
       "purpose_home_improvement        0.000000      0.000000     0.000000   \n",
       "purpose_major_purchase          0.000000      0.000000     0.000000   \n",
       "purpose_small_business          0.000000      0.000000     0.000000   \n",
       "\n",
       "                                       3            4  \n",
       "credit_policy                   1.000000     1.000000  \n",
       "int_rate                        0.100800     0.142600  \n",
       "installment                   162.340000   102.920000  \n",
       "log_annual_inc                 11.350407    11.299732  \n",
       "dti                             8.100000    14.970000  \n",
       "fico                          712.000000   667.000000  \n",
       "days_with_cr_line            2699.958333  4066.000000  \n",
       "revol_bal                   33667.000000  4740.000000  \n",
       "revol_util                     73.200000    39.500000  \n",
       "inq_last_6mths                  1.000000     0.000000  \n",
       "delinq_2yrs                     0.000000     1.000000  \n",
       "pub_rec                         0.000000     0.000000  \n",
       "purpose_credit_card             0.000000     1.000000  \n",
       "purpose_debt_consolidation      1.000000     0.000000  \n",
       "purpose_educational             0.000000     0.000000  \n",
       "purpose_home_improvement        0.000000     0.000000  \n",
       "purpose_major_purchase          0.000000     0.000000  \n",
       "purpose_small_business          0.000000     0.000000  "
      ]
     },
     "execution_count": 69,
     "metadata": {},
     "output_type": "execute_result"
    }
   ],
   "source": [
    "data_complete.head().T"
   ]
  },
  {
   "cell_type": "code",
   "execution_count": 70,
   "metadata": {},
   "outputs": [
    {
     "name": "stdout",
     "output_type": "stream",
     "text": [
      "<class 'pandas.core.frame.DataFrame'>\n",
      "RangeIndex: 9578 entries, 0 to 9577\n",
      "Data columns (total 18 columns):\n",
      "credit_policy                 9578 non-null int64\n",
      "int_rate                      9578 non-null float64\n",
      "installment                   9578 non-null float64\n",
      "log_annual_inc                9578 non-null float64\n",
      "dti                           9578 non-null float64\n",
      "fico                          9578 non-null int64\n",
      "days_with_cr_line             9578 non-null float64\n",
      "revol_bal                     9578 non-null int64\n",
      "revol_util                    9578 non-null float64\n",
      "inq_last_6mths                9578 non-null int64\n",
      "delinq_2yrs                   9578 non-null int64\n",
      "pub_rec                       9578 non-null int64\n",
      "purpose_credit_card           9578 non-null uint8\n",
      "purpose_debt_consolidation    9578 non-null uint8\n",
      "purpose_educational           9578 non-null uint8\n",
      "purpose_home_improvement      9578 non-null uint8\n",
      "purpose_major_purchase        9578 non-null uint8\n",
      "purpose_small_business        9578 non-null uint8\n",
      "dtypes: float64(6), int64(6), uint8(6)\n",
      "memory usage: 954.1 KB\n"
     ]
    }
   ],
   "source": [
    "data_complete.info()"
   ]
  },
  {
   "cell_type": "code",
   "execution_count": 71,
   "metadata": {
    "collapsed": true
   },
   "outputs": [],
   "source": [
    "x = data_complete"
   ]
  },
  {
   "cell_type": "code",
   "execution_count": 72,
   "metadata": {
    "collapsed": true
   },
   "outputs": [],
   "source": [
    "y = data.not_fully_paid "
   ]
  },
  {
   "cell_type": "markdown",
   "metadata": {},
   "source": [
    "## 1)\tSplit it into a training and testing set. How should the split be made? Why? Which function will you use to split the data?"
   ]
  },
  {
   "cell_type": "code",
   "execution_count": 52,
   "metadata": {
    "collapsed": true
   },
   "outputs": [],
   "source": [
    "from sklearn import preprocessing\n",
    "from sklearn.linear_model import LogisticRegression\n",
    "from sklearn.cross_validation import train_test_split"
   ]
  },
  {
   "cell_type": "code",
   "execution_count": 73,
   "metadata": {},
   "outputs": [],
   "source": [
    "x_train, x_test, y_train, y_test = train_test_split( x, y, test_size = 0.3)"
   ]
  },
  {
   "cell_type": "code",
   "execution_count": 74,
   "metadata": {},
   "outputs": [
    {
     "data": {
      "text/plain": [
       "8277    1\n",
       "7400    0\n",
       "6757    0\n",
       "3946    0\n",
       "4142    0\n",
       "5790    1\n",
       "6734    0\n",
       "8060    0\n",
       "7406    0\n",
       "1191    0\n",
       "Name: not_fully_paid, dtype: int64"
      ]
     },
     "execution_count": 74,
     "metadata": {},
     "output_type": "execute_result"
    }
   ],
   "source": [
    "y_test[0:10]"
   ]
  },
  {
   "cell_type": "markdown",
   "metadata": {},
   "source": [
    "### We used train_test_split function imported from sklearn.cross_validation package. \n",
    "### We opted a 70:30 split , which is regarded as an industry standard .  Because  for the model to be trained , it needs adequate data so as not to underfit / overfit . Later, for the model testing(i.e., checking the model's performance on the data other than the data trained)  also, we need an adequate data . \n",
    "### The catchy point is that for the model to be trained , it needs many instances / possibilities (since , being supervised Learning) . So , we give 70% of the data to Train and 30% to the test. "
   ]
  },
  {
   "cell_type": "markdown",
   "metadata": {},
   "source": [
    "##         "
   ]
  },
  {
   "cell_type": "markdown",
   "metadata": {},
   "source": [
    "## 2)\tNow, use logistic regression trained on the training set to predict the dependent variable not.fully.paid using all the independent variables."
   ]
  },
  {
   "cell_type": "code",
   "execution_count": 75,
   "metadata": {},
   "outputs": [
    {
     "name": "stderr",
     "output_type": "stream",
     "text": [
      "C:\\Users\\nagapavan\\Anaconda3\\lib\\site-packages\\statsmodels\\compat\\pandas.py:56: FutureWarning: The pandas.core.datetools module is deprecated and will be removed in a future version. Please use the pandas.tseries module instead.\n",
      "  from pandas.core import datetools\n"
     ]
    }
   ],
   "source": [
    "import statsmodels.api as sm"
   ]
  },
  {
   "cell_type": "code",
   "execution_count": 76,
   "metadata": {
    "collapsed": true
   },
   "outputs": [],
   "source": [
    "logit = sm.Logit( y_train, sm.add_constant( x_train ) )"
   ]
  },
  {
   "cell_type": "code",
   "execution_count": 77,
   "metadata": {},
   "outputs": [
    {
     "name": "stdout",
     "output_type": "stream",
     "text": [
      "Optimization terminated successfully.\n",
      "         Current function value: 0.409338\n",
      "         Iterations 6\n"
     ]
    }
   ],
   "source": [
    "lg = logit.fit()"
   ]
  },
  {
   "cell_type": "code",
   "execution_count": 78,
   "metadata": {},
   "outputs": [
    {
     "data": {
      "text/html": [
       "<table class=\"simpletable\">\n",
       "<caption>Logit Regression Results</caption>\n",
       "<tr>\n",
       "  <th>Dep. Variable:</th>  <td>not_fully_paid</td>  <th>  No. Observations:  </th>  <td>  6704</td>  \n",
       "</tr>\n",
       "<tr>\n",
       "  <th>Model:</th>               <td>Logit</td>      <th>  Df Residuals:      </th>  <td>  6685</td>  \n",
       "</tr>\n",
       "<tr>\n",
       "  <th>Method:</th>               <td>MLE</td>       <th>  Df Model:          </th>  <td>    18</td>  \n",
       "</tr>\n",
       "<tr>\n",
       "  <th>Date:</th>          <td>Thu, 23 Aug 2018</td> <th>  Pseudo R-squ.:     </th>  <td>0.07282</td> \n",
       "</tr>\n",
       "<tr>\n",
       "  <th>Time:</th>              <td>17:15:42</td>     <th>  Log-Likelihood:    </th> <td> -2744.2</td> \n",
       "</tr>\n",
       "<tr>\n",
       "  <th>converged:</th>           <td>True</td>       <th>  LL-Null:           </th> <td> -2959.7</td> \n",
       "</tr>\n",
       "<tr>\n",
       "  <th> </th>                      <td> </td>        <th>  LLR p-value:       </th> <td>3.022e-80</td>\n",
       "</tr>\n",
       "</table>\n",
       "<table class=\"simpletable\">\n",
       "<tr>\n",
       "               <td></td>                 <th>coef</th>     <th>std err</th>      <th>z</th>      <th>P>|z|</th>  <th>[0.025</th>    <th>0.975]</th>  \n",
       "</tr>\n",
       "<tr>\n",
       "  <th>const</th>                      <td>    8.9872</td> <td>    1.537</td> <td>    5.846</td> <td> 0.000</td> <td>    5.974</td> <td>   12.000</td>\n",
       "</tr>\n",
       "<tr>\n",
       "  <th>credit_policy</th>              <td>   -0.2393</td> <td>    0.102</td> <td>   -2.345</td> <td> 0.019</td> <td>   -0.439</td> <td>   -0.039</td>\n",
       "</tr>\n",
       "<tr>\n",
       "  <th>int_rate</th>                   <td>    0.7685</td> <td>    2.064</td> <td>    0.372</td> <td> 0.710</td> <td>   -3.277</td> <td>    4.814</td>\n",
       "</tr>\n",
       "<tr>\n",
       "  <th>installment</th>                <td>    0.0014</td> <td>    0.000</td> <td>    6.563</td> <td> 0.000</td> <td>    0.001</td> <td>    0.002</td>\n",
       "</tr>\n",
       "<tr>\n",
       "  <th>log_annual_inc</th>             <td>   -0.4669</td> <td>    0.072</td> <td>   -6.493</td> <td> 0.000</td> <td>   -0.608</td> <td>   -0.326</td>\n",
       "</tr>\n",
       "<tr>\n",
       "  <th>dti</th>                        <td>    0.0010</td> <td>    0.005</td> <td>    0.183</td> <td> 0.855</td> <td>   -0.010</td> <td>    0.012</td>\n",
       "</tr>\n",
       "<tr>\n",
       "  <th>fico</th>                       <td>   -0.0088</td> <td>    0.002</td> <td>   -5.218</td> <td> 0.000</td> <td>   -0.012</td> <td>   -0.006</td>\n",
       "</tr>\n",
       "<tr>\n",
       "  <th>days_with_cr_line</th>          <td> 1.135e-05</td> <td> 1.59e-05</td> <td>    0.713</td> <td> 0.476</td> <td>-1.99e-05</td> <td> 4.26e-05</td>\n",
       "</tr>\n",
       "<tr>\n",
       "  <th>revol_bal</th>                  <td> 3.725e-06</td> <td> 1.17e-06</td> <td>    3.184</td> <td> 0.001</td> <td> 1.43e-06</td> <td> 6.02e-06</td>\n",
       "</tr>\n",
       "<tr>\n",
       "  <th>revol_util</th>                 <td>    0.0030</td> <td>    0.002</td> <td>    1.961</td> <td> 0.050</td> <td> 1.71e-06</td> <td>    0.006</td>\n",
       "</tr>\n",
       "<tr>\n",
       "  <th>inq_last_6mths</th>             <td>    0.1066</td> <td>    0.017</td> <td>    6.339</td> <td> 0.000</td> <td>    0.074</td> <td>    0.140</td>\n",
       "</tr>\n",
       "<tr>\n",
       "  <th>delinq_2yrs</th>                <td>   -0.0380</td> <td>    0.063</td> <td>   -0.604</td> <td> 0.546</td> <td>   -0.162</td> <td>    0.085</td>\n",
       "</tr>\n",
       "<tr>\n",
       "  <th>pub_rec</th>                    <td>    0.3915</td> <td>    0.115</td> <td>    3.399</td> <td> 0.001</td> <td>    0.166</td> <td>    0.617</td>\n",
       "</tr>\n",
       "<tr>\n",
       "  <th>purpose_credit_card</th>        <td>   -0.4927</td> <td>    0.128</td> <td>   -3.847</td> <td> 0.000</td> <td>   -0.744</td> <td>   -0.242</td>\n",
       "</tr>\n",
       "<tr>\n",
       "  <th>purpose_debt_consolidation</th> <td>   -0.4131</td> <td>    0.093</td> <td>   -4.429</td> <td> 0.000</td> <td>   -0.596</td> <td>   -0.230</td>\n",
       "</tr>\n",
       "<tr>\n",
       "  <th>purpose_educational</th>        <td>    0.0386</td> <td>    0.186</td> <td>    0.208</td> <td> 0.835</td> <td>   -0.325</td> <td>    0.403</td>\n",
       "</tr>\n",
       "<tr>\n",
       "  <th>purpose_home_improvement</th>   <td>    0.1243</td> <td>    0.149</td> <td>    0.836</td> <td> 0.403</td> <td>   -0.167</td> <td>    0.416</td>\n",
       "</tr>\n",
       "<tr>\n",
       "  <th>purpose_major_purchase</th>     <td>   -0.4418</td> <td>    0.197</td> <td>   -2.240</td> <td> 0.025</td> <td>   -0.828</td> <td>   -0.055</td>\n",
       "</tr>\n",
       "<tr>\n",
       "  <th>purpose_small_business</th>     <td>    0.5831</td> <td>    0.138</td> <td>    4.221</td> <td> 0.000</td> <td>    0.312</td> <td>    0.854</td>\n",
       "</tr>\n",
       "</table>"
      ],
      "text/plain": [
       "<class 'statsmodels.iolib.summary.Summary'>\n",
       "\"\"\"\n",
       "                           Logit Regression Results                           \n",
       "==============================================================================\n",
       "Dep. Variable:         not_fully_paid   No. Observations:                 6704\n",
       "Model:                          Logit   Df Residuals:                     6685\n",
       "Method:                           MLE   Df Model:                           18\n",
       "Date:                Thu, 23 Aug 2018   Pseudo R-squ.:                 0.07282\n",
       "Time:                        17:15:42   Log-Likelihood:                -2744.2\n",
       "converged:                       True   LL-Null:                       -2959.7\n",
       "                                        LLR p-value:                 3.022e-80\n",
       "==============================================================================================\n",
       "                                 coef    std err          z      P>|z|      [0.025      0.975]\n",
       "----------------------------------------------------------------------------------------------\n",
       "const                          8.9872      1.537      5.846      0.000       5.974      12.000\n",
       "credit_policy                 -0.2393      0.102     -2.345      0.019      -0.439      -0.039\n",
       "int_rate                       0.7685      2.064      0.372      0.710      -3.277       4.814\n",
       "installment                    0.0014      0.000      6.563      0.000       0.001       0.002\n",
       "log_annual_inc                -0.4669      0.072     -6.493      0.000      -0.608      -0.326\n",
       "dti                            0.0010      0.005      0.183      0.855      -0.010       0.012\n",
       "fico                          -0.0088      0.002     -5.218      0.000      -0.012      -0.006\n",
       "days_with_cr_line           1.135e-05   1.59e-05      0.713      0.476   -1.99e-05    4.26e-05\n",
       "revol_bal                   3.725e-06   1.17e-06      3.184      0.001    1.43e-06    6.02e-06\n",
       "revol_util                     0.0030      0.002      1.961      0.050    1.71e-06       0.006\n",
       "inq_last_6mths                 0.1066      0.017      6.339      0.000       0.074       0.140\n",
       "delinq_2yrs                   -0.0380      0.063     -0.604      0.546      -0.162       0.085\n",
       "pub_rec                        0.3915      0.115      3.399      0.001       0.166       0.617\n",
       "purpose_credit_card           -0.4927      0.128     -3.847      0.000      -0.744      -0.242\n",
       "purpose_debt_consolidation    -0.4131      0.093     -4.429      0.000      -0.596      -0.230\n",
       "purpose_educational            0.0386      0.186      0.208      0.835      -0.325       0.403\n",
       "purpose_home_improvement       0.1243      0.149      0.836      0.403      -0.167       0.416\n",
       "purpose_major_purchase        -0.4418      0.197     -2.240      0.025      -0.828      -0.055\n",
       "purpose_small_business         0.5831      0.138      4.221      0.000       0.312       0.854\n",
       "==============================================================================================\n",
       "\"\"\""
      ]
     },
     "execution_count": 78,
     "metadata": {},
     "output_type": "execute_result"
    }
   ],
   "source": [
    "lg.summary()"
   ]
  },
  {
   "cell_type": "markdown",
   "metadata": {},
   "source": [
    "## 3)\tWhich independent variables are significant in our model? "
   ]
  },
  {
   "cell_type": "code",
   "execution_count": 79,
   "metadata": {
    "collapsed": true
   },
   "outputs": [],
   "source": [
    "def get_significant_vars( lm ):\n",
    "    var_p_vals_df = pd.DataFrame( lm.pvalues )\n",
    "    var_p_vals_df['vars'] = var_p_vals_df.index\n",
    "    var_p_vals_df.columns = ['pvals', 'vars']\n",
    "    return list( var_p_vals_df[var_p_vals_df.pvals <= 0.05]['vars'] )"
   ]
  },
  {
   "cell_type": "code",
   "execution_count": 80,
   "metadata": {
    "collapsed": true
   },
   "outputs": [],
   "source": [
    "significant_vars = get_significant_vars( lg )"
   ]
  },
  {
   "cell_type": "code",
   "execution_count": 81,
   "metadata": {},
   "outputs": [
    {
     "data": {
      "text/plain": [
       "['const',\n",
       " 'credit_policy',\n",
       " 'installment',\n",
       " 'log_annual_inc',\n",
       " 'fico',\n",
       " 'revol_bal',\n",
       " 'revol_util',\n",
       " 'inq_last_6mths',\n",
       " 'pub_rec',\n",
       " 'purpose_credit_card',\n",
       " 'purpose_debt_consolidation',\n",
       " 'purpose_major_purchase',\n",
       " 'purpose_small_business']"
      ]
     },
     "execution_count": 81,
     "metadata": {},
     "output_type": "execute_result"
    }
   ],
   "source": [
    "significant_vars"
   ]
  },
  {
   "cell_type": "markdown",
   "metadata": {},
   "source": [
    "### The above mentioned variables are the significant independent variables."
   ]
  },
  {
   "cell_type": "markdown",
   "metadata": {},
   "source": [
    "## 4)\tWhat is the concept of Dummy variables in Logistic Regression? How would you interpret a Categorical IV in Logistic Regression? What is Logit and Why is it used?"
   ]
  },
  {
   "cell_type": "markdown",
   "metadata": {},
   "source": [
    "### Dummy variables are mainly used for categorical variables in logistic Regression . For the logistic regression model to consider the categorical variables , it should be converted into single valued nummerical columns , which is achieved by Dummy variables . In case of Logistic Regression , if a categorical variable has 3 classes , 2 dummy variables are created (other dummy is considered into intercept).\n",
    "\n",
    "### We would interpret a categorical independent variable as dummy variables.\n",
    "\n",
    "### In case of Logistic Regression, the response variable is categorical (i.e., not continuous as in Linear Regression ). So , it's impossible to get Normal residuals from categorical response variable. This is achieved by Logistic Regression and Logit Function.\n",
    "\n",
    "### The logit function is the natural log of the odds that Y equals one of the categories.  logit = ln(p/1-p)\n",
    "\n",
    "### It’s closer to being linear, but it’s still not quite there.  Instead of a linear relationship between X and P, we have a sigmoidal or S-shaped relationship.\n",
    "\n",
    "### But it turns out that there are a few functions of P that do form reasonably linear relationships with X.  These include:\n",
    "\n",
    "### Square root of arcsin\n",
    "### Complimentary log-log\n",
    "### Probit\n",
    "### Logit\n",
    "### Since , Logit is easy to interpret , we use Logit function."
   ]
  },
  {
   "cell_type": "markdown",
   "metadata": {},
   "source": [
    "###      \n",
    "\n",
    "\n",
    "\n",
    "\n",
    "\n",
    "###      "
   ]
  },
  {
   "cell_type": "markdown",
   "metadata": {},
   "source": [
    "## 5) Predict the probability of the test set loans not being paid back in full. \n",
    "## What is the accuracy of the logistic regression model? Input the accuracy as a number between 0 and 1.\n"
   ]
  },
  {
   "cell_type": "code",
   "execution_count": 83,
   "metadata": {
    "collapsed": true
   },
   "outputs": [],
   "source": [
    "from sklearn import metrics"
   ]
  },
  {
   "cell_type": "code",
   "execution_count": 84,
   "metadata": {
    "collapsed": true
   },
   "outputs": [],
   "source": [
    "def get_predictions( y_test, model ):\n",
    "    y_pred_df = pd.DataFrame( { 'actual': y_test,\n",
    "                               \"predicted_prob\": model.predict( sm.add_constant( x_test ) ) } )\n",
    "    return y_pred_df"
   ]
  },
  {
   "cell_type": "code",
   "execution_count": 85,
   "metadata": {
    "collapsed": true
   },
   "outputs": [],
   "source": [
    "y_pred_df = get_predictions( y_test, lg )"
   ]
  },
  {
   "cell_type": "code",
   "execution_count": 87,
   "metadata": {},
   "outputs": [
    {
     "data": {
      "text/html": [
       "<div>\n",
       "<style>\n",
       "    .dataframe thead tr:only-child th {\n",
       "        text-align: right;\n",
       "    }\n",
       "\n",
       "    .dataframe thead th {\n",
       "        text-align: left;\n",
       "    }\n",
       "\n",
       "    .dataframe tbody tr th {\n",
       "        vertical-align: top;\n",
       "    }\n",
       "</style>\n",
       "<table border=\"1\" class=\"dataframe\">\n",
       "  <thead>\n",
       "    <tr style=\"text-align: right;\">\n",
       "      <th></th>\n",
       "      <th>actual</th>\n",
       "      <th>predicted_prob</th>\n",
       "    </tr>\n",
       "  </thead>\n",
       "  <tbody>\n",
       "    <tr>\n",
       "      <th>8277</th>\n",
       "      <td>1</td>\n",
       "      <td>0.284308</td>\n",
       "    </tr>\n",
       "    <tr>\n",
       "      <th>7400</th>\n",
       "      <td>0</td>\n",
       "      <td>0.110298</td>\n",
       "    </tr>\n",
       "    <tr>\n",
       "      <th>6757</th>\n",
       "      <td>0</td>\n",
       "      <td>0.114571</td>\n",
       "    </tr>\n",
       "    <tr>\n",
       "      <th>3946</th>\n",
       "      <td>0</td>\n",
       "      <td>0.163972</td>\n",
       "    </tr>\n",
       "    <tr>\n",
       "      <th>4142</th>\n",
       "      <td>0</td>\n",
       "      <td>0.125980</td>\n",
       "    </tr>\n",
       "    <tr>\n",
       "      <th>5790</th>\n",
       "      <td>1</td>\n",
       "      <td>0.134903</td>\n",
       "    </tr>\n",
       "    <tr>\n",
       "      <th>6734</th>\n",
       "      <td>0</td>\n",
       "      <td>0.079679</td>\n",
       "    </tr>\n",
       "    <tr>\n",
       "      <th>8060</th>\n",
       "      <td>0</td>\n",
       "      <td>0.374414</td>\n",
       "    </tr>\n",
       "    <tr>\n",
       "      <th>7406</th>\n",
       "      <td>0</td>\n",
       "      <td>0.081481</td>\n",
       "    </tr>\n",
       "    <tr>\n",
       "      <th>1191</th>\n",
       "      <td>0</td>\n",
       "      <td>0.106686</td>\n",
       "    </tr>\n",
       "  </tbody>\n",
       "</table>\n",
       "</div>"
      ],
      "text/plain": [
       "      actual  predicted_prob\n",
       "8277       1        0.284308\n",
       "7400       0        0.110298\n",
       "6757       0        0.114571\n",
       "3946       0        0.163972\n",
       "4142       0        0.125980\n",
       "5790       1        0.134903\n",
       "6734       0        0.079679\n",
       "8060       0        0.374414\n",
       "7406       0        0.081481\n",
       "1191       0        0.106686"
      ]
     },
     "execution_count": 87,
     "metadata": {},
     "output_type": "execute_result"
    }
   ],
   "source": [
    "y_pred_df[0:10]"
   ]
  },
  {
   "cell_type": "code",
   "execution_count": 88,
   "metadata": {
    "collapsed": true
   },
   "outputs": [],
   "source": [
    "y_pred_df['predicted'] = y_pred_df.predicted_prob.map( lambda x: 1 if x > 0.5 else 0)"
   ]
  },
  {
   "cell_type": "code",
   "execution_count": 89,
   "metadata": {},
   "outputs": [
    {
     "data": {
      "text/html": [
       "<div>\n",
       "<style>\n",
       "    .dataframe thead tr:only-child th {\n",
       "        text-align: right;\n",
       "    }\n",
       "\n",
       "    .dataframe thead th {\n",
       "        text-align: left;\n",
       "    }\n",
       "\n",
       "    .dataframe tbody tr th {\n",
       "        vertical-align: top;\n",
       "    }\n",
       "</style>\n",
       "<table border=\"1\" class=\"dataframe\">\n",
       "  <thead>\n",
       "    <tr style=\"text-align: right;\">\n",
       "      <th></th>\n",
       "      <th>actual</th>\n",
       "      <th>predicted_prob</th>\n",
       "      <th>predicted</th>\n",
       "    </tr>\n",
       "  </thead>\n",
       "  <tbody>\n",
       "    <tr>\n",
       "      <th>8277</th>\n",
       "      <td>1</td>\n",
       "      <td>0.284308</td>\n",
       "      <td>0</td>\n",
       "    </tr>\n",
       "    <tr>\n",
       "      <th>7400</th>\n",
       "      <td>0</td>\n",
       "      <td>0.110298</td>\n",
       "      <td>0</td>\n",
       "    </tr>\n",
       "    <tr>\n",
       "      <th>6757</th>\n",
       "      <td>0</td>\n",
       "      <td>0.114571</td>\n",
       "      <td>0</td>\n",
       "    </tr>\n",
       "    <tr>\n",
       "      <th>3946</th>\n",
       "      <td>0</td>\n",
       "      <td>0.163972</td>\n",
       "      <td>0</td>\n",
       "    </tr>\n",
       "    <tr>\n",
       "      <th>4142</th>\n",
       "      <td>0</td>\n",
       "      <td>0.125980</td>\n",
       "      <td>0</td>\n",
       "    </tr>\n",
       "    <tr>\n",
       "      <th>5790</th>\n",
       "      <td>1</td>\n",
       "      <td>0.134903</td>\n",
       "      <td>0</td>\n",
       "    </tr>\n",
       "    <tr>\n",
       "      <th>6734</th>\n",
       "      <td>0</td>\n",
       "      <td>0.079679</td>\n",
       "      <td>0</td>\n",
       "    </tr>\n",
       "    <tr>\n",
       "      <th>8060</th>\n",
       "      <td>0</td>\n",
       "      <td>0.374414</td>\n",
       "      <td>0</td>\n",
       "    </tr>\n",
       "    <tr>\n",
       "      <th>7406</th>\n",
       "      <td>0</td>\n",
       "      <td>0.081481</td>\n",
       "      <td>0</td>\n",
       "    </tr>\n",
       "    <tr>\n",
       "      <th>1191</th>\n",
       "      <td>0</td>\n",
       "      <td>0.106686</td>\n",
       "      <td>0</td>\n",
       "    </tr>\n",
       "  </tbody>\n",
       "</table>\n",
       "</div>"
      ],
      "text/plain": [
       "      actual  predicted_prob  predicted\n",
       "8277       1        0.284308          0\n",
       "7400       0        0.110298          0\n",
       "6757       0        0.114571          0\n",
       "3946       0        0.163972          0\n",
       "4142       0        0.125980          0\n",
       "5790       1        0.134903          0\n",
       "6734       0        0.079679          0\n",
       "8060       0        0.374414          0\n",
       "7406       0        0.081481          0\n",
       "1191       0        0.106686          0"
      ]
     },
     "execution_count": 89,
     "metadata": {},
     "output_type": "execute_result"
    }
   ],
   "source": [
    "y_pred_df[0:10]"
   ]
  },
  {
   "cell_type": "code",
   "execution_count": 90,
   "metadata": {
    "collapsed": true
   },
   "outputs": [],
   "source": [
    "import matplotlib.pylab as plt\n",
    "import seaborn as sn\n",
    "%matplotlib inline "
   ]
  },
  {
   "cell_type": "code",
   "execution_count": 101,
   "metadata": {
    "collapsed": true
   },
   "outputs": [],
   "source": [
    "def draw_cm( actual, predicted ):\n",
    "    cm = metrics.confusion_matrix( actual, predicted, [1,0] )\n",
    "    sn.heatmap(cm, annot=True,  fmt='.2f', xticklabels = [\"Default\", \"No Default\"] , yticklabels = [\"Default\", \"No Default\"] )\n",
    "    plt.ylabel('True label')\n",
    "    plt.xlabel('Predicted label')\n",
    "    plt.show()"
   ]
  },
  {
   "cell_type": "code",
   "execution_count": 102,
   "metadata": {},
   "outputs": [
    {
     "data": {
      "text/plain": [
       "array([[2400,   21],\n",
       "       [ 440,   13]], dtype=int64)"
      ]
     },
     "execution_count": 102,
     "metadata": {},
     "output_type": "execute_result"
    }
   ],
   "source": [
    " metrics.confusion_matrix( y_pred_df.actual, y_pred_df.predicted)"
   ]
  },
  {
   "cell_type": "code",
   "execution_count": 103,
   "metadata": {},
   "outputs": [
    {
     "data": {
      "image/png": "[encoded data removed]",
      "text/plain": [
       "<matplotlib.figure.Figure at 0x1b7add2c6d8>"
      ]
     },
     "metadata": {},
     "output_type": "display_data"
    }
   ],
   "source": [
    "draw_cm( y_pred_df.actual, y_pred_df.predicted )"
   ]
  },
  {
   "cell_type": "code",
   "execution_count": 104,
   "metadata": {},
   "outputs": [
    {
     "name": "stdout",
     "output_type": "stream",
     "text": [
      "Total Accuracy :  0.84\n"
     ]
    }
   ],
   "source": [
    "print( 'Total Accuracy : ',np.round( metrics.accuracy_score( y_test, y_pred_df.predicted ), 2 ) )"
   ]
  },
  {
   "cell_type": "markdown",
   "metadata": {},
   "source": [
    "## 7) What is the Sensitivity, Specificity and Precision of a classification Model? Which one are used and when?"
   ]
  },
  {
   "cell_type": "code",
   "execution_count": 105,
   "metadata": {},
   "outputs": [
    {
     "name": "stdout",
     "output_type": "stream",
     "text": [
      "Precision :  0.38\n"
     ]
    }
   ],
   "source": [
    "print( 'Precision : ',np.round( metrics.precision_score( y_test, y_pred_df.predicted ), 2 ) )"
   ]
  },
  {
   "cell_type": "code",
   "execution_count": 106,
   "metadata": {},
   "outputs": [
    {
     "name": "stdout",
     "output_type": "stream",
     "text": [
      "Recall :  0.03\n"
     ]
    }
   ],
   "source": [
    "print( 'Recall : ',np.round( metrics.recall_score( y_test, y_pred_df.predicted ), 2 ) )"
   ]
  },
  {
   "cell_type": "code",
   "execution_count": 107,
   "metadata": {
    "collapsed": true
   },
   "outputs": [],
   "source": [
    "cm1 = metrics.confusion_matrix( y_pred_df.actual, y_pred_df.predicted, [1,0] )"
   ]
  },
  {
   "cell_type": "code",
   "execution_count": 108,
   "metadata": {
    "collapsed": true
   },
   "outputs": [],
   "source": [
    "sensitivity = cm1[0,0]/(cm1[0,0]+cm1[0,1])"
   ]
  },
  {
   "cell_type": "code",
   "execution_count": 109,
   "metadata": {},
   "outputs": [
    {
     "name": "stdout",
     "output_type": "stream",
     "text": [
      "Sensitivity :  0.03\n"
     ]
    }
   ],
   "source": [
    "print('Sensitivity : ', round( sensitivity, 2) )"
   ]
  },
  {
   "cell_type": "code",
   "execution_count": 110,
   "metadata": {
    "collapsed": true
   },
   "outputs": [],
   "source": [
    "specificity = cm1[1,1]/(cm1[1,0]+cm1[1,1])"
   ]
  },
  {
   "cell_type": "code",
   "execution_count": 111,
   "metadata": {},
   "outputs": [
    {
     "name": "stdout",
     "output_type": "stream",
     "text": [
      "Specificity :  0.99\n"
     ]
    }
   ],
   "source": [
    "print('Specificity : ', round( specificity, 2 ) )"
   ]
  },
  {
   "cell_type": "markdown",
   "metadata": {},
   "source": [
    "### Sensitivity/recall – how good a test is at detecting the positives. A test can cheat and maximize this by always returning “positive”.\n",
    "### Specificity – how good a test is at avoiding false alarms. A test can cheat and maximize this by always returning “negative”.\n",
    "### Precision – how many of the positively classified were relevant. A test can cheat and maximize this by only returning positive on one result it’s most confident in.\n",
    "### The cheating is resolved by looking at both relevant metrics instead of just one. E.g. the cheating 100% sensitivity that always says “positive” has 0% specificity."
   ]
  },
  {
   "cell_type": "markdown",
   "metadata": {},
   "source": [
    "###    \n",
    "\n",
    "\n",
    "\n",
    "###   "
   ]
  },
  {
   "cell_type": "markdown",
   "metadata": {},
   "source": [
    "## 8) What is a ROC Curve? Why is it used?"
   ]
  },
  {
   "cell_type": "code",
   "execution_count": 112,
   "metadata": {},
   "outputs": [
    {
     "data": {
      "text/plain": [
       "0.67"
      ]
     },
     "execution_count": 112,
     "metadata": {},
     "output_type": "execute_result"
    }
   ],
   "source": [
    "auc_score = metrics.roc_auc_score( y_pred_df.actual, y_pred_df.predicted_prob  )\n",
    "round( float( auc_score ), 2 )"
   ]
  },
  {
   "cell_type": "code",
   "execution_count": 113,
   "metadata": {
    "collapsed": true
   },
   "outputs": [],
   "source": [
    "def draw_roc( actual, probs ):\n",
    "    fpr, tpr, thresholds = metrics.roc_curve( actual, probs,\n",
    "                                              drop_intermediate = False )\n",
    "    auc_score = metrics.roc_auc_score( actual, probs )\n",
    "    plt.figure(figsize=(6, 4))\n",
    "    plt.plot( fpr, tpr, label='ROC curve (area = %0.2f)' % auc_score )\n",
    "    plt.plot([0, 1], [0, 1], 'k--')\n",
    "    plt.xlim([0.0, 1.0])\n",
    "    plt.ylim([0.0, 1.05])\n",
    "    plt.xlabel('False Positive Rate or [1 - True Negative Rate]')\n",
    "    plt.ylabel('True Positive Rate')\n",
    "    plt.title('Receiver operating characteristic example')\n",
    "    plt.legend(loc=\"lower right\")\n",
    "    plt.show()\n",
    "\n",
    "    return fpr, tpr, thresholds"
   ]
  },
  {
   "cell_type": "code",
   "execution_count": 114,
   "metadata": {},
   "outputs": [
    {
     "data": {
      "image/png": "[encoded data removed]",
      "text/plain": [
       "<matplotlib.figure.Figure at 0x1b7ae1176a0>"
      ]
     },
     "metadata": {},
     "output_type": "display_data"
    }
   ],
   "source": [
    "fpr, tpr, thresholds = draw_roc( y_pred_df.actual, y_pred_df.predicted_prob )"
   ]
  },
  {
   "cell_type": "code",
   "execution_count": null,
   "metadata": {
    "collapsed": true
   },
   "outputs": [],
   "source": []
  },
  {
   "cell_type": "code",
   "execution_count": null,
   "metadata": {
    "collapsed": true
   },
   "outputs": [],
   "source": [
    "from statsmodels.stats.outliers_influence import variance_inflation_factor\n",
    "\n",
    "class ReduceVIF(BaseEstimator, TransformerMixin):\n",
    "    def __init__(self, thresh=5.0, impute=True, impute_strategy='median'):\n",
    "        # From looking at documentation, values between 5 and 10 are \"okay\".\n",
    "        # Above 10 is too high and so should be removed.\n",
    "        self.thresh = thresh\n",
    "        \n",
    "        # The statsmodel function will fail with NaN values, as such we have to impute them.\n",
    "        # By default we impute using the median value.\n",
    "        # This imputation could be taken out and added as part of an sklearn Pipeline.\n",
    "        if impute:\n",
    "            self.imputer = Imputer(strategy=impute_strategy)\n",
    "\n",
    "    def fit(self, X, y=None):\n",
    "        print('ReduceVIF fit')\n",
    "        if hasattr(self, 'imputer'):\n",
    "            self.imputer.fit(X)\n",
    "        return self\n",
    "\n",
    "    def transform(self, X, y=None):\n",
    "        print('ReduceVIF transform')\n",
    "        columns = X.columns.tolist()\n",
    "        if hasattr(self, 'imputer'):\n",
    "            X = pd.DataFrame(self.imputer.transform(X), columns=columns)\n",
    "        return ReduceVIF.calculate_vif(X, self.thresh)\n",
    "\n",
    "    @staticmethod\n",
    "    def calculate_vif(X, thresh=5.0):\n",
    "        # Taken from https://stats.stackexchange.com/a/253620/53565 and modified\n",
    "        dropped=True\n",
    "        while dropped:\n",
    "            variables = X.columns\n",
    "            dropped = False\n",
    "            vif = [variance_inflation_factor(X[variables].values, X.columns.get_loc(var)) for var in X.columns]\n",
    "            \n",
    "            max_vif = max(vif)\n",
    "            if max_vif > thresh:\n",
    "                maxloc = vif.index(max_vif)\n",
    "                print(f'Dropping {X.columns[maxloc]} with vif={max_vif}')\n",
    "                X = X.drop([X.columns.tolist()[maxloc]], axis=1)\n",
    "                dropped=True\n",
    "        return X"
   ]
  },
  {
   "cell_type": "code",
   "execution_count": null,
   "metadata": {
    "collapsed": true
   },
   "outputs": [],
   "source": [
    "transformer = ReduceVIF()\n",
    "\n",
    "# Only use 10 columns for speed in this example\n",
    "X = transformer.fit_transform(X[X.columns[-10:]], y)\n",
    "\n",
    "X.head()"
   ]
  },
  {
   "cell_type": "code",
   "execution_count": null,
   "metadata": {
    "collapsed": true
   },
   "outputs": [],
   "source": []
  },
  {
   "cell_type": "code",
   "execution_count": null,
   "metadata": {
    "collapsed": true
   },
   "outputs": [],
   "source": []
  },
  {
   "cell_type": "code",
   "execution_count": null,
   "metadata": {
    "collapsed": true
   },
   "outputs": [],
   "source": [
    "## loans ->  log_annual_inc , days_with_cr_line , revol_bal ,revol_util , inq_last_6mths , delinq_2yrs , pub_rec , "
   ]
  },
  {
   "cell_type": "code",
   "execution_count": null,
   "metadata": {
    "collapsed": true
   },
   "outputs": [],
   "source": []
  },
  {
   "cell_type": "code",
   "execution_count": 138,
   "metadata": {},
   "outputs": [],
   "source": [
    "dataset = pd.read_csv(\"pisa2009train.csv\")"
   ]
  },
  {
   "cell_type": "code",
   "execution_count": 139,
   "metadata": {},
   "outputs": [
    {
     "data": {
      "text/html": [
       "<div>\n",
       "<style>\n",
       "    .dataframe thead tr:only-child th {\n",
       "        text-align: right;\n",
       "    }\n",
       "\n",
       "    .dataframe thead th {\n",
       "        text-align: left;\n",
       "    }\n",
       "\n",
       "    .dataframe tbody tr th {\n",
       "        vertical-align: top;\n",
       "    }\n",
       "</style>\n",
       "<table border=\"1\" class=\"dataframe\">\n",
       "  <thead>\n",
       "    <tr style=\"text-align: right;\">\n",
       "      <th></th>\n",
       "      <th>grade</th>\n",
       "      <th>male</th>\n",
       "      <th>raceeth</th>\n",
       "      <th>preschool</th>\n",
       "      <th>expectBachelors</th>\n",
       "      <th>motherHS</th>\n",
       "      <th>motherBachelors</th>\n",
       "      <th>motherWork</th>\n",
       "      <th>fatherHS</th>\n",
       "      <th>fatherBachelors</th>\n",
       "      <th>...</th>\n",
       "      <th>englishAtHome</th>\n",
       "      <th>computerForSchoolwork</th>\n",
       "      <th>read30MinsADay</th>\n",
       "      <th>minutesPerWeekEnglish</th>\n",
       "      <th>studentsInEnglish</th>\n",
       "      <th>schoolHasLibrary</th>\n",
       "      <th>publicSchool</th>\n",
       "      <th>urban</th>\n",
       "      <th>schoolSize</th>\n",
       "      <th>readingScore</th>\n",
       "    </tr>\n",
       "  </thead>\n",
       "  <tbody>\n",
       "    <tr>\n",
       "      <th>0</th>\n",
       "      <td>11</td>\n",
       "      <td>1</td>\n",
       "      <td>NaN</td>\n",
       "      <td>NaN</td>\n",
       "      <td>0.0</td>\n",
       "      <td>NaN</td>\n",
       "      <td>NaN</td>\n",
       "      <td>1.0</td>\n",
       "      <td>NaN</td>\n",
       "      <td>NaN</td>\n",
       "      <td>...</td>\n",
       "      <td>0.0</td>\n",
       "      <td>1.0</td>\n",
       "      <td>0.0</td>\n",
       "      <td>225.0</td>\n",
       "      <td>NaN</td>\n",
       "      <td>1.0</td>\n",
       "      <td>1</td>\n",
       "      <td>1</td>\n",
       "      <td>673.0</td>\n",
       "      <td>476.00</td>\n",
       "    </tr>\n",
       "    <tr>\n",
       "      <th>1</th>\n",
       "      <td>11</td>\n",
       "      <td>1</td>\n",
       "      <td>White</td>\n",
       "      <td>0.0</td>\n",
       "      <td>0.0</td>\n",
       "      <td>1.0</td>\n",
       "      <td>1.0</td>\n",
       "      <td>1.0</td>\n",
       "      <td>1.0</td>\n",
       "      <td>0.0</td>\n",
       "      <td>...</td>\n",
       "      <td>1.0</td>\n",
       "      <td>1.0</td>\n",
       "      <td>1.0</td>\n",
       "      <td>450.0</td>\n",
       "      <td>25.0</td>\n",
       "      <td>1.0</td>\n",
       "      <td>1</td>\n",
       "      <td>0</td>\n",
       "      <td>1173.0</td>\n",
       "      <td>575.01</td>\n",
       "    </tr>\n",
       "    <tr>\n",
       "      <th>2</th>\n",
       "      <td>9</td>\n",
       "      <td>1</td>\n",
       "      <td>White</td>\n",
       "      <td>1.0</td>\n",
       "      <td>1.0</td>\n",
       "      <td>1.0</td>\n",
       "      <td>1.0</td>\n",
       "      <td>1.0</td>\n",
       "      <td>1.0</td>\n",
       "      <td>NaN</td>\n",
       "      <td>...</td>\n",
       "      <td>1.0</td>\n",
       "      <td>1.0</td>\n",
       "      <td>0.0</td>\n",
       "      <td>250.0</td>\n",
       "      <td>28.0</td>\n",
       "      <td>1.0</td>\n",
       "      <td>1</td>\n",
       "      <td>0</td>\n",
       "      <td>1233.0</td>\n",
       "      <td>554.81</td>\n",
       "    </tr>\n",
       "    <tr>\n",
       "      <th>3</th>\n",
       "      <td>10</td>\n",
       "      <td>0</td>\n",
       "      <td>Black</td>\n",
       "      <td>1.0</td>\n",
       "      <td>1.0</td>\n",
       "      <td>0.0</td>\n",
       "      <td>0.0</td>\n",
       "      <td>1.0</td>\n",
       "      <td>1.0</td>\n",
       "      <td>0.0</td>\n",
       "      <td>...</td>\n",
       "      <td>1.0</td>\n",
       "      <td>1.0</td>\n",
       "      <td>1.0</td>\n",
       "      <td>200.0</td>\n",
       "      <td>23.0</td>\n",
       "      <td>1.0</td>\n",
       "      <td>1</td>\n",
       "      <td>1</td>\n",
       "      <td>2640.0</td>\n",
       "      <td>458.11</td>\n",
       "    </tr>\n",
       "    <tr>\n",
       "      <th>4</th>\n",
       "      <td>10</td>\n",
       "      <td>1</td>\n",
       "      <td>Hispanic</td>\n",
       "      <td>1.0</td>\n",
       "      <td>0.0</td>\n",
       "      <td>1.0</td>\n",
       "      <td>0.0</td>\n",
       "      <td>1.0</td>\n",
       "      <td>1.0</td>\n",
       "      <td>0.0</td>\n",
       "      <td>...</td>\n",
       "      <td>1.0</td>\n",
       "      <td>1.0</td>\n",
       "      <td>1.0</td>\n",
       "      <td>250.0</td>\n",
       "      <td>35.0</td>\n",
       "      <td>1.0</td>\n",
       "      <td>1</td>\n",
       "      <td>1</td>\n",
       "      <td>1095.0</td>\n",
       "      <td>613.89</td>\n",
       "    </tr>\n",
       "  </tbody>\n",
       "</table>\n",
       "<p>5 rows × 24 columns</p>\n",
       "</div>"
      ],
      "text/plain": [
       "   grade  male   raceeth  preschool  expectBachelors  motherHS  \\\n",
       "0     11     1       NaN        NaN              0.0       NaN   \n",
       "1     11     1     White        0.0              0.0       1.0   \n",
       "2      9     1     White        1.0              1.0       1.0   \n",
       "3     10     0     Black        1.0              1.0       0.0   \n",
       "4     10     1  Hispanic        1.0              0.0       1.0   \n",
       "\n",
       "   motherBachelors  motherWork  fatherHS  fatherBachelors      ...       \\\n",
       "0              NaN         1.0       NaN              NaN      ...        \n",
       "1              1.0         1.0       1.0              0.0      ...        \n",
       "2              1.0         1.0       1.0              NaN      ...        \n",
       "3              0.0         1.0       1.0              0.0      ...        \n",
       "4              0.0         1.0       1.0              0.0      ...        \n",
       "\n",
       "   englishAtHome  computerForSchoolwork  read30MinsADay  \\\n",
       "0            0.0                    1.0             0.0   \n",
       "1            1.0                    1.0             1.0   \n",
       "2            1.0                    1.0             0.0   \n",
       "3            1.0                    1.0             1.0   \n",
       "4            1.0                    1.0             1.0   \n",
       "\n",
       "   minutesPerWeekEnglish  studentsInEnglish  schoolHasLibrary  publicSchool  \\\n",
       "0                  225.0                NaN               1.0             1   \n",
       "1                  450.0               25.0               1.0             1   \n",
       "2                  250.0               28.0               1.0             1   \n",
       "3                  200.0               23.0               1.0             1   \n",
       "4                  250.0               35.0               1.0             1   \n",
       "\n",
       "   urban  schoolSize  readingScore  \n",
       "0      1       673.0        476.00  \n",
       "1      0      1173.0        575.01  \n",
       "2      0      1233.0        554.81  \n",
       "3      1      2640.0        458.11  \n",
       "4      1      1095.0        613.89  \n",
       "\n",
       "[5 rows x 24 columns]"
      ]
     },
     "execution_count": 139,
     "metadata": {},
     "output_type": "execute_result"
    }
   ],
   "source": [
    "dataset.head()"
   ]
  },
  {
   "cell_type": "code",
   "execution_count": 118,
   "metadata": {},
   "outputs": [
    {
     "data": {
      "text/html": [
       "<div>\n",
       "<style>\n",
       "    .dataframe thead tr:only-child th {\n",
       "        text-align: right;\n",
       "    }\n",
       "\n",
       "    .dataframe thead th {\n",
       "        text-align: left;\n",
       "    }\n",
       "\n",
       "    .dataframe tbody tr th {\n",
       "        vertical-align: top;\n",
       "    }\n",
       "</style>\n",
       "<table border=\"1\" class=\"dataframe\">\n",
       "  <thead>\n",
       "    <tr style=\"text-align: right;\">\n",
       "      <th></th>\n",
       "      <th>grade</th>\n",
       "      <th>male</th>\n",
       "      <th>preschool</th>\n",
       "      <th>expectBachelors</th>\n",
       "      <th>motherHS</th>\n",
       "      <th>motherBachelors</th>\n",
       "      <th>motherWork</th>\n",
       "      <th>fatherHS</th>\n",
       "      <th>fatherBachelors</th>\n",
       "      <th>fatherWork</th>\n",
       "      <th>...</th>\n",
       "      <th>englishAtHome</th>\n",
       "      <th>computerForSchoolwork</th>\n",
       "      <th>read30MinsADay</th>\n",
       "      <th>minutesPerWeekEnglish</th>\n",
       "      <th>studentsInEnglish</th>\n",
       "      <th>schoolHasLibrary</th>\n",
       "      <th>publicSchool</th>\n",
       "      <th>urban</th>\n",
       "      <th>schoolSize</th>\n",
       "      <th>readingScore</th>\n",
       "    </tr>\n",
       "  </thead>\n",
       "  <tbody>\n",
       "    <tr>\n",
       "      <th>count</th>\n",
       "      <td>3663.000000</td>\n",
       "      <td>3663.000000</td>\n",
       "      <td>3607.000000</td>\n",
       "      <td>3601.000000</td>\n",
       "      <td>3566.000000</td>\n",
       "      <td>3266.000000</td>\n",
       "      <td>3570.000000</td>\n",
       "      <td>3418.000000</td>\n",
       "      <td>3094.000000</td>\n",
       "      <td>3430.000000</td>\n",
       "      <td>...</td>\n",
       "      <td>3592.000000</td>\n",
       "      <td>3598.000000</td>\n",
       "      <td>3629.000000</td>\n",
       "      <td>3477.000000</td>\n",
       "      <td>3414.000000</td>\n",
       "      <td>3520.000000</td>\n",
       "      <td>3663.000000</td>\n",
       "      <td>3663.000000</td>\n",
       "      <td>3501.000000</td>\n",
       "      <td>3663.000000</td>\n",
       "    </tr>\n",
       "    <tr>\n",
       "      <th>mean</th>\n",
       "      <td>10.089817</td>\n",
       "      <td>0.511057</td>\n",
       "      <td>0.722761</td>\n",
       "      <td>0.785893</td>\n",
       "      <td>0.879978</td>\n",
       "      <td>0.348132</td>\n",
       "      <td>0.734454</td>\n",
       "      <td>0.859274</td>\n",
       "      <td>0.331933</td>\n",
       "      <td>0.853061</td>\n",
       "      <td>...</td>\n",
       "      <td>0.871659</td>\n",
       "      <td>0.899389</td>\n",
       "      <td>0.289887</td>\n",
       "      <td>266.208225</td>\n",
       "      <td>24.499414</td>\n",
       "      <td>0.967614</td>\n",
       "      <td>0.933934</td>\n",
       "      <td>0.384930</td>\n",
       "      <td>1369.316767</td>\n",
       "      <td>497.911403</td>\n",
       "    </tr>\n",
       "    <tr>\n",
       "      <th>std</th>\n",
       "      <td>0.554375</td>\n",
       "      <td>0.499946</td>\n",
       "      <td>0.447697</td>\n",
       "      <td>0.410259</td>\n",
       "      <td>0.325033</td>\n",
       "      <td>0.476451</td>\n",
       "      <td>0.441685</td>\n",
       "      <td>0.347789</td>\n",
       "      <td>0.470983</td>\n",
       "      <td>0.354096</td>\n",
       "      <td>...</td>\n",
       "      <td>0.334515</td>\n",
       "      <td>0.300855</td>\n",
       "      <td>0.453772</td>\n",
       "      <td>148.403525</td>\n",
       "      <td>7.184348</td>\n",
       "      <td>0.177049</td>\n",
       "      <td>0.248431</td>\n",
       "      <td>0.486645</td>\n",
       "      <td>869.983618</td>\n",
       "      <td>95.515153</td>\n",
       "    </tr>\n",
       "    <tr>\n",
       "      <th>min</th>\n",
       "      <td>8.000000</td>\n",
       "      <td>0.000000</td>\n",
       "      <td>0.000000</td>\n",
       "      <td>0.000000</td>\n",
       "      <td>0.000000</td>\n",
       "      <td>0.000000</td>\n",
       "      <td>0.000000</td>\n",
       "      <td>0.000000</td>\n",
       "      <td>0.000000</td>\n",
       "      <td>0.000000</td>\n",
       "      <td>...</td>\n",
       "      <td>0.000000</td>\n",
       "      <td>0.000000</td>\n",
       "      <td>0.000000</td>\n",
       "      <td>0.000000</td>\n",
       "      <td>1.000000</td>\n",
       "      <td>0.000000</td>\n",
       "      <td>0.000000</td>\n",
       "      <td>0.000000</td>\n",
       "      <td>100.000000</td>\n",
       "      <td>168.550000</td>\n",
       "    </tr>\n",
       "    <tr>\n",
       "      <th>25%</th>\n",
       "      <td>10.000000</td>\n",
       "      <td>0.000000</td>\n",
       "      <td>0.000000</td>\n",
       "      <td>1.000000</td>\n",
       "      <td>1.000000</td>\n",
       "      <td>0.000000</td>\n",
       "      <td>0.000000</td>\n",
       "      <td>1.000000</td>\n",
       "      <td>0.000000</td>\n",
       "      <td>1.000000</td>\n",
       "      <td>...</td>\n",
       "      <td>1.000000</td>\n",
       "      <td>1.000000</td>\n",
       "      <td>0.000000</td>\n",
       "      <td>225.000000</td>\n",
       "      <td>20.000000</td>\n",
       "      <td>1.000000</td>\n",
       "      <td>1.000000</td>\n",
       "      <td>0.000000</td>\n",
       "      <td>712.000000</td>\n",
       "      <td>431.705000</td>\n",
       "    </tr>\n",
       "    <tr>\n",
       "      <th>50%</th>\n",
       "      <td>10.000000</td>\n",
       "      <td>1.000000</td>\n",
       "      <td>1.000000</td>\n",
       "      <td>1.000000</td>\n",
       "      <td>1.000000</td>\n",
       "      <td>0.000000</td>\n",
       "      <td>1.000000</td>\n",
       "      <td>1.000000</td>\n",
       "      <td>0.000000</td>\n",
       "      <td>1.000000</td>\n",
       "      <td>...</td>\n",
       "      <td>1.000000</td>\n",
       "      <td>1.000000</td>\n",
       "      <td>0.000000</td>\n",
       "      <td>250.000000</td>\n",
       "      <td>25.000000</td>\n",
       "      <td>1.000000</td>\n",
       "      <td>1.000000</td>\n",
       "      <td>0.000000</td>\n",
       "      <td>1212.000000</td>\n",
       "      <td>499.660000</td>\n",
       "    </tr>\n",
       "    <tr>\n",
       "      <th>75%</th>\n",
       "      <td>10.000000</td>\n",
       "      <td>1.000000</td>\n",
       "      <td>1.000000</td>\n",
       "      <td>1.000000</td>\n",
       "      <td>1.000000</td>\n",
       "      <td>1.000000</td>\n",
       "      <td>1.000000</td>\n",
       "      <td>1.000000</td>\n",
       "      <td>1.000000</td>\n",
       "      <td>1.000000</td>\n",
       "      <td>...</td>\n",
       "      <td>1.000000</td>\n",
       "      <td>1.000000</td>\n",
       "      <td>1.000000</td>\n",
       "      <td>300.000000</td>\n",
       "      <td>30.000000</td>\n",
       "      <td>1.000000</td>\n",
       "      <td>1.000000</td>\n",
       "      <td>1.000000</td>\n",
       "      <td>1900.000000</td>\n",
       "      <td>566.230000</td>\n",
       "    </tr>\n",
       "    <tr>\n",
       "      <th>max</th>\n",
       "      <td>12.000000</td>\n",
       "      <td>1.000000</td>\n",
       "      <td>1.000000</td>\n",
       "      <td>1.000000</td>\n",
       "      <td>1.000000</td>\n",
       "      <td>1.000000</td>\n",
       "      <td>1.000000</td>\n",
       "      <td>1.000000</td>\n",
       "      <td>1.000000</td>\n",
       "      <td>1.000000</td>\n",
       "      <td>...</td>\n",
       "      <td>1.000000</td>\n",
       "      <td>1.000000</td>\n",
       "      <td>1.000000</td>\n",
       "      <td>2400.000000</td>\n",
       "      <td>75.000000</td>\n",
       "      <td>1.000000</td>\n",
       "      <td>1.000000</td>\n",
       "      <td>1.000000</td>\n",
       "      <td>6694.000000</td>\n",
       "      <td>746.000000</td>\n",
       "    </tr>\n",
       "  </tbody>\n",
       "</table>\n",
       "<p>8 rows × 23 columns</p>\n",
       "</div>"
      ],
      "text/plain": [
       "             grade         male    preschool  expectBachelors     motherHS  \\\n",
       "count  3663.000000  3663.000000  3607.000000      3601.000000  3566.000000   \n",
       "mean     10.089817     0.511057     0.722761         0.785893     0.879978   \n",
       "std       0.554375     0.499946     0.447697         0.410259     0.325033   \n",
       "min       8.000000     0.000000     0.000000         0.000000     0.000000   \n",
       "25%      10.000000     0.000000     0.000000         1.000000     1.000000   \n",
       "50%      10.000000     1.000000     1.000000         1.000000     1.000000   \n",
       "75%      10.000000     1.000000     1.000000         1.000000     1.000000   \n",
       "max      12.000000     1.000000     1.000000         1.000000     1.000000   \n",
       "\n",
       "       motherBachelors   motherWork     fatherHS  fatherBachelors  \\\n",
       "count      3266.000000  3570.000000  3418.000000      3094.000000   \n",
       "mean          0.348132     0.734454     0.859274         0.331933   \n",
       "std           0.476451     0.441685     0.347789         0.470983   \n",
       "min           0.000000     0.000000     0.000000         0.000000   \n",
       "25%           0.000000     0.000000     1.000000         0.000000   \n",
       "50%           0.000000     1.000000     1.000000         0.000000   \n",
       "75%           1.000000     1.000000     1.000000         1.000000   \n",
       "max           1.000000     1.000000     1.000000         1.000000   \n",
       "\n",
       "        fatherWork      ...       englishAtHome  computerForSchoolwork  \\\n",
       "count  3430.000000      ...         3592.000000            3598.000000   \n",
       "mean      0.853061      ...            0.871659               0.899389   \n",
       "std       0.354096      ...            0.334515               0.300855   \n",
       "min       0.000000      ...            0.000000               0.000000   \n",
       "25%       1.000000      ...            1.000000               1.000000   \n",
       "50%       1.000000      ...            1.000000               1.000000   \n",
       "75%       1.000000      ...            1.000000               1.000000   \n",
       "max       1.000000      ...            1.000000               1.000000   \n",
       "\n",
       "       read30MinsADay  minutesPerWeekEnglish  studentsInEnglish  \\\n",
       "count     3629.000000            3477.000000        3414.000000   \n",
       "mean         0.289887             266.208225          24.499414   \n",
       "std          0.453772             148.403525           7.184348   \n",
       "min          0.000000               0.000000           1.000000   \n",
       "25%          0.000000             225.000000          20.000000   \n",
       "50%          0.000000             250.000000          25.000000   \n",
       "75%          1.000000             300.000000          30.000000   \n",
       "max          1.000000            2400.000000          75.000000   \n",
       "\n",
       "       schoolHasLibrary  publicSchool        urban   schoolSize  readingScore  \n",
       "count       3520.000000   3663.000000  3663.000000  3501.000000   3663.000000  \n",
       "mean           0.967614      0.933934     0.384930  1369.316767    497.911403  \n",
       "std            0.177049      0.248431     0.486645   869.983618     95.515153  \n",
       "min            0.000000      0.000000     0.000000   100.000000    168.550000  \n",
       "25%            1.000000      1.000000     0.000000   712.000000    431.705000  \n",
       "50%            1.000000      1.000000     0.000000  1212.000000    499.660000  \n",
       "75%            1.000000      1.000000     1.000000  1900.000000    566.230000  \n",
       "max            1.000000      1.000000     1.000000  6694.000000    746.000000  \n",
       "\n",
       "[8 rows x 23 columns]"
      ]
     },
     "execution_count": 118,
     "metadata": {},
     "output_type": "execute_result"
    }
   ],
   "source": [
    "dataset.describe()"
   ]
  },
  {
   "cell_type": "code",
   "execution_count": 122,
   "metadata": {},
   "outputs": [
    {
     "name": "stdout",
     "output_type": "stream",
     "text": [
      "<class 'pandas.core.frame.DataFrame'>\n",
      "RangeIndex: 3663 entries, 0 to 3662\n",
      "Data columns (total 24 columns):\n",
      "grade                    3663 non-null int64\n",
      "male                     3663 non-null int64\n",
      "raceeth                  3628 non-null object\n",
      "preschool                3607 non-null float64\n",
      "expectBachelors          3601 non-null float64\n",
      "motherHS                 3566 non-null float64\n",
      "motherBachelors          3266 non-null float64\n",
      "motherWork               3570 non-null float64\n",
      "fatherHS                 3418 non-null float64\n",
      "fatherBachelors          3094 non-null float64\n",
      "fatherWork               3430 non-null float64\n",
      "selfBornUS               3594 non-null float64\n",
      "motherBornUS             3592 non-null float64\n",
      "fatherBornUS             3550 non-null float64\n",
      "englishAtHome            3592 non-null float64\n",
      "computerForSchoolwork    3598 non-null float64\n",
      "read30MinsADay           3629 non-null float64\n",
      "minutesPerWeekEnglish    3477 non-null float64\n",
      "studentsInEnglish        3414 non-null float64\n",
      "schoolHasLibrary         3520 non-null float64\n",
      "publicSchool             3663 non-null int64\n",
      "urban                    3663 non-null int64\n",
      "schoolSize               3501 non-null float64\n",
      "readingScore             3663 non-null float64\n",
      "dtypes: float64(19), int64(4), object(1)\n",
      "memory usage: 686.9+ KB\n"
     ]
    }
   ],
   "source": [
    "dataset.info()"
   ]
  },
  {
   "cell_type": "code",
   "execution_count": 140,
   "metadata": {},
   "outputs": [
    {
     "data": {
      "text/plain": [
       "True"
      ]
     },
     "execution_count": 140,
     "metadata": {},
     "output_type": "execute_result"
    }
   ],
   "source": [
    "dataset.isnull().values.any() ## there are NULL values"
   ]
  },
  {
   "cell_type": "code",
   "execution_count": 141,
   "metadata": {},
   "outputs": [
    {
     "data": {
      "text/plain": [
       "grade                      0\n",
       "male                       0\n",
       "raceeth                   35\n",
       "preschool                 56\n",
       "expectBachelors           62\n",
       "motherHS                  97\n",
       "motherBachelors          397\n",
       "motherWork                93\n",
       "fatherHS                 245\n",
       "fatherBachelors          569\n",
       "fatherWork               233\n",
       "selfBornUS                69\n",
       "motherBornUS              71\n",
       "fatherBornUS             113\n",
       "englishAtHome             71\n",
       "computerForSchoolwork     65\n",
       "read30MinsADay            34\n",
       "minutesPerWeekEnglish    186\n",
       "studentsInEnglish        249\n",
       "schoolHasLibrary         143\n",
       "publicSchool               0\n",
       "urban                      0\n",
       "schoolSize               162\n",
       "readingScore               0\n",
       "dtype: int64"
      ]
     },
     "execution_count": 141,
     "metadata": {},
     "output_type": "execute_result"
    }
   ],
   "source": [
    "dataset.isnull().sum()  ## COLUMN-WISE COUNT OF MISSING VALUES"
   ]
  },
  {
   "cell_type": "markdown",
   "metadata": {},
   "source": [
    "## 5. Impute Missing Values\n",
    "Imputing refers to using a model to replace missing values.\n",
    "\n",
    "There are many options we could consider when replacing a missing value, for example:\n",
    "\n",
    "A constant value that has meaning within the domain, such as 0, distinct from all other values.\n",
    "A value from another randomly selected record.\n",
    "A mean, median or mode value for the column.\n",
    "A value estimated by another predictive model.\n",
    "Any imputing performed on the training dataset will have to be performed on new data in the future when predictions are needed from the finalized model. This needs to be taken into consideration when choosing how to impute the missing values.\n",
    "\n",
    "For example, if you choose to impute with mean column values, these mean column values will need to be stored to file for later use on new data that has missing values.\n",
    "\n",
    "Pandas provides the fillna() function for replacing missing values with a specific value.\n",
    "\n",
    "For example, we can use fillna() to replace missing values with the mean value for each column, as follows:"
   ]
  },
  {
   "cell_type": "code",
   "execution_count": 161,
   "metadata": {},
   "outputs": [],
   "source": [
    "# fill missing values with mean column values\n",
    "dataset.schoolSize.fillna(dataset.schoolSize.mean(),inplace=True)\n",
    "dataset.minutesPerWeekEnglish.fillna(dataset.minutesPerWeekEnglish.mean(),inplace=True)\n",
    "dataset.studentsInEnglish.fillna(dataset.studentsInEnglish.mean(),inplace=True)"
   ]
  },
  {
   "cell_type": "code",
   "execution_count": 164,
   "metadata": {},
   "outputs": [
    {
     "data": {
      "text/plain": [
       "grade                      0\n",
       "male                       0\n",
       "raceeth                   34\n",
       "preschool                 55\n",
       "expectBachelors           62\n",
       "motherHS                  97\n",
       "motherBachelors          397\n",
       "motherWork                93\n",
       "fatherHS                 245\n",
       "fatherBachelors          569\n",
       "fatherWork               233\n",
       "selfBornUS                69\n",
       "motherBornUS              71\n",
       "fatherBornUS             113\n",
       "englishAtHome             71\n",
       "computerForSchoolwork     65\n",
       "read30MinsADay            34\n",
       "minutesPerWeekEnglish      0\n",
       "studentsInEnglish          0\n",
       "schoolHasLibrary         143\n",
       "publicSchool               0\n",
       "urban                      0\n",
       "schoolSize                 0\n",
       "readingScore               0\n",
       "dtype: int64"
      ]
     },
     "execution_count": 164,
     "metadata": {},
     "output_type": "execute_result"
    }
   ],
   "source": [
    "# count the number of NaN values in each column\n",
    "dataset.isnull().sum()"
   ]
  },
  {
   "cell_type": "code",
   "execution_count": 174,
   "metadata": {},
   "outputs": [],
   "source": [
    "dataset.raceeth.fillna(dataset.raceeth.value_counts().idxmax(),inplace=True)\n",
    "dataset.preschool.fillna(dataset.preschool.value_counts().idxmax(),inplace=True)\n",
    "dataset.expectBachelors.fillna(dataset.expectBachelors.value_counts().idxmax(),inplace=True)\n",
    "dataset.motherHS.fillna(dataset.motherHS.value_counts().idxmax(),inplace=True)\n",
    "dataset.motherBachelors.fillna(dataset.motherBachelors.value_counts().idxmax(),inplace=True)\n",
    "dataset.motherWork.fillna(dataset.motherWork.value_counts().idxmax(),inplace=True)\n",
    "dataset.fatherHS.fillna(dataset.fatherHS.value_counts().idxmax(),inplace=True)\n",
    "dataset.fatherBachelors.fillna(dataset.fatherBachelors.value_counts().idxmax(),inplace=True)\n",
    "dataset.fatherWork.fillna(dataset.fatherWork.value_counts().idxmax(),inplace=True)\n",
    "dataset.selfBornUS.fillna(dataset.selfBornUS.value_counts().idxmax(),inplace=True)\n",
    "dataset.motherBornUS.fillna(dataset.motherBornUS.value_counts().idxmax(),inplace=True)\n",
    "dataset.fatherBornUS.fillna(dataset.fatherBornUS.value_counts().idxmax(),inplace=True)\n",
    "dataset.englishAtHome .fillna(dataset.englishAtHome.value_counts().idxmax(),inplace=True)\n",
    "dataset.computerForSchoolwork.fillna(dataset.computerForSchoolwork.value_counts().idxmax(),inplace=True)\n",
    "dataset.read30MinsADay.fillna(dataset.read30MinsADay.value_counts().idxmax(),inplace=True)\n",
    "dataset.schoolHasLibrary .fillna(dataset.schoolHasLibrary.value_counts().idxmax(),inplace=True)"
   ]
  },
  {
   "cell_type": "code",
   "execution_count": 175,
   "metadata": {},
   "outputs": [
    {
     "data": {
      "text/plain": [
       "grade                    0\n",
       "male                     0\n",
       "raceeth                  0\n",
       "preschool                0\n",
       "expectBachelors          0\n",
       "motherHS                 0\n",
       "motherBachelors          0\n",
       "motherWork               0\n",
       "fatherHS                 0\n",
       "fatherBachelors          0\n",
       "fatherWork               0\n",
       "selfBornUS               0\n",
       "motherBornUS             0\n",
       "fatherBornUS             0\n",
       "englishAtHome            0\n",
       "computerForSchoolwork    0\n",
       "read30MinsADay           0\n",
       "minutesPerWeekEnglish    0\n",
       "studentsInEnglish        0\n",
       "schoolHasLibrary         0\n",
       "publicSchool             0\n",
       "urban                    0\n",
       "schoolSize               0\n",
       "readingScore             0\n",
       "dtype: int64"
      ]
     },
     "execution_count": 175,
     "metadata": {},
     "output_type": "execute_result"
    }
   ],
   "source": [
    "# count the number of NaN values in each column\n",
    "dataset.isnull().sum()"
   ]
  },
  {
   "cell_type": "markdown",
   "metadata": {},
   "source": [
    "IN ABOVE CASE , RACEETH IS A CATEGORICAL VARIABLE WITH NA values . For categorical variable , we can't perform mean/median function"
   ]
  },
  {
   "cell_type": "code",
   "execution_count": 137,
   "metadata": {},
   "outputs": [
    {
     "data": {
      "text/plain": [
       "0    White\n",
       "dtype: object"
      ]
     },
     "execution_count": 137,
     "metadata": {},
     "output_type": "execute_result"
    }
   ],
   "source": [
    "dataset.raceeth.mode()"
   ]
  },
  {
   "cell_type": "code",
   "execution_count": 176,
   "metadata": {
    "collapsed": true
   },
   "outputs": [],
   "source": [
    "## for imputing both numerical and categorical data "
   ]
  },
  {
   "cell_type": "code",
   "execution_count": 177,
   "metadata": {
    "collapsed": true
   },
   "outputs": [],
   "source": [
    "import pandas as pd\n",
    "import numpy as np\n",
    "\n",
    "from sklearn.base import TransformerMixin\n",
    "\n",
    "class DataFrameImputer(TransformerMixin):\n",
    "\n",
    "    def __init__(self):\n",
    "        \"\"\"Impute missing values.\n",
    "\n",
    "        Columns of dtype object are imputed with the most frequent value \n",
    "        in column.\n",
    "\n",
    "        Columns of other types are imputed with mean of column.\n",
    "\n",
    "        \"\"\"\n",
    "    def fit(self,X, y=None):\n",
    "\n",
    "        self.fill = pd.Series([X[c].value_counts().index[0]\n",
    "            if X[c].dtype == np.dtype('O') else X[c].mean() for c in X],\n",
    "            index=X.columns)\n",
    "\n",
    "        return self\n",
    "\n",
    "    def transform(self,X, y=None):\n",
    "        return X.fillna(self.fill)\n"
   ]
  },
  {
   "cell_type": "code",
   "execution_count": null,
   "metadata": {
    "collapsed": true
   },
   "outputs": [],
   "source": [
    "\n",
    "data = [\n",
    "    ['a', 1, 2],\n",
    "    ['b', 1, 1],\n",
    "    ['b', 2, 2],\n",
    "    [np.nan, np.nan, np.nan]\n",
    "]\n",
    "\n",
    "X = pd.DataFrame(data)\n",
    "xt = DataFrameImputer().fit_transform(X)"
   ]
  }
 ],
 "metadata": {
  "kernelspec": {
   "display_name": "Python 3",
   "language": "python",
   "name": "python3"
  },
  "language_info": {
   "codemirror_mode": {
    "name": "ipython",
    "version": 3
   },
   "file_extension": ".py",
   "mimetype": "text/x-python",
   "name": "python",
   "nbconvert_exporter": "python",
   "pygments_lexer": "ipython3",
   "version": "3.6.3"
  }
 },
 "nbformat": 4,
 "nbformat_minor": 2
}
