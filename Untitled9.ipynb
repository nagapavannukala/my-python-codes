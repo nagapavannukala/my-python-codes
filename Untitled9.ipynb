{
 "cells": [
  {
   "cell_type": "code",
   "execution_count": 1,
   "metadata": {
    "collapsed": true
   },
   "outputs": [],
   "source": [
    "import numpy as np\n",
    "import pandas as pd"
   ]
  },
  {
   "cell_type": "code",
   "execution_count": 2,
   "metadata": {
    "collapsed": true
   },
   "outputs": [],
   "source": [
    "from sklearn.neighbors import KNeighborsClassifier\n",
    "from scipy.stats import zscore\n",
    "from sklearn.preprocessing import Imputer\n",
    "from sklearn.metrics import accuracy_score\n",
    "import seaborn as sns\n",
    "%matplotlib inline "
   ]
  },
  {
   "cell_type": "code",
   "execution_count": 40,
   "metadata": {
    "collapsed": true
   },
   "outputs": [],
   "source": [
    "X = [0, 1, 2, 3]\n",
    "y = [0, 0, 1, 1]"
   ]
  },
  {
   "cell_type": "code",
   "execution_count": 18,
   "metadata": {
    "collapsed": true
   },
   "outputs": [],
   "source": [
    "def euclidean_dist(data_x, data_y):\n",
    "    if len(data_x) != len(data_y):\n",
    "        raise Exception('Data sets must be the same dimension')\n",
    "    dimensions = len(data_x)\n",
    "    sum_dims = 0\n",
    "    for dim in range(0, dimensions):\n",
    "        sum_dims += (data_x[dim] - data_y[dim])**2\n",
    "\n",
    "    return sqrt(sum_dims)"
   ]
  },
  {
   "cell_type": "code",
   "execution_count": null,
   "metadata": {
    "collapsed": true
   },
   "outputs": [],
   "source": []
  },
  {
   "cell_type": "code",
   "execution_count": null,
   "metadata": {
    "collapsed": true
   },
   "outputs": [],
   "source": []
  },
  {
   "cell_type": "code",
   "execution_count": null,
   "metadata": {
    "collapsed": true
   },
   "outputs": [],
   "source": []
  },
  {
   "cell_type": "code",
   "execution_count": 22,
   "metadata": {},
   "outputs": [
    {
     "data": {
      "text/plain": [
       "0"
      ]
     },
     "execution_count": 22,
     "metadata": {},
     "output_type": "execute_result"
    }
   ],
   "source": [
    "X[0][0]"
   ]
  },
  {
   "cell_type": "code",
   "execution_count": 23,
   "metadata": {},
   "outputs": [
    {
     "data": {
      "text/plain": [
       "[2.5]"
      ]
     },
     "execution_count": 23,
     "metadata": {},
     "output_type": "execute_result"
    }
   ],
   "source": [
    "x = [2.5]\n",
    "x"
   ]
  },
  {
   "cell_type": "code",
   "execution_count": 5,
   "metadata": {},
   "outputs": [
    {
     "data": {
      "text/plain": [
       "[0, 0, 1, 1]"
      ]
     },
     "execution_count": 5,
     "metadata": {},
     "output_type": "execute_result"
    }
   ],
   "source": [
    "y"
   ]
  },
  {
   "cell_type": "code",
   "execution_count": 6,
   "metadata": {
    "collapsed": true
   },
   "outputs": [],
   "source": [
    "from scipy.spatial import distance"
   ]
  },
  {
   "cell_type": "code",
   "execution_count": 31,
   "metadata": {},
   "outputs": [
    {
     "data": {
      "text/plain": [
       "[2.5, 1.5, 0.5, 0.5]"
      ]
     },
     "execution_count": 31,
     "metadata": {},
     "output_type": "execute_result"
    }
   ],
   "source": [
    "euc = [distance.euclidean(X[i],x) for i in X ]\n",
    "euc"
   ]
  },
  {
   "cell_type": "code",
   "execution_count": 32,
   "metadata": {},
   "outputs": [
    {
     "data": {
      "text/html": [
       "<div>\n",
       "<style>\n",
       "    .dataframe thead tr:only-child th {\n",
       "        text-align: right;\n",
       "    }\n",
       "\n",
       "    .dataframe thead th {\n",
       "        text-align: left;\n",
       "    }\n",
       "\n",
       "    .dataframe tbody tr th {\n",
       "        vertical-align: top;\n",
       "    }\n",
       "</style>\n",
       "<table border=\"1\" class=\"dataframe\">\n",
       "  <thead>\n",
       "    <tr style=\"text-align: right;\">\n",
       "      <th></th>\n",
       "      <th>0</th>\n",
       "    </tr>\n",
       "  </thead>\n",
       "  <tbody>\n",
       "    <tr>\n",
       "      <th>0</th>\n",
       "      <td>2.5</td>\n",
       "    </tr>\n",
       "    <tr>\n",
       "      <th>0</th>\n",
       "      <td>1.5</td>\n",
       "    </tr>\n",
       "    <tr>\n",
       "      <th>1</th>\n",
       "      <td>0.5</td>\n",
       "    </tr>\n",
       "    <tr>\n",
       "      <th>1</th>\n",
       "      <td>0.5</td>\n",
       "    </tr>\n",
       "  </tbody>\n",
       "</table>\n",
       "</div>"
      ],
      "text/plain": [
       "     0\n",
       "0  2.5\n",
       "0  1.5\n",
       "1  0.5\n",
       "1  0.5"
      ]
     },
     "execution_count": 32,
     "metadata": {},
     "output_type": "execute_result"
    }
   ],
   "source": [
    "dt = pd.DataFrame(euc,y)\n",
    "dt"
   ]
  },
  {
   "cell_type": "code",
   "execution_count": 33,
   "metadata": {
    "scrolled": true
   },
   "outputs": [
    {
     "data": {
      "text/plain": [
       "array([[ 2.5],\n",
       "       [ 1.5],\n",
       "       [ 0.5],\n",
       "       [ 0.5]])"
      ]
     },
     "execution_count": 33,
     "metadata": {},
     "output_type": "execute_result"
    }
   ],
   "source": [
    "np.sort(dt, axis=-1, kind='quicksort')"
   ]
  },
  {
   "cell_type": "code",
   "execution_count": 38,
   "metadata": {},
   "outputs": [
    {
     "data": {
      "text/plain": [
       "[0, 1, 2, 3]"
      ]
     },
     "execution_count": 38,
     "metadata": {},
     "output_type": "execute_result"
    }
   ],
   "source": [
    "X"
   ]
  },
  {
   "cell_type": "code",
   "execution_count": 36,
   "metadata": {
    "collapsed": true
   },
   "outputs": [],
   "source": [
    "def dist(X,y):\n",
    "    for i in X[:\n",
    "        for j in y[j]:\n",
    "            dist = np.abs(X[i]-j[i])\n",
    "    return dist"
   ]
  },
  {
   "cell_type": "code",
   "execution_count": 39,
   "metadata": {},
   "outputs": [
    {
     "ename": "UnboundLocalError",
     "evalue": "local variable 'i' referenced before assignment",
     "output_type": "error",
     "traceback": [
      "\u001b[1;31m---------------------------------------------------------------------------\u001b[0m",
      "\u001b[1;31mUnboundLocalError\u001b[0m                         Traceback (most recent call last)",
      "\u001b[1;32m<ipython-input-39-bc9554ae12e7>\u001b[0m in \u001b[0;36m<module>\u001b[1;34m()\u001b[0m\n\u001b[1;32m----> 1\u001b[1;33m \u001b[0mdist\u001b[0m\u001b[1;33m(\u001b[0m\u001b[0mX\u001b[0m\u001b[1;33m,\u001b[0m\u001b[0my\u001b[0m\u001b[1;33m)\u001b[0m\u001b[1;33m\u001b[0m\u001b[0m\n\u001b[0m",
      "\u001b[1;32m<ipython-input-36-cc22d01de720>\u001b[0m in \u001b[0;36mdist\u001b[1;34m(X, y)\u001b[0m\n\u001b[0;32m      1\u001b[0m \u001b[1;32mdef\u001b[0m \u001b[0mdist\u001b[0m\u001b[1;33m(\u001b[0m\u001b[0mX\u001b[0m\u001b[1;33m,\u001b[0m\u001b[0my\u001b[0m\u001b[1;33m)\u001b[0m\u001b[1;33m:\u001b[0m\u001b[1;33m\u001b[0m\u001b[0m\n\u001b[1;32m----> 2\u001b[1;33m     \u001b[1;32mfor\u001b[0m \u001b[0mi\u001b[0m \u001b[1;32min\u001b[0m \u001b[0mX\u001b[0m\u001b[1;33m[\u001b[0m\u001b[0mi\u001b[0m\u001b[1;33m]\u001b[0m\u001b[1;33m:\u001b[0m\u001b[1;33m\u001b[0m\u001b[0m\n\u001b[0m\u001b[0;32m      3\u001b[0m         \u001b[1;32mfor\u001b[0m \u001b[0mj\u001b[0m \u001b[1;32min\u001b[0m \u001b[0my\u001b[0m\u001b[1;33m[\u001b[0m\u001b[0mj\u001b[0m\u001b[1;33m]\u001b[0m\u001b[1;33m:\u001b[0m\u001b[1;33m\u001b[0m\u001b[0m\n\u001b[0;32m      4\u001b[0m             \u001b[0mdist\u001b[0m \u001b[1;33m=\u001b[0m \u001b[0mnp\u001b[0m\u001b[1;33m.\u001b[0m\u001b[0mabs\u001b[0m\u001b[1;33m(\u001b[0m\u001b[0mX\u001b[0m\u001b[1;33m[\u001b[0m\u001b[0mi\u001b[0m\u001b[1;33m]\u001b[0m\u001b[1;33m-\u001b[0m\u001b[0mj\u001b[0m\u001b[1;33m[\u001b[0m\u001b[0mi\u001b[0m\u001b[1;33m]\u001b[0m\u001b[1;33m)\u001b[0m\u001b[1;33m\u001b[0m\u001b[0m\n\u001b[0;32m      5\u001b[0m     \u001b[1;32mreturn\u001b[0m \u001b[0mdist\u001b[0m\u001b[1;33m\u001b[0m\u001b[0m\n",
      "\u001b[1;31mUnboundLocalError\u001b[0m: local variable 'i' referenced before assignment"
     ]
    }
   ],
   "source": [
    "dist(X,y)"
   ]
  },
  {
   "cell_type": "code",
   "execution_count": null,
   "metadata": {
    "collapsed": true
   },
   "outputs": [],
   "source": [
    "def knn(X[i],y):\n",
    "   sum = x + y\n",
    "   return sum\n"
   ]
  },
  {
   "cell_type": "code",
   "execution_count": null,
   "metadata": {
    "collapsed": true
   },
   "outputs": [],
   "source": []
  },
  {
   "cell_type": "code",
   "execution_count": null,
   "metadata": {
    "collapsed": true
   },
   "outputs": [],
   "source": []
  },
  {
   "cell_type": "code",
   "execution_count": null,
   "metadata": {
    "collapsed": true
   },
   "outputs": [],
   "source": []
  },
  {
   "cell_type": "code",
   "execution_count": 41,
   "metadata": {
    "collapsed": true
   },
   "outputs": [],
   "source": [
    "import numpy as np\n",
    "import pandas as pd"
   ]
  },
  {
   "cell_type": "code",
   "execution_count": 55,
   "metadata": {
    "collapsed": true
   },
   "outputs": [],
   "source": [
    "fin = pd.read_csv(\"fintech.data.txt\",sep=' ',,header=None)"
   ]
  },
  {
   "cell_type": "code",
   "execution_count": 56,
   "metadata": {},
   "outputs": [
    {
     "data": {
      "text/html": [
       "<div>\n",
       "<style>\n",
       "    .dataframe thead tr:only-child th {\n",
       "        text-align: right;\n",
       "    }\n",
       "\n",
       "    .dataframe thead th {\n",
       "        text-align: left;\n",
       "    }\n",
       "\n",
       "    .dataframe tbody tr th {\n",
       "        vertical-align: top;\n",
       "    }\n",
       "</style>\n",
       "<table border=\"1\" class=\"dataframe\">\n",
       "  <thead>\n",
       "    <tr style=\"text-align: right;\">\n",
       "      <th></th>\n",
       "      <th>0</th>\n",
       "      <th>1</th>\n",
       "      <th>2</th>\n",
       "      <th>3</th>\n",
       "      <th>4</th>\n",
       "      <th>5</th>\n",
       "      <th>6</th>\n",
       "      <th>7</th>\n",
       "      <th>8</th>\n",
       "      <th>9</th>\n",
       "      <th>...</th>\n",
       "      <th>11</th>\n",
       "      <th>12</th>\n",
       "      <th>13</th>\n",
       "      <th>14</th>\n",
       "      <th>15</th>\n",
       "      <th>16</th>\n",
       "      <th>17</th>\n",
       "      <th>18</th>\n",
       "      <th>19</th>\n",
       "      <th>20</th>\n",
       "    </tr>\n",
       "  </thead>\n",
       "  <tbody>\n",
       "    <tr>\n",
       "      <th>0</th>\n",
       "      <td>A11</td>\n",
       "      <td>6</td>\n",
       "      <td>A34</td>\n",
       "      <td>A43</td>\n",
       "      <td>1169</td>\n",
       "      <td>A65</td>\n",
       "      <td>A75</td>\n",
       "      <td>4</td>\n",
       "      <td>A93</td>\n",
       "      <td>A101</td>\n",
       "      <td>...</td>\n",
       "      <td>A121</td>\n",
       "      <td>67</td>\n",
       "      <td>A143</td>\n",
       "      <td>A152</td>\n",
       "      <td>2</td>\n",
       "      <td>A173</td>\n",
       "      <td>1</td>\n",
       "      <td>A192</td>\n",
       "      <td>A201</td>\n",
       "      <td>1</td>\n",
       "    </tr>\n",
       "    <tr>\n",
       "      <th>1</th>\n",
       "      <td>A12</td>\n",
       "      <td>48</td>\n",
       "      <td>A32</td>\n",
       "      <td>A43</td>\n",
       "      <td>5951</td>\n",
       "      <td>A61</td>\n",
       "      <td>A73</td>\n",
       "      <td>2</td>\n",
       "      <td>A92</td>\n",
       "      <td>A101</td>\n",
       "      <td>...</td>\n",
       "      <td>A121</td>\n",
       "      <td>22</td>\n",
       "      <td>A143</td>\n",
       "      <td>A152</td>\n",
       "      <td>1</td>\n",
       "      <td>A173</td>\n",
       "      <td>1</td>\n",
       "      <td>A191</td>\n",
       "      <td>A201</td>\n",
       "      <td>2</td>\n",
       "    </tr>\n",
       "    <tr>\n",
       "      <th>2</th>\n",
       "      <td>A14</td>\n",
       "      <td>12</td>\n",
       "      <td>A34</td>\n",
       "      <td>A46</td>\n",
       "      <td>2096</td>\n",
       "      <td>A61</td>\n",
       "      <td>A74</td>\n",
       "      <td>2</td>\n",
       "      <td>A93</td>\n",
       "      <td>A101</td>\n",
       "      <td>...</td>\n",
       "      <td>A121</td>\n",
       "      <td>49</td>\n",
       "      <td>A143</td>\n",
       "      <td>A152</td>\n",
       "      <td>1</td>\n",
       "      <td>A172</td>\n",
       "      <td>2</td>\n",
       "      <td>A191</td>\n",
       "      <td>A201</td>\n",
       "      <td>1</td>\n",
       "    </tr>\n",
       "    <tr>\n",
       "      <th>3</th>\n",
       "      <td>A11</td>\n",
       "      <td>42</td>\n",
       "      <td>A32</td>\n",
       "      <td>A42</td>\n",
       "      <td>7882</td>\n",
       "      <td>A61</td>\n",
       "      <td>A74</td>\n",
       "      <td>2</td>\n",
       "      <td>A93</td>\n",
       "      <td>A103</td>\n",
       "      <td>...</td>\n",
       "      <td>A122</td>\n",
       "      <td>45</td>\n",
       "      <td>A143</td>\n",
       "      <td>A153</td>\n",
       "      <td>1</td>\n",
       "      <td>A173</td>\n",
       "      <td>2</td>\n",
       "      <td>A191</td>\n",
       "      <td>A201</td>\n",
       "      <td>1</td>\n",
       "    </tr>\n",
       "    <tr>\n",
       "      <th>4</th>\n",
       "      <td>A11</td>\n",
       "      <td>24</td>\n",
       "      <td>A33</td>\n",
       "      <td>A40</td>\n",
       "      <td>4870</td>\n",
       "      <td>A61</td>\n",
       "      <td>A73</td>\n",
       "      <td>3</td>\n",
       "      <td>A93</td>\n",
       "      <td>A101</td>\n",
       "      <td>...</td>\n",
       "      <td>A124</td>\n",
       "      <td>53</td>\n",
       "      <td>A143</td>\n",
       "      <td>A153</td>\n",
       "      <td>2</td>\n",
       "      <td>A173</td>\n",
       "      <td>2</td>\n",
       "      <td>A191</td>\n",
       "      <td>A201</td>\n",
       "      <td>2</td>\n",
       "    </tr>\n",
       "  </tbody>\n",
       "</table>\n",
       "<p>5 rows × 21 columns</p>\n",
       "</div>"
      ],
      "text/plain": [
       "    0   1    2    3     4    5    6   7    8     9  ...    11  12    13    14  \\\n",
       "0  A11   6  A34  A43  1169  A65  A75   4  A93  A101 ...  A121  67  A143  A152   \n",
       "1  A12  48  A32  A43  5951  A61  A73   2  A92  A101 ...  A121  22  A143  A152   \n",
       "2  A14  12  A34  A46  2096  A61  A74   2  A93  A101 ...  A121  49  A143  A152   \n",
       "3  A11  42  A32  A42  7882  A61  A74   2  A93  A103 ...  A122  45  A143  A153   \n",
       "4  A11  24  A33  A40  4870  A61  A73   3  A93  A101 ...  A124  53  A143  A153   \n",
       "\n",
       "  15    16 17    18    19 20  \n",
       "0  2  A173  1  A192  A201  1  \n",
       "1  1  A173  1  A191  A201  2  \n",
       "2  1  A172  2  A191  A201  1  \n",
       "3  1  A173  2  A191  A201  1  \n",
       "4  2  A173  2  A191  A201  2  \n",
       "\n",
       "[5 rows x 21 columns]"
      ]
     },
     "execution_count": 56,
     "metadata": {},
     "output_type": "execute_result"
    }
   ],
   "source": [
    "fin.head()"
   ]
  },
  {
   "cell_type": "code",
   "execution_count": 59,
   "metadata": {
    "collapsed": true
   },
   "outputs": [],
   "source": [
    "col_names = ['Status_of_existing_checking_account','Duration_in_month','Credit_history','Purpose','Credit_amount','Savings account/bonds','Present_employment_since','Installment_rate','Personal_status_and_sex','Other_debtors/guarantors','Present_residence_since','Property','Age_in_years','Other_installment_plans','Housing','Number_of_existing_credits_at_this_bank','Job','No_of_ppl_maintenance','Telephone','foreign worker','Target']"
   ]
  },
  {
   "cell_type": "code",
   "execution_count": 60,
   "metadata": {
    "collapsed": true
   },
   "outputs": [],
   "source": [
    "fin.columns = col_names"
   ]
  },
  {
   "cell_type": "code",
   "execution_count": 61,
   "metadata": {},
   "outputs": [
    {
     "data": {
      "text/html": [
       "<div>\n",
       "<style>\n",
       "    .dataframe thead tr:only-child th {\n",
       "        text-align: right;\n",
       "    }\n",
       "\n",
       "    .dataframe thead th {\n",
       "        text-align: left;\n",
       "    }\n",
       "\n",
       "    .dataframe tbody tr th {\n",
       "        vertical-align: top;\n",
       "    }\n",
       "</style>\n",
       "<table border=\"1\" class=\"dataframe\">\n",
       "  <thead>\n",
       "    <tr style=\"text-align: right;\">\n",
       "      <th></th>\n",
       "      <th>Status_of_existing_checking_account</th>\n",
       "      <th>Duration_in_month</th>\n",
       "      <th>Credit_history</th>\n",
       "      <th>Purpose</th>\n",
       "      <th>Credit_amount</th>\n",
       "      <th>Savings account/bonds</th>\n",
       "      <th>Present_employment_since</th>\n",
       "      <th>Installment_rate</th>\n",
       "      <th>Personal_status_and_sex</th>\n",
       "      <th>Other_debtors/guarantors</th>\n",
       "      <th>...</th>\n",
       "      <th>Property</th>\n",
       "      <th>Age_in_years</th>\n",
       "      <th>Other_installment_plans</th>\n",
       "      <th>Housing</th>\n",
       "      <th>Number_of_existing_credits_at_this_bank</th>\n",
       "      <th>Job</th>\n",
       "      <th>No_of_ppl_maintenance</th>\n",
       "      <th>Telephone</th>\n",
       "      <th>foreign worker</th>\n",
       "      <th>Target</th>\n",
       "    </tr>\n",
       "  </thead>\n",
       "  <tbody>\n",
       "    <tr>\n",
       "      <th>0</th>\n",
       "      <td>A11</td>\n",
       "      <td>6</td>\n",
       "      <td>A34</td>\n",
       "      <td>A43</td>\n",
       "      <td>1169</td>\n",
       "      <td>A65</td>\n",
       "      <td>A75</td>\n",
       "      <td>4</td>\n",
       "      <td>A93</td>\n",
       "      <td>A101</td>\n",
       "      <td>...</td>\n",
       "      <td>A121</td>\n",
       "      <td>67</td>\n",
       "      <td>A143</td>\n",
       "      <td>A152</td>\n",
       "      <td>2</td>\n",
       "      <td>A173</td>\n",
       "      <td>1</td>\n",
       "      <td>A192</td>\n",
       "      <td>A201</td>\n",
       "      <td>1</td>\n",
       "    </tr>\n",
       "    <tr>\n",
       "      <th>1</th>\n",
       "      <td>A12</td>\n",
       "      <td>48</td>\n",
       "      <td>A32</td>\n",
       "      <td>A43</td>\n",
       "      <td>5951</td>\n",
       "      <td>A61</td>\n",
       "      <td>A73</td>\n",
       "      <td>2</td>\n",
       "      <td>A92</td>\n",
       "      <td>A101</td>\n",
       "      <td>...</td>\n",
       "      <td>A121</td>\n",
       "      <td>22</td>\n",
       "      <td>A143</td>\n",
       "      <td>A152</td>\n",
       "      <td>1</td>\n",
       "      <td>A173</td>\n",
       "      <td>1</td>\n",
       "      <td>A191</td>\n",
       "      <td>A201</td>\n",
       "      <td>2</td>\n",
       "    </tr>\n",
       "    <tr>\n",
       "      <th>2</th>\n",
       "      <td>A14</td>\n",
       "      <td>12</td>\n",
       "      <td>A34</td>\n",
       "      <td>A46</td>\n",
       "      <td>2096</td>\n",
       "      <td>A61</td>\n",
       "      <td>A74</td>\n",
       "      <td>2</td>\n",
       "      <td>A93</td>\n",
       "      <td>A101</td>\n",
       "      <td>...</td>\n",
       "      <td>A121</td>\n",
       "      <td>49</td>\n",
       "      <td>A143</td>\n",
       "      <td>A152</td>\n",
       "      <td>1</td>\n",
       "      <td>A172</td>\n",
       "      <td>2</td>\n",
       "      <td>A191</td>\n",
       "      <td>A201</td>\n",
       "      <td>1</td>\n",
       "    </tr>\n",
       "    <tr>\n",
       "      <th>3</th>\n",
       "      <td>A11</td>\n",
       "      <td>42</td>\n",
       "      <td>A32</td>\n",
       "      <td>A42</td>\n",
       "      <td>7882</td>\n",
       "      <td>A61</td>\n",
       "      <td>A74</td>\n",
       "      <td>2</td>\n",
       "      <td>A93</td>\n",
       "      <td>A103</td>\n",
       "      <td>...</td>\n",
       "      <td>A122</td>\n",
       "      <td>45</td>\n",
       "      <td>A143</td>\n",
       "      <td>A153</td>\n",
       "      <td>1</td>\n",
       "      <td>A173</td>\n",
       "      <td>2</td>\n",
       "      <td>A191</td>\n",
       "      <td>A201</td>\n",
       "      <td>1</td>\n",
       "    </tr>\n",
       "    <tr>\n",
       "      <th>4</th>\n",
       "      <td>A11</td>\n",
       "      <td>24</td>\n",
       "      <td>A33</td>\n",
       "      <td>A40</td>\n",
       "      <td>4870</td>\n",
       "      <td>A61</td>\n",
       "      <td>A73</td>\n",
       "      <td>3</td>\n",
       "      <td>A93</td>\n",
       "      <td>A101</td>\n",
       "      <td>...</td>\n",
       "      <td>A124</td>\n",
       "      <td>53</td>\n",
       "      <td>A143</td>\n",
       "      <td>A153</td>\n",
       "      <td>2</td>\n",
       "      <td>A173</td>\n",
       "      <td>2</td>\n",
       "      <td>A191</td>\n",
       "      <td>A201</td>\n",
       "      <td>2</td>\n",
       "    </tr>\n",
       "  </tbody>\n",
       "</table>\n",
       "<p>5 rows × 21 columns</p>\n",
       "</div>"
      ],
      "text/plain": [
       "  Status_of_existing_checking_account  Duration_in_month Credit_history  \\\n",
       "0                                 A11                  6            A34   \n",
       "1                                 A12                 48            A32   \n",
       "2                                 A14                 12            A34   \n",
       "3                                 A11                 42            A32   \n",
       "4                                 A11                 24            A33   \n",
       "\n",
       "  Purpose  Credit_amount Savings account/bonds Present_employment_since  \\\n",
       "0     A43           1169                   A65                      A75   \n",
       "1     A43           5951                   A61                      A73   \n",
       "2     A46           2096                   A61                      A74   \n",
       "3     A42           7882                   A61                      A74   \n",
       "4     A40           4870                   A61                      A73   \n",
       "\n",
       "   Installment_rate Personal_status_and_sex Other_debtors/guarantors  ...    \\\n",
       "0                 4                     A93                     A101  ...     \n",
       "1                 2                     A92                     A101  ...     \n",
       "2                 2                     A93                     A101  ...     \n",
       "3                 2                     A93                     A103  ...     \n",
       "4                 3                     A93                     A101  ...     \n",
       "\n",
       "   Property Age_in_years  Other_installment_plans Housing  \\\n",
       "0      A121           67                     A143    A152   \n",
       "1      A121           22                     A143    A152   \n",
       "2      A121           49                     A143    A152   \n",
       "3      A122           45                     A143    A153   \n",
       "4      A124           53                     A143    A153   \n",
       "\n",
       "  Number_of_existing_credits_at_this_bank   Job No_of_ppl_maintenance  \\\n",
       "0                                       2  A173                     1   \n",
       "1                                       1  A173                     1   \n",
       "2                                       1  A172                     2   \n",
       "3                                       1  A173                     2   \n",
       "4                                       2  A173                     2   \n",
       "\n",
       "   Telephone foreign worker Target  \n",
       "0       A192           A201      1  \n",
       "1       A191           A201      2  \n",
       "2       A191           A201      1  \n",
       "3       A191           A201      1  \n",
       "4       A191           A201      2  \n",
       "\n",
       "[5 rows x 21 columns]"
      ]
     },
     "execution_count": 61,
     "metadata": {},
     "output_type": "execute_result"
    }
   ],
   "source": [
    "fin.head()"
   ]
  },
  {
   "cell_type": "code",
   "execution_count": 64,
   "metadata": {},
   "outputs": [
    {
     "data": {
      "text/plain": [
       "(1000, 62)"
      ]
     },
     "execution_count": 64,
     "metadata": {},
     "output_type": "execute_result"
    }
   ],
   "source": [
    "bc_df = pd.get_dummies(fin)\n",
    "bc_df.shape"
   ]
  },
  {
   "cell_type": "code",
   "execution_count": 66,
   "metadata": {
    "collapsed": true
   },
   "outputs": [],
   "source": [
    "bc_df = bc_df.drop(labels = \"Target\", axis = 1)"
   ]
  },
  {
   "cell_type": "code",
   "execution_count": 67,
   "metadata": {},
   "outputs": [
    {
     "data": {
      "text/plain": [
       "Duration_in_month                          int64\n",
       "Credit_amount                              int64\n",
       "Installment_rate                           int64\n",
       "Present_residence_since                    int64\n",
       "Age_in_years                               int64\n",
       "Number_of_existing_credits_at_this_bank    int64\n",
       "No_of_ppl_maintenance                      int64\n",
       "Status_of_existing_checking_account_A11    uint8\n",
       "Status_of_existing_checking_account_A12    uint8\n",
       "Status_of_existing_checking_account_A13    uint8\n",
       "Status_of_existing_checking_account_A14    uint8\n",
       "Credit_history_A30                         uint8\n",
       "Credit_history_A31                         uint8\n",
       "Credit_history_A32                         uint8\n",
       "Credit_history_A33                         uint8\n",
       "Credit_history_A34                         uint8\n",
       "Purpose_A40                                uint8\n",
       "Purpose_A41                                uint8\n",
       "Purpose_A410                               uint8\n",
       "Purpose_A42                                uint8\n",
       "Purpose_A43                                uint8\n",
       "Purpose_A44                                uint8\n",
       "Purpose_A45                                uint8\n",
       "Purpose_A46                                uint8\n",
       "Purpose_A48                                uint8\n",
       "Purpose_A49                                uint8\n",
       "Savings account/bonds_A61                  uint8\n",
       "Savings account/bonds_A62                  uint8\n",
       "Savings account/bonds_A63                  uint8\n",
       "Savings account/bonds_A64                  uint8\n",
       "                                           ...  \n",
       "Present_employment_since_A71               uint8\n",
       "Present_employment_since_A72               uint8\n",
       "Present_employment_since_A73               uint8\n",
       "Present_employment_since_A74               uint8\n",
       "Present_employment_since_A75               uint8\n",
       "Personal_status_and_sex_A91                uint8\n",
       "Personal_status_and_sex_A92                uint8\n",
       "Personal_status_and_sex_A93                uint8\n",
       "Personal_status_and_sex_A94                uint8\n",
       "Other_debtors/guarantors_A101              uint8\n",
       "Other_debtors/guarantors_A102              uint8\n",
       "Other_debtors/guarantors_A103              uint8\n",
       "Property_A121                              uint8\n",
       "Property_A122                              uint8\n",
       "Property_A123                              uint8\n",
       "Property_A124                              uint8\n",
       "Other_installment_plans_A141               uint8\n",
       "Other_installment_plans_A142               uint8\n",
       "Other_installment_plans_A143               uint8\n",
       "Housing_A151                               uint8\n",
       "Housing_A152                               uint8\n",
       "Housing_A153                               uint8\n",
       "Job_A171                                   uint8\n",
       "Job_A172                                   uint8\n",
       "Job_A173                                   uint8\n",
       "Job_A174                                   uint8\n",
       "Telephone_A191                             uint8\n",
       "Telephone_A192                             uint8\n",
       "foreign worker_A201                        uint8\n",
       "foreign worker_A202                        uint8\n",
       "Length: 61, dtype: object"
      ]
     },
     "execution_count": 67,
     "metadata": {},
     "output_type": "execute_result"
    }
   ],
   "source": [
    "bc_df.dtypes"
   ]
  },
  {
   "cell_type": "code",
   "execution_count": 68,
   "metadata": {
    "collapsed": true
   },
   "outputs": [],
   "source": [
    "from sklearn.model_selection import train_test_split"
   ]
  },
  {
   "cell_type": "code",
   "execution_count": 70,
   "metadata": {
    "collapsed": true
   },
   "outputs": [],
   "source": [
    "y = fin.Target\n",
    "X = bc_df"
   ]
  },
  {
   "cell_type": "code",
   "execution_count": 101,
   "metadata": {
    "collapsed": true
   },
   "outputs": [],
   "source": [
    "X_train, X_test, y_train, y_test = train_test_split(X, y, test_size=0.30, random_state=143)"
   ]
  },
  {
   "cell_type": "code",
   "execution_count": 102,
   "metadata": {
    "collapsed": true
   },
   "outputs": [],
   "source": [
    "from sklearn.neighbors import KNeighborsClassifier"
   ]
  },
  {
   "cell_type": "code",
   "execution_count": 103,
   "metadata": {
    "collapsed": true
   },
   "outputs": [],
   "source": [
    "knn = KNeighborsClassifier(n_neighbors=3)"
   ]
  },
  {
   "cell_type": "code",
   "execution_count": 104,
   "metadata": {},
   "outputs": [
    {
     "data": {
      "text/plain": [
       "KNeighborsClassifier(algorithm='auto', leaf_size=30, metric='minkowski',\n",
       "           metric_params=None, n_jobs=1, n_neighbors=3, p=2,\n",
       "           weights='uniform')"
      ]
     },
     "execution_count": 104,
     "metadata": {},
     "output_type": "execute_result"
    }
   ],
   "source": [
    "knn.fit(X_train,y_train)"
   ]
  },
  {
   "cell_type": "code",
   "execution_count": 105,
   "metadata": {
    "collapsed": true
   },
   "outputs": [],
   "source": [
    "def getAccuracy(testSet, predictions):\n",
    "\tcorrect = 0\n",
    "\tfor x in range(len(testSet)):\n",
    "\t\tif testSet[x][-1] is predictions[x]:\n",
    "\t\t\tcorrect += 1\n",
    "\treturn (correct/float(len(testSet))) * 100.0"
   ]
  },
  {
   "cell_type": "code",
   "execution_count": 106,
   "metadata": {
    "collapsed": true
   },
   "outputs": [],
   "source": [
    "predicted_labels = knn.predict(X_test)"
   ]
  },
  {
   "cell_type": "code",
   "execution_count": 107,
   "metadata": {
    "collapsed": true
   },
   "outputs": [],
   "source": [
    "from sklearn.metrics import accuracy_score"
   ]
  },
  {
   "cell_type": "code",
   "execution_count": 108,
   "metadata": {},
   "outputs": [
    {
     "data": {
      "text/plain": [
       "0.66000000000000003"
      ]
     },
     "execution_count": 108,
     "metadata": {},
     "output_type": "execute_result"
    }
   ],
   "source": [
    "accuracy_score(y_test, predicted_labels)"
   ]
  },
  {
   "cell_type": "code",
   "execution_count": null,
   "metadata": {
    "collapsed": true
   },
   "outputs": [],
   "source": []
  },
  {
   "cell_type": "code",
   "execution_count": null,
   "metadata": {
    "collapsed": true
   },
   "outputs": [],
   "source": []
  },
  {
   "cell_type": "code",
   "execution_count": null,
   "metadata": {
    "collapsed": true
   },
   "outputs": [],
   "source": []
  },
  {
   "cell_type": "code",
   "execution_count": 89,
   "metadata": {
    "collapsed": true
   },
   "outputs": [],
   "source": [
    "knn1 = KNeighborsClassifier(n_neighbors=30)"
   ]
  },
  {
   "cell_type": "code",
   "execution_count": 90,
   "metadata": {},
   "outputs": [
    {
     "data": {
      "text/plain": [
       "KNeighborsClassifier(algorithm='auto', leaf_size=30, metric='minkowski',\n",
       "           metric_params=None, n_jobs=1, n_neighbors=30, p=2,\n",
       "           weights='uniform')"
      ]
     },
     "execution_count": 90,
     "metadata": {},
     "output_type": "execute_result"
    }
   ],
   "source": [
    "knn1.fit(X_train,y_train)"
   ]
  },
  {
   "cell_type": "code",
   "execution_count": 91,
   "metadata": {
    "collapsed": true
   },
   "outputs": [],
   "source": [
    "predicted_labels1 = knn1.predict(X_test)"
   ]
  },
  {
   "cell_type": "code",
   "execution_count": 92,
   "metadata": {},
   "outputs": [
    {
     "data": {
      "text/plain": [
       "0.71333333333333337"
      ]
     },
     "execution_count": 92,
     "metadata": {},
     "output_type": "execute_result"
    }
   ],
   "source": [
    "accuracy_score(y_test, predicted_labels1)"
   ]
  },
  {
   "cell_type": "code",
   "execution_count": null,
   "metadata": {
    "collapsed": true
   },
   "outputs": [],
   "source": []
  },
  {
   "cell_type": "code",
   "execution_count": null,
   "metadata": {
    "collapsed": true
   },
   "outputs": [],
   "source": [
    "d = {'An': 'Bn', 'Bn': 'An'}\n",
    "df['school'] = df.school.map(d)"
   ]
  },
  {
   "cell_type": "code",
   "execution_count": null,
   "metadata": {
    "collapsed": true
   },
   "outputs": [],
   "source": []
  },
  {
   "cell_type": "code",
   "execution_count": 109,
   "metadata": {
    "collapsed": true
   },
   "outputs": [],
   "source": [
    "fin_2 = fin.replace({'A':'0'},regex = True)"
   ]
  },
  {
   "cell_type": "code",
   "execution_count": 112,
   "metadata": {},
   "outputs": [
    {
     "data": {
      "text/html": [
       "<div>\n",
       "<style>\n",
       "    .dataframe thead tr:only-child th {\n",
       "        text-align: right;\n",
       "    }\n",
       "\n",
       "    .dataframe thead th {\n",
       "        text-align: left;\n",
       "    }\n",
       "\n",
       "    .dataframe tbody tr th {\n",
       "        vertical-align: top;\n",
       "    }\n",
       "</style>\n",
       "<table border=\"1\" class=\"dataframe\">\n",
       "  <thead>\n",
       "    <tr style=\"text-align: right;\">\n",
       "      <th></th>\n",
       "      <th>Status_of_existing_checking_account</th>\n",
       "      <th>Duration_in_month</th>\n",
       "      <th>Credit_history</th>\n",
       "      <th>Purpose</th>\n",
       "      <th>Credit_amount</th>\n",
       "      <th>Savings account/bonds</th>\n",
       "      <th>Present_employment_since</th>\n",
       "      <th>Installment_rate</th>\n",
       "      <th>Personal_status_and_sex</th>\n",
       "      <th>Other_debtors/guarantors</th>\n",
       "      <th>...</th>\n",
       "      <th>Property</th>\n",
       "      <th>Age_in_years</th>\n",
       "      <th>Other_installment_plans</th>\n",
       "      <th>Housing</th>\n",
       "      <th>Number_of_existing_credits_at_this_bank</th>\n",
       "      <th>Job</th>\n",
       "      <th>No_of_ppl_maintenance</th>\n",
       "      <th>Telephone</th>\n",
       "      <th>foreign worker</th>\n",
       "      <th>Target</th>\n",
       "    </tr>\n",
       "  </thead>\n",
       "  <tbody>\n",
       "    <tr>\n",
       "      <th>0</th>\n",
       "      <td>011</td>\n",
       "      <td>6</td>\n",
       "      <td>034</td>\n",
       "      <td>043</td>\n",
       "      <td>1169</td>\n",
       "      <td>065</td>\n",
       "      <td>075</td>\n",
       "      <td>4</td>\n",
       "      <td>093</td>\n",
       "      <td>0101</td>\n",
       "      <td>...</td>\n",
       "      <td>0121</td>\n",
       "      <td>67</td>\n",
       "      <td>0143</td>\n",
       "      <td>0152</td>\n",
       "      <td>2</td>\n",
       "      <td>0173</td>\n",
       "      <td>1</td>\n",
       "      <td>0192</td>\n",
       "      <td>0201</td>\n",
       "      <td>1</td>\n",
       "    </tr>\n",
       "    <tr>\n",
       "      <th>1</th>\n",
       "      <td>012</td>\n",
       "      <td>48</td>\n",
       "      <td>032</td>\n",
       "      <td>043</td>\n",
       "      <td>5951</td>\n",
       "      <td>061</td>\n",
       "      <td>073</td>\n",
       "      <td>2</td>\n",
       "      <td>092</td>\n",
       "      <td>0101</td>\n",
       "      <td>...</td>\n",
       "      <td>0121</td>\n",
       "      <td>22</td>\n",
       "      <td>0143</td>\n",
       "      <td>0152</td>\n",
       "      <td>1</td>\n",
       "      <td>0173</td>\n",
       "      <td>1</td>\n",
       "      <td>0191</td>\n",
       "      <td>0201</td>\n",
       "      <td>2</td>\n",
       "    </tr>\n",
       "    <tr>\n",
       "      <th>2</th>\n",
       "      <td>014</td>\n",
       "      <td>12</td>\n",
       "      <td>034</td>\n",
       "      <td>046</td>\n",
       "      <td>2096</td>\n",
       "      <td>061</td>\n",
       "      <td>074</td>\n",
       "      <td>2</td>\n",
       "      <td>093</td>\n",
       "      <td>0101</td>\n",
       "      <td>...</td>\n",
       "      <td>0121</td>\n",
       "      <td>49</td>\n",
       "      <td>0143</td>\n",
       "      <td>0152</td>\n",
       "      <td>1</td>\n",
       "      <td>0172</td>\n",
       "      <td>2</td>\n",
       "      <td>0191</td>\n",
       "      <td>0201</td>\n",
       "      <td>1</td>\n",
       "    </tr>\n",
       "    <tr>\n",
       "      <th>3</th>\n",
       "      <td>011</td>\n",
       "      <td>42</td>\n",
       "      <td>032</td>\n",
       "      <td>042</td>\n",
       "      <td>7882</td>\n",
       "      <td>061</td>\n",
       "      <td>074</td>\n",
       "      <td>2</td>\n",
       "      <td>093</td>\n",
       "      <td>0103</td>\n",
       "      <td>...</td>\n",
       "      <td>0122</td>\n",
       "      <td>45</td>\n",
       "      <td>0143</td>\n",
       "      <td>0153</td>\n",
       "      <td>1</td>\n",
       "      <td>0173</td>\n",
       "      <td>2</td>\n",
       "      <td>0191</td>\n",
       "      <td>0201</td>\n",
       "      <td>1</td>\n",
       "    </tr>\n",
       "    <tr>\n",
       "      <th>4</th>\n",
       "      <td>011</td>\n",
       "      <td>24</td>\n",
       "      <td>033</td>\n",
       "      <td>040</td>\n",
       "      <td>4870</td>\n",
       "      <td>061</td>\n",
       "      <td>073</td>\n",
       "      <td>3</td>\n",
       "      <td>093</td>\n",
       "      <td>0101</td>\n",
       "      <td>...</td>\n",
       "      <td>0124</td>\n",
       "      <td>53</td>\n",
       "      <td>0143</td>\n",
       "      <td>0153</td>\n",
       "      <td>2</td>\n",
       "      <td>0173</td>\n",
       "      <td>2</td>\n",
       "      <td>0191</td>\n",
       "      <td>0201</td>\n",
       "      <td>2</td>\n",
       "    </tr>\n",
       "  </tbody>\n",
       "</table>\n",
       "<p>5 rows × 21 columns</p>\n",
       "</div>"
      ],
      "text/plain": [
       "  Status_of_existing_checking_account  Duration_in_month Credit_history  \\\n",
       "0                                 011                  6            034   \n",
       "1                                 012                 48            032   \n",
       "2                                 014                 12            034   \n",
       "3                                 011                 42            032   \n",
       "4                                 011                 24            033   \n",
       "\n",
       "  Purpose  Credit_amount Savings account/bonds Present_employment_since  \\\n",
       "0     043           1169                   065                      075   \n",
       "1     043           5951                   061                      073   \n",
       "2     046           2096                   061                      074   \n",
       "3     042           7882                   061                      074   \n",
       "4     040           4870                   061                      073   \n",
       "\n",
       "   Installment_rate Personal_status_and_sex Other_debtors/guarantors  ...    \\\n",
       "0                 4                     093                     0101  ...     \n",
       "1                 2                     092                     0101  ...     \n",
       "2                 2                     093                     0101  ...     \n",
       "3                 2                     093                     0103  ...     \n",
       "4                 3                     093                     0101  ...     \n",
       "\n",
       "   Property Age_in_years  Other_installment_plans Housing  \\\n",
       "0      0121           67                     0143    0152   \n",
       "1      0121           22                     0143    0152   \n",
       "2      0121           49                     0143    0152   \n",
       "3      0122           45                     0143    0153   \n",
       "4      0124           53                     0143    0153   \n",
       "\n",
       "  Number_of_existing_credits_at_this_bank   Job No_of_ppl_maintenance  \\\n",
       "0                                       2  0173                     1   \n",
       "1                                       1  0173                     1   \n",
       "2                                       1  0172                     2   \n",
       "3                                       1  0173                     2   \n",
       "4                                       2  0173                     2   \n",
       "\n",
       "   Telephone foreign worker Target  \n",
       "0       0192           0201      1  \n",
       "1       0191           0201      2  \n",
       "2       0191           0201      1  \n",
       "3       0191           0201      1  \n",
       "4       0191           0201      2  \n",
       "\n",
       "[5 rows x 21 columns]"
      ]
     },
     "execution_count": 112,
     "metadata": {},
     "output_type": "execute_result"
    }
   ],
   "source": [
    "fin_2.head()"
   ]
  },
  {
   "cell_type": "code",
   "execution_count": 114,
   "metadata": {},
   "outputs": [
    {
     "name": "stdout",
     "output_type": "stream",
     "text": [
      "<class 'pandas.core.frame.DataFrame'>\n",
      "RangeIndex: 1000 entries, 0 to 999\n",
      "Data columns (total 21 columns):\n",
      "Status_of_existing_checking_account        1000 non-null object\n",
      "Duration_in_month                          1000 non-null int64\n",
      "Credit_history                             1000 non-null object\n",
      "Purpose                                    1000 non-null object\n",
      "Credit_amount                              1000 non-null int64\n",
      "Savings account/bonds                      1000 non-null object\n",
      "Present_employment_since                   1000 non-null object\n",
      "Installment_rate                           1000 non-null int64\n",
      "Personal_status_and_sex                    1000 non-null object\n",
      "Other_debtors/guarantors                   1000 non-null object\n",
      "Present_residence_since                    1000 non-null int64\n",
      "Property                                   1000 non-null object\n",
      "Age_in_years                               1000 non-null int64\n",
      "Other_installment_plans                    1000 non-null object\n",
      "Housing                                    1000 non-null object\n",
      "Number_of_existing_credits_at_this_bank    1000 non-null int64\n",
      "Job                                        1000 non-null object\n",
      "No_of_ppl_maintenance                      1000 non-null int64\n",
      "Telephone                                  1000 non-null object\n",
      "foreign worker                             1000 non-null object\n",
      "Target                                     1000 non-null int64\n",
      "dtypes: int64(8), object(13)\n",
      "memory usage: 164.1+ KB\n"
     ]
    }
   ],
   "source": [
    "fin_2.info()"
   ]
  },
  {
   "cell_type": "code",
   "execution_count": 115,
   "metadata": {
    "collapsed": true
   },
   "outputs": [],
   "source": [
    "from scipy.stats import zscore"
   ]
  },
  {
   "cell_type": "code",
   "execution_count": 119,
   "metadata": {
    "collapsed": true
   },
   "outputs": [],
   "source": [
    "fin_2 = fin_2.astype(int)"
   ]
  },
  {
   "cell_type": "code",
   "execution_count": 143,
   "metadata": {
    "collapsed": true
   },
   "outputs": [],
   "source": [
    "fin_3 = fin_2.drop('Target',axis=1)"
   ]
  },
  {
   "cell_type": "code",
   "execution_count": 144,
   "metadata": {
    "collapsed": true
   },
   "outputs": [],
   "source": [
    "bc_feature_df_z = fin_3.apply(zscore)"
   ]
  },
  {
   "cell_type": "code",
   "execution_count": 145,
   "metadata": {
    "collapsed": true
   },
   "outputs": [],
   "source": [
    "X = np.array(bc_feature_df_z)\n",
    "bc_labels = fin_2['Target']"
   ]
  },
  {
   "cell_type": "code",
   "execution_count": 146,
   "metadata": {},
   "outputs": [
    {
     "data": {
      "text/plain": [
       "0    1\n",
       "1    2\n",
       "2    1\n",
       "3    1\n",
       "4    2\n",
       "Name: Target, dtype: int32"
      ]
     },
     "execution_count": 146,
     "metadata": {},
     "output_type": "execute_result"
    }
   ],
   "source": [
    "bc_labels.head()"
   ]
  },
  {
   "cell_type": "code",
   "execution_count": 147,
   "metadata": {
    "collapsed": true
   },
   "outputs": [],
   "source": [
    "y = np.array(bc_labels)"
   ]
  },
  {
   "cell_type": "code",
   "execution_count": 148,
   "metadata": {},
   "outputs": [
    {
     "data": {
      "text/html": [
       "<div>\n",
       "<style>\n",
       "    .dataframe thead tr:only-child th {\n",
       "        text-align: right;\n",
       "    }\n",
       "\n",
       "    .dataframe thead th {\n",
       "        text-align: left;\n",
       "    }\n",
       "\n",
       "    .dataframe tbody tr th {\n",
       "        vertical-align: top;\n",
       "    }\n",
       "</style>\n",
       "<table border=\"1\" class=\"dataframe\">\n",
       "  <thead>\n",
       "    <tr style=\"text-align: right;\">\n",
       "      <th></th>\n",
       "      <th>Status_of_existing_checking_account</th>\n",
       "      <th>Duration_in_month</th>\n",
       "      <th>Credit_history</th>\n",
       "      <th>Purpose</th>\n",
       "      <th>Credit_amount</th>\n",
       "      <th>Savings account/bonds</th>\n",
       "      <th>Present_employment_since</th>\n",
       "      <th>Installment_rate</th>\n",
       "      <th>Personal_status_and_sex</th>\n",
       "      <th>Other_debtors/guarantors</th>\n",
       "      <th>Present_residence_since</th>\n",
       "      <th>Property</th>\n",
       "      <th>Age_in_years</th>\n",
       "      <th>Other_installment_plans</th>\n",
       "      <th>Housing</th>\n",
       "      <th>Number_of_existing_credits_at_this_bank</th>\n",
       "      <th>Job</th>\n",
       "      <th>No_of_ppl_maintenance</th>\n",
       "      <th>Telephone</th>\n",
       "      <th>foreign worker</th>\n",
       "    </tr>\n",
       "  </thead>\n",
       "  <tbody>\n",
       "    <tr>\n",
       "      <th>0</th>\n",
       "      <td>-1.254566</td>\n",
       "      <td>-1.236478</td>\n",
       "      <td>1.344014</td>\n",
       "      <td>-0.103505</td>\n",
       "      <td>-0.745131</td>\n",
       "      <td>1.833169</td>\n",
       "      <td>1.338078</td>\n",
       "      <td>0.918477</td>\n",
       "      <td>0.449326</td>\n",
       "      <td>-0.303686</td>\n",
       "      <td>1.046987</td>\n",
       "      <td>-1.293723</td>\n",
       "      <td>2.766456</td>\n",
       "      <td>0.460831</td>\n",
       "      <td>0.133710</td>\n",
       "      <td>1.027079</td>\n",
       "      <td>0.146949</td>\n",
       "      <td>-0.428290</td>\n",
       "      <td>1.214598</td>\n",
       "      <td>-0.196014</td>\n",
       "    </tr>\n",
       "    <tr>\n",
       "      <th>1</th>\n",
       "      <td>-0.459026</td>\n",
       "      <td>2.248194</td>\n",
       "      <td>-0.503428</td>\n",
       "      <td>-0.103505</td>\n",
       "      <td>0.949817</td>\n",
       "      <td>-0.699707</td>\n",
       "      <td>-0.317959</td>\n",
       "      <td>-0.870183</td>\n",
       "      <td>-0.963650</td>\n",
       "      <td>-0.303686</td>\n",
       "      <td>-0.765977</td>\n",
       "      <td>-1.293723</td>\n",
       "      <td>-1.191404</td>\n",
       "      <td>0.460831</td>\n",
       "      <td>0.133710</td>\n",
       "      <td>-0.704926</td>\n",
       "      <td>0.146949</td>\n",
       "      <td>-0.428290</td>\n",
       "      <td>-0.823318</td>\n",
       "      <td>-0.196014</td>\n",
       "    </tr>\n",
       "    <tr>\n",
       "      <th>2</th>\n",
       "      <td>1.132053</td>\n",
       "      <td>-0.738668</td>\n",
       "      <td>1.344014</td>\n",
       "      <td>-0.028646</td>\n",
       "      <td>-0.416562</td>\n",
       "      <td>-0.699707</td>\n",
       "      <td>0.510060</td>\n",
       "      <td>-0.870183</td>\n",
       "      <td>0.449326</td>\n",
       "      <td>-0.303686</td>\n",
       "      <td>0.140505</td>\n",
       "      <td>-1.293723</td>\n",
       "      <td>1.183312</td>\n",
       "      <td>0.460831</td>\n",
       "      <td>0.133710</td>\n",
       "      <td>-0.704926</td>\n",
       "      <td>-1.383771</td>\n",
       "      <td>2.334869</td>\n",
       "      <td>-0.823318</td>\n",
       "      <td>-0.196014</td>\n",
       "    </tr>\n",
       "    <tr>\n",
       "      <th>3</th>\n",
       "      <td>-1.254566</td>\n",
       "      <td>1.750384</td>\n",
       "      <td>-0.503428</td>\n",
       "      <td>-0.128458</td>\n",
       "      <td>1.634247</td>\n",
       "      <td>-0.699707</td>\n",
       "      <td>0.510060</td>\n",
       "      <td>-0.870183</td>\n",
       "      <td>0.449326</td>\n",
       "      <td>3.885083</td>\n",
       "      <td>1.046987</td>\n",
       "      <td>-0.341055</td>\n",
       "      <td>0.831502</td>\n",
       "      <td>0.460831</td>\n",
       "      <td>2.016956</td>\n",
       "      <td>-0.704926</td>\n",
       "      <td>0.146949</td>\n",
       "      <td>2.334869</td>\n",
       "      <td>-0.823318</td>\n",
       "      <td>-0.196014</td>\n",
       "    </tr>\n",
       "    <tr>\n",
       "      <th>4</th>\n",
       "      <td>-1.254566</td>\n",
       "      <td>0.256953</td>\n",
       "      <td>0.420293</td>\n",
       "      <td>-0.178364</td>\n",
       "      <td>0.566664</td>\n",
       "      <td>-0.699707</td>\n",
       "      <td>-0.317959</td>\n",
       "      <td>0.024147</td>\n",
       "      <td>0.449326</td>\n",
       "      <td>-0.303686</td>\n",
       "      <td>1.046987</td>\n",
       "      <td>1.564281</td>\n",
       "      <td>1.535122</td>\n",
       "      <td>0.460831</td>\n",
       "      <td>2.016956</td>\n",
       "      <td>1.027079</td>\n",
       "      <td>0.146949</td>\n",
       "      <td>2.334869</td>\n",
       "      <td>-0.823318</td>\n",
       "      <td>-0.196014</td>\n",
       "    </tr>\n",
       "  </tbody>\n",
       "</table>\n",
       "</div>"
      ],
      "text/plain": [
       "   Status_of_existing_checking_account  Duration_in_month  Credit_history  \\\n",
       "0                            -1.254566          -1.236478        1.344014   \n",
       "1                            -0.459026           2.248194       -0.503428   \n",
       "2                             1.132053          -0.738668        1.344014   \n",
       "3                            -1.254566           1.750384       -0.503428   \n",
       "4                            -1.254566           0.256953        0.420293   \n",
       "\n",
       "    Purpose  Credit_amount  Savings account/bonds  Present_employment_since  \\\n",
       "0 -0.103505      -0.745131               1.833169                  1.338078   \n",
       "1 -0.103505       0.949817              -0.699707                 -0.317959   \n",
       "2 -0.028646      -0.416562              -0.699707                  0.510060   \n",
       "3 -0.128458       1.634247              -0.699707                  0.510060   \n",
       "4 -0.178364       0.566664              -0.699707                 -0.317959   \n",
       "\n",
       "   Installment_rate  Personal_status_and_sex  Other_debtors/guarantors  \\\n",
       "0          0.918477                 0.449326                 -0.303686   \n",
       "1         -0.870183                -0.963650                 -0.303686   \n",
       "2         -0.870183                 0.449326                 -0.303686   \n",
       "3         -0.870183                 0.449326                  3.885083   \n",
       "4          0.024147                 0.449326                 -0.303686   \n",
       "\n",
       "   Present_residence_since  Property  Age_in_years  Other_installment_plans  \\\n",
       "0                 1.046987 -1.293723      2.766456                 0.460831   \n",
       "1                -0.765977 -1.293723     -1.191404                 0.460831   \n",
       "2                 0.140505 -1.293723      1.183312                 0.460831   \n",
       "3                 1.046987 -0.341055      0.831502                 0.460831   \n",
       "4                 1.046987  1.564281      1.535122                 0.460831   \n",
       "\n",
       "    Housing  Number_of_existing_credits_at_this_bank       Job  \\\n",
       "0  0.133710                                 1.027079  0.146949   \n",
       "1  0.133710                                -0.704926  0.146949   \n",
       "2  0.133710                                -0.704926 -1.383771   \n",
       "3  2.016956                                -0.704926  0.146949   \n",
       "4  2.016956                                 1.027079  0.146949   \n",
       "\n",
       "   No_of_ppl_maintenance  Telephone  foreign worker  \n",
       "0              -0.428290   1.214598       -0.196014  \n",
       "1              -0.428290  -0.823318       -0.196014  \n",
       "2               2.334869  -0.823318       -0.196014  \n",
       "3               2.334869  -0.823318       -0.196014  \n",
       "4               2.334869  -0.823318       -0.196014  "
      ]
     },
     "execution_count": 148,
     "metadata": {},
     "output_type": "execute_result"
    }
   ],
   "source": [
    "bc_feature_df_z.head()"
   ]
  },
  {
   "cell_type": "code",
   "execution_count": 154,
   "metadata": {
    "collapsed": true
   },
   "outputs": [],
   "source": [
    "X_train, X_test, y_train, y_test = train_test_split(X, y, test_size=0.30, random_state=143)"
   ]
  },
  {
   "cell_type": "code",
   "execution_count": 155,
   "metadata": {
    "collapsed": true
   },
   "outputs": [],
   "source": [
    "knn1 = KNeighborsClassifier(n_neighbors=30)"
   ]
  },
  {
   "cell_type": "code",
   "execution_count": 156,
   "metadata": {},
   "outputs": [
    {
     "data": {
      "text/plain": [
       "KNeighborsClassifier(algorithm='auto', leaf_size=30, metric='minkowski',\n",
       "           metric_params=None, n_jobs=1, n_neighbors=30, p=2,\n",
       "           weights='uniform')"
      ]
     },
     "execution_count": 156,
     "metadata": {},
     "output_type": "execute_result"
    }
   ],
   "source": [
    "knn1.fit(X_train,y_train)"
   ]
  },
  {
   "cell_type": "code",
   "execution_count": 157,
   "metadata": {
    "collapsed": true
   },
   "outputs": [],
   "source": [
    "predicted_labels2 = knn1.predict(X_test)"
   ]
  },
  {
   "cell_type": "code",
   "execution_count": 158,
   "metadata": {},
   "outputs": [
    {
     "data": {
      "text/plain": [
       "0.72333333333333338"
      ]
     },
     "execution_count": 158,
     "metadata": {},
     "output_type": "execute_result"
    }
   ],
   "source": [
    "accuracy_score(y_test, predicted_labels2)"
   ]
  },
  {
   "cell_type": "code",
   "execution_count": null,
   "metadata": {
    "collapsed": true
   },
   "outputs": [],
   "source": []
  },
  {
   "cell_type": "code",
   "execution_count": 175,
   "metadata": {
    "collapsed": true
   },
   "outputs": [],
   "source": [
    "NNH = KNeighborsClassifier(n_neighbors= 30,p=3, weights = 'uniform', metric='minkowski')"
   ]
  },
  {
   "cell_type": "code",
   "execution_count": 176,
   "metadata": {},
   "outputs": [
    {
     "data": {
      "text/plain": [
       "KNeighborsClassifier(algorithm='auto', leaf_size=30, metric='minkowski',\n",
       "           metric_params=None, n_jobs=1, n_neighbors=30, p=3,\n",
       "           weights='uniform')"
      ]
     },
     "execution_count": 176,
     "metadata": {},
     "output_type": "execute_result"
    }
   ],
   "source": [
    "NNH.fit(X_train,y_train)"
   ]
  },
  {
   "cell_type": "code",
   "execution_count": 177,
   "metadata": {
    "collapsed": true
   },
   "outputs": [],
   "source": [
    "predicted_labels2 = NNH.predict(X_test)"
   ]
  },
  {
   "cell_type": "code",
   "execution_count": 178,
   "metadata": {},
   "outputs": [
    {
     "data": {
      "text/plain": [
       "0.73333333333333328"
      ]
     },
     "execution_count": 178,
     "metadata": {},
     "output_type": "execute_result"
    }
   ],
   "source": [
    "accuracy_score(y_test, predicted_labels2)"
   ]
  },
  {
   "cell_type": "code",
   "execution_count": null,
   "metadata": {
    "collapsed": true
   },
   "outputs": [],
   "source": [
    "drop"
   ]
  },
  {
   "cell_type": "code",
   "execution_count": null,
   "metadata": {
    "collapsed": true
   },
   "outputs": [],
   "source": []
  },
  {
   "cell_type": "code",
   "execution_count": null,
   "metadata": {
    "collapsed": true
   },
   "outputs": [],
   "source": [
    "import matplotlib.pyplot as plt\n",
    "\n",
    "plt.matshow(bc_df.corr())"
   ]
  }
 ],
 "metadata": {
  "kernelspec": {
   "display_name": "Python 3",
   "language": "python",
   "name": "python3"
  },
  "language_info": {
   "codemirror_mode": {
    "name": "ipython",
    "version": 3
   },
   "file_extension": ".py",
   "mimetype": "text/x-python",
   "name": "python",
   "nbconvert_exporter": "python",
   "pygments_lexer": "ipython3",
   "version": "3.6.3"
  }
 },
 "nbformat": 4,
 "nbformat_minor": 2
}
