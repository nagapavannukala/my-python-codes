{
 "cells": [
  {
   "cell_type": "markdown",
   "metadata": {},
   "source": [
    "# Credit defaulters identification using Logistic Regression"
   ]
  },
  {
   "cell_type": "markdown",
   "metadata": {},
   "source": [
    "Introduction to the data set"
   ]
  },
  {
   "cell_type": "markdown",
   "metadata": {},
   "source": [
    "German credit rating dataset contains categorical/symbolic attributes of the persons who availed the credit and the current status of the credit. The status of the credit is indicated by 1 for good credits and 2 for bad credits.\n",
    "\n",
    "The dataset can be downloaded from UCI Repository.\n",
    "\n",
    "https://archive.ics.uci.edu/ml/datasets/Statlog+%28German+Credit+Data%29\n",
    "\n",
    "The detailed description of variables can be found at the same link."
   ]
  },
  {
   "cell_type": "markdown",
   "metadata": {},
   "source": [
    "## Objective of the study"
   ]
  },
  {
   "cell_type": "markdown",
   "metadata": {},
   "source": [
    "1. Read the dataset\n",
    "2. Create dummy variables for the categorical features\n",
    "3. Specify X ( independent) and y (target/dependent) features\n",
    "4. Split datasets into train and test datasets\n",
    "5. Build a logistic regression model\n",
    "6. Find significant variables\n",
    "7. Create confusion matrix to find out Sensitivity and specificity\n",
    "8. Draw ROC Plot\n",
    "9. Find optimal cutoff probability using yoden's index\n",
    "10. Find optimal cutoff probability using cost"
   ]
  },
  {
   "cell_type": "markdown",
   "metadata": {},
   "source": [
    "### Read the data set"
   ]
  },
  {
   "cell_type": "code",
   "execution_count": 47,
   "metadata": {
    "collapsed": true
   },
   "outputs": [],
   "source": [
    "import pandas as pd\n",
    "import numpy as np"
   ]
  },
  {
   "cell_type": "code",
   "execution_count": 48,
   "metadata": {
    "collapsed": true
   },
   "outputs": [],
   "source": [
    "data = pd.read_csv( \"german.data\", delim_whitespace = True, header = None )"
   ]
  },
  {
   "cell_type": "code",
   "execution_count": 49,
   "metadata": {},
   "outputs": [
    {
     "data": {
      "text/html": [
       "<div>\n",
       "<style>\n",
       "    .dataframe thead tr:only-child th {\n",
       "        text-align: right;\n",
       "    }\n",
       "\n",
       "    .dataframe thead th {\n",
       "        text-align: left;\n",
       "    }\n",
       "\n",
       "    .dataframe tbody tr th {\n",
       "        vertical-align: top;\n",
       "    }\n",
       "</style>\n",
       "<table border=\"1\" class=\"dataframe\">\n",
       "  <thead>\n",
       "    <tr style=\"text-align: right;\">\n",
       "      <th></th>\n",
       "      <th>0</th>\n",
       "      <th>1</th>\n",
       "      <th>2</th>\n",
       "      <th>3</th>\n",
       "      <th>4</th>\n",
       "      <th>5</th>\n",
       "      <th>6</th>\n",
       "      <th>7</th>\n",
       "      <th>8</th>\n",
       "      <th>9</th>\n",
       "      <th>...</th>\n",
       "      <th>11</th>\n",
       "      <th>12</th>\n",
       "      <th>13</th>\n",
       "      <th>14</th>\n",
       "      <th>15</th>\n",
       "      <th>16</th>\n",
       "      <th>17</th>\n",
       "      <th>18</th>\n",
       "      <th>19</th>\n",
       "      <th>20</th>\n",
       "    </tr>\n",
       "  </thead>\n",
       "  <tbody>\n",
       "    <tr>\n",
       "      <th>0</th>\n",
       "      <td>A11</td>\n",
       "      <td>6</td>\n",
       "      <td>A34</td>\n",
       "      <td>A43</td>\n",
       "      <td>1169</td>\n",
       "      <td>A65</td>\n",
       "      <td>A75</td>\n",
       "      <td>4</td>\n",
       "      <td>A93</td>\n",
       "      <td>A101</td>\n",
       "      <td>...</td>\n",
       "      <td>A121</td>\n",
       "      <td>67</td>\n",
       "      <td>A143</td>\n",
       "      <td>A152</td>\n",
       "      <td>2</td>\n",
       "      <td>A173</td>\n",
       "      <td>1</td>\n",
       "      <td>A192</td>\n",
       "      <td>A201</td>\n",
       "      <td>1</td>\n",
       "    </tr>\n",
       "    <tr>\n",
       "      <th>1</th>\n",
       "      <td>A12</td>\n",
       "      <td>48</td>\n",
       "      <td>A32</td>\n",
       "      <td>A43</td>\n",
       "      <td>5951</td>\n",
       "      <td>A61</td>\n",
       "      <td>A73</td>\n",
       "      <td>2</td>\n",
       "      <td>A92</td>\n",
       "      <td>A101</td>\n",
       "      <td>...</td>\n",
       "      <td>A121</td>\n",
       "      <td>22</td>\n",
       "      <td>A143</td>\n",
       "      <td>A152</td>\n",
       "      <td>1</td>\n",
       "      <td>A173</td>\n",
       "      <td>1</td>\n",
       "      <td>A191</td>\n",
       "      <td>A201</td>\n",
       "      <td>2</td>\n",
       "    </tr>\n",
       "  </tbody>\n",
       "</table>\n",
       "<p>2 rows × 21 columns</p>\n",
       "</div>"
      ],
      "text/plain": [
       "    0   1    2    3     4    5    6   7    8     9  ...    11  12    13    14  \\\n",
       "0  A11   6  A34  A43  1169  A65  A75   4  A93  A101 ...  A121  67  A143  A152   \n",
       "1  A12  48  A32  A43  5951  A61  A73   2  A92  A101 ...  A121  22  A143  A152   \n",
       "\n",
       "  15    16 17    18    19 20  \n",
       "0  2  A173  1  A192  A201  1  \n",
       "1  1  A173  1  A191  A201  2  \n",
       "\n",
       "[2 rows x 21 columns]"
      ]
     },
     "execution_count": 49,
     "metadata": {},
     "output_type": "execute_result"
    }
   ],
   "source": [
    "data.head(2)"
   ]
  },
  {
   "cell_type": "code",
   "execution_count": 50,
   "metadata": {},
   "outputs": [
    {
     "data": {
      "text/html": [
       "<div>\n",
       "<style>\n",
       "    .dataframe thead tr:only-child th {\n",
       "        text-align: right;\n",
       "    }\n",
       "\n",
       "    .dataframe thead th {\n",
       "        text-align: left;\n",
       "    }\n",
       "\n",
       "    .dataframe tbody tr th {\n",
       "        vertical-align: top;\n",
       "    }\n",
       "</style>\n",
       "<table border=\"1\" class=\"dataframe\">\n",
       "  <thead>\n",
       "    <tr style=\"text-align: right;\">\n",
       "      <th></th>\n",
       "      <th>0</th>\n",
       "      <th>1</th>\n",
       "    </tr>\n",
       "  </thead>\n",
       "  <tbody>\n",
       "    <tr>\n",
       "      <th>0</th>\n",
       "      <td>A11</td>\n",
       "      <td>A12</td>\n",
       "    </tr>\n",
       "    <tr>\n",
       "      <th>1</th>\n",
       "      <td>6</td>\n",
       "      <td>48</td>\n",
       "    </tr>\n",
       "    <tr>\n",
       "      <th>2</th>\n",
       "      <td>A34</td>\n",
       "      <td>A32</td>\n",
       "    </tr>\n",
       "    <tr>\n",
       "      <th>3</th>\n",
       "      <td>A43</td>\n",
       "      <td>A43</td>\n",
       "    </tr>\n",
       "    <tr>\n",
       "      <th>4</th>\n",
       "      <td>1169</td>\n",
       "      <td>5951</td>\n",
       "    </tr>\n",
       "    <tr>\n",
       "      <th>5</th>\n",
       "      <td>A65</td>\n",
       "      <td>A61</td>\n",
       "    </tr>\n",
       "    <tr>\n",
       "      <th>6</th>\n",
       "      <td>A75</td>\n",
       "      <td>A73</td>\n",
       "    </tr>\n",
       "    <tr>\n",
       "      <th>7</th>\n",
       "      <td>4</td>\n",
       "      <td>2</td>\n",
       "    </tr>\n",
       "    <tr>\n",
       "      <th>8</th>\n",
       "      <td>A93</td>\n",
       "      <td>A92</td>\n",
       "    </tr>\n",
       "    <tr>\n",
       "      <th>9</th>\n",
       "      <td>A101</td>\n",
       "      <td>A101</td>\n",
       "    </tr>\n",
       "    <tr>\n",
       "      <th>10</th>\n",
       "      <td>4</td>\n",
       "      <td>2</td>\n",
       "    </tr>\n",
       "    <tr>\n",
       "      <th>11</th>\n",
       "      <td>A121</td>\n",
       "      <td>A121</td>\n",
       "    </tr>\n",
       "    <tr>\n",
       "      <th>12</th>\n",
       "      <td>67</td>\n",
       "      <td>22</td>\n",
       "    </tr>\n",
       "    <tr>\n",
       "      <th>13</th>\n",
       "      <td>A143</td>\n",
       "      <td>A143</td>\n",
       "    </tr>\n",
       "    <tr>\n",
       "      <th>14</th>\n",
       "      <td>A152</td>\n",
       "      <td>A152</td>\n",
       "    </tr>\n",
       "    <tr>\n",
       "      <th>15</th>\n",
       "      <td>2</td>\n",
       "      <td>1</td>\n",
       "    </tr>\n",
       "    <tr>\n",
       "      <th>16</th>\n",
       "      <td>A173</td>\n",
       "      <td>A173</td>\n",
       "    </tr>\n",
       "    <tr>\n",
       "      <th>17</th>\n",
       "      <td>1</td>\n",
       "      <td>1</td>\n",
       "    </tr>\n",
       "    <tr>\n",
       "      <th>18</th>\n",
       "      <td>A192</td>\n",
       "      <td>A191</td>\n",
       "    </tr>\n",
       "    <tr>\n",
       "      <th>19</th>\n",
       "      <td>A201</td>\n",
       "      <td>A201</td>\n",
       "    </tr>\n",
       "    <tr>\n",
       "      <th>20</th>\n",
       "      <td>1</td>\n",
       "      <td>2</td>\n",
       "    </tr>\n",
       "  </tbody>\n",
       "</table>\n",
       "</div>"
      ],
      "text/plain": [
       "       0     1\n",
       "0    A11   A12\n",
       "1      6    48\n",
       "2    A34   A32\n",
       "3    A43   A43\n",
       "4   1169  5951\n",
       "5    A65   A61\n",
       "6    A75   A73\n",
       "7      4     2\n",
       "8    A93   A92\n",
       "9   A101  A101\n",
       "10     4     2\n",
       "11  A121  A121\n",
       "12    67    22\n",
       "13  A143  A143\n",
       "14  A152  A152\n",
       "15     2     1\n",
       "16  A173  A173\n",
       "17     1     1\n",
       "18  A192  A191\n",
       "19  A201  A201\n",
       "20     1     2"
      ]
     },
     "execution_count": 50,
     "metadata": {},
     "output_type": "execute_result"
    }
   ],
   "source": [
    "data.head(2).T ## T means transpose"
   ]
  },
  {
   "cell_type": "code",
   "execution_count": 51,
   "metadata": {
    "collapsed": true
   },
   "outputs": [],
   "source": [
    "columns = ['checkin_acc', 'duration', 'credit_history', 'purpose', 'amount', 'svaing_acc', 'present_emp_since', \n",
    "           'inst_rate', 'personal_status', 'other_debtors', 'residing_since', 'property', 'age','inst_plans', 'housing', \n",
    "           'num_credits', 'job', 'dependents', 'telephone', 'foreign_worker', 'status']"
   ]
  },
  {
   "cell_type": "code",
   "execution_count": 11,
   "metadata": {
    "collapsed": true
   },
   "outputs": [],
   "source": [
    "data.columns = columns"
   ]
  },
  {
   "cell_type": "code",
   "execution_count": 6,
   "metadata": {},
   "outputs": [
    {
     "data": {
      "text/html": [
       "<div>\n",
       "<style scoped>\n",
       "    .dataframe tbody tr th:only-of-type {\n",
       "        vertical-align: middle;\n",
       "    }\n",
       "\n",
       "    .dataframe tbody tr th {\n",
       "        vertical-align: top;\n",
       "    }\n",
       "\n",
       "    .dataframe thead th {\n",
       "        text-align: right;\n",
       "    }\n",
       "</style>\n",
       "<table border=\"1\" class=\"dataframe\">\n",
       "  <thead>\n",
       "    <tr style=\"text-align: right;\">\n",
       "      <th></th>\n",
       "      <th>checkin_acc</th>\n",
       "      <th>duration</th>\n",
       "      <th>credit_history</th>\n",
       "      <th>purpose</th>\n",
       "      <th>amount</th>\n",
       "      <th>svaing_acc</th>\n",
       "      <th>present_emp_since</th>\n",
       "      <th>inst_rate</th>\n",
       "      <th>personal_status</th>\n",
       "      <th>other_debtors</th>\n",
       "      <th>...</th>\n",
       "      <th>property</th>\n",
       "      <th>age</th>\n",
       "      <th>inst_plans</th>\n",
       "      <th>housing</th>\n",
       "      <th>num_credits</th>\n",
       "      <th>job</th>\n",
       "      <th>dependents</th>\n",
       "      <th>telephone</th>\n",
       "      <th>foreign_worker</th>\n",
       "      <th>status</th>\n",
       "    </tr>\n",
       "  </thead>\n",
       "  <tbody>\n",
       "    <tr>\n",
       "      <th>0</th>\n",
       "      <td>A11</td>\n",
       "      <td>6</td>\n",
       "      <td>A34</td>\n",
       "      <td>A43</td>\n",
       "      <td>1169</td>\n",
       "      <td>A65</td>\n",
       "      <td>A75</td>\n",
       "      <td>4</td>\n",
       "      <td>A93</td>\n",
       "      <td>A101</td>\n",
       "      <td>...</td>\n",
       "      <td>A121</td>\n",
       "      <td>67</td>\n",
       "      <td>A143</td>\n",
       "      <td>A152</td>\n",
       "      <td>2</td>\n",
       "      <td>A173</td>\n",
       "      <td>1</td>\n",
       "      <td>A192</td>\n",
       "      <td>A201</td>\n",
       "      <td>1</td>\n",
       "    </tr>\n",
       "    <tr>\n",
       "      <th>1</th>\n",
       "      <td>A12</td>\n",
       "      <td>48</td>\n",
       "      <td>A32</td>\n",
       "      <td>A43</td>\n",
       "      <td>5951</td>\n",
       "      <td>A61</td>\n",
       "      <td>A73</td>\n",
       "      <td>2</td>\n",
       "      <td>A92</td>\n",
       "      <td>A101</td>\n",
       "      <td>...</td>\n",
       "      <td>A121</td>\n",
       "      <td>22</td>\n",
       "      <td>A143</td>\n",
       "      <td>A152</td>\n",
       "      <td>1</td>\n",
       "      <td>A173</td>\n",
       "      <td>1</td>\n",
       "      <td>A191</td>\n",
       "      <td>A201</td>\n",
       "      <td>2</td>\n",
       "    </tr>\n",
       "  </tbody>\n",
       "</table>\n",
       "<p>2 rows × 21 columns</p>\n",
       "</div>"
      ],
      "text/plain": [
       "  checkin_acc  duration credit_history purpose  amount svaing_acc  \\\n",
       "0         A11         6            A34     A43    1169        A65   \n",
       "1         A12        48            A32     A43    5951        A61   \n",
       "\n",
       "  present_emp_since  inst_rate personal_status other_debtors  ...    property  \\\n",
       "0               A75          4             A93          A101  ...        A121   \n",
       "1               A73          2             A92          A101  ...        A121   \n",
       "\n",
       "  age  inst_plans housing num_credits   job dependents  telephone  \\\n",
       "0  67        A143    A152           2  A173          1       A192   \n",
       "1  22        A143    A152           1  A173          1       A191   \n",
       "\n",
       "  foreign_worker status  \n",
       "0           A201      1  \n",
       "1           A201      2  \n",
       "\n",
       "[2 rows x 21 columns]"
      ]
     },
     "execution_count": 6,
     "metadata": {},
     "output_type": "execute_result"
    }
   ],
   "source": [
    "data.head(2)\n"
   ]
  },
  {
   "cell_type": "code",
   "execution_count": 7,
   "metadata": {},
   "outputs": [
    {
     "data": {
      "text/html": [
       "<div>\n",
       "<style scoped>\n",
       "    .dataframe tbody tr th:only-of-type {\n",
       "        vertical-align: middle;\n",
       "    }\n",
       "\n",
       "    .dataframe tbody tr th {\n",
       "        vertical-align: top;\n",
       "    }\n",
       "\n",
       "    .dataframe thead th {\n",
       "        text-align: right;\n",
       "    }\n",
       "</style>\n",
       "<table border=\"1\" class=\"dataframe\">\n",
       "  <thead>\n",
       "    <tr style=\"text-align: right;\">\n",
       "      <th></th>\n",
       "      <th>0</th>\n",
       "      <th>1</th>\n",
       "      <th>2</th>\n",
       "      <th>3</th>\n",
       "      <th>4</th>\n",
       "    </tr>\n",
       "  </thead>\n",
       "  <tbody>\n",
       "    <tr>\n",
       "      <th>checkin_acc</th>\n",
       "      <td>A11</td>\n",
       "      <td>A12</td>\n",
       "      <td>A14</td>\n",
       "      <td>A11</td>\n",
       "      <td>A11</td>\n",
       "    </tr>\n",
       "    <tr>\n",
       "      <th>duration</th>\n",
       "      <td>6</td>\n",
       "      <td>48</td>\n",
       "      <td>12</td>\n",
       "      <td>42</td>\n",
       "      <td>24</td>\n",
       "    </tr>\n",
       "    <tr>\n",
       "      <th>credit_history</th>\n",
       "      <td>A34</td>\n",
       "      <td>A32</td>\n",
       "      <td>A34</td>\n",
       "      <td>A32</td>\n",
       "      <td>A33</td>\n",
       "    </tr>\n",
       "    <tr>\n",
       "      <th>purpose</th>\n",
       "      <td>A43</td>\n",
       "      <td>A43</td>\n",
       "      <td>A46</td>\n",
       "      <td>A42</td>\n",
       "      <td>A40</td>\n",
       "    </tr>\n",
       "    <tr>\n",
       "      <th>amount</th>\n",
       "      <td>1169</td>\n",
       "      <td>5951</td>\n",
       "      <td>2096</td>\n",
       "      <td>7882</td>\n",
       "      <td>4870</td>\n",
       "    </tr>\n",
       "    <tr>\n",
       "      <th>svaing_acc</th>\n",
       "      <td>A65</td>\n",
       "      <td>A61</td>\n",
       "      <td>A61</td>\n",
       "      <td>A61</td>\n",
       "      <td>A61</td>\n",
       "    </tr>\n",
       "    <tr>\n",
       "      <th>present_emp_since</th>\n",
       "      <td>A75</td>\n",
       "      <td>A73</td>\n",
       "      <td>A74</td>\n",
       "      <td>A74</td>\n",
       "      <td>A73</td>\n",
       "    </tr>\n",
       "    <tr>\n",
       "      <th>inst_rate</th>\n",
       "      <td>4</td>\n",
       "      <td>2</td>\n",
       "      <td>2</td>\n",
       "      <td>2</td>\n",
       "      <td>3</td>\n",
       "    </tr>\n",
       "    <tr>\n",
       "      <th>personal_status</th>\n",
       "      <td>A93</td>\n",
       "      <td>A92</td>\n",
       "      <td>A93</td>\n",
       "      <td>A93</td>\n",
       "      <td>A93</td>\n",
       "    </tr>\n",
       "    <tr>\n",
       "      <th>other_debtors</th>\n",
       "      <td>A101</td>\n",
       "      <td>A101</td>\n",
       "      <td>A101</td>\n",
       "      <td>A103</td>\n",
       "      <td>A101</td>\n",
       "    </tr>\n",
       "    <tr>\n",
       "      <th>residing_since</th>\n",
       "      <td>4</td>\n",
       "      <td>2</td>\n",
       "      <td>3</td>\n",
       "      <td>4</td>\n",
       "      <td>4</td>\n",
       "    </tr>\n",
       "    <tr>\n",
       "      <th>property</th>\n",
       "      <td>A121</td>\n",
       "      <td>A121</td>\n",
       "      <td>A121</td>\n",
       "      <td>A122</td>\n",
       "      <td>A124</td>\n",
       "    </tr>\n",
       "    <tr>\n",
       "      <th>age</th>\n",
       "      <td>67</td>\n",
       "      <td>22</td>\n",
       "      <td>49</td>\n",
       "      <td>45</td>\n",
       "      <td>53</td>\n",
       "    </tr>\n",
       "    <tr>\n",
       "      <th>inst_plans</th>\n",
       "      <td>A143</td>\n",
       "      <td>A143</td>\n",
       "      <td>A143</td>\n",
       "      <td>A143</td>\n",
       "      <td>A143</td>\n",
       "    </tr>\n",
       "    <tr>\n",
       "      <th>housing</th>\n",
       "      <td>A152</td>\n",
       "      <td>A152</td>\n",
       "      <td>A152</td>\n",
       "      <td>A153</td>\n",
       "      <td>A153</td>\n",
       "    </tr>\n",
       "    <tr>\n",
       "      <th>num_credits</th>\n",
       "      <td>2</td>\n",
       "      <td>1</td>\n",
       "      <td>1</td>\n",
       "      <td>1</td>\n",
       "      <td>2</td>\n",
       "    </tr>\n",
       "    <tr>\n",
       "      <th>job</th>\n",
       "      <td>A173</td>\n",
       "      <td>A173</td>\n",
       "      <td>A172</td>\n",
       "      <td>A173</td>\n",
       "      <td>A173</td>\n",
       "    </tr>\n",
       "    <tr>\n",
       "      <th>dependents</th>\n",
       "      <td>1</td>\n",
       "      <td>1</td>\n",
       "      <td>2</td>\n",
       "      <td>2</td>\n",
       "      <td>2</td>\n",
       "    </tr>\n",
       "    <tr>\n",
       "      <th>telephone</th>\n",
       "      <td>A192</td>\n",
       "      <td>A191</td>\n",
       "      <td>A191</td>\n",
       "      <td>A191</td>\n",
       "      <td>A191</td>\n",
       "    </tr>\n",
       "    <tr>\n",
       "      <th>foreign_worker</th>\n",
       "      <td>A201</td>\n",
       "      <td>A201</td>\n",
       "      <td>A201</td>\n",
       "      <td>A201</td>\n",
       "      <td>A201</td>\n",
       "    </tr>\n",
       "    <tr>\n",
       "      <th>status</th>\n",
       "      <td>1</td>\n",
       "      <td>2</td>\n",
       "      <td>1</td>\n",
       "      <td>1</td>\n",
       "      <td>2</td>\n",
       "    </tr>\n",
       "  </tbody>\n",
       "</table>\n",
       "</div>"
      ],
      "text/plain": [
       "                      0     1     2     3     4\n",
       "checkin_acc         A11   A12   A14   A11   A11\n",
       "duration              6    48    12    42    24\n",
       "credit_history      A34   A32   A34   A32   A33\n",
       "purpose             A43   A43   A46   A42   A40\n",
       "amount             1169  5951  2096  7882  4870\n",
       "svaing_acc          A65   A61   A61   A61   A61\n",
       "present_emp_since   A75   A73   A74   A74   A73\n",
       "inst_rate             4     2     2     2     3\n",
       "personal_status     A93   A92   A93   A93   A93\n",
       "other_debtors      A101  A101  A101  A103  A101\n",
       "residing_since        4     2     3     4     4\n",
       "property           A121  A121  A121  A122  A124\n",
       "age                  67    22    49    45    53\n",
       "inst_plans         A143  A143  A143  A143  A143\n",
       "housing            A152  A152  A152  A153  A153\n",
       "num_credits           2     1     1     1     2\n",
       "job                A173  A173  A172  A173  A173\n",
       "dependents            1     1     2     2     2\n",
       "telephone          A192  A191  A191  A191  A191\n",
       "foreign_worker     A201  A201  A201  A201  A201\n",
       "status                1     2     1     1     2"
      ]
     },
     "execution_count": 7,
     "metadata": {},
     "output_type": "execute_result"
    }
   ],
   "source": [
    "data.head().T"
   ]
  },
  {
   "cell_type": "code",
   "execution_count": 13,
   "metadata": {},
   "outputs": [
    {
     "name": "stdout",
     "output_type": "stream",
     "text": [
      "<class 'pandas.core.frame.DataFrame'>\n",
      "RangeIndex: 1000 entries, 0 to 999\n",
      "Data columns (total 21 columns):\n",
      "checkin_acc          1000 non-null object\n",
      "duration             1000 non-null int64\n",
      "credit_history       1000 non-null object\n",
      "purpose              1000 non-null object\n",
      "amount               1000 non-null int64\n",
      "svaing_acc           1000 non-null object\n",
      "present_emp_since    1000 non-null object\n",
      "inst_rate            1000 non-null int64\n",
      "personal_status      1000 non-null object\n",
      "other_debtors        1000 non-null object\n",
      "residing_since       1000 non-null int64\n",
      "property             1000 non-null object\n",
      "age                  1000 non-null int64\n",
      "inst_plans           1000 non-null object\n",
      "housing              1000 non-null object\n",
      "num_credits          1000 non-null int64\n",
      "job                  1000 non-null object\n",
      "dependents           1000 non-null int64\n",
      "telephone            1000 non-null object\n",
      "foreign_worker       1000 non-null object\n",
      "status               1000 non-null int64\n",
      "dtypes: int64(8), object(13)\n",
      "memory usage: 164.1+ KB\n"
     ]
    }
   ],
   "source": [
    "data.info()"
   ]
  },
  {
   "cell_type": "markdown",
   "metadata": {},
   "source": [
    "#### How many default and no default observations in the sample"
   ]
  },
  {
   "cell_type": "code",
   "execution_count": 14,
   "metadata": {},
   "outputs": [
    {
     "data": {
      "text/plain": [
       "1    700\n",
       "2    300\n",
       "Name: status, dtype: int64"
      ]
     },
     "execution_count": 14,
     "metadata": {},
     "output_type": "execute_result"
    }
   ],
   "source": [
    "data.status.value_counts()"
   ]
  },
  {
   "cell_type": "markdown",
   "metadata": {},
   "source": [
    "There are about 300 defaults and 700 non-default observations"
   ]
  },
  {
   "cell_type": "markdown",
   "metadata": {},
   "source": [
    "### Create dummy variables for the categorical features"
   ]
  },
  {
   "cell_type": "code",
   "execution_count": 15,
   "metadata": {},
   "outputs": [
    {
     "data": {
      "text/plain": [
       "Index(['checkin_acc', 'duration', 'credit_history', 'purpose', 'amount',\n",
       "       'svaing_acc', 'present_emp_since', 'inst_rate', 'personal_status',\n",
       "       'other_debtors', 'residing_since', 'property', 'age', 'inst_plans',\n",
       "       'housing', 'num_credits', 'job', 'dependents', 'telephone',\n",
       "       'foreign_worker', 'status'],\n",
       "      dtype='object')"
      ]
     },
     "execution_count": 15,
     "metadata": {},
     "output_type": "execute_result"
    }
   ],
   "source": [
    "data.columns"
   ]
  },
  {
   "cell_type": "code",
   "execution_count": 17,
   "metadata": {},
   "outputs": [
    {
     "data": {
      "text/plain": [
       "['checkin_acc',\n",
       " 'duration',\n",
       " 'credit_history',\n",
       " 'purpose',\n",
       " 'amount',\n",
       " 'svaing_acc',\n",
       " 'present_emp_since',\n",
       " 'inst_rate',\n",
       " 'personal_status',\n",
       " 'other_debtors',\n",
       " 'residing_since',\n",
       " 'property',\n",
       " 'age',\n",
       " 'inst_plans',\n",
       " 'housing',\n",
       " 'num_credits',\n",
       " 'job',\n",
       " 'dependents',\n",
       " 'telephone',\n",
       " 'foreign_worker',\n",
       " 'status']"
      ]
     },
     "execution_count": 17,
     "metadata": {},
     "output_type": "execute_result"
    }
   ],
   "source": [
    "list(data.columns )"
   ]
  },
  {
   "cell_type": "markdown",
   "metadata": {},
   "source": [
    "#### Remove the response variable from the dataset"
   ]
  },
  {
   "cell_type": "code",
   "execution_count": 19,
   "metadata": {},
   "outputs": [
    {
     "data": {
      "text/plain": [
       "['checkin_acc',\n",
       " 'duration',\n",
       " 'credit_history',\n",
       " 'purpose',\n",
       " 'amount',\n",
       " 'svaing_acc',\n",
       " 'present_emp_since',\n",
       " 'inst_rate',\n",
       " 'personal_status',\n",
       " 'other_debtors',\n",
       " 'residing_since',\n",
       " 'property',\n",
       " 'age',\n",
       " 'inst_plans',\n",
       " 'housing',\n",
       " 'num_credits',\n",
       " 'job',\n",
       " 'dependents',\n",
       " 'telephone',\n",
       " 'foreign_worker']"
      ]
     },
     "execution_count": 19,
     "metadata": {},
     "output_type": "execute_result"
    }
   ],
   "source": [
    "X_features = list(data.columns )\n",
    "X_features.remove( 'status' )\n",
    "X_features"
   ]
  },
  {
   "cell_type": "code",
   "execution_count": 22,
   "metadata": {
    "collapsed": true
   },
   "outputs": [],
   "source": [
    "data_complete = pd.get_dummies(data[X_features], drop_first = True )"
   ]
  },
  {
   "cell_type": "code",
   "execution_count": 23,
   "metadata": {},
   "outputs": [
    {
     "data": {
      "text/plain": [
       "48"
      ]
     },
     "execution_count": 23,
     "metadata": {},
     "output_type": "execute_result"
    }
   ],
   "source": [
    "len(data_complete.columns )"
   ]
  },
  {
   "cell_type": "code",
   "execution_count": 25,
   "metadata": {},
   "outputs": [
    {
     "data": {
      "text/html": [
       "<div>\n",
       "<style>\n",
       "    .dataframe thead tr:only-child th {\n",
       "        text-align: right;\n",
       "    }\n",
       "\n",
       "    .dataframe thead th {\n",
       "        text-align: left;\n",
       "    }\n",
       "\n",
       "    .dataframe tbody tr th {\n",
       "        vertical-align: top;\n",
       "    }\n",
       "</style>\n",
       "<table border=\"1\" class=\"dataframe\">\n",
       "  <thead>\n",
       "    <tr style=\"text-align: right;\">\n",
       "      <th></th>\n",
       "      <th>0</th>\n",
       "      <th>1</th>\n",
       "      <th>2</th>\n",
       "      <th>3</th>\n",
       "      <th>4</th>\n",
       "    </tr>\n",
       "  </thead>\n",
       "  <tbody>\n",
       "    <tr>\n",
       "      <th>duration</th>\n",
       "      <td>6</td>\n",
       "      <td>48</td>\n",
       "      <td>12</td>\n",
       "      <td>42</td>\n",
       "      <td>24</td>\n",
       "    </tr>\n",
       "    <tr>\n",
       "      <th>amount</th>\n",
       "      <td>1169</td>\n",
       "      <td>5951</td>\n",
       "      <td>2096</td>\n",
       "      <td>7882</td>\n",
       "      <td>4870</td>\n",
       "    </tr>\n",
       "    <tr>\n",
       "      <th>inst_rate</th>\n",
       "      <td>4</td>\n",
       "      <td>2</td>\n",
       "      <td>2</td>\n",
       "      <td>2</td>\n",
       "      <td>3</td>\n",
       "    </tr>\n",
       "    <tr>\n",
       "      <th>residing_since</th>\n",
       "      <td>4</td>\n",
       "      <td>2</td>\n",
       "      <td>3</td>\n",
       "      <td>4</td>\n",
       "      <td>4</td>\n",
       "    </tr>\n",
       "    <tr>\n",
       "      <th>age</th>\n",
       "      <td>67</td>\n",
       "      <td>22</td>\n",
       "      <td>49</td>\n",
       "      <td>45</td>\n",
       "      <td>53</td>\n",
       "    </tr>\n",
       "    <tr>\n",
       "      <th>num_credits</th>\n",
       "      <td>2</td>\n",
       "      <td>1</td>\n",
       "      <td>1</td>\n",
       "      <td>1</td>\n",
       "      <td>2</td>\n",
       "    </tr>\n",
       "    <tr>\n",
       "      <th>dependents</th>\n",
       "      <td>1</td>\n",
       "      <td>1</td>\n",
       "      <td>2</td>\n",
       "      <td>2</td>\n",
       "      <td>2</td>\n",
       "    </tr>\n",
       "    <tr>\n",
       "      <th>checkin_acc_A12</th>\n",
       "      <td>0</td>\n",
       "      <td>1</td>\n",
       "      <td>0</td>\n",
       "      <td>0</td>\n",
       "      <td>0</td>\n",
       "    </tr>\n",
       "    <tr>\n",
       "      <th>checkin_acc_A13</th>\n",
       "      <td>0</td>\n",
       "      <td>0</td>\n",
       "      <td>0</td>\n",
       "      <td>0</td>\n",
       "      <td>0</td>\n",
       "    </tr>\n",
       "    <tr>\n",
       "      <th>checkin_acc_A14</th>\n",
       "      <td>0</td>\n",
       "      <td>0</td>\n",
       "      <td>1</td>\n",
       "      <td>0</td>\n",
       "      <td>0</td>\n",
       "    </tr>\n",
       "    <tr>\n",
       "      <th>credit_history_A31</th>\n",
       "      <td>0</td>\n",
       "      <td>0</td>\n",
       "      <td>0</td>\n",
       "      <td>0</td>\n",
       "      <td>0</td>\n",
       "    </tr>\n",
       "    <tr>\n",
       "      <th>credit_history_A32</th>\n",
       "      <td>0</td>\n",
       "      <td>1</td>\n",
       "      <td>0</td>\n",
       "      <td>1</td>\n",
       "      <td>0</td>\n",
       "    </tr>\n",
       "    <tr>\n",
       "      <th>credit_history_A33</th>\n",
       "      <td>0</td>\n",
       "      <td>0</td>\n",
       "      <td>0</td>\n",
       "      <td>0</td>\n",
       "      <td>1</td>\n",
       "    </tr>\n",
       "    <tr>\n",
       "      <th>credit_history_A34</th>\n",
       "      <td>1</td>\n",
       "      <td>0</td>\n",
       "      <td>1</td>\n",
       "      <td>0</td>\n",
       "      <td>0</td>\n",
       "    </tr>\n",
       "    <tr>\n",
       "      <th>purpose_A41</th>\n",
       "      <td>0</td>\n",
       "      <td>0</td>\n",
       "      <td>0</td>\n",
       "      <td>0</td>\n",
       "      <td>0</td>\n",
       "    </tr>\n",
       "    <tr>\n",
       "      <th>purpose_A410</th>\n",
       "      <td>0</td>\n",
       "      <td>0</td>\n",
       "      <td>0</td>\n",
       "      <td>0</td>\n",
       "      <td>0</td>\n",
       "    </tr>\n",
       "    <tr>\n",
       "      <th>purpose_A42</th>\n",
       "      <td>0</td>\n",
       "      <td>0</td>\n",
       "      <td>0</td>\n",
       "      <td>1</td>\n",
       "      <td>0</td>\n",
       "    </tr>\n",
       "    <tr>\n",
       "      <th>purpose_A43</th>\n",
       "      <td>1</td>\n",
       "      <td>1</td>\n",
       "      <td>0</td>\n",
       "      <td>0</td>\n",
       "      <td>0</td>\n",
       "    </tr>\n",
       "    <tr>\n",
       "      <th>purpose_A44</th>\n",
       "      <td>0</td>\n",
       "      <td>0</td>\n",
       "      <td>0</td>\n",
       "      <td>0</td>\n",
       "      <td>0</td>\n",
       "    </tr>\n",
       "    <tr>\n",
       "      <th>purpose_A45</th>\n",
       "      <td>0</td>\n",
       "      <td>0</td>\n",
       "      <td>0</td>\n",
       "      <td>0</td>\n",
       "      <td>0</td>\n",
       "    </tr>\n",
       "    <tr>\n",
       "      <th>purpose_A46</th>\n",
       "      <td>0</td>\n",
       "      <td>0</td>\n",
       "      <td>1</td>\n",
       "      <td>0</td>\n",
       "      <td>0</td>\n",
       "    </tr>\n",
       "    <tr>\n",
       "      <th>purpose_A48</th>\n",
       "      <td>0</td>\n",
       "      <td>0</td>\n",
       "      <td>0</td>\n",
       "      <td>0</td>\n",
       "      <td>0</td>\n",
       "    </tr>\n",
       "    <tr>\n",
       "      <th>purpose_A49</th>\n",
       "      <td>0</td>\n",
       "      <td>0</td>\n",
       "      <td>0</td>\n",
       "      <td>0</td>\n",
       "      <td>0</td>\n",
       "    </tr>\n",
       "    <tr>\n",
       "      <th>svaing_acc_A62</th>\n",
       "      <td>0</td>\n",
       "      <td>0</td>\n",
       "      <td>0</td>\n",
       "      <td>0</td>\n",
       "      <td>0</td>\n",
       "    </tr>\n",
       "    <tr>\n",
       "      <th>svaing_acc_A63</th>\n",
       "      <td>0</td>\n",
       "      <td>0</td>\n",
       "      <td>0</td>\n",
       "      <td>0</td>\n",
       "      <td>0</td>\n",
       "    </tr>\n",
       "    <tr>\n",
       "      <th>svaing_acc_A64</th>\n",
       "      <td>0</td>\n",
       "      <td>0</td>\n",
       "      <td>0</td>\n",
       "      <td>0</td>\n",
       "      <td>0</td>\n",
       "    </tr>\n",
       "    <tr>\n",
       "      <th>svaing_acc_A65</th>\n",
       "      <td>1</td>\n",
       "      <td>0</td>\n",
       "      <td>0</td>\n",
       "      <td>0</td>\n",
       "      <td>0</td>\n",
       "    </tr>\n",
       "    <tr>\n",
       "      <th>present_emp_since_A72</th>\n",
       "      <td>0</td>\n",
       "      <td>0</td>\n",
       "      <td>0</td>\n",
       "      <td>0</td>\n",
       "      <td>0</td>\n",
       "    </tr>\n",
       "    <tr>\n",
       "      <th>present_emp_since_A73</th>\n",
       "      <td>0</td>\n",
       "      <td>1</td>\n",
       "      <td>0</td>\n",
       "      <td>0</td>\n",
       "      <td>1</td>\n",
       "    </tr>\n",
       "    <tr>\n",
       "      <th>present_emp_since_A74</th>\n",
       "      <td>0</td>\n",
       "      <td>0</td>\n",
       "      <td>1</td>\n",
       "      <td>1</td>\n",
       "      <td>0</td>\n",
       "    </tr>\n",
       "    <tr>\n",
       "      <th>present_emp_since_A75</th>\n",
       "      <td>1</td>\n",
       "      <td>0</td>\n",
       "      <td>0</td>\n",
       "      <td>0</td>\n",
       "      <td>0</td>\n",
       "    </tr>\n",
       "    <tr>\n",
       "      <th>personal_status_A92</th>\n",
       "      <td>0</td>\n",
       "      <td>1</td>\n",
       "      <td>0</td>\n",
       "      <td>0</td>\n",
       "      <td>0</td>\n",
       "    </tr>\n",
       "    <tr>\n",
       "      <th>personal_status_A93</th>\n",
       "      <td>1</td>\n",
       "      <td>0</td>\n",
       "      <td>1</td>\n",
       "      <td>1</td>\n",
       "      <td>1</td>\n",
       "    </tr>\n",
       "    <tr>\n",
       "      <th>personal_status_A94</th>\n",
       "      <td>0</td>\n",
       "      <td>0</td>\n",
       "      <td>0</td>\n",
       "      <td>0</td>\n",
       "      <td>0</td>\n",
       "    </tr>\n",
       "    <tr>\n",
       "      <th>other_debtors_A102</th>\n",
       "      <td>0</td>\n",
       "      <td>0</td>\n",
       "      <td>0</td>\n",
       "      <td>0</td>\n",
       "      <td>0</td>\n",
       "    </tr>\n",
       "    <tr>\n",
       "      <th>other_debtors_A103</th>\n",
       "      <td>0</td>\n",
       "      <td>0</td>\n",
       "      <td>0</td>\n",
       "      <td>1</td>\n",
       "      <td>0</td>\n",
       "    </tr>\n",
       "    <tr>\n",
       "      <th>property_A122</th>\n",
       "      <td>0</td>\n",
       "      <td>0</td>\n",
       "      <td>0</td>\n",
       "      <td>1</td>\n",
       "      <td>0</td>\n",
       "    </tr>\n",
       "    <tr>\n",
       "      <th>property_A123</th>\n",
       "      <td>0</td>\n",
       "      <td>0</td>\n",
       "      <td>0</td>\n",
       "      <td>0</td>\n",
       "      <td>0</td>\n",
       "    </tr>\n",
       "    <tr>\n",
       "      <th>property_A124</th>\n",
       "      <td>0</td>\n",
       "      <td>0</td>\n",
       "      <td>0</td>\n",
       "      <td>0</td>\n",
       "      <td>1</td>\n",
       "    </tr>\n",
       "    <tr>\n",
       "      <th>inst_plans_A142</th>\n",
       "      <td>0</td>\n",
       "      <td>0</td>\n",
       "      <td>0</td>\n",
       "      <td>0</td>\n",
       "      <td>0</td>\n",
       "    </tr>\n",
       "    <tr>\n",
       "      <th>inst_plans_A143</th>\n",
       "      <td>1</td>\n",
       "      <td>1</td>\n",
       "      <td>1</td>\n",
       "      <td>1</td>\n",
       "      <td>1</td>\n",
       "    </tr>\n",
       "    <tr>\n",
       "      <th>housing_A152</th>\n",
       "      <td>1</td>\n",
       "      <td>1</td>\n",
       "      <td>1</td>\n",
       "      <td>0</td>\n",
       "      <td>0</td>\n",
       "    </tr>\n",
       "    <tr>\n",
       "      <th>housing_A153</th>\n",
       "      <td>0</td>\n",
       "      <td>0</td>\n",
       "      <td>0</td>\n",
       "      <td>1</td>\n",
       "      <td>1</td>\n",
       "    </tr>\n",
       "    <tr>\n",
       "      <th>job_A172</th>\n",
       "      <td>0</td>\n",
       "      <td>0</td>\n",
       "      <td>1</td>\n",
       "      <td>0</td>\n",
       "      <td>0</td>\n",
       "    </tr>\n",
       "    <tr>\n",
       "      <th>job_A173</th>\n",
       "      <td>1</td>\n",
       "      <td>1</td>\n",
       "      <td>0</td>\n",
       "      <td>1</td>\n",
       "      <td>1</td>\n",
       "    </tr>\n",
       "    <tr>\n",
       "      <th>job_A174</th>\n",
       "      <td>0</td>\n",
       "      <td>0</td>\n",
       "      <td>0</td>\n",
       "      <td>0</td>\n",
       "      <td>0</td>\n",
       "    </tr>\n",
       "    <tr>\n",
       "      <th>telephone_A192</th>\n",
       "      <td>1</td>\n",
       "      <td>0</td>\n",
       "      <td>0</td>\n",
       "      <td>0</td>\n",
       "      <td>0</td>\n",
       "    </tr>\n",
       "    <tr>\n",
       "      <th>foreign_worker_A202</th>\n",
       "      <td>0</td>\n",
       "      <td>0</td>\n",
       "      <td>0</td>\n",
       "      <td>0</td>\n",
       "      <td>0</td>\n",
       "    </tr>\n",
       "  </tbody>\n",
       "</table>\n",
       "</div>"
      ],
      "text/plain": [
       "                          0     1     2     3     4\n",
       "duration                  6    48    12    42    24\n",
       "amount                 1169  5951  2096  7882  4870\n",
       "inst_rate                 4     2     2     2     3\n",
       "residing_since            4     2     3     4     4\n",
       "age                      67    22    49    45    53\n",
       "num_credits               2     1     1     1     2\n",
       "dependents                1     1     2     2     2\n",
       "checkin_acc_A12           0     1     0     0     0\n",
       "checkin_acc_A13           0     0     0     0     0\n",
       "checkin_acc_A14           0     0     1     0     0\n",
       "credit_history_A31        0     0     0     0     0\n",
       "credit_history_A32        0     1     0     1     0\n",
       "credit_history_A33        0     0     0     0     1\n",
       "credit_history_A34        1     0     1     0     0\n",
       "purpose_A41               0     0     0     0     0\n",
       "purpose_A410              0     0     0     0     0\n",
       "purpose_A42               0     0     0     1     0\n",
       "purpose_A43               1     1     0     0     0\n",
       "purpose_A44               0     0     0     0     0\n",
       "purpose_A45               0     0     0     0     0\n",
       "purpose_A46               0     0     1     0     0\n",
       "purpose_A48               0     0     0     0     0\n",
       "purpose_A49               0     0     0     0     0\n",
       "svaing_acc_A62            0     0     0     0     0\n",
       "svaing_acc_A63            0     0     0     0     0\n",
       "svaing_acc_A64            0     0     0     0     0\n",
       "svaing_acc_A65            1     0     0     0     0\n",
       "present_emp_since_A72     0     0     0     0     0\n",
       "present_emp_since_A73     0     1     0     0     1\n",
       "present_emp_since_A74     0     0     1     1     0\n",
       "present_emp_since_A75     1     0     0     0     0\n",
       "personal_status_A92       0     1     0     0     0\n",
       "personal_status_A93       1     0     1     1     1\n",
       "personal_status_A94       0     0     0     0     0\n",
       "other_debtors_A102        0     0     0     0     0\n",
       "other_debtors_A103        0     0     0     1     0\n",
       "property_A122             0     0     0     1     0\n",
       "property_A123             0     0     0     0     0\n",
       "property_A124             0     0     0     0     1\n",
       "inst_plans_A142           0     0     0     0     0\n",
       "inst_plans_A143           1     1     1     1     1\n",
       "housing_A152              1     1     1     0     0\n",
       "housing_A153              0     0     0     1     1\n",
       "job_A172                  0     0     1     0     0\n",
       "job_A173                  1     1     0     1     1\n",
       "job_A174                  0     0     0     0     0\n",
       "telephone_A192            1     0     0     0     0\n",
       "foreign_worker_A202       0     0     0     0     0"
      ]
     },
     "execution_count": 25,
     "metadata": {},
     "output_type": "execute_result"
    }
   ],
   "source": [
    "data_complete.head().T"
   ]
  },
  {
   "cell_type": "code",
   "execution_count": 28,
   "metadata": {},
   "outputs": [
    {
     "name": "stdout",
     "output_type": "stream",
     "text": [
      "<class 'pandas.core.frame.DataFrame'>\n",
      "RangeIndex: 1000 entries, 0 to 999\n",
      "Data columns (total 48 columns):\n",
      "duration                 1000 non-null int64\n",
      "amount                   1000 non-null int64\n",
      "inst_rate                1000 non-null int64\n",
      "residing_since           1000 non-null int64\n",
      "age                      1000 non-null int64\n",
      "num_credits              1000 non-null int64\n",
      "dependents               1000 non-null int64\n",
      "checkin_acc_A12          1000 non-null uint8\n",
      "checkin_acc_A13          1000 non-null uint8\n",
      "checkin_acc_A14          1000 non-null uint8\n",
      "credit_history_A31       1000 non-null uint8\n",
      "credit_history_A32       1000 non-null uint8\n",
      "credit_history_A33       1000 non-null uint8\n",
      "credit_history_A34       1000 non-null uint8\n",
      "purpose_A41              1000 non-null uint8\n",
      "purpose_A410             1000 non-null uint8\n",
      "purpose_A42              1000 non-null uint8\n",
      "purpose_A43              1000 non-null uint8\n",
      "purpose_A44              1000 non-null uint8\n",
      "purpose_A45              1000 non-null uint8\n",
      "purpose_A46              1000 non-null uint8\n",
      "purpose_A48              1000 non-null uint8\n",
      "purpose_A49              1000 non-null uint8\n",
      "svaing_acc_A62           1000 non-null uint8\n",
      "svaing_acc_A63           1000 non-null uint8\n",
      "svaing_acc_A64           1000 non-null uint8\n",
      "svaing_acc_A65           1000 non-null uint8\n",
      "present_emp_since_A72    1000 non-null uint8\n",
      "present_emp_since_A73    1000 non-null uint8\n",
      "present_emp_since_A74    1000 non-null uint8\n",
      "present_emp_since_A75    1000 non-null uint8\n",
      "personal_status_A92      1000 non-null uint8\n",
      "personal_status_A93      1000 non-null uint8\n",
      "personal_status_A94      1000 non-null uint8\n",
      "other_debtors_A102       1000 non-null uint8\n",
      "other_debtors_A103       1000 non-null uint8\n",
      "property_A122            1000 non-null uint8\n",
      "property_A123            1000 non-null uint8\n",
      "property_A124            1000 non-null uint8\n",
      "inst_plans_A142          1000 non-null uint8\n",
      "inst_plans_A143          1000 non-null uint8\n",
      "housing_A152             1000 non-null uint8\n",
      "housing_A153             1000 non-null uint8\n",
      "job_A172                 1000 non-null uint8\n",
      "job_A173                 1000 non-null uint8\n",
      "job_A174                 1000 non-null uint8\n",
      "telephone_A192           1000 non-null uint8\n",
      "foreign_worker_A202      1000 non-null uint8\n",
      "dtypes: int64(7), uint8(41)\n",
      "memory usage: 94.8 KB\n"
     ]
    }
   ],
   "source": [
    "data_complete.info()"
   ]
  },
  {
   "cell_type": "markdown",
   "metadata": {},
   "source": [
    "#### Change the reponse variable to 0 = No Default and 1 = Default"
   ]
  },
  {
   "cell_type": "code",
   "execution_count": 26,
   "metadata": {
    "collapsed": true
   },
   "outputs": [],
   "source": [
    "y = data.status - 1 # Since upto now. 1,2 are stored as No default and Default.The output requires 1 to be subtracted. "
   ]
  },
  {
   "cell_type": "code",
   "execution_count": 27,
   "metadata": {
    "collapsed": true
   },
   "outputs": [],
   "source": [
    "x = data_complete"
   ]
  },
  {
   "cell_type": "markdown",
   "metadata": {},
   "source": [
    "### Specify X ( independent) and y (target/dependent) features"
   ]
  },
  {
   "cell_type": "markdown",
   "metadata": {},
   "source": [
    "### Split datasets into train and test datasets"
   ]
  },
  {
   "cell_type": "code",
   "execution_count": 36,
   "metadata": {
    "collapsed": true
   },
   "outputs": [],
   "source": [
    "from sklearn.cross_validation import train_test_split"
   ]
  },
  {
   "cell_type": "code",
   "execution_count": 37,
   "metadata": {
    "collapsed": true
   },
   "outputs": [],
   "source": [
    "x_train, x_test, y_train, y_test = train_test_split( x, y, test_size = 0.3)"
   ]
  },
  {
   "cell_type": "code",
   "execution_count": 38,
   "metadata": {},
   "outputs": [
    {
     "data": {
      "text/plain": [
       "926    0\n",
       "602    1\n",
       "526    0\n",
       "646    0\n",
       "892    0\n",
       "241    0\n",
       "4      1\n",
       "695    0\n",
       "614    1\n",
       "618    1\n",
       "Name: status, dtype: int64"
      ]
     },
     "execution_count": 38,
     "metadata": {},
     "output_type": "execute_result"
    }
   ],
   "source": [
    "y_test[0:10]"
   ]
  },
  {
   "cell_type": "markdown",
   "metadata": {},
   "source": [
    "### Build a logistic regression model"
   ]
  },
  {
   "cell_type": "code",
   "execution_count": 52,
   "metadata": {
    "collapsed": true
   },
   "outputs": [],
   "source": [
    "import statsmodels.api as sm"
   ]
  },
  {
   "cell_type": "code",
   "execution_count": 53,
   "metadata": {
    "collapsed": true
   },
   "outputs": [],
   "source": [
    "logit = sm.Logit( y_train, sm.add_constant( x_train ) )"
   ]
  },
  {
   "cell_type": "code",
   "execution_count": 54,
   "metadata": {},
   "outputs": [
    {
     "name": "stdout",
     "output_type": "stream",
     "text": [
      "Optimization terminated successfully.\n",
      "         Current function value: 0.420156\n",
      "         Iterations 7\n"
     ]
    }
   ],
   "source": [
    "lg = logit.fit()"
   ]
  },
  {
   "cell_type": "code",
   "execution_count": 55,
   "metadata": {
    "scrolled": true
   },
   "outputs": [
    {
     "data": {
      "text/html": [
       "<table class=\"simpletable\">\n",
       "<caption>Logit Regression Results</caption>\n",
       "<tr>\n",
       "  <th>Dep. Variable:</th>      <td>status</td>      <th>  No. Observations:  </th>  <td>   700</td>  \n",
       "</tr>\n",
       "<tr>\n",
       "  <th>Model:</th>               <td>Logit</td>      <th>  Df Residuals:      </th>  <td>   651</td>  \n",
       "</tr>\n",
       "<tr>\n",
       "  <th>Method:</th>               <td>MLE</td>       <th>  Df Model:          </th>  <td>    48</td>  \n",
       "</tr>\n",
       "<tr>\n",
       "  <th>Date:</th>          <td>Fri, 24 Aug 2018</td> <th>  Pseudo R-squ.:     </th>  <td>0.2992</td>  \n",
       "</tr>\n",
       "<tr>\n",
       "  <th>Time:</th>              <td>00:11:28</td>     <th>  Log-Likelihood:    </th> <td> -294.11</td> \n",
       "</tr>\n",
       "<tr>\n",
       "  <th>converged:</th>           <td>True</td>       <th>  LL-Null:           </th> <td> -419.70</td> \n",
       "</tr>\n",
       "<tr>\n",
       "  <th> </th>                      <td> </td>        <th>  LLR p-value:       </th> <td>2.551e-29</td>\n",
       "</tr>\n",
       "</table>\n",
       "<table class=\"simpletable\">\n",
       "<tr>\n",
       "            <td></td>               <th>coef</th>     <th>std err</th>      <th>z</th>      <th>P>|z|</th>  <th>[0.025</th>    <th>0.975]</th>  \n",
       "</tr>\n",
       "<tr>\n",
       "  <th>const</th>                 <td>    0.8098</td> <td>    1.342</td> <td>    0.603</td> <td> 0.546</td> <td>   -1.820</td> <td>    3.440</td>\n",
       "</tr>\n",
       "<tr>\n",
       "  <th>duration</th>              <td>    0.0349</td> <td>    0.011</td> <td>    3.086</td> <td> 0.002</td> <td>    0.013</td> <td>    0.057</td>\n",
       "</tr>\n",
       "<tr>\n",
       "  <th>amount</th>                <td> 9.721e-05</td> <td> 5.45e-05</td> <td>    1.783</td> <td> 0.075</td> <td>-9.68e-06</td> <td>    0.000</td>\n",
       "</tr>\n",
       "<tr>\n",
       "  <th>inst_rate</th>             <td>    0.4017</td> <td>    0.109</td> <td>    3.695</td> <td> 0.000</td> <td>    0.189</td> <td>    0.615</td>\n",
       "</tr>\n",
       "<tr>\n",
       "  <th>residing_since</th>        <td>   -0.0100</td> <td>    0.108</td> <td>   -0.093</td> <td> 0.926</td> <td>   -0.221</td> <td>    0.201</td>\n",
       "</tr>\n",
       "<tr>\n",
       "  <th>age</th>                   <td>   -0.0313</td> <td>    0.012</td> <td>   -2.612</td> <td> 0.009</td> <td>   -0.055</td> <td>   -0.008</td>\n",
       "</tr>\n",
       "<tr>\n",
       "  <th>num_credits</th>           <td>    0.4260</td> <td>    0.235</td> <td>    1.815</td> <td> 0.069</td> <td>   -0.034</td> <td>    0.886</td>\n",
       "</tr>\n",
       "<tr>\n",
       "  <th>dependents</th>            <td>    0.6076</td> <td>    0.311</td> <td>    1.956</td> <td> 0.050</td> <td>   -0.001</td> <td>    1.217</td>\n",
       "</tr>\n",
       "<tr>\n",
       "  <th>checkin_acc_A12</th>       <td>   -0.2049</td> <td>    0.275</td> <td>   -0.745</td> <td> 0.456</td> <td>   -0.744</td> <td>    0.334</td>\n",
       "</tr>\n",
       "<tr>\n",
       "  <th>checkin_acc_A13</th>       <td>   -1.1321</td> <td>    0.476</td> <td>   -2.381</td> <td> 0.017</td> <td>   -2.064</td> <td>   -0.200</td>\n",
       "</tr>\n",
       "<tr>\n",
       "  <th>checkin_acc_A14</th>       <td>   -1.7853</td> <td>    0.291</td> <td>   -6.134</td> <td> 0.000</td> <td>   -2.356</td> <td>   -1.215</td>\n",
       "</tr>\n",
       "<tr>\n",
       "  <th>credit_history_A31</th>    <td>    0.2355</td> <td>    0.653</td> <td>    0.360</td> <td> 0.719</td> <td>   -1.045</td> <td>    1.516</td>\n",
       "</tr>\n",
       "<tr>\n",
       "  <th>credit_history_A32</th>    <td>   -0.7303</td> <td>    0.519</td> <td>   -1.408</td> <td> 0.159</td> <td>   -1.747</td> <td>    0.286</td>\n",
       "</tr>\n",
       "<tr>\n",
       "  <th>credit_history_A33</th>    <td>   -1.1204</td> <td>    0.588</td> <td>   -1.905</td> <td> 0.057</td> <td>   -2.273</td> <td>    0.032</td>\n",
       "</tr>\n",
       "<tr>\n",
       "  <th>credit_history_A34</th>    <td>   -1.6080</td> <td>    0.530</td> <td>   -3.035</td> <td> 0.002</td> <td>   -2.646</td> <td>   -0.570</td>\n",
       "</tr>\n",
       "<tr>\n",
       "  <th>purpose_A41</th>           <td>   -1.9288</td> <td>    0.487</td> <td>   -3.964</td> <td> 0.000</td> <td>   -2.882</td> <td>   -0.975</td>\n",
       "</tr>\n",
       "<tr>\n",
       "  <th>purpose_A410</th>          <td>   -2.3885</td> <td>    0.984</td> <td>   -2.428</td> <td> 0.015</td> <td>   -4.317</td> <td>   -0.460</td>\n",
       "</tr>\n",
       "<tr>\n",
       "  <th>purpose_A42</th>           <td>   -0.7119</td> <td>    0.327</td> <td>   -2.180</td> <td> 0.029</td> <td>   -1.352</td> <td>   -0.072</td>\n",
       "</tr>\n",
       "<tr>\n",
       "  <th>purpose_A43</th>           <td>   -1.0976</td> <td>    0.311</td> <td>   -3.528</td> <td> 0.000</td> <td>   -1.707</td> <td>   -0.488</td>\n",
       "</tr>\n",
       "<tr>\n",
       "  <th>purpose_A44</th>           <td>   -0.0038</td> <td>    0.847</td> <td>   -0.005</td> <td> 0.996</td> <td>   -1.664</td> <td>    1.656</td>\n",
       "</tr>\n",
       "<tr>\n",
       "  <th>purpose_A45</th>           <td>   -1.5408</td> <td>    0.901</td> <td>   -1.711</td> <td> 0.087</td> <td>   -3.306</td> <td>    0.225</td>\n",
       "</tr>\n",
       "<tr>\n",
       "  <th>purpose_A46</th>           <td>    0.0547</td> <td>    0.538</td> <td>    0.102</td> <td> 0.919</td> <td>   -0.999</td> <td>    1.109</td>\n",
       "</tr>\n",
       "<tr>\n",
       "  <th>purpose_A48</th>           <td>   -2.2377</td> <td>    1.235</td> <td>   -1.813</td> <td> 0.070</td> <td>   -4.657</td> <td>    0.182</td>\n",
       "</tr>\n",
       "<tr>\n",
       "  <th>purpose_A49</th>           <td>   -0.7900</td> <td>    0.409</td> <td>   -1.931</td> <td> 0.054</td> <td>   -1.592</td> <td>    0.012</td>\n",
       "</tr>\n",
       "<tr>\n",
       "  <th>svaing_acc_A62</th>        <td>   -0.5705</td> <td>    0.368</td> <td>   -1.549</td> <td> 0.121</td> <td>   -1.293</td> <td>    0.152</td>\n",
       "</tr>\n",
       "<tr>\n",
       "  <th>svaing_acc_A63</th>        <td>   -0.2112</td> <td>    0.475</td> <td>   -0.445</td> <td> 0.656</td> <td>   -1.141</td> <td>    0.719</td>\n",
       "</tr>\n",
       "<tr>\n",
       "  <th>svaing_acc_A64</th>        <td>   -2.1603</td> <td>    0.801</td> <td>   -2.697</td> <td> 0.007</td> <td>   -3.730</td> <td>   -0.590</td>\n",
       "</tr>\n",
       "<tr>\n",
       "  <th>svaing_acc_A65</th>        <td>   -1.1542</td> <td>    0.331</td> <td>   -3.489</td> <td> 0.000</td> <td>   -1.803</td> <td>   -0.506</td>\n",
       "</tr>\n",
       "<tr>\n",
       "  <th>present_emp_since_A72</th> <td>   -0.5474</td> <td>    0.547</td> <td>   -1.002</td> <td> 0.317</td> <td>   -1.619</td> <td>    0.524</td>\n",
       "</tr>\n",
       "<tr>\n",
       "  <th>present_emp_since_A73</th> <td>   -0.3983</td> <td>    0.521</td> <td>   -0.764</td> <td> 0.445</td> <td>   -1.420</td> <td>    0.623</td>\n",
       "</tr>\n",
       "<tr>\n",
       "  <th>present_emp_since_A74</th> <td>   -0.9140</td> <td>    0.561</td> <td>   -1.628</td> <td> 0.104</td> <td>   -2.014</td> <td>    0.186</td>\n",
       "</tr>\n",
       "<tr>\n",
       "  <th>present_emp_since_A75</th> <td>   -0.3406</td> <td>    0.528</td> <td>   -0.645</td> <td> 0.519</td> <td>   -1.376</td> <td>    0.695</td>\n",
       "</tr>\n",
       "<tr>\n",
       "  <th>personal_status_A92</th>   <td>   -0.3468</td> <td>    0.468</td> <td>   -0.741</td> <td> 0.459</td> <td>   -1.264</td> <td>    0.570</td>\n",
       "</tr>\n",
       "<tr>\n",
       "  <th>personal_status_A93</th>   <td>   -1.1375</td> <td>    0.460</td> <td>   -2.473</td> <td> 0.013</td> <td>   -2.039</td> <td>   -0.236</td>\n",
       "</tr>\n",
       "<tr>\n",
       "  <th>personal_status_A94</th>   <td>   -0.6038</td> <td>    0.542</td> <td>   -1.114</td> <td> 0.265</td> <td>   -1.666</td> <td>    0.459</td>\n",
       "</tr>\n",
       "<tr>\n",
       "  <th>other_debtors_A102</th>    <td>    0.6191</td> <td>    0.532</td> <td>    1.164</td> <td> 0.245</td> <td>   -0.424</td> <td>    1.662</td>\n",
       "</tr>\n",
       "<tr>\n",
       "  <th>other_debtors_A103</th>    <td>   -0.7999</td> <td>    0.511</td> <td>   -1.565</td> <td> 0.118</td> <td>   -1.801</td> <td>    0.202</td>\n",
       "</tr>\n",
       "<tr>\n",
       "  <th>property_A122</th>         <td>    0.0704</td> <td>    0.323</td> <td>    0.218</td> <td> 0.828</td> <td>   -0.563</td> <td>    0.704</td>\n",
       "</tr>\n",
       "<tr>\n",
       "  <th>property_A123</th>         <td>    0.0532</td> <td>    0.296</td> <td>    0.180</td> <td> 0.858</td> <td>   -0.527</td> <td>    0.634</td>\n",
       "</tr>\n",
       "<tr>\n",
       "  <th>property_A124</th>         <td>    0.4850</td> <td>    0.528</td> <td>    0.918</td> <td> 0.359</td> <td>   -0.550</td> <td>    1.520</td>\n",
       "</tr>\n",
       "<tr>\n",
       "  <th>inst_plans_A142</th>       <td>    0.0597</td> <td>    0.552</td> <td>    0.108</td> <td> 0.914</td> <td>   -1.022</td> <td>    1.141</td>\n",
       "</tr>\n",
       "<tr>\n",
       "  <th>inst_plans_A143</th>       <td>   -0.6352</td> <td>    0.290</td> <td>   -2.187</td> <td> 0.029</td> <td>   -1.205</td> <td>   -0.066</td>\n",
       "</tr>\n",
       "<tr>\n",
       "  <th>housing_A152</th>          <td>   -0.4781</td> <td>    0.293</td> <td>   -1.629</td> <td> 0.103</td> <td>   -1.053</td> <td>    0.097</td>\n",
       "</tr>\n",
       "<tr>\n",
       "  <th>housing_A153</th>          <td>   -0.4394</td> <td>    0.596</td> <td>   -0.738</td> <td> 0.461</td> <td>   -1.607</td> <td>    0.728</td>\n",
       "</tr>\n",
       "<tr>\n",
       "  <th>job_A172</th>              <td>    0.5462</td> <td>    0.837</td> <td>    0.652</td> <td> 0.514</td> <td>   -1.095</td> <td>    2.187</td>\n",
       "</tr>\n",
       "<tr>\n",
       "  <th>job_A173</th>              <td>    0.4885</td> <td>    0.799</td> <td>    0.611</td> <td> 0.541</td> <td>   -1.078</td> <td>    2.054</td>\n",
       "</tr>\n",
       "<tr>\n",
       "  <th>job_A174</th>              <td>    0.4109</td> <td>    0.807</td> <td>    0.509</td> <td> 0.611</td> <td>   -1.170</td> <td>    1.992</td>\n",
       "</tr>\n",
       "<tr>\n",
       "  <th>telephone_A192</th>        <td>   -0.1555</td> <td>    0.256</td> <td>   -0.607</td> <td> 0.544</td> <td>   -0.657</td> <td>    0.346</td>\n",
       "</tr>\n",
       "<tr>\n",
       "  <th>foreign_worker_A202</th>   <td>   -1.0680</td> <td>    0.647</td> <td>   -1.652</td> <td> 0.099</td> <td>   -2.335</td> <td>    0.199</td>\n",
       "</tr>\n",
       "</table>"
      ],
      "text/plain": [
       "<class 'statsmodels.iolib.summary.Summary'>\n",
       "\"\"\"\n",
       "                           Logit Regression Results                           \n",
       "==============================================================================\n",
       "Dep. Variable:                 status   No. Observations:                  700\n",
       "Model:                          Logit   Df Residuals:                      651\n",
       "Method:                           MLE   Df Model:                           48\n",
       "Date:                Fri, 24 Aug 2018   Pseudo R-squ.:                  0.2992\n",
       "Time:                        00:11:28   Log-Likelihood:                -294.11\n",
       "converged:                       True   LL-Null:                       -419.70\n",
       "                                        LLR p-value:                 2.551e-29\n",
       "=========================================================================================\n",
       "                            coef    std err          z      P>|z|      [0.025      0.975]\n",
       "-----------------------------------------------------------------------------------------\n",
       "const                     0.8098      1.342      0.603      0.546      -1.820       3.440\n",
       "duration                  0.0349      0.011      3.086      0.002       0.013       0.057\n",
       "amount                 9.721e-05   5.45e-05      1.783      0.075   -9.68e-06       0.000\n",
       "inst_rate                 0.4017      0.109      3.695      0.000       0.189       0.615\n",
       "residing_since           -0.0100      0.108     -0.093      0.926      -0.221       0.201\n",
       "age                      -0.0313      0.012     -2.612      0.009      -0.055      -0.008\n",
       "num_credits               0.4260      0.235      1.815      0.069      -0.034       0.886\n",
       "dependents                0.6076      0.311      1.956      0.050      -0.001       1.217\n",
       "checkin_acc_A12          -0.2049      0.275     -0.745      0.456      -0.744       0.334\n",
       "checkin_acc_A13          -1.1321      0.476     -2.381      0.017      -2.064      -0.200\n",
       "checkin_acc_A14          -1.7853      0.291     -6.134      0.000      -2.356      -1.215\n",
       "credit_history_A31        0.2355      0.653      0.360      0.719      -1.045       1.516\n",
       "credit_history_A32       -0.7303      0.519     -1.408      0.159      -1.747       0.286\n",
       "credit_history_A33       -1.1204      0.588     -1.905      0.057      -2.273       0.032\n",
       "credit_history_A34       -1.6080      0.530     -3.035      0.002      -2.646      -0.570\n",
       "purpose_A41              -1.9288      0.487     -3.964      0.000      -2.882      -0.975\n",
       "purpose_A410             -2.3885      0.984     -2.428      0.015      -4.317      -0.460\n",
       "purpose_A42              -0.7119      0.327     -2.180      0.029      -1.352      -0.072\n",
       "purpose_A43              -1.0976      0.311     -3.528      0.000      -1.707      -0.488\n",
       "purpose_A44              -0.0038      0.847     -0.005      0.996      -1.664       1.656\n",
       "purpose_A45              -1.5408      0.901     -1.711      0.087      -3.306       0.225\n",
       "purpose_A46               0.0547      0.538      0.102      0.919      -0.999       1.109\n",
       "purpose_A48              -2.2377      1.235     -1.813      0.070      -4.657       0.182\n",
       "purpose_A49              -0.7900      0.409     -1.931      0.054      -1.592       0.012\n",
       "svaing_acc_A62           -0.5705      0.368     -1.549      0.121      -1.293       0.152\n",
       "svaing_acc_A63           -0.2112      0.475     -0.445      0.656      -1.141       0.719\n",
       "svaing_acc_A64           -2.1603      0.801     -2.697      0.007      -3.730      -0.590\n",
       "svaing_acc_A65           -1.1542      0.331     -3.489      0.000      -1.803      -0.506\n",
       "present_emp_since_A72    -0.5474      0.547     -1.002      0.317      -1.619       0.524\n",
       "present_emp_since_A73    -0.3983      0.521     -0.764      0.445      -1.420       0.623\n",
       "present_emp_since_A74    -0.9140      0.561     -1.628      0.104      -2.014       0.186\n",
       "present_emp_since_A75    -0.3406      0.528     -0.645      0.519      -1.376       0.695\n",
       "personal_status_A92      -0.3468      0.468     -0.741      0.459      -1.264       0.570\n",
       "personal_status_A93      -1.1375      0.460     -2.473      0.013      -2.039      -0.236\n",
       "personal_status_A94      -0.6038      0.542     -1.114      0.265      -1.666       0.459\n",
       "other_debtors_A102        0.6191      0.532      1.164      0.245      -0.424       1.662\n",
       "other_debtors_A103       -0.7999      0.511     -1.565      0.118      -1.801       0.202\n",
       "property_A122             0.0704      0.323      0.218      0.828      -0.563       0.704\n",
       "property_A123             0.0532      0.296      0.180      0.858      -0.527       0.634\n",
       "property_A124             0.4850      0.528      0.918      0.359      -0.550       1.520\n",
       "inst_plans_A142           0.0597      0.552      0.108      0.914      -1.022       1.141\n",
       "inst_plans_A143          -0.6352      0.290     -2.187      0.029      -1.205      -0.066\n",
       "housing_A152             -0.4781      0.293     -1.629      0.103      -1.053       0.097\n",
       "housing_A153             -0.4394      0.596     -0.738      0.461      -1.607       0.728\n",
       "job_A172                  0.5462      0.837      0.652      0.514      -1.095       2.187\n",
       "job_A173                  0.4885      0.799      0.611      0.541      -1.078       2.054\n",
       "job_A174                  0.4109      0.807      0.509      0.611      -1.170       1.992\n",
       "telephone_A192           -0.1555      0.256     -0.607      0.544      -0.657       0.346\n",
       "foreign_worker_A202      -1.0680      0.647     -1.652      0.099      -2.335       0.199\n",
       "=========================================================================================\n",
       "\"\"\""
      ]
     },
     "execution_count": 55,
     "metadata": {},
     "output_type": "execute_result"
    }
   ],
   "source": [
    "lg.summary()"
   ]
  },
  {
   "cell_type": "markdown",
   "metadata": {},
   "source": [
    "## def userSquare(x):\n",
    "    tempX = x*x\n",
    "    return(tempX)"
   ]
  },
  {
   "cell_type": "markdown",
   "metadata": {},
   "source": [
    "print (userSquare(2.5))"
   ]
  },
  {
   "cell_type": "markdown",
   "metadata": {},
   "source": [
    "### Find significant variables"
   ]
  },
  {
   "cell_type": "code",
   "execution_count": 57,
   "metadata": {
    "collapsed": true
   },
   "outputs": [],
   "source": [
    "def get_significant_vars( lm ):\n",
    "    var_p_vals_df = pd.DataFrame( lm.pvalues )\n",
    "    var_p_vals_df['vars'] = var_p_vals_df.index\n",
    "    var_p_vals_df.columns = ['pvals', 'vars']\n",
    "    return list( var_p_vals_df[var_p_vals_df.pvals <= 0.05]['vars'] )"
   ]
  },
  {
   "cell_type": "code",
   "execution_count": 61,
   "metadata": {
    "collapsed": true
   },
   "outputs": [],
   "source": [
    "significant_vars = get_significant_vars( lg )"
   ]
  },
  {
   "cell_type": "code",
   "execution_count": 62,
   "metadata": {},
   "outputs": [
    {
     "data": {
      "text/plain": [
       "['duration',\n",
       " 'amount',\n",
       " 'inst_rate',\n",
       " 'checkin_acc_A12',\n",
       " 'checkin_acc_A13',\n",
       " 'checkin_acc_A14',\n",
       " 'purpose_A41',\n",
       " 'purpose_A43',\n",
       " 'svaing_acc_A64',\n",
       " 'svaing_acc_A65',\n",
       " 'inst_plans_A143']"
      ]
     },
     "execution_count": 62,
     "metadata": {},
     "output_type": "execute_result"
    }
   ],
   "source": [
    "significant_vars"
   ]
  },
  {
   "cell_type": "markdown",
   "metadata": {},
   "source": [
    "### Predict Test Data and Measure Accuracy"
   ]
  },
  {
   "cell_type": "code",
   "execution_count": 85,
   "metadata": {
    "collapsed": true
   },
   "outputs": [],
   "source": [
    "from sklearn import metrics"
   ]
  },
  {
   "cell_type": "code",
   "execution_count": 86,
   "metadata": {
    "collapsed": true
   },
   "outputs": [],
   "source": [
    "def get_predictions( y_test, model ):\n",
    "    y_pred_df = pd.DataFrame( { 'actual': y_test,\n",
    "                               \"predicted_prob\": model.predict( sm.add_constant( x_test ) ) } )\n",
    "    return y_pred_df"
   ]
  },
  {
   "cell_type": "code",
   "execution_count": 87,
   "metadata": {
    "collapsed": true
   },
   "outputs": [],
   "source": [
    "y_pred_df = get_predictions( y_test, lg )"
   ]
  },
  {
   "cell_type": "code",
   "execution_count": 88,
   "metadata": {},
   "outputs": [
    {
     "data": {
      "text/html": [
       "<div>\n",
       "<style>\n",
       "    .dataframe thead tr:only-child th {\n",
       "        text-align: right;\n",
       "    }\n",
       "\n",
       "    .dataframe thead th {\n",
       "        text-align: left;\n",
       "    }\n",
       "\n",
       "    .dataframe tbody tr th {\n",
       "        vertical-align: top;\n",
       "    }\n",
       "</style>\n",
       "<table border=\"1\" class=\"dataframe\">\n",
       "  <thead>\n",
       "    <tr style=\"text-align: right;\">\n",
       "      <th></th>\n",
       "      <th>actual</th>\n",
       "      <th>predicted_prob</th>\n",
       "    </tr>\n",
       "  </thead>\n",
       "  <tbody>\n",
       "    <tr>\n",
       "      <th>926</th>\n",
       "      <td>0</td>\n",
       "      <td>0.687465</td>\n",
       "    </tr>\n",
       "    <tr>\n",
       "      <th>602</th>\n",
       "      <td>1</td>\n",
       "      <td>0.739348</td>\n",
       "    </tr>\n",
       "  </tbody>\n",
       "</table>\n",
       "</div>"
      ],
      "text/plain": [
       "     actual  predicted_prob\n",
       "926       0        0.687465\n",
       "602       1        0.739348"
      ]
     },
     "execution_count": 88,
     "metadata": {},
     "output_type": "execute_result"
    }
   ],
   "source": [
    "y_pred_df.head(2)"
   ]
  },
  {
   "cell_type": "markdown",
   "metadata": {},
   "source": [
    "#### Status_1 columns provides the predicted probability for the default classes"
   ]
  },
  {
   "cell_type": "code",
   "execution_count": 163,
   "metadata": {},
   "outputs": [
    {
     "data": {
      "text/html": [
       "<div>\n",
       "<style>\n",
       "    .dataframe thead tr:only-child th {\n",
       "        text-align: right;\n",
       "    }\n",
       "\n",
       "    .dataframe thead th {\n",
       "        text-align: left;\n",
       "    }\n",
       "\n",
       "    .dataframe tbody tr th {\n",
       "        vertical-align: top;\n",
       "    }\n",
       "</style>\n",
       "<table border=\"1\" class=\"dataframe\">\n",
       "  <thead>\n",
       "    <tr style=\"text-align: right;\">\n",
       "      <th></th>\n",
       "      <th>actual</th>\n",
       "      <th>predicted_prob</th>\n",
       "      <th>predicted</th>\n",
       "      <th>predicted_new</th>\n",
       "      <th>predicted_final</th>\n",
       "    </tr>\n",
       "  </thead>\n",
       "  <tbody>\n",
       "    <tr>\n",
       "      <th>926</th>\n",
       "      <td>0</td>\n",
       "      <td>0.687465</td>\n",
       "      <td>1</td>\n",
       "      <td>1</td>\n",
       "      <td>1</td>\n",
       "    </tr>\n",
       "    <tr>\n",
       "      <th>602</th>\n",
       "      <td>1</td>\n",
       "      <td>0.739348</td>\n",
       "      <td>1</td>\n",
       "      <td>1</td>\n",
       "      <td>1</td>\n",
       "    </tr>\n",
       "    <tr>\n",
       "      <th>526</th>\n",
       "      <td>0</td>\n",
       "      <td>0.163382</td>\n",
       "      <td>0</td>\n",
       "      <td>0</td>\n",
       "      <td>0</td>\n",
       "    </tr>\n",
       "    <tr>\n",
       "      <th>646</th>\n",
       "      <td>0</td>\n",
       "      <td>0.699043</td>\n",
       "      <td>1</td>\n",
       "      <td>1</td>\n",
       "      <td>1</td>\n",
       "    </tr>\n",
       "    <tr>\n",
       "      <th>892</th>\n",
       "      <td>0</td>\n",
       "      <td>0.415038</td>\n",
       "      <td>0</td>\n",
       "      <td>1</td>\n",
       "      <td>1</td>\n",
       "    </tr>\n",
       "    <tr>\n",
       "      <th>241</th>\n",
       "      <td>0</td>\n",
       "      <td>0.027034</td>\n",
       "      <td>0</td>\n",
       "      <td>0</td>\n",
       "      <td>0</td>\n",
       "    </tr>\n",
       "    <tr>\n",
       "      <th>4</th>\n",
       "      <td>1</td>\n",
       "      <td>0.848478</td>\n",
       "      <td>1</td>\n",
       "      <td>1</td>\n",
       "      <td>1</td>\n",
       "    </tr>\n",
       "    <tr>\n",
       "      <th>695</th>\n",
       "      <td>0</td>\n",
       "      <td>0.029006</td>\n",
       "      <td>0</td>\n",
       "      <td>0</td>\n",
       "      <td>0</td>\n",
       "    </tr>\n",
       "    <tr>\n",
       "      <th>614</th>\n",
       "      <td>1</td>\n",
       "      <td>0.070280</td>\n",
       "      <td>0</td>\n",
       "      <td>0</td>\n",
       "      <td>0</td>\n",
       "    </tr>\n",
       "    <tr>\n",
       "      <th>618</th>\n",
       "      <td>1</td>\n",
       "      <td>0.649222</td>\n",
       "      <td>1</td>\n",
       "      <td>1</td>\n",
       "      <td>1</td>\n",
       "    </tr>\n",
       "  </tbody>\n",
       "</table>\n",
       "</div>"
      ],
      "text/plain": [
       "     actual  predicted_prob  predicted  predicted_new  predicted_final\n",
       "926       0        0.687465          1              1                1\n",
       "602       1        0.739348          1              1                1\n",
       "526       0        0.163382          0              0                0\n",
       "646       0        0.699043          1              1                1\n",
       "892       0        0.415038          0              1                1\n",
       "241       0        0.027034          0              0                0\n",
       "4         1        0.848478          1              1                1\n",
       "695       0        0.029006          0              0                0\n",
       "614       1        0.070280          0              0                0\n",
       "618       1        0.649222          1              1                1"
      ]
     },
     "execution_count": 163,
     "metadata": {},
     "output_type": "execute_result"
    }
   ],
   "source": [
    "y_pred_df[0:10]"
   ]
  },
  {
   "cell_type": "code",
   "execution_count": 116,
   "metadata": {
    "collapsed": true
   },
   "outputs": [],
   "source": [
    "y_pred_df['predicted'] = y_pred_df.predicted_prob.map( lambda x: 1 if x > 0.5 else 0)"
   ]
  },
  {
   "cell_type": "code",
   "execution_count": 117,
   "metadata": {},
   "outputs": [
    {
     "data": {
      "text/html": [
       "<div>\n",
       "<style>\n",
       "    .dataframe thead tr:only-child th {\n",
       "        text-align: right;\n",
       "    }\n",
       "\n",
       "    .dataframe thead th {\n",
       "        text-align: left;\n",
       "    }\n",
       "\n",
       "    .dataframe tbody tr th {\n",
       "        vertical-align: top;\n",
       "    }\n",
       "</style>\n",
       "<table border=\"1\" class=\"dataframe\">\n",
       "  <thead>\n",
       "    <tr style=\"text-align: right;\">\n",
       "      <th></th>\n",
       "      <th>actual</th>\n",
       "      <th>predicted_prob</th>\n",
       "      <th>predicted</th>\n",
       "    </tr>\n",
       "  </thead>\n",
       "  <tbody>\n",
       "    <tr>\n",
       "      <th>926</th>\n",
       "      <td>0</td>\n",
       "      <td>0.687465</td>\n",
       "      <td>1</td>\n",
       "    </tr>\n",
       "    <tr>\n",
       "      <th>602</th>\n",
       "      <td>1</td>\n",
       "      <td>0.739348</td>\n",
       "      <td>1</td>\n",
       "    </tr>\n",
       "    <tr>\n",
       "      <th>526</th>\n",
       "      <td>0</td>\n",
       "      <td>0.163382</td>\n",
       "      <td>0</td>\n",
       "    </tr>\n",
       "    <tr>\n",
       "      <th>646</th>\n",
       "      <td>0</td>\n",
       "      <td>0.699043</td>\n",
       "      <td>1</td>\n",
       "    </tr>\n",
       "    <tr>\n",
       "      <th>892</th>\n",
       "      <td>0</td>\n",
       "      <td>0.415038</td>\n",
       "      <td>0</td>\n",
       "    </tr>\n",
       "    <tr>\n",
       "      <th>241</th>\n",
       "      <td>0</td>\n",
       "      <td>0.027034</td>\n",
       "      <td>0</td>\n",
       "    </tr>\n",
       "    <tr>\n",
       "      <th>4</th>\n",
       "      <td>1</td>\n",
       "      <td>0.848478</td>\n",
       "      <td>1</td>\n",
       "    </tr>\n",
       "    <tr>\n",
       "      <th>695</th>\n",
       "      <td>0</td>\n",
       "      <td>0.029006</td>\n",
       "      <td>0</td>\n",
       "    </tr>\n",
       "    <tr>\n",
       "      <th>614</th>\n",
       "      <td>1</td>\n",
       "      <td>0.070280</td>\n",
       "      <td>0</td>\n",
       "    </tr>\n",
       "    <tr>\n",
       "      <th>618</th>\n",
       "      <td>1</td>\n",
       "      <td>0.649222</td>\n",
       "      <td>1</td>\n",
       "    </tr>\n",
       "  </tbody>\n",
       "</table>\n",
       "</div>"
      ],
      "text/plain": [
       "     actual  predicted_prob  predicted\n",
       "926       0        0.687465          1\n",
       "602       1        0.739348          1\n",
       "526       0        0.163382          0\n",
       "646       0        0.699043          1\n",
       "892       0        0.415038          0\n",
       "241       0        0.027034          0\n",
       "4         1        0.848478          1\n",
       "695       0        0.029006          0\n",
       "614       1        0.070280          0\n",
       "618       1        0.649222          1"
      ]
     },
     "execution_count": 117,
     "metadata": {},
     "output_type": "execute_result"
    }
   ],
   "source": [
    "y_pred_df[0:10]"
   ]
  },
  {
   "cell_type": "markdown",
   "metadata": {},
   "source": [
    "### Create confusion matrix to find out Sensitivity and specificity"
   ]
  },
  {
   "cell_type": "code",
   "execution_count": 118,
   "metadata": {
    "collapsed": true
   },
   "outputs": [],
   "source": [
    "import matplotlib.pylab as plt\n",
    "import seaborn as sn\n",
    "%matplotlib inline "
   ]
  },
  {
   "cell_type": "code",
   "execution_count": 119,
   "metadata": {
    "collapsed": true
   },
   "outputs": [],
   "source": [
    "def draw_cm( actual, predicted ):\n",
    "    cm = metrics.confusion_matrix( actual, predicted, [1,0] )\n",
    "    sn.heatmap(cm, annot=True,  fmt='.2f', xticklabels = [\"Default\", \"No Default\"] , yticklabels = [\"Default\", \"No Default\"] )\n",
    "    plt.ylabel('True label')\n",
    "    plt.xlabel('Predicted label')\n",
    "    plt.show()"
   ]
  },
  {
   "cell_type": "code",
   "execution_count": 120,
   "metadata": {},
   "outputs": [
    {
     "data": {
      "text/plain": [
       "array([[180,  31],\n",
       "       [ 41,  48]], dtype=int64)"
      ]
     },
     "execution_count": 120,
     "metadata": {},
     "output_type": "execute_result"
    }
   ],
   "source": [
    " metrics.confusion_matrix( y_pred_df.actual, y_pred_df.predicted)"
   ]
  },
  {
   "cell_type": "code",
   "execution_count": 121,
   "metadata": {},
   "outputs": [
    {
     "data": {
      "image/png": "[encoded data removed]",
      "text/plain": [
       "<matplotlib.figure.Figure at 0x19e633282e8>"
      ]
     },
     "metadata": {},
     "output_type": "display_data"
    }
   ],
   "source": [
    "\n",
    "draw_cm( y_pred_df.actual, y_pred_df.predicted )"
   ]
  },
  {
   "cell_type": "markdown",
   "metadata": {
    "collapsed": true
   },
   "source": [
    "Note: the model could only predict very few default classes."
   ]
  },
  {
   "cell_type": "markdown",
   "metadata": {
    "collapsed": true
   },
   "source": [
    "#### Overall accuracy of the model "
   ]
  },
  {
   "cell_type": "code",
   "execution_count": 122,
   "metadata": {},
   "outputs": [
    {
     "name": "stdout",
     "output_type": "stream",
     "text": [
      "Total Accuracy :  0.76\n"
     ]
    }
   ],
   "source": [
    "print( 'Total Accuracy : ',np.round( metrics.accuracy_score( y_test, y_pred_df.predicted ), 2 ) )"
   ]
  },
  {
   "cell_type": "code",
   "execution_count": 123,
   "metadata": {},
   "outputs": [
    {
     "name": "stdout",
     "output_type": "stream",
     "text": [
      "Precision :  0.61\n"
     ]
    }
   ],
   "source": [
    "print( 'Precision : ',np.round( metrics.precision_score( y_test, y_pred_df.predicted ), 2 ) )"
   ]
  },
  {
   "cell_type": "code",
   "execution_count": 124,
   "metadata": {},
   "outputs": [
    {
     "name": "stdout",
     "output_type": "stream",
     "text": [
      "Recall :  0.54\n"
     ]
    }
   ],
   "source": [
    "print( 'Recall : ',np.round( metrics.recall_score( y_test, y_pred_df.predicted ), 2 ) )"
   ]
  },
  {
   "cell_type": "code",
   "execution_count": 125,
   "metadata": {
    "collapsed": true
   },
   "outputs": [],
   "source": [
    "cm1 = metrics.confusion_matrix( y_pred_df.actual, y_pred_df.predicted, [1,0] )"
   ]
  },
  {
   "cell_type": "code",
   "execution_count": 126,
   "metadata": {
    "collapsed": true
   },
   "outputs": [],
   "source": [
    "sensitivity = cm1[0,0]/(cm1[0,0]+cm1[0,1])"
   ]
  },
  {
   "cell_type": "code",
   "execution_count": 127,
   "metadata": {},
   "outputs": [
    {
     "name": "stdout",
     "output_type": "stream",
     "text": [
      "Sensitivity :  0.54\n"
     ]
    }
   ],
   "source": [
    "print('Sensitivity : ', round( sensitivity, 2) )"
   ]
  },
  {
   "cell_type": "code",
   "execution_count": 128,
   "metadata": {
    "collapsed": true
   },
   "outputs": [],
   "source": [
    "specificity = cm1[1,1]/(cm1[1,0]+cm1[1,1])"
   ]
  },
  {
   "cell_type": "code",
   "execution_count": 129,
   "metadata": {},
   "outputs": [
    {
     "name": "stdout",
     "output_type": "stream",
     "text": [
      "Specificity :  0.85\n"
     ]
    }
   ],
   "source": [
    "print('Specificity : ', round( specificity, 2 ) )"
   ]
  },
  {
   "cell_type": "markdown",
   "metadata": {},
   "source": [
    "### Predicted Probability distribution Plots for Defaults and Non Defaults "
   ]
  },
  {
   "cell_type": "code",
   "execution_count": 130,
   "metadata": {},
   "outputs": [
    {
     "data": {
      "text/plain": [
       "<matplotlib.axes._subplots.AxesSubplot at 0x19e63366518>"
      ]
     },
     "execution_count": 130,
     "metadata": {},
     "output_type": "execute_result"
    },
    {
     "data": {
      "image/png": "[encoded data removed]",
      "text/plain": [
       "<matplotlib.figure.Figure at 0x19e632b6978>"
      ]
     },
     "metadata": {},
     "output_type": "display_data"
    }
   ],
   "source": [
    "sn.distplot( y_pred_df[y_pred_df.actual == 1][\"predicted_prob\"], kde=False, color = 'b' )\n",
    "sn.distplot( y_pred_df[y_pred_df.actual == 0][\"predicted_prob\"], kde=False, color = 'g' )"
   ]
  },
  {
   "cell_type": "markdown",
   "metadata": {},
   "source": [
    "### Draw ROC Plot"
   ]
  },
  {
   "cell_type": "code",
   "execution_count": 131,
   "metadata": {},
   "outputs": [
    {
     "data": {
      "text/plain": [
       "0.79"
      ]
     },
     "execution_count": 131,
     "metadata": {},
     "output_type": "execute_result"
    }
   ],
   "source": [
    "auc_score = metrics.roc_auc_score( y_pred_df.actual, y_pred_df.predicted_prob  )\n",
    "round( float( auc_score ), 2 )"
   ]
  },
  {
   "cell_type": "code",
   "execution_count": 132,
   "metadata": {
    "collapsed": true
   },
   "outputs": [],
   "source": [
    "def draw_roc( actual, probs ):\n",
    "    fpr, tpr, thresholds = metrics.roc_curve( actual, probs,\n",
    "                                              drop_intermediate = False )\n",
    "    auc_score = metrics.roc_auc_score( actual, probs )\n",
    "    plt.figure(figsize=(6, 4))\n",
    "    plt.plot( fpr, tpr, label='ROC curve (area = %0.2f)' % auc_score )\n",
    "    plt.plot([0, 1], [0, 1], 'k--')\n",
    "    plt.xlim([0.0, 1.0])\n",
    "    plt.ylim([0.0, 1.05])\n",
    "    plt.xlabel('False Positive Rate or [1 - True Negative Rate]')\n",
    "    plt.ylabel('True Positive Rate')\n",
    "    plt.title('Receiver operating characteristic example')\n",
    "    plt.legend(loc=\"lower right\")\n",
    "    plt.show()\n",
    "\n",
    "    return fpr, tpr, thresholds"
   ]
  },
  {
   "cell_type": "code",
   "execution_count": 133,
   "metadata": {},
   "outputs": [
    {
     "data": {
      "image/png": "[encoded data removed]",
      "text/plain": [
       "<matplotlib.figure.Figure at 0x19e63541278>"
      ]
     },
     "metadata": {},
     "output_type": "display_data"
    }
   ],
   "source": [
    "fpr, tpr, thresholds = draw_roc( y_pred_df.actual, y_pred_df.predicted_prob )"
   ]
  },
  {
   "cell_type": "markdown",
   "metadata": {},
   "source": [
    "### Draw ROC Plot"
   ]
  },
  {
   "cell_type": "code",
   "execution_count": 134,
   "metadata": {},
   "outputs": [
    {
     "data": {
      "text/plain": [
       "array([ 0.94523454,  0.94160915,  0.91746706,  0.91502741,  0.91103023,\n",
       "        0.89528722,  0.88811393,  0.87505005,  0.87146005,  0.86907536])"
      ]
     },
     "execution_count": 134,
     "metadata": {},
     "output_type": "execute_result"
    }
   ],
   "source": [
    "thresholds[0:10]"
   ]
  },
  {
   "cell_type": "code",
   "execution_count": 135,
   "metadata": {},
   "outputs": [
    {
     "data": {
      "text/plain": [
       "array([ 0.        ,  0.        ,  0.00473934,  0.00473934,  0.00473934,\n",
       "        0.00473934,  0.00473934,  0.00947867,  0.00947867,  0.00947867])"
      ]
     },
     "execution_count": 135,
     "metadata": {},
     "output_type": "execute_result"
    }
   ],
   "source": [
    "fpr[0:10]"
   ]
  },
  {
   "cell_type": "code",
   "execution_count": 136,
   "metadata": {},
   "outputs": [
    {
     "data": {
      "text/plain": [
       "array([ 0.01123596,  0.02247191,  0.02247191,  0.03370787,  0.04494382,\n",
       "        0.05617978,  0.06741573,  0.06741573,  0.07865169,  0.08988764])"
      ]
     },
     "execution_count": 136,
     "metadata": {},
     "output_type": "execute_result"
    }
   ],
   "source": [
    "tpr[0:10]"
   ]
  },
  {
   "cell_type": "code",
   "execution_count": null,
   "metadata": {
    "collapsed": true
   },
   "outputs": [],
   "source": []
  },
  {
   "cell_type": "markdown",
   "metadata": {},
   "source": [
    "### Find optimal cutoff probability using yoden's index"
   ]
  },
  {
   "cell_type": "markdown",
   "metadata": {},
   "source": [
    "1. Youden's index is where (Sensitivity+Specificity - 1) is maximum.\n",
    "\n",
    "That is when (TPR+TNR -1) is maximum.\n",
    "\n",
    "max( TPR - (1 - TNR) )\n",
    "\n",
    "max( TPR - FPR )"
   ]
  },
  {
   "cell_type": "code",
   "execution_count": 141,
   "metadata": {
    "collapsed": true
   },
   "outputs": [],
   "source": [
    "tpr_fpr = pd.DataFrame( { 'tpr': tpr, 'fpr': fpr, 'thresholds': thresholds } )"
   ]
  },
  {
   "cell_type": "code",
   "execution_count": 142,
   "metadata": {
    "collapsed": true
   },
   "outputs": [],
   "source": [
    "tpr_fpr['diff'] = tpr_fpr.tpr - tpr_fpr.fpr"
   ]
  },
  {
   "cell_type": "code",
   "execution_count": 143,
   "metadata": {},
   "outputs": [
    {
     "data": {
      "text/html": [
       "<div>\n",
       "<style>\n",
       "    .dataframe thead tr:only-child th {\n",
       "        text-align: right;\n",
       "    }\n",
       "\n",
       "    .dataframe thead th {\n",
       "        text-align: left;\n",
       "    }\n",
       "\n",
       "    .dataframe tbody tr th {\n",
       "        vertical-align: top;\n",
       "    }\n",
       "</style>\n",
       "<table border=\"1\" class=\"dataframe\">\n",
       "  <thead>\n",
       "    <tr style=\"text-align: right;\">\n",
       "      <th></th>\n",
       "      <th>fpr</th>\n",
       "      <th>thresholds</th>\n",
       "      <th>tpr</th>\n",
       "      <th>diff</th>\n",
       "    </tr>\n",
       "  </thead>\n",
       "  <tbody>\n",
       "    <tr>\n",
       "      <th>118</th>\n",
       "      <td>0.255924</td>\n",
       "      <td>0.346228</td>\n",
       "      <td>0.730337</td>\n",
       "      <td>0.474413</td>\n",
       "    </tr>\n",
       "    <tr>\n",
       "      <th>125</th>\n",
       "      <td>0.279621</td>\n",
       "      <td>0.294715</td>\n",
       "      <td>0.752809</td>\n",
       "      <td>0.473188</td>\n",
       "    </tr>\n",
       "    <tr>\n",
       "      <th>119</th>\n",
       "      <td>0.260664</td>\n",
       "      <td>0.343883</td>\n",
       "      <td>0.730337</td>\n",
       "      <td>0.469674</td>\n",
       "    </tr>\n",
       "    <tr>\n",
       "      <th>126</th>\n",
       "      <td>0.284360</td>\n",
       "      <td>0.294075</td>\n",
       "      <td>0.752809</td>\n",
       "      <td>0.468449</td>\n",
       "    </tr>\n",
       "    <tr>\n",
       "      <th>120</th>\n",
       "      <td>0.265403</td>\n",
       "      <td>0.331257</td>\n",
       "      <td>0.730337</td>\n",
       "      <td>0.464934</td>\n",
       "    </tr>\n",
       "    <tr>\n",
       "      <th>127</th>\n",
       "      <td>0.289100</td>\n",
       "      <td>0.287429</td>\n",
       "      <td>0.752809</td>\n",
       "      <td>0.463709</td>\n",
       "    </tr>\n",
       "    <tr>\n",
       "      <th>117</th>\n",
       "      <td>0.255924</td>\n",
       "      <td>0.347021</td>\n",
       "      <td>0.719101</td>\n",
       "      <td>0.463177</td>\n",
       "    </tr>\n",
       "    <tr>\n",
       "      <th>124</th>\n",
       "      <td>0.279621</td>\n",
       "      <td>0.314369</td>\n",
       "      <td>0.741573</td>\n",
       "      <td>0.461952</td>\n",
       "    </tr>\n",
       "    <tr>\n",
       "      <th>121</th>\n",
       "      <td>0.270142</td>\n",
       "      <td>0.330572</td>\n",
       "      <td>0.730337</td>\n",
       "      <td>0.460195</td>\n",
       "    </tr>\n",
       "    <tr>\n",
       "      <th>128</th>\n",
       "      <td>0.293839</td>\n",
       "      <td>0.287198</td>\n",
       "      <td>0.752809</td>\n",
       "      <td>0.458970</td>\n",
       "    </tr>\n",
       "  </tbody>\n",
       "</table>\n",
       "</div>"
      ],
      "text/plain": [
       "          fpr  thresholds       tpr      diff\n",
       "118  0.255924    0.346228  0.730337  0.474413\n",
       "125  0.279621    0.294715  0.752809  0.473188\n",
       "119  0.260664    0.343883  0.730337  0.469674\n",
       "126  0.284360    0.294075  0.752809  0.468449\n",
       "120  0.265403    0.331257  0.730337  0.464934\n",
       "127  0.289100    0.287429  0.752809  0.463709\n",
       "117  0.255924    0.347021  0.719101  0.463177\n",
       "124  0.279621    0.314369  0.741573  0.461952\n",
       "121  0.270142    0.330572  0.730337  0.460195\n",
       "128  0.293839    0.287198  0.752809  0.458970"
      ]
     },
     "execution_count": 143,
     "metadata": {},
     "output_type": "execute_result"
    }
   ],
   "source": [
    "tpr_fpr.sort_values( 'diff', ascending = False )[0:10]"
   ]
  },
  {
   "cell_type": "code",
   "execution_count": 150,
   "metadata": {
    "collapsed": true
   },
   "outputs": [],
   "source": [
    "y_pred_df['predicted_new'] = y_pred_df.predicted_prob.map( lambda x: 1 if x > 0.34 else 0) ##(the least treshold from above)"
   ]
  },
  {
   "cell_type": "code",
   "execution_count": 151,
   "metadata": {},
   "outputs": [
    {
     "data": {
      "image/png": "[encoded data removed]",
      "text/plain": [
       "<matplotlib.figure.Figure at 0x19e6371b080>"
      ]
     },
     "metadata": {},
     "output_type": "display_data"
    }
   ],
   "source": [
    "draw_cm( y_pred_df.actual, y_pred_df.predicted_new )"
   ]
  },
  {
   "cell_type": "code",
   "execution_count": null,
   "metadata": {
    "collapsed": true
   },
   "outputs": [],
   "source": []
  },
  {
   "cell_type": "markdown",
   "metadata": {},
   "source": [
    "### Find optimal cutoff probability using cost"
   ]
  },
  {
   "cell_type": "code",
   "execution_count": 152,
   "metadata": {
    "collapsed": true
   },
   "outputs": [],
   "source": [
    "cm = metrics.confusion_matrix( y_pred_df.actual, y_pred_df.predicted_new, [1,0] )"
   ]
  },
  {
   "cell_type": "code",
   "execution_count": 153,
   "metadata": {
    "collapsed": true
   },
   "outputs": [],
   "source": [
    "cm_mat = np.array( cm )"
   ]
  },
  {
   "cell_type": "code",
   "execution_count": 154,
   "metadata": {},
   "outputs": [
    {
     "data": {
      "text/plain": [
       "60"
      ]
     },
     "execution_count": 154,
     "metadata": {},
     "output_type": "execute_result"
    }
   ],
   "source": [
    "cm_mat[1, 0]"
   ]
  },
  {
   "cell_type": "code",
   "execution_count": 155,
   "metadata": {},
   "outputs": [
    {
     "data": {
      "text/plain": [
       "22"
      ]
     },
     "execution_count": 155,
     "metadata": {},
     "output_type": "execute_result"
    }
   ],
   "source": [
    "cm_mat[0, 1]"
   ]
  },
  {
   "cell_type": "code",
   "execution_count": 156,
   "metadata": {
    "collapsed": true
   },
   "outputs": [],
   "source": [
    "def get_total_cost( actual, predicted ):\n",
    "    cm = metrics.confusion_matrix( actual, predicted, [1,0] )\n",
    "    cm_mat = np.array( cm )\n",
    "    return cm_mat[0,1] * 2 + cm_mat[0,1] * 1"
   ]
  },
  {
   "cell_type": "code",
   "execution_count": 157,
   "metadata": {},
   "outputs": [
    {
     "data": {
      "text/plain": [
       "66"
      ]
     },
     "execution_count": 157,
     "metadata": {},
     "output_type": "execute_result"
    }
   ],
   "source": [
    "get_total_cost( y_pred_df.actual, y_pred_df.predicted_new )"
   ]
  },
  {
   "cell_type": "code",
   "execution_count": 158,
   "metadata": {
    "collapsed": true
   },
   "outputs": [],
   "source": [
    "cost_df = pd.DataFrame( columns = ['prob', 'cost'])"
   ]
  },
  {
   "cell_type": "code",
   "execution_count": 159,
   "metadata": {
    "collapsed": true
   },
   "outputs": [],
   "source": [
    "idx = 0\n",
    "for each_prob in range( 20, 50):\n",
    "    cost = get_total_cost( y_pred_df.actual,\n",
    "                          y_pred_df.predicted_prob.map(\n",
    "            lambda x: 1 if x > (each_prob/100)  else 0) )\n",
    "    cost_df.loc[idx] = [(each_prob/100), cost]\n",
    "    idx += 1"
   ]
  },
  {
   "cell_type": "code",
   "execution_count": 160,
   "metadata": {},
   "outputs": [
    {
     "data": {
      "text/html": [
       "<div>\n",
       "<style>\n",
       "    .dataframe thead tr:only-child th {\n",
       "        text-align: right;\n",
       "    }\n",
       "\n",
       "    .dataframe thead th {\n",
       "        text-align: left;\n",
       "    }\n",
       "\n",
       "    .dataframe tbody tr th {\n",
       "        vertical-align: top;\n",
       "    }\n",
       "</style>\n",
       "<table border=\"1\" class=\"dataframe\">\n",
       "  <thead>\n",
       "    <tr style=\"text-align: right;\">\n",
       "      <th></th>\n",
       "      <th>prob</th>\n",
       "      <th>cost</th>\n",
       "    </tr>\n",
       "  </thead>\n",
       "  <tbody>\n",
       "    <tr>\n",
       "      <th>0</th>\n",
       "      <td>0.20</td>\n",
       "      <td>45.0</td>\n",
       "    </tr>\n",
       "    <tr>\n",
       "      <th>1</th>\n",
       "      <td>0.21</td>\n",
       "      <td>51.0</td>\n",
       "    </tr>\n",
       "    <tr>\n",
       "      <th>2</th>\n",
       "      <td>0.22</td>\n",
       "      <td>51.0</td>\n",
       "    </tr>\n",
       "    <tr>\n",
       "      <th>3</th>\n",
       "      <td>0.23</td>\n",
       "      <td>51.0</td>\n",
       "    </tr>\n",
       "    <tr>\n",
       "      <th>4</th>\n",
       "      <td>0.24</td>\n",
       "      <td>57.0</td>\n",
       "    </tr>\n",
       "  </tbody>\n",
       "</table>\n",
       "</div>"
      ],
      "text/plain": [
       "   prob  cost\n",
       "0  0.20  45.0\n",
       "1  0.21  51.0\n",
       "2  0.22  51.0\n",
       "3  0.23  51.0\n",
       "4  0.24  57.0"
      ]
     },
     "execution_count": 160,
     "metadata": {},
     "output_type": "execute_result"
    }
   ],
   "source": [
    "cost_df.sort_values( 'cost', ascending = True )[0:5]"
   ]
  },
  {
   "cell_type": "code",
   "execution_count": 161,
   "metadata": {
    "collapsed": true
   },
   "outputs": [],
   "source": [
    "y_pred_df['predicted_final'] = y_pred_df.predicted_prob.map( lambda x: 1 if x > 0.20 else 0)"
   ]
  },
  {
   "cell_type": "code",
   "execution_count": 162,
   "metadata": {},
   "outputs": [
    {
     "data": {
      "image/png": "[encoded data removed]",
      "text/plain": [
       "<matplotlib.figure.Figure at 0x19e6371bd30>"
      ]
     },
     "metadata": {},
     "output_type": "display_data"
    }
   ],
   "source": [
    "draw_cm( y_pred_df.actual, y_pred_df.predicted_final )"
   ]
  },
  {
   "cell_type": "markdown",
   "metadata": {},
   "source": [
    "Note: Predicting Defaults as No Defaults have been minimized"
   ]
  },
  {
   "cell_type": "code",
   "execution_count": 73,
   "metadata": {},
   "outputs": [
    {
     "name": "stdout",
     "output_type": "stream",
     "text": [
      "Total Accuracy :  0.66\n",
      "Precision :  0.46\n",
      "Recall :  0.78\n",
      "Sensitivity :  0.78\n",
      "Specificity :  0.61\n"
     ]
    }
   ],
   "source": [
    "print( 'Total Accuracy : ',np.round( metrics.accuracy_score( y_test, y_pred_df.predicted_final ), 2 ) )\n",
    "print( 'Precision : ',np.round( metrics.precision_score( y_test, y_pred_df.predicted_final ), 2 ) )\n",
    "print( 'Recall : ',np.round( metrics.recall_score( y_test, y_pred_df.predicted_final ), 2 ) )\n",
    "\n",
    "cm1 = metrics.confusion_matrix( y_pred_df.actual, y_pred_df.predicted_final, [1,0] )\n",
    "\n",
    "sensitivity = cm1[0,0]/(cm1[0,0]+cm1[0,1])\n",
    "print('Sensitivity : ', round( sensitivity, 2) )\n",
    "\n",
    "specificity = cm1[1,1]/(cm1[1,0]+cm1[1,1])\n",
    "print('Specificity : ', round( specificity, 2 ) )"
   ]
  },
  {
   "cell_type": "markdown",
   "metadata": {},
   "source": [
    "## Note: Total accuracy of the model is 67%, becuase the objective is not to improve total accuracy but minimize the quadrants that contribute to the cost."
   ]
  }
 ],
 "metadata": {
  "kernelspec": {
   "display_name": "Python 3",
   "language": "python",
   "name": "python3"
  },
  "language_info": {
   "codemirror_mode": {
    "name": "ipython",
    "version": 3
   },
   "file_extension": ".py",
   "mimetype": "text/x-python",
   "name": "python",
   "nbconvert_exporter": "python",
   "pygments_lexer": "ipython3",
   "version": "3.6.3"
  }
 },
 "nbformat": 4,
 "nbformat_minor": 2
}
