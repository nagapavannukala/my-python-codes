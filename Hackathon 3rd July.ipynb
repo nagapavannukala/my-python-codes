{
 "cells": [
  {
   "cell_type": "markdown",
   "metadata": {},
   "source": [
    "# NUKALA NAGA PAVAN\n",
    "# A.NITHIN\n",
    "# T.G.KIRAN"
   ]
  },
  {
   "cell_type": "markdown",
   "metadata": {},
   "source": [
    "## Random Forest Model on DEV_SAMPLE and HOLDOUT_SAMPLE"
   ]
  },
  {
   "cell_type": "code",
   "execution_count": 217,
   "metadata": {
    "collapsed": true
   },
   "outputs": [],
   "source": [
    "import numpy as np\n",
    "import pandas as pd\n",
    "import matplotlib.pyplot as plt\n",
    "import seaborn as sns\n",
    "%matplotlib inline\n",
    "sns.set(color_codes=True)"
   ]
  },
  {
   "cell_type": "markdown",
   "metadata": {},
   "source": [
    "## Importing the Data and EDA"
   ]
  },
  {
   "cell_type": "code",
   "execution_count": 218,
   "metadata": {
    "collapsed": true
   },
   "outputs": [],
   "source": [
    "train = pd.read_csv( \"DEV_SAMPLE.csv\" )\n",
    "test = pd.read_csv( \"HOLDOUT_SAMPLE.csv\")"
   ]
  },
  {
   "cell_type": "code",
   "execution_count": 219,
   "metadata": {},
   "outputs": [
    {
     "data": {
      "text/html": [
       "<div>\n",
       "<style>\n",
       "    .dataframe thead tr:only-child th {\n",
       "        text-align: right;\n",
       "    }\n",
       "\n",
       "    .dataframe thead th {\n",
       "        text-align: left;\n",
       "    }\n",
       "\n",
       "    .dataframe tbody tr th {\n",
       "        vertical-align: top;\n",
       "    }\n",
       "</style>\n",
       "<table border=\"1\" class=\"dataframe\">\n",
       "  <thead>\n",
       "    <tr style=\"text-align: right;\">\n",
       "      <th></th>\n",
       "      <th>Cust_ID</th>\n",
       "      <th>Target</th>\n",
       "      <th>Age</th>\n",
       "      <th>Gender</th>\n",
       "      <th>Balance</th>\n",
       "      <th>Occupation</th>\n",
       "      <th>No_OF_CR_TXNS</th>\n",
       "      <th>AGE_BKT</th>\n",
       "      <th>SCR</th>\n",
       "      <th>Holding_Period</th>\n",
       "    </tr>\n",
       "  </thead>\n",
       "  <tbody>\n",
       "    <tr>\n",
       "      <th>0</th>\n",
       "      <td>C16505</td>\n",
       "      <td>0</td>\n",
       "      <td>41</td>\n",
       "      <td>M</td>\n",
       "      <td>91519.92</td>\n",
       "      <td>SELF-EMP</td>\n",
       "      <td>38</td>\n",
       "      <td>41-45</td>\n",
       "      <td>926</td>\n",
       "      <td>15</td>\n",
       "    </tr>\n",
       "    <tr>\n",
       "      <th>1</th>\n",
       "      <td>C17241</td>\n",
       "      <td>0</td>\n",
       "      <td>52</td>\n",
       "      <td>M</td>\n",
       "      <td>117288.96</td>\n",
       "      <td>SAL</td>\n",
       "      <td>17</td>\n",
       "      <td>&gt;50</td>\n",
       "      <td>768</td>\n",
       "      <td>13</td>\n",
       "    </tr>\n",
       "    <tr>\n",
       "      <th>2</th>\n",
       "      <td>C18802</td>\n",
       "      <td>0</td>\n",
       "      <td>31</td>\n",
       "      <td>F</td>\n",
       "      <td>259827.44</td>\n",
       "      <td>SENP</td>\n",
       "      <td>8</td>\n",
       "      <td>31-35</td>\n",
       "      <td>816</td>\n",
       "      <td>5</td>\n",
       "    </tr>\n",
       "    <tr>\n",
       "      <th>3</th>\n",
       "      <td>C19289</td>\n",
       "      <td>0</td>\n",
       "      <td>45</td>\n",
       "      <td>F</td>\n",
       "      <td>26677.55</td>\n",
       "      <td>PROF</td>\n",
       "      <td>14</td>\n",
       "      <td>41-45</td>\n",
       "      <td>353</td>\n",
       "      <td>18</td>\n",
       "    </tr>\n",
       "    <tr>\n",
       "      <th>4</th>\n",
       "      <td>C14028</td>\n",
       "      <td>0</td>\n",
       "      <td>39</td>\n",
       "      <td>F</td>\n",
       "      <td>43440.31</td>\n",
       "      <td>SENP</td>\n",
       "      <td>1</td>\n",
       "      <td>36-40</td>\n",
       "      <td>751</td>\n",
       "      <td>31</td>\n",
       "    </tr>\n",
       "  </tbody>\n",
       "</table>\n",
       "</div>"
      ],
      "text/plain": [
       "  Cust_ID  Target  Age Gender    Balance Occupation  No_OF_CR_TXNS AGE_BKT  \\\n",
       "0  C16505       0   41      M   91519.92   SELF-EMP             38   41-45   \n",
       "1  C17241       0   52      M  117288.96        SAL             17     >50   \n",
       "2  C18802       0   31      F  259827.44       SENP              8   31-35   \n",
       "3  C19289       0   45      F   26677.55       PROF             14   41-45   \n",
       "4  C14028       0   39      F   43440.31       SENP              1   36-40   \n",
       "\n",
       "   SCR  Holding_Period  \n",
       "0  926              15  \n",
       "1  768              13  \n",
       "2  816               5  \n",
       "3  353              18  \n",
       "4  751              31  "
      ]
     },
     "execution_count": 219,
     "metadata": {},
     "output_type": "execute_result"
    }
   ],
   "source": [
    "train.head()"
   ]
  },
  {
   "cell_type": "code",
   "execution_count": 220,
   "metadata": {},
   "outputs": [
    {
     "data": {
      "text/html": [
       "<div>\n",
       "<style>\n",
       "    .dataframe thead tr:only-child th {\n",
       "        text-align: right;\n",
       "    }\n",
       "\n",
       "    .dataframe thead th {\n",
       "        text-align: left;\n",
       "    }\n",
       "\n",
       "    .dataframe tbody tr th {\n",
       "        vertical-align: top;\n",
       "    }\n",
       "</style>\n",
       "<table border=\"1\" class=\"dataframe\">\n",
       "  <thead>\n",
       "    <tr style=\"text-align: right;\">\n",
       "      <th></th>\n",
       "      <th>Cust_ID</th>\n",
       "      <th>Target</th>\n",
       "      <th>Age</th>\n",
       "      <th>Gender</th>\n",
       "      <th>Balance</th>\n",
       "      <th>Occupation</th>\n",
       "      <th>No_OF_CR_TXNS</th>\n",
       "      <th>AGE_BKT</th>\n",
       "      <th>SCR</th>\n",
       "      <th>Holding_Period</th>\n",
       "    </tr>\n",
       "  </thead>\n",
       "  <tbody>\n",
       "    <tr>\n",
       "      <th>0</th>\n",
       "      <td>C12935</td>\n",
       "      <td>0</td>\n",
       "      <td>26</td>\n",
       "      <td>M</td>\n",
       "      <td>67291.63</td>\n",
       "      <td>SENP</td>\n",
       "      <td>6</td>\n",
       "      <td>26-30</td>\n",
       "      <td>559</td>\n",
       "      <td>31</td>\n",
       "    </tr>\n",
       "    <tr>\n",
       "      <th>1</th>\n",
       "      <td>C8669</td>\n",
       "      <td>0</td>\n",
       "      <td>31</td>\n",
       "      <td>M</td>\n",
       "      <td>151255.63</td>\n",
       "      <td>PROF</td>\n",
       "      <td>8</td>\n",
       "      <td>31-35</td>\n",
       "      <td>652</td>\n",
       "      <td>24</td>\n",
       "    </tr>\n",
       "    <tr>\n",
       "      <th>2</th>\n",
       "      <td>C16922</td>\n",
       "      <td>0</td>\n",
       "      <td>26</td>\n",
       "      <td>M</td>\n",
       "      <td>67814.45</td>\n",
       "      <td>SAL</td>\n",
       "      <td>35</td>\n",
       "      <td>26-30</td>\n",
       "      <td>531</td>\n",
       "      <td>9</td>\n",
       "    </tr>\n",
       "    <tr>\n",
       "      <th>3</th>\n",
       "      <td>C12468</td>\n",
       "      <td>0</td>\n",
       "      <td>23</td>\n",
       "      <td>M</td>\n",
       "      <td>370783.97</td>\n",
       "      <td>SAL</td>\n",
       "      <td>5</td>\n",
       "      <td>&lt;25</td>\n",
       "      <td>434</td>\n",
       "      <td>11</td>\n",
       "    </tr>\n",
       "    <tr>\n",
       "      <th>4</th>\n",
       "      <td>C14486</td>\n",
       "      <td>0</td>\n",
       "      <td>40</td>\n",
       "      <td>F</td>\n",
       "      <td>284187.58</td>\n",
       "      <td>SENP</td>\n",
       "      <td>3</td>\n",
       "      <td>36-40</td>\n",
       "      <td>679</td>\n",
       "      <td>8</td>\n",
       "    </tr>\n",
       "  </tbody>\n",
       "</table>\n",
       "</div>"
      ],
      "text/plain": [
       "  Cust_ID  Target  Age Gender    Balance Occupation  No_OF_CR_TXNS AGE_BKT  \\\n",
       "0  C12935       0   26      M   67291.63       SENP              6   26-30   \n",
       "1   C8669       0   31      M  151255.63       PROF              8   31-35   \n",
       "2  C16922       0   26      M   67814.45        SAL             35   26-30   \n",
       "3  C12468       0   23      M  370783.97        SAL              5     <25   \n",
       "4  C14486       0   40      F  284187.58       SENP              3   36-40   \n",
       "\n",
       "   SCR  Holding_Period  \n",
       "0  559              31  \n",
       "1  652              24  \n",
       "2  531               9  \n",
       "3  434              11  \n",
       "4  679               8  "
      ]
     },
     "execution_count": 220,
     "metadata": {},
     "output_type": "execute_result"
    }
   ],
   "source": [
    "test.head()"
   ]
  },
  {
   "cell_type": "code",
   "execution_count": 221,
   "metadata": {},
   "outputs": [
    {
     "name": "stdout",
     "output_type": "stream",
     "text": [
      "<class 'pandas.core.frame.DataFrame'>\n",
      "RangeIndex: 14000 entries, 0 to 13999\n",
      "Data columns (total 10 columns):\n",
      "Cust_ID           14000 non-null object\n",
      "Target            14000 non-null int64\n",
      "Age               14000 non-null int64\n",
      "Gender            14000 non-null object\n",
      "Balance           14000 non-null float64\n",
      "Occupation        14000 non-null object\n",
      "No_OF_CR_TXNS     14000 non-null int64\n",
      "AGE_BKT           14000 non-null object\n",
      "SCR               14000 non-null int64\n",
      "Holding_Period    14000 non-null int64\n",
      "dtypes: float64(1), int64(5), object(4)\n",
      "memory usage: 1.1+ MB\n"
     ]
    }
   ],
   "source": [
    "train.info()"
   ]
  },
  {
   "cell_type": "code",
   "execution_count": 222,
   "metadata": {},
   "outputs": [
    {
     "name": "stdout",
     "output_type": "stream",
     "text": [
      "<class 'pandas.core.frame.DataFrame'>\n",
      "RangeIndex: 6000 entries, 0 to 5999\n",
      "Data columns (total 10 columns):\n",
      "Cust_ID           6000 non-null object\n",
      "Target            6000 non-null int64\n",
      "Age               6000 non-null int64\n",
      "Gender            6000 non-null object\n",
      "Balance           6000 non-null float64\n",
      "Occupation        6000 non-null object\n",
      "No_OF_CR_TXNS     6000 non-null int64\n",
      "AGE_BKT           6000 non-null object\n",
      "SCR               6000 non-null int64\n",
      "Holding_Period    6000 non-null int64\n",
      "dtypes: float64(1), int64(5), object(4)\n",
      "memory usage: 468.8+ KB\n"
     ]
    }
   ],
   "source": [
    "test.info()"
   ]
  },
  {
   "cell_type": "code",
   "execution_count": 223,
   "metadata": {},
   "outputs": [
    {
     "data": {
      "text/html": [
       "<div>\n",
       "<style>\n",
       "    .dataframe thead tr:only-child th {\n",
       "        text-align: right;\n",
       "    }\n",
       "\n",
       "    .dataframe thead th {\n",
       "        text-align: left;\n",
       "    }\n",
       "\n",
       "    .dataframe tbody tr th {\n",
       "        vertical-align: top;\n",
       "    }\n",
       "</style>\n",
       "<table border=\"1\" class=\"dataframe\">\n",
       "  <thead>\n",
       "    <tr style=\"text-align: right;\">\n",
       "      <th></th>\n",
       "      <th>Target</th>\n",
       "      <th>Age</th>\n",
       "      <th>Balance</th>\n",
       "      <th>No_OF_CR_TXNS</th>\n",
       "      <th>SCR</th>\n",
       "      <th>Holding_Period</th>\n",
       "    </tr>\n",
       "  </thead>\n",
       "  <tbody>\n",
       "    <tr>\n",
       "      <th>Target</th>\n",
       "      <td>1.000000</td>\n",
       "      <td>0.024236</td>\n",
       "      <td>-0.072437</td>\n",
       "      <td>0.131704</td>\n",
       "      <td>0.076211</td>\n",
       "      <td>-0.206368</td>\n",
       "    </tr>\n",
       "    <tr>\n",
       "      <th>Age</th>\n",
       "      <td>0.024236</td>\n",
       "      <td>1.000000</td>\n",
       "      <td>-0.146460</td>\n",
       "      <td>0.055351</td>\n",
       "      <td>-0.003700</td>\n",
       "      <td>-0.011275</td>\n",
       "    </tr>\n",
       "    <tr>\n",
       "      <th>Balance</th>\n",
       "      <td>-0.072437</td>\n",
       "      <td>-0.146460</td>\n",
       "      <td>1.000000</td>\n",
       "      <td>-0.136202</td>\n",
       "      <td>-0.015838</td>\n",
       "      <td>0.018325</td>\n",
       "    </tr>\n",
       "    <tr>\n",
       "      <th>No_OF_CR_TXNS</th>\n",
       "      <td>0.131704</td>\n",
       "      <td>0.055351</td>\n",
       "      <td>-0.136202</td>\n",
       "      <td>1.000000</td>\n",
       "      <td>0.000952</td>\n",
       "      <td>-0.036184</td>\n",
       "    </tr>\n",
       "    <tr>\n",
       "      <th>SCR</th>\n",
       "      <td>0.076211</td>\n",
       "      <td>-0.003700</td>\n",
       "      <td>-0.015838</td>\n",
       "      <td>0.000952</td>\n",
       "      <td>1.000000</td>\n",
       "      <td>-0.031376</td>\n",
       "    </tr>\n",
       "    <tr>\n",
       "      <th>Holding_Period</th>\n",
       "      <td>-0.206368</td>\n",
       "      <td>-0.011275</td>\n",
       "      <td>0.018325</td>\n",
       "      <td>-0.036184</td>\n",
       "      <td>-0.031376</td>\n",
       "      <td>1.000000</td>\n",
       "    </tr>\n",
       "  </tbody>\n",
       "</table>\n",
       "</div>"
      ],
      "text/plain": [
       "                  Target       Age   Balance  No_OF_CR_TXNS       SCR  \\\n",
       "Target          1.000000  0.024236 -0.072437       0.131704  0.076211   \n",
       "Age             0.024236  1.000000 -0.146460       0.055351 -0.003700   \n",
       "Balance        -0.072437 -0.146460  1.000000      -0.136202 -0.015838   \n",
       "No_OF_CR_TXNS   0.131704  0.055351 -0.136202       1.000000  0.000952   \n",
       "SCR             0.076211 -0.003700 -0.015838       0.000952  1.000000   \n",
       "Holding_Period -0.206368 -0.011275  0.018325      -0.036184 -0.031376   \n",
       "\n",
       "                Holding_Period  \n",
       "Target               -0.206368  \n",
       "Age                  -0.011275  \n",
       "Balance               0.018325  \n",
       "No_OF_CR_TXNS        -0.036184  \n",
       "SCR                  -0.031376  \n",
       "Holding_Period        1.000000  "
      ]
     },
     "execution_count": 223,
     "metadata": {},
     "output_type": "execute_result"
    }
   ],
   "source": [
    "train.corr()"
   ]
  },
  {
   "cell_type": "code",
   "execution_count": 224,
   "metadata": {},
   "outputs": [
    {
     "name": "stdout",
     "output_type": "stream",
     "text": [
      "all_data size is : (20000, 10)\n"
     ]
    }
   ],
   "source": [
    "ntrain = train.shape[0]\n",
    "ntest = test.shape[0]\n",
    "y_train = train.Target.values\n",
    "all_data = pd.concat((train, test)).reset_index(drop=True)\n",
    "## all_data.drop(['Target'], axis=1, inplace=True)\n",
    "print(\"all_data size is : {}\".format(all_data.shape))"
   ]
  },
  {
   "cell_type": "markdown",
   "metadata": {},
   "source": [
    "## Dividing into Categorical and Numerical coulmns"
   ]
  },
  {
   "cell_type": "code",
   "execution_count": 225,
   "metadata": {
    "collapsed": true
   },
   "outputs": [],
   "source": [
    "all_cols = all_data.columns"
   ]
  },
  {
   "cell_type": "code",
   "execution_count": 226,
   "metadata": {},
   "outputs": [
    {
     "name": "stdout",
     "output_type": "stream",
     "text": [
      "Numerical columns:  Index(['Target', 'Age', 'Balance', 'No_OF_CR_TXNS', 'SCR', 'Holding_Period'], dtype='object')\n"
     ]
    }
   ],
   "source": [
    "num_cols = all_data._get_numeric_data().columns\n",
    "print(\"Numerical columns: \", num_cols)"
   ]
  },
  {
   "cell_type": "code",
   "execution_count": 227,
   "metadata": {},
   "outputs": [
    {
     "name": "stdout",
     "output_type": "stream",
     "text": [
      "Categorical columns:  ['Gender', 'Occupation', 'AGE_BKT', 'Cust_ID']\n"
     ]
    }
   ],
   "source": [
    "cat_cols = list( set(all_cols) -  set(num_cols) )\n",
    "print(\"Categorical columns: \",cat_cols)"
   ]
  },
  {
   "cell_type": "markdown",
   "metadata": {},
   "source": [
    "## Encode categorical values as numbers"
   ]
  },
  {
   "cell_type": "code",
   "execution_count": 228,
   "metadata": {
    "collapsed": true
   },
   "outputs": [],
   "source": [
    "from sklearn.model_selection import KFold, cross_val_score, train_test_split\n",
    "from sklearn.metrics import mean_squared_error\n",
    "from sklearn.preprocessing import LabelEncoder\n",
    "from sklearn.metrics import r2_score\n",
    "from sklearn.preprocessing import StandardScaler, RobustScaler"
   ]
  },
  {
   "cell_type": "code",
   "execution_count": 229,
   "metadata": {
    "collapsed": true
   },
   "outputs": [],
   "source": [
    "le = LabelEncoder()\n",
    "for i in cat_cols:\n",
    "    all_data[i] = le.fit_transform(all_data[i])"
   ]
  },
  {
   "cell_type": "code",
   "execution_count": 230,
   "metadata": {
    "collapsed": true
   },
   "outputs": [],
   "source": [
    "X = all_data[[\"Age\",\"Gender\",\"Balance\",\"Occupation\",\"No_OF_CR_TXNS\",\"AGE_BKT\",\"Holding_Period\"]]"
   ]
  },
  {
   "cell_type": "code",
   "execution_count": 231,
   "metadata": {},
   "outputs": [],
   "source": [
    "y = all_data[[\"Target\"]]"
   ]
  },
  {
   "cell_type": "code",
   "execution_count": 232,
   "metadata": {
    "collapsed": true
   },
   "outputs": [],
   "source": [
    "X_train, X_test, y_train, y_test = train_test_split( X, y, test_size = 0.3)"
   ]
  },
  {
   "cell_type": "markdown",
   "metadata": {
    "collapsed": true
   },
   "source": [
    "X_train = all_data[:train.shape[0]]\n",
    "X_test = all_data[train.shape[0]:]"
   ]
  },
  {
   "cell_type": "markdown",
   "metadata": {
    "collapsed": true
   },
   "source": [
    "scaler = StandardScaler().fit(X_train)\n",
    "X_train = scaler.transform(X_train)\n",
    "X_test = scaler.transform(X_test)"
   ]
  },
  {
   "cell_type": "code",
   "execution_count": 234,
   "metadata": {
    "collapsed": true
   },
   "outputs": [],
   "source": [
    "from sklearn.metrics import accuracy_score\n",
    "from sklearn.metrics import roc_curve\n",
    "from sklearn.metrics import auc"
   ]
  },
  {
   "cell_type": "code",
   "execution_count": 235,
   "metadata": {},
   "outputs": [
    {
     "name": "stderr",
     "output_type": "stream",
     "text": [
      "C:\\Users\\nagapavan\\Anaconda3\\lib\\site-packages\\ipykernel_launcher.py:5: DataConversionWarning: A column-vector y was passed when a 1d array was expected. Please change the shape of y to (n_samples,), for example using ravel().\n",
      "  \"\"\"\n"
     ]
    },
    {
     "data": {
      "text/plain": [
       "RandomForestClassifier(bootstrap=True, class_weight=None, criterion='gini',\n",
       "            max_depth=5, max_features='auto', max_leaf_nodes=None,\n",
       "            min_impurity_decrease=0.0, min_impurity_split=None,\n",
       "            min_samples_leaf=1, min_samples_split=2,\n",
       "            min_weight_fraction_leaf=0.0, n_estimators=10, n_jobs=1,\n",
       "            oob_score=False, random_state=0, verbose=0, warm_start=False)"
      ]
     },
     "execution_count": 235,
     "metadata": {},
     "output_type": "execute_result"
    }
   ],
   "source": [
    "from sklearn.ensemble import RandomForestClassifier\n",
    "from sklearn.datasets import make_classification\n",
    "\n",
    "clf = RandomForestClassifier(max_depth=5, random_state=0)\n",
    "clf.fit(X_train, y_train)"
   ]
  },
  {
   "cell_type": "code",
   "execution_count": 236,
   "metadata": {},
   "outputs": [
    {
     "name": "stdout",
     "output_type": "stream",
     "text": [
      "[ 0.06077595  0.03344012  0.14551275  0.1200684   0.23926832  0.01511925\n",
      "  0.38581519]\n"
     ]
    }
   ],
   "source": [
    "print(clf.feature_importances_)"
   ]
  },
  {
   "cell_type": "code",
   "execution_count": 237,
   "metadata": {},
   "outputs": [
    {
     "data": {
      "text/plain": [
       "array([0, 0, 0, ..., 0, 0, 0], dtype=int64)"
      ]
     },
     "execution_count": 237,
     "metadata": {},
     "output_type": "execute_result"
    }
   ],
   "source": [
    "pred_y_train = clf.predict(X_train)\n",
    "pred_y_train"
   ]
  },
  {
   "cell_type": "code",
   "execution_count": 238,
   "metadata": {},
   "outputs": [
    {
     "data": {
      "text/plain": [
       "0.91221428571428576"
      ]
     },
     "execution_count": 238,
     "metadata": {},
     "output_type": "execute_result"
    }
   ],
   "source": [
    "score = accuracy_score(y_train, pred_y_train)\n",
    "score"
   ]
  },
  {
   "cell_type": "markdown",
   "metadata": {
    "collapsed": true
   },
   "source": [
    "## Accuracy is 91.22 % for this model developed on train data"
   ]
  },
  {
   "cell_type": "code",
   "execution_count": 243,
   "metadata": {},
   "outputs": [
    {
     "data": {
      "text/plain": [
       "array([0, 0, 0, ..., 0, 0, 0], dtype=int64)"
      ]
     },
     "execution_count": 243,
     "metadata": {},
     "output_type": "execute_result"
    }
   ],
   "source": [
    "pred_y_test = clf.predict(X_test)\n",
    "pred_y_test"
   ]
  },
  {
   "cell_type": "code",
   "execution_count": 244,
   "metadata": {},
   "outputs": [
    {
     "data": {
      "text/plain": [
       "0.91800000000000004"
      ]
     },
     "execution_count": 244,
     "metadata": {},
     "output_type": "execute_result"
    }
   ],
   "source": [
    "score = accuracy_score(y_test, pred_y_test)\n",
    "score"
   ]
  },
  {
   "cell_type": "markdown",
   "metadata": {},
   "source": [
    "##  Accuracy is 91.08% for this Test data."
   ]
  },
  {
   "cell_type": "code",
   "execution_count": 239,
   "metadata": {},
   "outputs": [],
   "source": [
    "X_train = pd.DataFrame(X_train)"
   ]
  },
  {
   "cell_type": "code",
   "execution_count": 240,
   "metadata": {},
   "outputs": [
    {
     "data": {
      "text/plain": [
       "['Age',\n",
       " 'Gender',\n",
       " 'Balance',\n",
       " 'Occupation',\n",
       " 'No_OF_CR_TXNS',\n",
       " 'AGE_BKT',\n",
       " 'Holding_Period']"
      ]
     },
     "execution_count": 240,
     "metadata": {},
     "output_type": "execute_result"
    }
   ],
   "source": [
    "z = list (X_train.columns.values)\n",
    "z"
   ]
  },
  {
   "cell_type": "code",
   "execution_count": 241,
   "metadata": {},
   "outputs": [
    {
     "data": {
      "text/plain": [
       "Holding_Period    0.385815\n",
       "No_OF_CR_TXNS     0.239268\n",
       "Balance           0.145513\n",
       "Occupation        0.120068\n",
       "Age               0.060776\n",
       "Gender            0.033440\n",
       "AGE_BKT           0.015119\n",
       "dtype: float64"
      ]
     },
     "execution_count": 241,
     "metadata": {},
     "output_type": "execute_result"
    }
   ],
   "source": [
    "feature_imp = pd.Series(clf.feature_importances_,index=z).sort_values(ascending=False)\n",
    "feature_imp"
   ]
  },
  {
   "cell_type": "code",
   "execution_count": 242,
   "metadata": {},
   "outputs": [
    {
     "data": {
      "image/png": "[encoded data removed]",
      "text/plain": [
       "<matplotlib.figure.Figure at 0x24a75895f28>"
      ]
     },
     "metadata": {},
     "output_type": "display_data"
    }
   ],
   "source": [
    "sns.barplot(x= feature_imp,y=feature_imp.index)\n",
    "plt.xlabel('Feature Importance Value')\n",
    "plt.ylabel('features')\n",
    "plt.legend()\n",
    "plt.show()"
   ]
  },
  {
   "cell_type": "markdown",
   "metadata": {},
   "source": [
    "## Let's Drop the \"Gender\" , \"AGE_BKT\"  and run the model again"
   ]
  },
  {
   "cell_type": "code",
   "execution_count": 245,
   "metadata": {
    "collapsed": true
   },
   "outputs": [],
   "source": [
    "X = all_data[[\"Age\",\"Balance\",\"Occupation\",\"No_OF_CR_TXNS\",\"Holding_Period\"]]"
   ]
  },
  {
   "cell_type": "code",
   "execution_count": 246,
   "metadata": {
    "collapsed": true
   },
   "outputs": [],
   "source": [
    "X_train, X_test, y_train, y_test = train_test_split( X, y, test_size = 0.3)"
   ]
  },
  {
   "cell_type": "code",
   "execution_count": 247,
   "metadata": {},
   "outputs": [
    {
     "name": "stderr",
     "output_type": "stream",
     "text": [
      "C:\\Users\\nagapavan\\Anaconda3\\lib\\site-packages\\ipykernel_launcher.py:3: DataConversionWarning: A column-vector y was passed when a 1d array was expected. Please change the shape of y to (n_samples,), for example using ravel().\n",
      "  This is separate from the ipykernel package so we can avoid doing imports until\n"
     ]
    },
    {
     "data": {
      "text/plain": [
       "RandomForestClassifier(bootstrap=True, class_weight=None, criterion='gini',\n",
       "            max_depth=5, max_features='auto', max_leaf_nodes=None,\n",
       "            min_impurity_decrease=0.0, min_impurity_split=None,\n",
       "            min_samples_leaf=1, min_samples_split=2,\n",
       "            min_weight_fraction_leaf=0.0, n_estimators=10, n_jobs=1,\n",
       "            oob_score=False, random_state=0, verbose=0, warm_start=False)"
      ]
     },
     "execution_count": 247,
     "metadata": {},
     "output_type": "execute_result"
    }
   ],
   "source": [
    "\n",
    "clf = RandomForestClassifier(max_depth=5, random_state=0)\n",
    "clf.fit(X_train, y_train)"
   ]
  },
  {
   "cell_type": "code",
   "execution_count": 248,
   "metadata": {},
   "outputs": [
    {
     "data": {
      "text/plain": [
       "array([0, 0, 0, ..., 0, 0, 0], dtype=int64)"
      ]
     },
     "execution_count": 248,
     "metadata": {},
     "output_type": "execute_result"
    }
   ],
   "source": [
    "pred_y_train = clf.predict(X_train)\n",
    "pred_y_train"
   ]
  },
  {
   "cell_type": "code",
   "execution_count": 249,
   "metadata": {},
   "outputs": [
    {
     "data": {
      "text/plain": [
       "0.91528571428571426"
      ]
     },
     "execution_count": 249,
     "metadata": {},
     "output_type": "execute_result"
    }
   ],
   "source": [
    "score = accuracy_score(y_train, pred_y_train)\n",
    "score"
   ]
  },
  {
   "cell_type": "markdown",
   "metadata": {},
   "source": [
    "## TheTest model accuracy increased from 91.22% to 91.52%"
   ]
  },
  {
   "cell_type": "code",
   "execution_count": 252,
   "metadata": {},
   "outputs": [
    {
     "data": {
      "text/plain": [
       "array([0, 0, 0, ..., 0, 0, 0], dtype=int64)"
      ]
     },
     "execution_count": 252,
     "metadata": {},
     "output_type": "execute_result"
    }
   ],
   "source": [
    "pred_y_test1 = clf.predict(X_test)\n",
    "pred_y_test1"
   ]
  },
  {
   "cell_type": "code",
   "execution_count": 254,
   "metadata": {},
   "outputs": [
    {
     "data": {
      "text/plain": [
       "0.91016666666666668"
      ]
     },
     "execution_count": 254,
     "metadata": {},
     "output_type": "execute_result"
    }
   ],
   "source": [
    "score = accuracy_score(y_test, pred_y_test1)\n",
    "score"
   ]
  }
 ],
 "metadata": {
  "kernelspec": {
   "display_name": "Python 3",
   "language": "python",
   "name": "python3"
  },
  "language_info": {
   "codemirror_mode": {
    "name": "ipython",
    "version": 3
   },
   "file_extension": ".py",
   "mimetype": "text/x-python",
   "name": "python",
   "nbconvert_exporter": "python",
   "pygments_lexer": "ipython3",
   "version": "3.6.3"
  }
 },
 "nbformat": 4,
 "nbformat_minor": 2
}
