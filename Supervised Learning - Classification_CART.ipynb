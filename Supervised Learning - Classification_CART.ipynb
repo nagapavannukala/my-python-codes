{
 "cells": [
  {
   "cell_type": "code",
   "execution_count": 1,
   "metadata": {},
   "outputs": [
    {
     "name": "stdout",
     "output_type": "stream",
     "text": [
      "Requirement already satisfied: graphviz in c:\\users\\nagapavan\\anaconda3\\lib\\site-packages\n"
     ]
    },
    {
     "name": "stderr",
     "output_type": "stream",
     "text": [
      "You are using pip version 9.0.1, however version 18.0 is available.\n",
      "You should consider upgrading via the 'python -m pip install --upgrade pip' command.\n"
     ]
    },
    {
     "name": "stdout",
     "output_type": "stream",
     "text": [
      "Requirement already satisfied: pydotplus in c:\\users\\nagapavan\\anaconda3\\lib\\site-packages\n",
      "Requirement already satisfied: pyparsing>=2.0.1 in c:\\users\\nagapavan\\anaconda3\\lib\\site-packages (from pydotplus)\n"
     ]
    },
    {
     "name": "stderr",
     "output_type": "stream",
     "text": [
      "You are using pip version 9.0.1, however version 18.0 is available.\n",
      "You should consider upgrading via the 'python -m pip install --upgrade pip' command.\n"
     ]
    }
   ],
   "source": [
    "#Import Required library\n",
    "import pandas as pd\n",
    "!pip install graphviz\n",
    "!pip install pydotplus\n",
    "import pydotplus\n",
    "import graphviz\n",
    "from sklearn.externals.six import StringIO  \n",
    "from IPython.display import Image  \n",
    "from sklearn.tree import export_graphviz\n",
    "from scipy import stats\n",
    "import numpy as np\n",
    "import matplotlib.pyplot as plt\n",
    "import seaborn as sns\n",
    "from sklearn.base import TransformerMixin\n",
    "from sklearn.preprocessing import Imputer\n",
    "from sklearn.preprocessing import MinMaxScaler\n",
    "from sklearn.preprocessing import LabelEncoder\n",
    "from sklearn.feature_extraction.text import CountVectorizer\n",
    "from sklearn.metrics import accuracy_score\n",
    "from sklearn.linear_model import LogisticRegression\n",
    "from sklearn.ensemble import RandomForestClassifier\n",
    "%matplotlib inline"
   ]
  },
  {
   "cell_type": "code",
   "execution_count": 4,
   "metadata": {},
   "outputs": [],
   "source": [
    "# Import the data\n",
    "loan=pd.read_csv(\"PL_XSELL.csv\")"
   ]
  },
  {
   "cell_type": "code",
   "execution_count": 5,
   "metadata": {},
   "outputs": [
    {
     "name": "stderr",
     "output_type": "stream",
     "text": [
      "C:\\Users\\nagapavan\\Anaconda3\\lib\\site-packages\\ipykernel_launcher.py:2: SettingWithCopyWarning: \n",
      "A value is trying to be set on a copy of a slice from a DataFrame.\n",
      "Try using .loc[row_indexer,col_indexer] = value instead\n",
      "\n",
      "See the caveats in the documentation: http://pandas.pydata.org/pandas-docs/stable/indexing.html#indexing-view-versus-copy\n",
      "  \n"
     ]
    },
    {
     "data": {
      "text/html": [
       "<div>\n",
       "<style>\n",
       "    .dataframe thead tr:only-child th {\n",
       "        text-align: right;\n",
       "    }\n",
       "\n",
       "    .dataframe thead th {\n",
       "        text-align: left;\n",
       "    }\n",
       "\n",
       "    .dataframe tbody tr th {\n",
       "        vertical-align: top;\n",
       "    }\n",
       "</style>\n",
       "<table border=\"1\" class=\"dataframe\">\n",
       "  <thead>\n",
       "    <tr style=\"text-align: right;\">\n",
       "      <th></th>\n",
       "      <th>statistic</th>\n",
       "      <th>pvalue</th>\n",
       "    </tr>\n",
       "  </thead>\n",
       "  <tbody>\n",
       "    <tr>\n",
       "      <th>AGE</th>\n",
       "      <td>3.250148</td>\n",
       "      <td>1.155356e-03</td>\n",
       "    </tr>\n",
       "    <tr>\n",
       "      <th>BALANCE</th>\n",
       "      <td>-9.504895</td>\n",
       "      <td>2.221910e-21</td>\n",
       "    </tr>\n",
       "    <tr>\n",
       "      <th>SCR</th>\n",
       "      <td>11.193771</td>\n",
       "      <td>5.335084e-29</td>\n",
       "    </tr>\n",
       "    <tr>\n",
       "      <th>HOLDING_PERIOD</th>\n",
       "      <td>-19.332224</td>\n",
       "      <td>1.629451e-82</td>\n",
       "    </tr>\n",
       "    <tr>\n",
       "      <th>LEN_OF_RLTN_IN_MNTH</th>\n",
       "      <td>-3.340813</td>\n",
       "      <td>8.368631e-04</td>\n",
       "    </tr>\n",
       "    <tr>\n",
       "      <th>NO_OF_L_CR_TXNS</th>\n",
       "      <td>17.134229</td>\n",
       "      <td>2.413810e-65</td>\n",
       "    </tr>\n",
       "    <tr>\n",
       "      <th>NO_OF_L_DR_TXNS</th>\n",
       "      <td>17.520405</td>\n",
       "      <td>3.237312e-68</td>\n",
       "    </tr>\n",
       "    <tr>\n",
       "      <th>TOT_NO_OF_L_TXNS</th>\n",
       "      <td>19.195228</td>\n",
       "      <td>2.189287e-81</td>\n",
       "    </tr>\n",
       "    <tr>\n",
       "      <th>NO_OF_BR_CSH_WDL_DR_TXNS</th>\n",
       "      <td>14.486801</td>\n",
       "      <td>2.549900e-47</td>\n",
       "    </tr>\n",
       "    <tr>\n",
       "      <th>NO_OF_ATM_DR_TXNS</th>\n",
       "      <td>11.686399</td>\n",
       "      <td>1.893220e-31</td>\n",
       "    </tr>\n",
       "    <tr>\n",
       "      <th>NO_OF_NET_DR_TXNS</th>\n",
       "      <td>13.792305</td>\n",
       "      <td>4.465936e-43</td>\n",
       "    </tr>\n",
       "    <tr>\n",
       "      <th>NO_OF_MOB_DR_TXNS</th>\n",
       "      <td>7.715297</td>\n",
       "      <td>1.263429e-14</td>\n",
       "    </tr>\n",
       "    <tr>\n",
       "      <th>NO_OF_CHQ_DR_TXNS</th>\n",
       "      <td>14.719894</td>\n",
       "      <td>8.650001e-49</td>\n",
       "    </tr>\n",
       "    <tr>\n",
       "      <th>FLG_HAS_CC</th>\n",
       "      <td>14.286362</td>\n",
       "      <td>4.487167e-46</td>\n",
       "    </tr>\n",
       "    <tr>\n",
       "      <th>AMT_ATM_DR</th>\n",
       "      <td>11.813883</td>\n",
       "      <td>4.231461e-32</td>\n",
       "    </tr>\n",
       "    <tr>\n",
       "      <th>AMT_BR_CSH_WDL_DR</th>\n",
       "      <td>6.846816</td>\n",
       "      <td>7.770160e-12</td>\n",
       "    </tr>\n",
       "    <tr>\n",
       "      <th>AMT_CHQ_DR</th>\n",
       "      <td>8.613303</td>\n",
       "      <td>7.616861e-18</td>\n",
       "    </tr>\n",
       "    <tr>\n",
       "      <th>AMT_NET_DR</th>\n",
       "      <td>8.801790</td>\n",
       "      <td>1.453938e-18</td>\n",
       "    </tr>\n",
       "    <tr>\n",
       "      <th>AMT_MOB_DR</th>\n",
       "      <td>11.808771</td>\n",
       "      <td>4.494876e-32</td>\n",
       "    </tr>\n",
       "    <tr>\n",
       "      <th>AMT_L_DR</th>\n",
       "      <td>13.545671</td>\n",
       "      <td>1.282778e-41</td>\n",
       "    </tr>\n",
       "    <tr>\n",
       "      <th>FLG_HAS_ANY_CHGS</th>\n",
       "      <td>6.481205</td>\n",
       "      <td>9.311624e-11</td>\n",
       "    </tr>\n",
       "    <tr>\n",
       "      <th>AMT_OTH_BK_ATM_USG_CHGS</th>\n",
       "      <td>4.020162</td>\n",
       "      <td>5.837133e-05</td>\n",
       "    </tr>\n",
       "    <tr>\n",
       "      <th>AMT_MIN_BAL_NMC_CHGS</th>\n",
       "      <td>0.714632</td>\n",
       "      <td>4.748446e-01</td>\n",
       "    </tr>\n",
       "    <tr>\n",
       "      <th>NO_OF_IW_CHQ_BNC_TXNS</th>\n",
       "      <td>1.640719</td>\n",
       "      <td>1.008714e-01</td>\n",
       "    </tr>\n",
       "    <tr>\n",
       "      <th>NO_OF_OW_CHQ_BNC_TXNS</th>\n",
       "      <td>3.877815</td>\n",
       "      <td>1.057358e-04</td>\n",
       "    </tr>\n",
       "    <tr>\n",
       "      <th>AVG_AMT_PER_ATM_TXN</th>\n",
       "      <td>10.635288</td>\n",
       "      <td>2.401413e-26</td>\n",
       "    </tr>\n",
       "    <tr>\n",
       "      <th>AVG_AMT_PER_CSH_WDL_TXN</th>\n",
       "      <td>-0.305012</td>\n",
       "      <td>7.603603e-01</td>\n",
       "    </tr>\n",
       "    <tr>\n",
       "      <th>AVG_AMT_PER_CHQ_TXN</th>\n",
       "      <td>9.245440</td>\n",
       "      <td>2.571603e-20</td>\n",
       "    </tr>\n",
       "    <tr>\n",
       "      <th>AVG_AMT_PER_NET_TXN</th>\n",
       "      <td>3.636536</td>\n",
       "      <td>2.770228e-04</td>\n",
       "    </tr>\n",
       "    <tr>\n",
       "      <th>AVG_AMT_PER_MOB_TXN</th>\n",
       "      <td>10.815484</td>\n",
       "      <td>3.457713e-27</td>\n",
       "    </tr>\n",
       "    <tr>\n",
       "      <th>FLG_HAS_NOMINEE</th>\n",
       "      <td>1.666561</td>\n",
       "      <td>9.561733e-02</td>\n",
       "    </tr>\n",
       "    <tr>\n",
       "      <th>FLG_HAS_OLD_LOAN</th>\n",
       "      <td>-1.634201</td>\n",
       "      <td>1.022324e-01</td>\n",
       "    </tr>\n",
       "    <tr>\n",
       "      <th>random</th>\n",
       "      <td>-0.212742</td>\n",
       "      <td>8.315305e-01</td>\n",
       "    </tr>\n",
       "  </tbody>\n",
       "</table>\n",
       "</div>"
      ],
      "text/plain": [
       "                          statistic        pvalue\n",
       "AGE                        3.250148  1.155356e-03\n",
       "BALANCE                   -9.504895  2.221910e-21\n",
       "SCR                       11.193771  5.335084e-29\n",
       "HOLDING_PERIOD           -19.332224  1.629451e-82\n",
       "LEN_OF_RLTN_IN_MNTH       -3.340813  8.368631e-04\n",
       "NO_OF_L_CR_TXNS           17.134229  2.413810e-65\n",
       "NO_OF_L_DR_TXNS           17.520405  3.237312e-68\n",
       "TOT_NO_OF_L_TXNS          19.195228  2.189287e-81\n",
       "NO_OF_BR_CSH_WDL_DR_TXNS  14.486801  2.549900e-47\n",
       "NO_OF_ATM_DR_TXNS         11.686399  1.893220e-31\n",
       "NO_OF_NET_DR_TXNS         13.792305  4.465936e-43\n",
       "NO_OF_MOB_DR_TXNS          7.715297  1.263429e-14\n",
       "NO_OF_CHQ_DR_TXNS         14.719894  8.650001e-49\n",
       "FLG_HAS_CC                14.286362  4.487167e-46\n",
       "AMT_ATM_DR                11.813883  4.231461e-32\n",
       "AMT_BR_CSH_WDL_DR          6.846816  7.770160e-12\n",
       "AMT_CHQ_DR                 8.613303  7.616861e-18\n",
       "AMT_NET_DR                 8.801790  1.453938e-18\n",
       "AMT_MOB_DR                11.808771  4.494876e-32\n",
       "AMT_L_DR                  13.545671  1.282778e-41\n",
       "FLG_HAS_ANY_CHGS           6.481205  9.311624e-11\n",
       "AMT_OTH_BK_ATM_USG_CHGS    4.020162  5.837133e-05\n",
       "AMT_MIN_BAL_NMC_CHGS       0.714632  4.748446e-01\n",
       "NO_OF_IW_CHQ_BNC_TXNS      1.640719  1.008714e-01\n",
       "NO_OF_OW_CHQ_BNC_TXNS      3.877815  1.057358e-04\n",
       "AVG_AMT_PER_ATM_TXN       10.635288  2.401413e-26\n",
       "AVG_AMT_PER_CSH_WDL_TXN   -0.305012  7.603603e-01\n",
       "AVG_AMT_PER_CHQ_TXN        9.245440  2.571603e-20\n",
       "AVG_AMT_PER_NET_TXN        3.636536  2.770228e-04\n",
       "AVG_AMT_PER_MOB_TXN       10.815484  3.457713e-27\n",
       "FLG_HAS_NOMINEE            1.666561  9.561733e-02\n",
       "FLG_HAS_OLD_LOAN          -1.634201  1.022324e-01\n",
       "random                    -0.212742  8.315305e-01"
      ]
     },
     "execution_count": 5,
     "metadata": {},
     "output_type": "execute_result"
    }
   ],
   "source": [
    "df=loan[loan.dtypes[(loan.dtypes==\"float64\")|(loan.dtypes==\"int64\")].index.values]\n",
    "df['TARGET']=loan['TARGET']\n",
    "# get a list of all columns in the dataframe without the Group column\n",
    "column_list = [x for x in df.columns if x != 'TARGET']\n",
    "# create an empty dictionary\n",
    "t_test_results = {}\n",
    "# loop over column_list and execute code explained above\n",
    "for column in column_list:\n",
    "    group1 = df.where(df.TARGET== 1).dropna()[column]\n",
    "    group2 = df.where(df.TARGET== 0).dropna()[column]\n",
    "    # add the output to the dictionary \n",
    "    t_test_results[column] = stats.ttest_ind(group1,group2)\n",
    "results_df = pd.DataFrame.from_dict(t_test_results,orient='Index')\n",
    "results_df.columns = ['statistic','pvalue']\n",
    "results_df"
   ]
  },
  {
   "cell_type": "markdown",
   "metadata": {},
   "source": [
    "### On high level, we can do significance test and check if we can remove any variable. Here all the p value is significant"
   ]
  },
  {
   "cell_type": "code",
   "execution_count": 4,
   "metadata": {
    "collapsed": true
   },
   "outputs": [],
   "source": [
    "loan=loan[['TARGET','BALANCE','OCCUPATION','SCR','HOLDING_PERIOD','LEN_OF_RLTN_IN_MNTH',\n",
    "           'FLG_HAS_CC','AMT_L_DR','AMT_MIN_BAL_NMC_CHGS','NO_OF_IW_CHQ_BNC_TXNS',\n",
    "           'FLG_HAS_NOMINEE','FLG_HAS_OLD_LOAN','AGE','NO_OF_L_CR_TXNS','NO_OF_L_DR_TXNS']].copy()"
   ]
  },
  {
   "cell_type": "code",
   "execution_count": 5,
   "metadata": {},
   "outputs": [
    {
     "data": {
      "text/html": [
       "<div>\n",
       "<style scoped>\n",
       "    .dataframe tbody tr th:only-of-type {\n",
       "        vertical-align: middle;\n",
       "    }\n",
       "\n",
       "    .dataframe tbody tr th {\n",
       "        vertical-align: top;\n",
       "    }\n",
       "\n",
       "    .dataframe thead th {\n",
       "        text-align: right;\n",
       "    }\n",
       "</style>\n",
       "<table border=\"1\" class=\"dataframe\">\n",
       "  <thead>\n",
       "    <tr style=\"text-align: right;\">\n",
       "      <th></th>\n",
       "      <th>TARGET</th>\n",
       "      <th>BALANCE</th>\n",
       "      <th>OCCUPATION</th>\n",
       "      <th>SCR</th>\n",
       "      <th>HOLDING_PERIOD</th>\n",
       "      <th>LEN_OF_RLTN_IN_MNTH</th>\n",
       "      <th>FLG_HAS_CC</th>\n",
       "      <th>AMT_L_DR</th>\n",
       "      <th>AMT_MIN_BAL_NMC_CHGS</th>\n",
       "      <th>NO_OF_IW_CHQ_BNC_TXNS</th>\n",
       "      <th>FLG_HAS_NOMINEE</th>\n",
       "      <th>FLG_HAS_OLD_LOAN</th>\n",
       "      <th>AGE</th>\n",
       "      <th>NO_OF_L_CR_TXNS</th>\n",
       "      <th>NO_OF_L_DR_TXNS</th>\n",
       "    </tr>\n",
       "  </thead>\n",
       "  <tbody>\n",
       "    <tr>\n",
       "      <th>0</th>\n",
       "      <td>0</td>\n",
       "      <td>3383.75</td>\n",
       "      <td>SELF-EMP</td>\n",
       "      <td>776</td>\n",
       "      <td>30</td>\n",
       "      <td>146</td>\n",
       "      <td>0</td>\n",
       "      <td>986657.0</td>\n",
       "      <td>0</td>\n",
       "      <td>0</td>\n",
       "      <td>1</td>\n",
       "      <td>1</td>\n",
       "      <td>27</td>\n",
       "      <td>7</td>\n",
       "      <td>3</td>\n",
       "    </tr>\n",
       "    <tr>\n",
       "      <th>1</th>\n",
       "      <td>0</td>\n",
       "      <td>287489.04</td>\n",
       "      <td>SAL</td>\n",
       "      <td>324</td>\n",
       "      <td>28</td>\n",
       "      <td>104</td>\n",
       "      <td>0</td>\n",
       "      <td>806413.0</td>\n",
       "      <td>0</td>\n",
       "      <td>0</td>\n",
       "      <td>1</td>\n",
       "      <td>0</td>\n",
       "      <td>47</td>\n",
       "      <td>8</td>\n",
       "      <td>2</td>\n",
       "    </tr>\n",
       "    <tr>\n",
       "      <th>2</th>\n",
       "      <td>0</td>\n",
       "      <td>18216.88</td>\n",
       "      <td>SELF-EMP</td>\n",
       "      <td>603</td>\n",
       "      <td>2</td>\n",
       "      <td>61</td>\n",
       "      <td>0</td>\n",
       "      <td>1619210.0</td>\n",
       "      <td>0</td>\n",
       "      <td>0</td>\n",
       "      <td>1</td>\n",
       "      <td>1</td>\n",
       "      <td>40</td>\n",
       "      <td>10</td>\n",
       "      <td>5</td>\n",
       "    </tr>\n",
       "    <tr>\n",
       "      <th>3</th>\n",
       "      <td>0</td>\n",
       "      <td>71720.48</td>\n",
       "      <td>SAL</td>\n",
       "      <td>196</td>\n",
       "      <td>13</td>\n",
       "      <td>107</td>\n",
       "      <td>0</td>\n",
       "      <td>1573364.0</td>\n",
       "      <td>0</td>\n",
       "      <td>0</td>\n",
       "      <td>1</td>\n",
       "      <td>0</td>\n",
       "      <td>53</td>\n",
       "      <td>36</td>\n",
       "      <td>14</td>\n",
       "    </tr>\n",
       "    <tr>\n",
       "      <th>4</th>\n",
       "      <td>0</td>\n",
       "      <td>1671622.89</td>\n",
       "      <td>PROF</td>\n",
       "      <td>167</td>\n",
       "      <td>24</td>\n",
       "      <td>185</td>\n",
       "      <td>0</td>\n",
       "      <td>808480.0</td>\n",
       "      <td>0</td>\n",
       "      <td>0</td>\n",
       "      <td>1</td>\n",
       "      <td>0</td>\n",
       "      <td>36</td>\n",
       "      <td>20</td>\n",
       "      <td>1</td>\n",
       "    </tr>\n",
       "  </tbody>\n",
       "</table>\n",
       "</div>"
      ],
      "text/plain": [
       "   TARGET     BALANCE OCCUPATION  SCR  HOLDING_PERIOD  LEN_OF_RLTN_IN_MNTH  \\\n",
       "0       0     3383.75   SELF-EMP  776              30                  146   \n",
       "1       0   287489.04        SAL  324              28                  104   \n",
       "2       0    18216.88   SELF-EMP  603               2                   61   \n",
       "3       0    71720.48        SAL  196              13                  107   \n",
       "4       0  1671622.89       PROF  167              24                  185   \n",
       "\n",
       "   FLG_HAS_CC   AMT_L_DR  AMT_MIN_BAL_NMC_CHGS  NO_OF_IW_CHQ_BNC_TXNS  \\\n",
       "0           0   986657.0                     0                      0   \n",
       "1           0   806413.0                     0                      0   \n",
       "2           0  1619210.0                     0                      0   \n",
       "3           0  1573364.0                     0                      0   \n",
       "4           0   808480.0                     0                      0   \n",
       "\n",
       "   FLG_HAS_NOMINEE  FLG_HAS_OLD_LOAN  AGE  NO_OF_L_CR_TXNS  NO_OF_L_DR_TXNS  \n",
       "0                1                 1   27                7                3  \n",
       "1                1                 0   47                8                2  \n",
       "2                1                 1   40               10                5  \n",
       "3                1                 0   53               36               14  \n",
       "4                1                 0   36               20                1  "
      ]
     },
     "execution_count": 5,
     "metadata": {},
     "output_type": "execute_result"
    }
   ],
   "source": [
    "pd.options.display.max_columns = None\n",
    "pd.options.display.max_rows = None\n",
    "loan.head(5)"
   ]
  },
  {
   "cell_type": "code",
   "execution_count": 9,
   "metadata": {},
   "outputs": [
    {
     "data": {
      "text/plain": [
       "CUST_ID                      object\n",
       "AGE                           int64\n",
       "GENDER                       object\n",
       "BALANCE                     float64\n",
       "OCCUPATION                   object\n",
       "AGE_BKT                      object\n",
       "SCR                           int64\n",
       "HOLDING_PERIOD                int64\n",
       "ACC_TYPE                     object\n",
       "ACC_OP_DATE                  object\n",
       "LEN_OF_RLTN_IN_MNTH           int64\n",
       "NO_OF_L_CR_TXNS               int64\n",
       "NO_OF_L_DR_TXNS               int64\n",
       "TOT_NO_OF_L_TXNS              int64\n",
       "NO_OF_BR_CSH_WDL_DR_TXNS      int64\n",
       "NO_OF_ATM_DR_TXNS             int64\n",
       "NO_OF_NET_DR_TXNS             int64\n",
       "NO_OF_MOB_DR_TXNS             int64\n",
       "NO_OF_CHQ_DR_TXNS             int64\n",
       "FLG_HAS_CC                    int64\n",
       "AMT_ATM_DR                    int64\n",
       "AMT_BR_CSH_WDL_DR             int64\n",
       "AMT_CHQ_DR                    int64\n",
       "AMT_NET_DR                  float64\n",
       "AMT_MOB_DR                    int64\n",
       "AMT_L_DR                    float64\n",
       "FLG_HAS_ANY_CHGS              int64\n",
       "AMT_OTH_BK_ATM_USG_CHGS       int64\n",
       "AMT_MIN_BAL_NMC_CHGS          int64\n",
       "NO_OF_IW_CHQ_BNC_TXNS         int64\n",
       "NO_OF_OW_CHQ_BNC_TXNS         int64\n",
       "AVG_AMT_PER_ATM_TXN         float64\n",
       "AVG_AMT_PER_CSH_WDL_TXN     float64\n",
       "AVG_AMT_PER_CHQ_TXN         float64\n",
       "AVG_AMT_PER_NET_TXN         float64\n",
       "AVG_AMT_PER_MOB_TXN         float64\n",
       "FLG_HAS_NOMINEE               int64\n",
       "FLG_HAS_OLD_LOAN              int64\n",
       "random                      float64\n",
       "TARGET                        int64\n",
       "dtype: object"
      ]
     },
     "execution_count": 9,
     "metadata": {},
     "output_type": "execute_result"
    }
   ],
   "source": [
    "# shifting target at last\n",
    "df1 =loan.pop('TARGET')\n",
    "loan['TARGET']=df1\n",
    "loan.dtypes"
   ]
  },
  {
   "cell_type": "code",
   "execution_count": 7,
   "metadata": {},
   "outputs": [
    {
     "data": {
      "text/html": [
       "<div>\n",
       "<style>\n",
       "    .dataframe thead tr:only-child th {\n",
       "        text-align: right;\n",
       "    }\n",
       "\n",
       "    .dataframe thead th {\n",
       "        text-align: left;\n",
       "    }\n",
       "\n",
       "    .dataframe tbody tr th {\n",
       "        vertical-align: top;\n",
       "    }\n",
       "</style>\n",
       "<table border=\"1\" class=\"dataframe\">\n",
       "  <thead>\n",
       "    <tr style=\"text-align: right;\">\n",
       "      <th></th>\n",
       "      <th>AGE</th>\n",
       "      <th>BALANCE</th>\n",
       "      <th>SCR</th>\n",
       "      <th>HOLDING_PERIOD</th>\n",
       "      <th>LEN_OF_RLTN_IN_MNTH</th>\n",
       "      <th>NO_OF_L_CR_TXNS</th>\n",
       "      <th>NO_OF_L_DR_TXNS</th>\n",
       "      <th>TOT_NO_OF_L_TXNS</th>\n",
       "      <th>NO_OF_BR_CSH_WDL_DR_TXNS</th>\n",
       "      <th>NO_OF_ATM_DR_TXNS</th>\n",
       "      <th>...</th>\n",
       "      <th>NO_OF_OW_CHQ_BNC_TXNS</th>\n",
       "      <th>AVG_AMT_PER_ATM_TXN</th>\n",
       "      <th>AVG_AMT_PER_CSH_WDL_TXN</th>\n",
       "      <th>AVG_AMT_PER_CHQ_TXN</th>\n",
       "      <th>AVG_AMT_PER_NET_TXN</th>\n",
       "      <th>AVG_AMT_PER_MOB_TXN</th>\n",
       "      <th>FLG_HAS_NOMINEE</th>\n",
       "      <th>FLG_HAS_OLD_LOAN</th>\n",
       "      <th>random</th>\n",
       "      <th>TARGET</th>\n",
       "    </tr>\n",
       "  </thead>\n",
       "  <tbody>\n",
       "    <tr>\n",
       "      <th>count</th>\n",
       "      <td>20000.000000</td>\n",
       "      <td>2.000000e+04</td>\n",
       "      <td>20000.000000</td>\n",
       "      <td>20000.000000</td>\n",
       "      <td>20000.000000</td>\n",
       "      <td>20000.000000</td>\n",
       "      <td>20000.00000</td>\n",
       "      <td>20000.00000</td>\n",
       "      <td>20000.000000</td>\n",
       "      <td>20000.000000</td>\n",
       "      <td>...</td>\n",
       "      <td>20000.00000</td>\n",
       "      <td>20000.000000</td>\n",
       "      <td>20000.000000</td>\n",
       "      <td>20000.000000</td>\n",
       "      <td>20000.000000</td>\n",
       "      <td>20000.000000</td>\n",
       "      <td>20000.000000</td>\n",
       "      <td>20000.000000</td>\n",
       "      <td>20000.000000</td>\n",
       "      <td>20000.000000</td>\n",
       "    </tr>\n",
       "    <tr>\n",
       "      <th>mean</th>\n",
       "      <td>38.418150</td>\n",
       "      <td>5.113622e+05</td>\n",
       "      <td>440.150300</td>\n",
       "      <td>14.955650</td>\n",
       "      <td>125.239300</td>\n",
       "      <td>12.348050</td>\n",
       "      <td>6.63370</td>\n",
       "      <td>18.97540</td>\n",
       "      <td>1.883000</td>\n",
       "      <td>1.028950</td>\n",
       "      <td>...</td>\n",
       "      <td>0.04440</td>\n",
       "      <td>7408.839731</td>\n",
       "      <td>242236.478811</td>\n",
       "      <td>25092.478384</td>\n",
       "      <td>179059.029254</td>\n",
       "      <td>20303.920406</td>\n",
       "      <td>0.901150</td>\n",
       "      <td>0.492950</td>\n",
       "      <td>0.501933</td>\n",
       "      <td>0.125600</td>\n",
       "    </tr>\n",
       "    <tr>\n",
       "      <th>std</th>\n",
       "      <td>9.577985</td>\n",
       "      <td>7.235930e+05</td>\n",
       "      <td>249.887582</td>\n",
       "      <td>8.642634</td>\n",
       "      <td>54.953936</td>\n",
       "      <td>12.151921</td>\n",
       "      <td>7.67583</td>\n",
       "      <td>17.75929</td>\n",
       "      <td>2.263596</td>\n",
       "      <td>1.497239</td>\n",
       "      <td>...</td>\n",
       "      <td>0.20623</td>\n",
       "      <td>7210.168619</td>\n",
       "      <td>269837.890598</td>\n",
       "      <td>49387.197536</td>\n",
       "      <td>281706.855583</td>\n",
       "      <td>46472.889982</td>\n",
       "      <td>0.298468</td>\n",
       "      <td>0.499963</td>\n",
       "      <td>0.290762</td>\n",
       "      <td>0.331406</td>\n",
       "    </tr>\n",
       "    <tr>\n",
       "      <th>min</th>\n",
       "      <td>21.000000</td>\n",
       "      <td>0.000000e+00</td>\n",
       "      <td>100.000000</td>\n",
       "      <td>1.000000</td>\n",
       "      <td>29.000000</td>\n",
       "      <td>0.000000</td>\n",
       "      <td>0.00000</td>\n",
       "      <td>0.00000</td>\n",
       "      <td>0.000000</td>\n",
       "      <td>0.000000</td>\n",
       "      <td>...</td>\n",
       "      <td>0.00000</td>\n",
       "      <td>0.000000</td>\n",
       "      <td>0.000000</td>\n",
       "      <td>0.000000</td>\n",
       "      <td>0.000000</td>\n",
       "      <td>0.000000</td>\n",
       "      <td>0.000000</td>\n",
       "      <td>0.000000</td>\n",
       "      <td>0.000011</td>\n",
       "      <td>0.000000</td>\n",
       "    </tr>\n",
       "    <tr>\n",
       "      <th>25%</th>\n",
       "      <td>30.000000</td>\n",
       "      <td>6.475403e+04</td>\n",
       "      <td>227.000000</td>\n",
       "      <td>7.000000</td>\n",
       "      <td>79.000000</td>\n",
       "      <td>6.000000</td>\n",
       "      <td>2.00000</td>\n",
       "      <td>9.00000</td>\n",
       "      <td>1.000000</td>\n",
       "      <td>0.000000</td>\n",
       "      <td>...</td>\n",
       "      <td>0.00000</td>\n",
       "      <td>0.000000</td>\n",
       "      <td>1265.450000</td>\n",
       "      <td>0.000000</td>\n",
       "      <td>0.000000</td>\n",
       "      <td>0.000000</td>\n",
       "      <td>1.000000</td>\n",
       "      <td>0.000000</td>\n",
       "      <td>0.248187</td>\n",
       "      <td>0.000000</td>\n",
       "    </tr>\n",
       "    <tr>\n",
       "      <th>50%</th>\n",
       "      <td>38.000000</td>\n",
       "      <td>2.316758e+05</td>\n",
       "      <td>364.000000</td>\n",
       "      <td>15.000000</td>\n",
       "      <td>125.000000</td>\n",
       "      <td>10.000000</td>\n",
       "      <td>5.00000</td>\n",
       "      <td>14.00000</td>\n",
       "      <td>1.000000</td>\n",
       "      <td>1.000000</td>\n",
       "      <td>...</td>\n",
       "      <td>0.00000</td>\n",
       "      <td>6000.000000</td>\n",
       "      <td>147095.000000</td>\n",
       "      <td>8645.000000</td>\n",
       "      <td>0.000000</td>\n",
       "      <td>0.000000</td>\n",
       "      <td>1.000000</td>\n",
       "      <td>0.000000</td>\n",
       "      <td>0.506121</td>\n",
       "      <td>0.000000</td>\n",
       "    </tr>\n",
       "    <tr>\n",
       "      <th>75%</th>\n",
       "      <td>46.000000</td>\n",
       "      <td>6.538768e+05</td>\n",
       "      <td>644.000000</td>\n",
       "      <td>22.000000</td>\n",
       "      <td>172.000000</td>\n",
       "      <td>14.000000</td>\n",
       "      <td>7.00000</td>\n",
       "      <td>21.00000</td>\n",
       "      <td>2.000000</td>\n",
       "      <td>1.000000</td>\n",
       "      <td>...</td>\n",
       "      <td>0.00000</td>\n",
       "      <td>13500.000000</td>\n",
       "      <td>385000.000000</td>\n",
       "      <td>28605.000000</td>\n",
       "      <td>257699.000000</td>\n",
       "      <td>0.000000</td>\n",
       "      <td>1.000000</td>\n",
       "      <td>1.000000</td>\n",
       "      <td>0.753571</td>\n",
       "      <td>0.000000</td>\n",
       "    </tr>\n",
       "    <tr>\n",
       "      <th>max</th>\n",
       "      <td>55.000000</td>\n",
       "      <td>8.360431e+06</td>\n",
       "      <td>999.000000</td>\n",
       "      <td>31.000000</td>\n",
       "      <td>221.000000</td>\n",
       "      <td>75.000000</td>\n",
       "      <td>74.00000</td>\n",
       "      <td>149.00000</td>\n",
       "      <td>15.000000</td>\n",
       "      <td>25.000000</td>\n",
       "      <td>...</td>\n",
       "      <td>2.00000</td>\n",
       "      <td>25000.000000</td>\n",
       "      <td>999640.000000</td>\n",
       "      <td>537842.220000</td>\n",
       "      <td>999854.000000</td>\n",
       "      <td>199667.000000</td>\n",
       "      <td>1.000000</td>\n",
       "      <td>1.000000</td>\n",
       "      <td>0.999947</td>\n",
       "      <td>1.000000</td>\n",
       "    </tr>\n",
       "  </tbody>\n",
       "</table>\n",
       "<p>8 rows × 34 columns</p>\n",
       "</div>"
      ],
      "text/plain": [
       "                AGE       BALANCE           SCR  HOLDING_PERIOD  \\\n",
       "count  20000.000000  2.000000e+04  20000.000000    20000.000000   \n",
       "mean      38.418150  5.113622e+05    440.150300       14.955650   \n",
       "std        9.577985  7.235930e+05    249.887582        8.642634   \n",
       "min       21.000000  0.000000e+00    100.000000        1.000000   \n",
       "25%       30.000000  6.475403e+04    227.000000        7.000000   \n",
       "50%       38.000000  2.316758e+05    364.000000       15.000000   \n",
       "75%       46.000000  6.538768e+05    644.000000       22.000000   \n",
       "max       55.000000  8.360431e+06    999.000000       31.000000   \n",
       "\n",
       "       LEN_OF_RLTN_IN_MNTH  NO_OF_L_CR_TXNS  NO_OF_L_DR_TXNS  \\\n",
       "count         20000.000000     20000.000000      20000.00000   \n",
       "mean            125.239300        12.348050          6.63370   \n",
       "std              54.953936        12.151921          7.67583   \n",
       "min              29.000000         0.000000          0.00000   \n",
       "25%              79.000000         6.000000          2.00000   \n",
       "50%             125.000000        10.000000          5.00000   \n",
       "75%             172.000000        14.000000          7.00000   \n",
       "max             221.000000        75.000000         74.00000   \n",
       "\n",
       "       TOT_NO_OF_L_TXNS  NO_OF_BR_CSH_WDL_DR_TXNS  NO_OF_ATM_DR_TXNS  \\\n",
       "count       20000.00000              20000.000000       20000.000000   \n",
       "mean           18.97540                  1.883000           1.028950   \n",
       "std            17.75929                  2.263596           1.497239   \n",
       "min             0.00000                  0.000000           0.000000   \n",
       "25%             9.00000                  1.000000           0.000000   \n",
       "50%            14.00000                  1.000000           1.000000   \n",
       "75%            21.00000                  2.000000           1.000000   \n",
       "max           149.00000                 15.000000          25.000000   \n",
       "\n",
       "           ...       NO_OF_OW_CHQ_BNC_TXNS  AVG_AMT_PER_ATM_TXN  \\\n",
       "count      ...                 20000.00000         20000.000000   \n",
       "mean       ...                     0.04440          7408.839731   \n",
       "std        ...                     0.20623          7210.168619   \n",
       "min        ...                     0.00000             0.000000   \n",
       "25%        ...                     0.00000             0.000000   \n",
       "50%        ...                     0.00000          6000.000000   \n",
       "75%        ...                     0.00000         13500.000000   \n",
       "max        ...                     2.00000         25000.000000   \n",
       "\n",
       "       AVG_AMT_PER_CSH_WDL_TXN  AVG_AMT_PER_CHQ_TXN  AVG_AMT_PER_NET_TXN  \\\n",
       "count             20000.000000         20000.000000         20000.000000   \n",
       "mean             242236.478811         25092.478384        179059.029254   \n",
       "std              269837.890598         49387.197536        281706.855583   \n",
       "min                   0.000000             0.000000             0.000000   \n",
       "25%                1265.450000             0.000000             0.000000   \n",
       "50%              147095.000000          8645.000000             0.000000   \n",
       "75%              385000.000000         28605.000000        257699.000000   \n",
       "max              999640.000000        537842.220000        999854.000000   \n",
       "\n",
       "       AVG_AMT_PER_MOB_TXN  FLG_HAS_NOMINEE  FLG_HAS_OLD_LOAN        random  \\\n",
       "count         20000.000000     20000.000000      20000.000000  20000.000000   \n",
       "mean          20303.920406         0.901150          0.492950      0.501933   \n",
       "std           46472.889982         0.298468          0.499963      0.290762   \n",
       "min               0.000000         0.000000          0.000000      0.000011   \n",
       "25%               0.000000         1.000000          0.000000      0.248187   \n",
       "50%               0.000000         1.000000          0.000000      0.506121   \n",
       "75%               0.000000         1.000000          1.000000      0.753571   \n",
       "max          199667.000000         1.000000          1.000000      0.999947   \n",
       "\n",
       "             TARGET  \n",
       "count  20000.000000  \n",
       "mean       0.125600  \n",
       "std        0.331406  \n",
       "min        0.000000  \n",
       "25%        0.000000  \n",
       "50%        0.000000  \n",
       "75%        0.000000  \n",
       "max        1.000000  \n",
       "\n",
       "[8 rows x 34 columns]"
      ]
     },
     "execution_count": 7,
     "metadata": {},
     "output_type": "execute_result"
    }
   ],
   "source": [
    "#Summary of continuos or numerical variables\n",
    "loan.describe()"
   ]
  },
  {
   "cell_type": "code",
   "execution_count": 11,
   "metadata": {
    "scrolled": true
   },
   "outputs": [
    {
     "data": {
      "image/png": "[encoded data removed]",
      "text/plain": [
       "<matplotlib.figure.Figure at 0x2daca451860>"
      ]
     },
     "metadata": {},
     "output_type": "display_data"
    }
   ],
   "source": [
    "loan_hist=loan[loan.dtypes[(loan.dtypes==\"float64\")|(loan.dtypes==\"int64\")]\n",
    "               .index.values].hist(figsize=[20,20],layout=(7,5))"
   ]
  },
  {
   "cell_type": "markdown",
   "metadata": {},
   "source": [
    "### we can see the insights from each variablity. Seems No_of_-L_CR_TXNS is spread out and it can be a important factor. Similarly Flg_HAS_OLD_LOAN is equally spread, so it can be not an important factor. Check variability"
   ]
  },
  {
   "cell_type": "code",
   "execution_count": 12,
   "metadata": {},
   "outputs": [
    {
     "data": {
      "text/plain": [
       "SAL         5855\n",
       "PROF        5417\n",
       "SENP        5160\n",
       "SELF-EMP    3568\n",
       "Name: OCCUPATION, dtype: int64"
      ]
     },
     "execution_count": 12,
     "metadata": {},
     "output_type": "execute_result"
    }
   ],
   "source": [
    "loan['OCCUPATION'].value_counts()"
   ]
  },
  {
   "cell_type": "code",
   "execution_count": 15,
   "metadata": {},
   "outputs": [
    {
     "name": "stdout",
     "output_type": "stream",
     "text": [
      "Top Absolute Correlations\n",
      "AMT_MOB_DR       AVG_AMT_PER_MOB_TXN    0.964198\n",
      "NO_OF_L_CR_TXNS  TOT_NO_OF_L_TXNS       0.936226\n",
      "NO_OF_L_DR_TXNS  NO_OF_NET_DR_TXNS      0.915082\n",
      "AMT_CHQ_DR       AVG_AMT_PER_CHQ_TXN    0.904118\n",
      "AMT_NET_DR       AVG_AMT_PER_NET_TXN    0.856792\n",
      "dtype: float64\n"
     ]
    }
   ],
   "source": [
    "df=loan[loan.dtypes[(loan.dtypes==\"float64\")|(loan.dtypes==\"int64\")].index.values]\n",
    "\n",
    "def get_redundant_pairs(df):\n",
    "    '''Get diagonal and lower triangular pairs of correlation matrix'''\n",
    "    pairs_to_drop = set()\n",
    "    cols = df.columns\n",
    "    for i in range(0, df.shape[1]):\n",
    "        for j in range(0, i+1):\n",
    "            pairs_to_drop.add((cols[i], cols[j]))\n",
    "    return pairs_to_drop\n",
    "\n",
    "def get_top_abs_correlations(df, n=5):\n",
    "    au_corr = df.corr().abs().unstack()\n",
    "    labels_to_drop = get_redundant_pairs(df)\n",
    "    au_corr = au_corr.drop(labels=labels_to_drop).sort_values(ascending=False)\n",
    "    return au_corr[0:n]\n",
    "\n",
    "print(\"Top Absolute Correlations\")\n",
    "print(get_top_abs_correlations(df, 5))\n",
    "## in for loops , (a,b) b is exclusive , a is in.clusive"
   ]
  },
  {
   "cell_type": "markdown",
   "metadata": {},
   "source": [
    "### NO_OF_L_CR_TXNS & NO_OF_L_DR_TXNS is having Correlation with lots of variables, so both might be an good factor for CART Model"
   ]
  },
  {
   "cell_type": "code",
   "execution_count": 11,
   "metadata": {},
   "outputs": [
    {
     "name": "stdout",
     "output_type": "stream",
     "text": [
      "<class 'pandas.core.frame.DataFrame'>\n",
      "RangeIndex: 20000 entries, 0 to 19999\n",
      "Data columns (total 15 columns):\n",
      "BALANCE                  20000 non-null float64\n",
      "OCCUPATION               20000 non-null object\n",
      "SCR                      20000 non-null int64\n",
      "HOLDING_PERIOD           20000 non-null int64\n",
      "LEN_OF_RLTN_IN_MNTH      20000 non-null int64\n",
      "FLG_HAS_CC               20000 non-null int64\n",
      "AMT_L_DR                 20000 non-null float64\n",
      "AMT_MIN_BAL_NMC_CHGS     20000 non-null int64\n",
      "NO_OF_IW_CHQ_BNC_TXNS    20000 non-null int64\n",
      "FLG_HAS_NOMINEE          20000 non-null int64\n",
      "FLG_HAS_OLD_LOAN         20000 non-null int64\n",
      "AGE                      20000 non-null int64\n",
      "NO_OF_L_CR_TXNS          20000 non-null int64\n",
      "NO_OF_L_DR_TXNS          20000 non-null int64\n",
      "TARGET                   20000 non-null int64\n",
      "dtypes: float64(2), int64(12), object(1)\n",
      "memory usage: 2.3+ MB\n"
     ]
    }
   ],
   "source": [
    "loan.info()"
   ]
  },
  {
   "cell_type": "code",
   "execution_count": 16,
   "metadata": {},
   "outputs": [
    {
     "data": {
      "text/html": [
       "<div>\n",
       "<style>\n",
       "    .dataframe thead tr:only-child th {\n",
       "        text-align: right;\n",
       "    }\n",
       "\n",
       "    .dataframe thead th {\n",
       "        text-align: left;\n",
       "    }\n",
       "\n",
       "    .dataframe tbody tr th {\n",
       "        vertical-align: top;\n",
       "    }\n",
       "</style>\n",
       "<table border=\"1\" class=\"dataframe\">\n",
       "  <thead>\n",
       "    <tr style=\"text-align: right;\">\n",
       "      <th></th>\n",
       "      <th>AGE</th>\n",
       "      <th>BALANCE</th>\n",
       "      <th>SCR</th>\n",
       "      <th>HOLDING_PERIOD</th>\n",
       "      <th>LEN_OF_RLTN_IN_MNTH</th>\n",
       "      <th>NO_OF_L_CR_TXNS</th>\n",
       "      <th>NO_OF_L_DR_TXNS</th>\n",
       "      <th>TOT_NO_OF_L_TXNS</th>\n",
       "      <th>NO_OF_BR_CSH_WDL_DR_TXNS</th>\n",
       "      <th>NO_OF_ATM_DR_TXNS</th>\n",
       "      <th>...</th>\n",
       "      <th>ACC_OP_DATE_9/30/2005</th>\n",
       "      <th>ACC_OP_DATE_9/30/2006</th>\n",
       "      <th>ACC_OP_DATE_9/30/2007</th>\n",
       "      <th>ACC_OP_DATE_9/30/2008</th>\n",
       "      <th>ACC_OP_DATE_9/30/2009</th>\n",
       "      <th>ACC_OP_DATE_9/30/2010</th>\n",
       "      <th>ACC_OP_DATE_9/30/2011</th>\n",
       "      <th>ACC_OP_DATE_9/30/2012</th>\n",
       "      <th>ACC_OP_DATE_9/30/2013</th>\n",
       "      <th>ACC_OP_DATE_9/30/2014</th>\n",
       "    </tr>\n",
       "  </thead>\n",
       "  <tbody>\n",
       "    <tr>\n",
       "      <th>0</th>\n",
       "      <td>27</td>\n",
       "      <td>3383.75</td>\n",
       "      <td>776</td>\n",
       "      <td>30</td>\n",
       "      <td>146</td>\n",
       "      <td>7</td>\n",
       "      <td>3</td>\n",
       "      <td>10</td>\n",
       "      <td>0</td>\n",
       "      <td>1</td>\n",
       "      <td>...</td>\n",
       "      <td>0</td>\n",
       "      <td>0</td>\n",
       "      <td>0</td>\n",
       "      <td>0</td>\n",
       "      <td>0</td>\n",
       "      <td>0</td>\n",
       "      <td>0</td>\n",
       "      <td>0</td>\n",
       "      <td>0</td>\n",
       "      <td>0</td>\n",
       "    </tr>\n",
       "    <tr>\n",
       "      <th>1</th>\n",
       "      <td>47</td>\n",
       "      <td>287489.04</td>\n",
       "      <td>324</td>\n",
       "      <td>28</td>\n",
       "      <td>104</td>\n",
       "      <td>8</td>\n",
       "      <td>2</td>\n",
       "      <td>10</td>\n",
       "      <td>0</td>\n",
       "      <td>1</td>\n",
       "      <td>...</td>\n",
       "      <td>0</td>\n",
       "      <td>0</td>\n",
       "      <td>0</td>\n",
       "      <td>0</td>\n",
       "      <td>0</td>\n",
       "      <td>0</td>\n",
       "      <td>0</td>\n",
       "      <td>0</td>\n",
       "      <td>0</td>\n",
       "      <td>0</td>\n",
       "    </tr>\n",
       "  </tbody>\n",
       "</table>\n",
       "<p>2 rows × 24913 columns</p>\n",
       "</div>"
      ],
      "text/plain": [
       "   AGE    BALANCE  SCR  HOLDING_PERIOD  LEN_OF_RLTN_IN_MNTH  NO_OF_L_CR_TXNS  \\\n",
       "0   27    3383.75  776              30                  146                7   \n",
       "1   47  287489.04  324              28                  104                8   \n",
       "\n",
       "   NO_OF_L_DR_TXNS  TOT_NO_OF_L_TXNS  NO_OF_BR_CSH_WDL_DR_TXNS  \\\n",
       "0                3                10                         0   \n",
       "1                2                10                         0   \n",
       "\n",
       "   NO_OF_ATM_DR_TXNS          ...            ACC_OP_DATE_9/30/2005  \\\n",
       "0                  1          ...                                0   \n",
       "1                  1          ...                                0   \n",
       "\n",
       "   ACC_OP_DATE_9/30/2006  ACC_OP_DATE_9/30/2007  ACC_OP_DATE_9/30/2008  \\\n",
       "0                      0                      0                      0   \n",
       "1                      0                      0                      0   \n",
       "\n",
       "   ACC_OP_DATE_9/30/2009  ACC_OP_DATE_9/30/2010  ACC_OP_DATE_9/30/2011  \\\n",
       "0                      0                      0                      0   \n",
       "1                      0                      0                      0   \n",
       "\n",
       "   ACC_OP_DATE_9/30/2012  ACC_OP_DATE_9/30/2013  ACC_OP_DATE_9/30/2014  \n",
       "0                      0                      0                      0  \n",
       "1                      0                      0                      0  \n",
       "\n",
       "[2 rows x 24913 columns]"
      ]
     },
     "execution_count": 16,
     "metadata": {},
     "output_type": "execute_result"
    }
   ],
   "source": [
    "loan_df = pd.get_dummies( loan, drop_first = True )\n",
    "loan_df.head(2)"
   ]
  },
  {
   "cell_type": "code",
   "execution_count": 17,
   "metadata": {},
   "outputs": [
    {
     "data": {
      "text/plain": [
       "Index(['AGE', 'BALANCE', 'SCR', 'HOLDING_PERIOD', 'LEN_OF_RLTN_IN_MNTH',\n",
       "       'NO_OF_L_CR_TXNS', 'NO_OF_L_DR_TXNS', 'TOT_NO_OF_L_TXNS',\n",
       "       'NO_OF_BR_CSH_WDL_DR_TXNS', 'NO_OF_ATM_DR_TXNS',\n",
       "       ...\n",
       "       'ACC_OP_DATE_9/30/2005', 'ACC_OP_DATE_9/30/2006',\n",
       "       'ACC_OP_DATE_9/30/2007', 'ACC_OP_DATE_9/30/2008',\n",
       "       'ACC_OP_DATE_9/30/2009', 'ACC_OP_DATE_9/30/2010',\n",
       "       'ACC_OP_DATE_9/30/2011', 'ACC_OP_DATE_9/30/2012',\n",
       "       'ACC_OP_DATE_9/30/2013', 'ACC_OP_DATE_9/30/2014'],\n",
       "      dtype='object', length=24913)"
      ]
     },
     "execution_count": 17,
     "metadata": {},
     "output_type": "execute_result"
    }
   ],
   "source": [
    "loan_df.columns"
   ]
  },
  {
   "cell_type": "code",
   "execution_count": 18,
   "metadata": {
    "collapsed": true
   },
   "outputs": [],
   "source": [
    "#Splitting Dataset into Train and Test\n",
    "from sklearn.model_selection import train_test_split\n",
    "\n",
    "\n",
    "feature_cols = ['BALANCE', 'SCR', 'HOLDING_PERIOD', 'LEN_OF_RLTN_IN_MNTH', 'FLG_HAS_CC',\n",
    "       'AMT_L_DR', 'AMT_MIN_BAL_NMC_CHGS', 'NO_OF_IW_CHQ_BNC_TXNS',\n",
    "       'FLG_HAS_NOMINEE', 'FLG_HAS_OLD_LOAN', 'AGE', 'NO_OF_L_CR_TXNS',\n",
    "       'NO_OF_L_DR_TXNS', 'OCCUPATION_SAL', 'OCCUPATION_SELF-EMP',\n",
    "       'OCCUPATION_SENP']\n",
    "\n",
    "train_X, test_X,  \\\n",
    "train_y, test_y = train_test_split( loan_df[feature_cols],\n",
    "                                  loan_df['TARGET'],\n",
    "                                  test_size = 0.3,\n",
    "                                  random_state = 42 )"
   ]
  },
  {
   "cell_type": "code",
   "execution_count": 19,
   "metadata": {},
   "outputs": [
    {
     "data": {
      "text/plain": [
       "14000"
      ]
     },
     "execution_count": 19,
     "metadata": {},
     "output_type": "execute_result"
    }
   ],
   "source": [
    "len( train_X )"
   ]
  },
  {
   "cell_type": "code",
   "execution_count": 20,
   "metadata": {},
   "outputs": [
    {
     "data": {
      "text/plain": [
       "6000"
      ]
     },
     "execution_count": 20,
     "metadata": {},
     "output_type": "execute_result"
    }
   ],
   "source": [
    "len( test_X )"
   ]
  },
  {
   "cell_type": "code",
   "execution_count": 21,
   "metadata": {
    "collapsed": true
   },
   "outputs": [],
   "source": [
    "#Building Decision Tree Model\n",
    "from sklearn import metrics\n",
    "from sklearn.tree import DecisionTreeClassifier, export_graphviz, export"
   ]
  },
  {
   "cell_type": "code",
   "execution_count": 22,
   "metadata": {},
   "outputs": [
    {
     "name": "stdout",
     "output_type": "stream",
     "text": [
      "Tree Depth:  1  - ROC:  0.5\n",
      "Tree Depth:  2  - ROC:  0.5\n",
      "Tree Depth:  3  - ROC:  0.5\n",
      "Tree Depth:  4  - ROC:  0.513265836604\n",
      "Tree Depth:  5  - ROC:  0.537805099945\n",
      "Tree Depth:  6  - ROC:  0.546700111773\n",
      "Tree Depth:  7  - ROC:  0.576066387669\n",
      "Tree Depth:  8  - ROC:  0.596561045983\n",
      "Tree Depth:  9  - ROC:  0.618120142445\n",
      "Tree Depth:  10  - ROC:  0.650774609446\n",
      "Tree Depth:  11  - ROC:  0.694281406774\n",
      "Tree Depth:  12  - ROC:  0.711668529542\n",
      "Tree Depth:  13  - ROC:  0.750033791687\n",
      "Tree Depth:  14  - ROC:  0.775165709236\n",
      "Tree Depth:  15  - ROC:  0.803342777677\n",
      "Tree Depth:  16  - ROC:  0.813521873619\n",
      "Tree Depth:  17  - ROC:  0.82956902602\n",
      "Tree Depth:  18  - ROC:  0.835196641626\n",
      "Tree Depth:  19  - ROC:  0.844290504536\n",
      "Tree Depth:  20  - ROC:  0.850760312963\n",
      "Tree Depth:  21  - ROC:  0.853162122118\n",
      "Tree Depth:  22  - ROC:  0.856998778301\n",
      "Tree Depth:  23  - ROC:  0.860749655585\n",
      "Tree Depth:  24  - ROC:  0.858810532609\n",
      "Tree Depth:  25  - ROC:  0.861149957111\n",
      "Tree Depth:  26  - ROC:  0.862024641938\n",
      "Tree Depth:  27  - ROC:  0.860675573809\n",
      "Tree Depth:  28  - ROC:  0.863658340048\n",
      "Tree Depth:  29  - ROC:  0.866018559434\n"
     ]
    }
   ],
   "source": [
    "#Searching for optimal tree depth\n",
    "depths_list = range(1,30)\n",
    "for depth in depths_list:\n",
    "  clf_tree = DecisionTreeClassifier( max_depth = depth, random_state=12345 )\n",
    "  clf_tree.fit( train_X, train_y )\n",
    "  print( \"Tree Depth: \",\n",
    "        depth,\n",
    "        \" - ROC: \",\n",
    "        metrics.roc_auc_score( test_y, clf_tree.predict( test_X ) ) )"
   ]
  },
  {
   "cell_type": "markdown",
   "metadata": {},
   "source": [
    "tree depth of 23 seems to be optimal, where the accuracy is highest."
   ]
  },
  {
   "cell_type": "code",
   "execution_count": 23,
   "metadata": {
    "collapsed": true
   },
   "outputs": [],
   "source": [
    "clf_tree = DecisionTreeClassifier( max_depth =9 )"
   ]
  },
  {
   "cell_type": "code",
   "execution_count": 24,
   "metadata": {},
   "outputs": [
    {
     "data": {
      "text/plain": [
       "DecisionTreeClassifier(class_weight=None, criterion='gini', max_depth=9,\n",
       "            max_features=None, max_leaf_nodes=None,\n",
       "            min_impurity_decrease=0.0, min_impurity_split=None,\n",
       "            min_samples_leaf=1, min_samples_split=2,\n",
       "            min_weight_fraction_leaf=0.0, presort=False, random_state=None,\n",
       "            splitter='best')"
      ]
     },
     "execution_count": 24,
     "metadata": {},
     "output_type": "execute_result"
    }
   ],
   "source": [
    "clf_tree.fit( train_X, train_y )"
   ]
  },
  {
   "cell_type": "code",
   "execution_count": 25,
   "metadata": {
    "collapsed": true
   },
   "outputs": [],
   "source": [
    "tree_predict = clf_tree.predict( test_X )"
   ]
  },
  {
   "cell_type": "code",
   "execution_count": 26,
   "metadata": {},
   "outputs": [
    {
     "data": {
      "text/plain": [
       "0.89216666666666666"
      ]
     },
     "execution_count": 26,
     "metadata": {},
     "output_type": "execute_result"
    }
   ],
   "source": [
    "metrics.accuracy_score( test_y, tree_predict )"
   ]
  },
  {
   "cell_type": "code",
   "execution_count": 27,
   "metadata": {
    "collapsed": true
   },
   "outputs": [],
   "source": [
    "tree_cm = metrics.confusion_matrix( test_y, tree_predict, [1,0]  )"
   ]
  },
  {
   "cell_type": "code",
   "execution_count": 28,
   "metadata": {},
   "outputs": [
    {
     "data": {
      "text/plain": [
       "Text(0.5,15,'Predicted label')"
      ]
     },
     "execution_count": 28,
     "metadata": {},
     "output_type": "execute_result"
    },
    {
     "data": {
      "image/png": "[encoded data removed]",
      "text/plain": [
       "<matplotlib.figure.Figure at 0x2dacd8bff60>"
      ]
     },
     "metadata": {},
     "output_type": "display_data"
    }
   ],
   "source": [
    "sns.heatmap(tree_cm, annot=True,  fmt='.2f', xticklabels = [\"Will take loan\", \"Will not take loan\"]\n",
    "           , yticklabels = [\"Will take loan\", \"Will not take loan\"] )\n",
    "plt.ylabel('True label')\n",
    "plt.xlabel('Predicted label')"
   ]
  },
  {
   "cell_type": "code",
   "execution_count": 32,
   "metadata": {},
   "outputs": [
    {
     "name": "stdout",
     "output_type": "stream",
     "text": [
      "dot: graph is too large for cairo-renderer bitmaps. Scaling by 0.892809 to fit\n",
      "\n",
      "dot: graph is too large for cairo-renderer bitmaps. Scaling by 0.892809 to fit\n",
      "\n"
     ]
    },
    {
     "data": {
      "text/plain": [
       "True"
      ]
     },
     "execution_count": 32,
     "metadata": {},
     "output_type": "execute_result"
    }
   ],
   "source": [
    "import os\n",
    "os.environ[\"PATH\"] += os.pathsep + 'C:/Program Files (x86)/Graphviz2.38/bin/'\n",
    "dot_data = StringIO()\n",
    "\n",
    "export_graphviz( clf_tree,out_file = dot_data,feature_names = train_X.columns,\n",
    "                class_names=[\"Will take loan\", \"Will not take loan\"],\n",
    "               filled=True, rounded=True,special_characters=True)\n",
    "graph = pydotplus.graph_from_dot_data(dot_data.getvalue())  \n",
    "Image(graph.create_png())\n",
    "graph.write_png('loan_tree.png')"
   ]
  },
  {
   "cell_type": "code",
   "execution_count": 30,
   "metadata": {},
   "outputs": [
    {
     "name": "stderr",
     "output_type": "stream",
     "text": [
      "IOPub data rate exceeded.\n",
      "The notebook server will temporarily stop sending output\n",
      "to the client in order to avoid crashing it.\n",
      "To change this limit, set the config variable\n",
      "`--NotebookApp.iopub_data_rate_limit`.\n"
     ]
    }
   ],
   "source": [
    "import pydotplus as pdot\n",
    "export_graphviz( clf_tree,\n",
    "              out_file = \"chd_tree.odt\",\n",
    "              feature_names = train_X.columns )\n",
    "\n",
    "chd_tree_graph = pdot.graphviz.graph_from_dot_file( 'chd_tree.odt' )\n",
    "chd_tree_graph.write_jpg( 'chd_tree.jpg' )\n",
    "from IPython.display import Image\n",
    "Image(filename='chd_tree.jpg')"
   ]
  },
  {
   "cell_type": "code",
   "execution_count": 33,
   "metadata": {},
   "outputs": [
    {
     "name": "stdout",
     "output_type": "stream",
     "text": [
      "{'BALANCE': 0.13201267951921619, 'SCR': 0.14752089260734633, 'HOLDING_PERIOD': 0.098778157011548948, 'LEN_OF_RLTN_IN_MNTH': 0.1190292311985445, 'FLG_HAS_CC': 0.024548291266325135, 'AMT_L_DR': 0.10543092910492692, 'AMT_MIN_BAL_NMC_CHGS': 0.0027341279205083959, 'NO_OF_IW_CHQ_BNC_TXNS': 0.0053578045211909705, 'FLG_HAS_NOMINEE': 0.0061506740326802683, 'FLG_HAS_OLD_LOAN': 0.0036304137478873457, 'AGE': 0.07224939689935285, 'NO_OF_L_CR_TXNS': 0.15080049874376286, 'NO_OF_L_DR_TXNS': 0.060589211052485971, 'OCCUPATION_SAL': 0.0063233449015286242, 'OCCUPATION_SELF-EMP': 0.051432371619201486, 'OCCUPATION_SENP': 0.013411975853493234}\n"
     ]
    }
   ],
   "source": [
    "print(dict(zip(train_X.columns, clf_tree.feature_importances_)))"
   ]
  },
  {
   "cell_type": "code",
   "execution_count": 34,
   "metadata": {},
   "outputs": [
    {
     "data": {
      "text/plain": [
       "0.8493967107829169"
      ]
     },
     "execution_count": 34,
     "metadata": {},
     "output_type": "execute_result"
    }
   ],
   "source": [
    "from sklearn.metrics import roc_curve\n",
    "from sklearn.metrics import auc\n",
    "\n",
    "train_y_prob = clf_tree.predict_proba(train_X)\n",
    "fpr, tpr, thresholds = roc_curve(train_y,train_y_prob[:,1])\n",
    "auc(fpr, tpr)"
   ]
  },
  {
   "cell_type": "code",
   "execution_count": 29,
   "metadata": {},
   "outputs": [
    {
     "data": {
      "text/plain": [
       "0.7717101193106495"
      ]
     },
     "execution_count": 29,
     "metadata": {},
     "output_type": "execute_result"
    }
   ],
   "source": [
    "test_y_prob = clf_tree.predict_proba(test_X)\n",
    "fpr, tpr, thresholds = roc_curve(test_y, test_y_prob[:,1])\n",
    "auc(fpr, tpr)"
   ]
  },
  {
   "cell_type": "code",
   "execution_count": 30,
   "metadata": {},
   "outputs": [
    {
     "data": {
      "text/plain": [
       "0.09781844477127276"
      ]
     },
     "execution_count": 30,
     "metadata": {},
     "output_type": "execute_result"
    }
   ],
   "source": [
    "(0.8707426523285638-0.7855679602817707)/0.8707426523285638"
   ]
  },
  {
   "cell_type": "code",
   "execution_count": 35,
   "metadata": {},
   "outputs": [
    {
     "name": "stderr",
     "output_type": "stream",
     "text": [
      "C:\\Users\\nagapavan\\Anaconda3\\lib\\site-packages\\sklearn\\cross_validation.py:41: DeprecationWarning: This module was deprecated in version 0.18 in favor of the model_selection module into which all the refactored classes and functions are moved. Also note that the interface of the new CV iterators are different from that of this module. This module will be removed in 0.20.\n",
      "  \"This module will be removed in 0.20.\", DeprecationWarning)\n"
     ]
    },
    {
     "data": {
      "text/plain": [
       "0.76296450506305979"
      ]
     },
     "execution_count": 35,
     "metadata": {},
     "output_type": "execute_result"
    }
   ],
   "source": [
    "#cross validation to overcome over fitting\n",
    "from sklearn.cross_validation import cross_val_score\n",
    "scores = cross_val_score(clf_tree, train_X, train_y, cv = 10, scoring='roc_auc')\n",
    "scores.mean()"
   ]
  },
  {
   "cell_type": "code",
   "execution_count": 36,
   "metadata": {},
   "outputs": [
    {
     "data": {
      "text/plain": [
       "0.024256060511526872"
      ]
     },
     "execution_count": 36,
     "metadata": {},
     "output_type": "execute_result"
    }
   ],
   "source": [
    "scores.std()"
   ]
  },
  {
   "cell_type": "markdown",
   "metadata": {},
   "source": [
    "So by cross validation we get the correct AUC of the model, that is 0.7886 is the correct AUC with standard deviation of 0.0181. That we have to use this AUC as final statistics."
   ]
  },
  {
   "cell_type": "code",
   "execution_count": 38,
   "metadata": {},
   "outputs": [
    {
     "data": {
      "text/plain": [
       "DecisionTreeClassifier(class_weight=None, criterion='entropy', max_depth=18,\n",
       "            max_features=None, max_leaf_nodes=None,\n",
       "            min_impurity_decrease=0.0, min_impurity_split=None,\n",
       "            min_samples_leaf=10, min_samples_split=100,\n",
       "            min_weight_fraction_leaf=0.0, presort=False, random_state=None,\n",
       "            splitter='best')"
      ]
     },
     "execution_count": 38,
     "metadata": {},
     "output_type": "execute_result"
    }
   ],
   "source": [
    "#improve AUC by Grid search Cross validation\n",
    "from sklearn.grid_search import GridSearchCV\n",
    "\n",
    "param_dist = {\"criterion\": [\"gini\",\"entropy\"],\"max_depth\": np.arange(3,50),}\n",
    "tree = DecisionTreeClassifier(min_samples_split = 100,min_samples_leaf = 10)\n",
    "tree_cv = GridSearchCV(tree, param_dist, cv = 10,scoring = 'roc_auc')\n",
    "tree_cv.fit(train_X,train_y)\n",
    "classifier = tree_cv.best_estimator_\n",
    "classifier.fit(train_X,train_y)\n",
    "tree_cv.best_estimator_"
   ]
  },
  {
   "cell_type": "code",
   "execution_count": 39,
   "metadata": {},
   "outputs": [
    {
     "name": "stderr",
     "output_type": "stream",
     "text": [
      "D:\\Anaconda_software\\lib\\site-packages\\ipykernel_launcher.py:5: SettingWithCopyWarning: \n",
      "A value is trying to be set on a copy of a slice from a DataFrame.\n",
      "Try using .loc[row_indexer,col_indexer] = value instead\n",
      "\n",
      "See the caveats in the documentation: http://pandas.pydata.org/pandas-docs/stable/indexing.html#indexing-view-versus-copy\n",
      "  \"\"\"\n"
     ]
    },
    {
     "data": {
      "text/html": [
       "<div>\n",
       "<style scoped>\n",
       "    .dataframe tbody tr th:only-of-type {\n",
       "        vertical-align: middle;\n",
       "    }\n",
       "\n",
       "    .dataframe tbody tr th {\n",
       "        vertical-align: top;\n",
       "    }\n",
       "\n",
       "    .dataframe thead th {\n",
       "        text-align: right;\n",
       "    }\n",
       "</style>\n",
       "<table border=\"1\" class=\"dataframe\">\n",
       "  <thead>\n",
       "    <tr style=\"text-align: right;\">\n",
       "      <th></th>\n",
       "      <th>BALANCE</th>\n",
       "      <th>SCR</th>\n",
       "      <th>HOLDING_PERIOD</th>\n",
       "      <th>LEN_OF_RLTN_IN_MNTH</th>\n",
       "      <th>FLG_HAS_CC</th>\n",
       "      <th>AMT_L_DR</th>\n",
       "      <th>AMT_MIN_BAL_NMC_CHGS</th>\n",
       "      <th>NO_OF_IW_CHQ_BNC_TXNS</th>\n",
       "      <th>FLG_HAS_NOMINEE</th>\n",
       "      <th>FLG_HAS_OLD_LOAN</th>\n",
       "      <th>AGE</th>\n",
       "      <th>NO_OF_L_CR_TXNS</th>\n",
       "      <th>NO_OF_L_DR_TXNS</th>\n",
       "      <th>TARGET</th>\n",
       "      <th>OCCUPATION_SAL</th>\n",
       "      <th>OCCUPATION_SELF-EMP</th>\n",
       "      <th>OCCUPATION_SENP</th>\n",
       "      <th>prob_score</th>\n",
       "    </tr>\n",
       "  </thead>\n",
       "  <tbody>\n",
       "    <tr>\n",
       "      <th>18253</th>\n",
       "      <td>528169.01</td>\n",
       "      <td>415</td>\n",
       "      <td>22</td>\n",
       "      <td>35</td>\n",
       "      <td>1</td>\n",
       "      <td>31273.0</td>\n",
       "      <td>0</td>\n",
       "      <td>0</td>\n",
       "      <td>1</td>\n",
       "      <td>1</td>\n",
       "      <td>53</td>\n",
       "      <td>14</td>\n",
       "      <td>3</td>\n",
       "      <td>0</td>\n",
       "      <td>0</td>\n",
       "      <td>0</td>\n",
       "      <td>1</td>\n",
       "      <td>0.028986</td>\n",
       "    </tr>\n",
       "    <tr>\n",
       "      <th>18279</th>\n",
       "      <td>32123.27</td>\n",
       "      <td>655</td>\n",
       "      <td>3</td>\n",
       "      <td>45</td>\n",
       "      <td>1</td>\n",
       "      <td>972960.0</td>\n",
       "      <td>0</td>\n",
       "      <td>0</td>\n",
       "      <td>1</td>\n",
       "      <td>0</td>\n",
       "      <td>43</td>\n",
       "      <td>5</td>\n",
       "      <td>4</td>\n",
       "      <td>0</td>\n",
       "      <td>1</td>\n",
       "      <td>0</td>\n",
       "      <td>0</td>\n",
       "      <td>0.317073</td>\n",
       "    </tr>\n",
       "    <tr>\n",
       "      <th>10454</th>\n",
       "      <td>317257.29</td>\n",
       "      <td>185</td>\n",
       "      <td>9</td>\n",
       "      <td>209</td>\n",
       "      <td>1</td>\n",
       "      <td>499521.0</td>\n",
       "      <td>0</td>\n",
       "      <td>0</td>\n",
       "      <td>1</td>\n",
       "      <td>1</td>\n",
       "      <td>39</td>\n",
       "      <td>11</td>\n",
       "      <td>9</td>\n",
       "      <td>0</td>\n",
       "      <td>0</td>\n",
       "      <td>0</td>\n",
       "      <td>0</td>\n",
       "      <td>0.750000</td>\n",
       "    </tr>\n",
       "    <tr>\n",
       "      <th>17776</th>\n",
       "      <td>3938.64</td>\n",
       "      <td>801</td>\n",
       "      <td>26</td>\n",
       "      <td>196</td>\n",
       "      <td>0</td>\n",
       "      <td>21300.0</td>\n",
       "      <td>0</td>\n",
       "      <td>0</td>\n",
       "      <td>1</td>\n",
       "      <td>0</td>\n",
       "      <td>32</td>\n",
       "      <td>7</td>\n",
       "      <td>3</td>\n",
       "      <td>0</td>\n",
       "      <td>0</td>\n",
       "      <td>1</td>\n",
       "      <td>0</td>\n",
       "      <td>0.189474</td>\n",
       "    </tr>\n",
       "    <tr>\n",
       "      <th>4199</th>\n",
       "      <td>47426.98</td>\n",
       "      <td>823</td>\n",
       "      <td>10</td>\n",
       "      <td>71</td>\n",
       "      <td>0</td>\n",
       "      <td>255630.0</td>\n",
       "      <td>0</td>\n",
       "      <td>0</td>\n",
       "      <td>1</td>\n",
       "      <td>1</td>\n",
       "      <td>54</td>\n",
       "      <td>5</td>\n",
       "      <td>4</td>\n",
       "      <td>0</td>\n",
       "      <td>0</td>\n",
       "      <td>0</td>\n",
       "      <td>0</td>\n",
       "      <td>0.000000</td>\n",
       "    </tr>\n",
       "  </tbody>\n",
       "</table>\n",
       "</div>"
      ],
      "text/plain": [
       "         BALANCE  SCR  HOLDING_PERIOD  LEN_OF_RLTN_IN_MNTH  FLG_HAS_CC  \\\n",
       "18253  528169.01  415              22                   35           1   \n",
       "18279   32123.27  655               3                   45           1   \n",
       "10454  317257.29  185               9                  209           1   \n",
       "17776    3938.64  801              26                  196           0   \n",
       "4199    47426.98  823              10                   71           0   \n",
       "\n",
       "       AMT_L_DR  AMT_MIN_BAL_NMC_CHGS  NO_OF_IW_CHQ_BNC_TXNS  FLG_HAS_NOMINEE  \\\n",
       "18253   31273.0                     0                      0                1   \n",
       "18279  972960.0                     0                      0                1   \n",
       "10454  499521.0                     0                      0                1   \n",
       "17776   21300.0                     0                      0                1   \n",
       "4199   255630.0                     0                      0                1   \n",
       "\n",
       "       FLG_HAS_OLD_LOAN  AGE  NO_OF_L_CR_TXNS  NO_OF_L_DR_TXNS  TARGET  \\\n",
       "18253                 1   53               14                3       0   \n",
       "18279                 0   43                5                4       0   \n",
       "10454                 1   39               11                9       0   \n",
       "17776                 0   32                7                3       0   \n",
       "4199                  1   54                5                4       0   \n",
       "\n",
       "       OCCUPATION_SAL  OCCUPATION_SELF-EMP  OCCUPATION_SENP  prob_score  \n",
       "18253               0                    0                1    0.028986  \n",
       "18279               1                    0                0    0.317073  \n",
       "10454               0                    0                0    0.750000  \n",
       "17776               0                    1                0    0.189474  \n",
       "4199                0                    0                0    0.000000  "
      ]
     },
     "execution_count": 39,
     "metadata": {},
     "output_type": "execute_result"
    }
   ],
   "source": [
    "#checking rank ordering\n",
    "train,test = train_test_split( loan_df, test_size = 0.3)\n",
    "\n",
    "Prediction = classifier.predict_proba(train_X)\n",
    "train[\"prob_score\"] = Prediction[:,1]\n",
    "train.head()"
   ]
  },
  {
   "cell_type": "code",
   "execution_count": 40,
   "metadata": {
    "collapsed": true
   },
   "outputs": [],
   "source": [
    "#decile code\n",
    "def deciles(x):\n",
    "    decile = pd.Series(index=[0,1,2,3,4,5,6,7,8,9])\n",
    "    for i in np.arange(0.1,1.1,0.1):\n",
    "        decile[int(i*10)]=x.quantile(i)\n",
    "    def z(x):\n",
    "        if x<decile[1]: return(1)\n",
    "        elif x<decile[2]: return(2)\n",
    "        elif x<decile[3]: return(3)\n",
    "        elif x<decile[4]: return(4)\n",
    "        elif x<decile[5]: return(5)\n",
    "        elif x<decile[6]: return(6)\n",
    "        elif x<decile[7]: return(7)\n",
    "        elif x<decile[8]: return(8)\n",
    "        elif x<decile[9]: return(9)\n",
    "        elif x<=decile[10]: return(10)\n",
    "        else:return(np.NaN)\n",
    "    s=x.map(z)\n",
    "    return(s)"
   ]
  },
  {
   "cell_type": "code",
   "execution_count": 41,
   "metadata": {
    "collapsed": true
   },
   "outputs": [],
   "source": [
    "def Rank_Ordering(X,y,Target):\n",
    "    X['decile']=deciles(X[y])\n",
    "    Rank=X.groupby('decile').apply(lambda x: pd.Series([\n",
    "        np.min(x[y]),\n",
    "        np.max(x[y]),\n",
    "        np.mean(x[y]),\n",
    "        np.size(x[y]),\n",
    "        np.sum(x[Target]),\n",
    "        np.size(x[Target][x[Target]==0]),\n",
    "        ],\n",
    "    index=([\"min_resp\",\"max_resp\",\"avg_resp\",\n",
    "        \"cnt\",\"cnt_resp\",\"cnt_non_resp\"])\n",
    "    )).reset_index()\n",
    "    Rank = Rank.sort_values(by='decile',ascending=False)\n",
    "    Rank[\"rrate\"] = Rank[\"cnt_resp\"]*100/Rank[\"cnt\"]\n",
    "    Rank[\"cum_resp\"] = np.cumsum(Rank[\"cnt_resp\"])\n",
    "    Rank[\"cum_non_resp\"] = np.cumsum(Rank[\"cnt_non_resp\"])\n",
    "    Rank[\"cum_resp_pct\"] = Rank[\"cum_resp\"]/np.sum(Rank[\"cnt_resp\"])\n",
    "    Rank[\"cum_non_resp_pct\"]=Rank[\"cum_non_resp\"]/np.sum(Rank[\"cnt_non_resp\"])\n",
    "    Rank[\"KS\"] = Rank[\"cum_resp_pct\"] - Rank[\"cum_non_resp_pct\"]\n",
    "    Rank\n",
    "    return(Rank)"
   ]
  },
  {
   "cell_type": "code",
   "execution_count": 42,
   "metadata": {},
   "outputs": [
    {
     "name": "stderr",
     "output_type": "stream",
     "text": [
      "D:\\Anaconda_software\\lib\\site-packages\\ipykernel_launcher.py:2: SettingWithCopyWarning: \n",
      "A value is trying to be set on a copy of a slice from a DataFrame.\n",
      "Try using .loc[row_indexer,col_indexer] = value instead\n",
      "\n",
      "See the caveats in the documentation: http://pandas.pydata.org/pandas-docs/stable/indexing.html#indexing-view-versus-copy\n",
      "  \n"
     ]
    },
    {
     "data": {
      "text/html": [
       "<div>\n",
       "<style scoped>\n",
       "    .dataframe tbody tr th:only-of-type {\n",
       "        vertical-align: middle;\n",
       "    }\n",
       "\n",
       "    .dataframe tbody tr th {\n",
       "        vertical-align: top;\n",
       "    }\n",
       "\n",
       "    .dataframe thead th {\n",
       "        text-align: right;\n",
       "    }\n",
       "</style>\n",
       "<table border=\"1\" class=\"dataframe\">\n",
       "  <thead>\n",
       "    <tr style=\"text-align: right;\">\n",
       "      <th></th>\n",
       "      <th>decile</th>\n",
       "      <th>min_resp</th>\n",
       "      <th>max_resp</th>\n",
       "      <th>avg_resp</th>\n",
       "      <th>cnt</th>\n",
       "      <th>cnt_resp</th>\n",
       "      <th>cnt_non_resp</th>\n",
       "      <th>rrate</th>\n",
       "      <th>cum_resp</th>\n",
       "      <th>cum_non_resp</th>\n",
       "      <th>cum_resp_pct</th>\n",
       "      <th>cum_non_resp_pct</th>\n",
       "      <th>KS</th>\n",
       "    </tr>\n",
       "  </thead>\n",
       "  <tbody>\n",
       "    <tr>\n",
       "      <th>5</th>\n",
       "      <td>10</td>\n",
       "      <td>0.400000</td>\n",
       "      <td>1.000000</td>\n",
       "      <td>0.527208</td>\n",
       "      <td>1415.0</td>\n",
       "      <td>177.0</td>\n",
       "      <td>1238.0</td>\n",
       "      <td>12.508834</td>\n",
       "      <td>177.0</td>\n",
       "      <td>1238.0</td>\n",
       "      <td>0.099944</td>\n",
       "      <td>0.101235</td>\n",
       "      <td>-0.001291</td>\n",
       "    </tr>\n",
       "    <tr>\n",
       "      <th>4</th>\n",
       "      <td>9</td>\n",
       "      <td>0.251969</td>\n",
       "      <td>0.383562</td>\n",
       "      <td>0.327696</td>\n",
       "      <td>1419.0</td>\n",
       "      <td>203.0</td>\n",
       "      <td>1216.0</td>\n",
       "      <td>14.305849</td>\n",
       "      <td>380.0</td>\n",
       "      <td>2454.0</td>\n",
       "      <td>0.214568</td>\n",
       "      <td>0.200671</td>\n",
       "      <td>0.013898</td>\n",
       "    </tr>\n",
       "    <tr>\n",
       "      <th>3</th>\n",
       "      <td>8</td>\n",
       "      <td>0.157143</td>\n",
       "      <td>0.250000</td>\n",
       "      <td>0.203497</td>\n",
       "      <td>1430.0</td>\n",
       "      <td>198.0</td>\n",
       "      <td>1232.0</td>\n",
       "      <td>13.846154</td>\n",
       "      <td>578.0</td>\n",
       "      <td>3686.0</td>\n",
       "      <td>0.326369</td>\n",
       "      <td>0.301415</td>\n",
       "      <td>0.024955</td>\n",
       "    </tr>\n",
       "    <tr>\n",
       "      <th>2</th>\n",
       "      <td>7</td>\n",
       "      <td>0.102273</td>\n",
       "      <td>0.155844</td>\n",
       "      <td>0.125749</td>\n",
       "      <td>1336.0</td>\n",
       "      <td>170.0</td>\n",
       "      <td>1166.0</td>\n",
       "      <td>12.724551</td>\n",
       "      <td>748.0</td>\n",
       "      <td>4852.0</td>\n",
       "      <td>0.422360</td>\n",
       "      <td>0.396762</td>\n",
       "      <td>0.025598</td>\n",
       "    </tr>\n",
       "    <tr>\n",
       "      <th>1</th>\n",
       "      <td>6</td>\n",
       "      <td>0.040541</td>\n",
       "      <td>0.100000</td>\n",
       "      <td>0.066384</td>\n",
       "      <td>1416.0</td>\n",
       "      <td>177.0</td>\n",
       "      <td>1239.0</td>\n",
       "      <td>12.500000</td>\n",
       "      <td>925.0</td>\n",
       "      <td>6091.0</td>\n",
       "      <td>0.522304</td>\n",
       "      <td>0.498078</td>\n",
       "      <td>0.024225</td>\n",
       "    </tr>\n",
       "    <tr>\n",
       "      <th>0</th>\n",
       "      <td>5</td>\n",
       "      <td>0.000000</td>\n",
       "      <td>0.036364</td>\n",
       "      <td>0.002577</td>\n",
       "      <td>6984.0</td>\n",
       "      <td>846.0</td>\n",
       "      <td>6138.0</td>\n",
       "      <td>12.113402</td>\n",
       "      <td>1771.0</td>\n",
       "      <td>12229.0</td>\n",
       "      <td>1.000000</td>\n",
       "      <td>1.000000</td>\n",
       "      <td>0.000000</td>\n",
       "    </tr>\n",
       "  </tbody>\n",
       "</table>\n",
       "</div>"
      ],
      "text/plain": [
       "   decile  min_resp  max_resp  avg_resp     cnt  cnt_resp  cnt_non_resp  \\\n",
       "5      10  0.400000  1.000000  0.527208  1415.0     177.0        1238.0   \n",
       "4       9  0.251969  0.383562  0.327696  1419.0     203.0        1216.0   \n",
       "3       8  0.157143  0.250000  0.203497  1430.0     198.0        1232.0   \n",
       "2       7  0.102273  0.155844  0.125749  1336.0     170.0        1166.0   \n",
       "1       6  0.040541  0.100000  0.066384  1416.0     177.0        1239.0   \n",
       "0       5  0.000000  0.036364  0.002577  6984.0     846.0        6138.0   \n",
       "\n",
       "       rrate  cum_resp  cum_non_resp  cum_resp_pct  cum_non_resp_pct        KS  \n",
       "5  12.508834     177.0        1238.0      0.099944          0.101235 -0.001291  \n",
       "4  14.305849     380.0        2454.0      0.214568          0.200671  0.013898  \n",
       "3  13.846154     578.0        3686.0      0.326369          0.301415  0.024955  \n",
       "2  12.724551     748.0        4852.0      0.422360          0.396762  0.025598  \n",
       "1  12.500000     925.0        6091.0      0.522304          0.498078  0.024225  \n",
       "0  12.113402    1771.0       12229.0      1.000000          1.000000  0.000000  "
      ]
     },
     "execution_count": 42,
     "metadata": {},
     "output_type": "execute_result"
    }
   ],
   "source": [
    "Rank = Rank_Ordering(train,\"prob_score\",\"TARGET\")\n",
    "Rank"
   ]
  },
  {
   "cell_type": "code",
   "execution_count": 44,
   "metadata": {},
   "outputs": [
    {
     "name": "stderr",
     "output_type": "stream",
     "text": [
      "D:\\Anaconda_software\\lib\\site-packages\\ipykernel_launcher.py:2: SettingWithCopyWarning: \n",
      "A value is trying to be set on a copy of a slice from a DataFrame.\n",
      "Try using .loc[row_indexer,col_indexer] = value instead\n",
      "\n",
      "See the caveats in the documentation: http://pandas.pydata.org/pandas-docs/stable/indexing.html#indexing-view-versus-copy\n",
      "  \n"
     ]
    },
    {
     "data": {
      "text/html": [
       "<div>\n",
       "<style scoped>\n",
       "    .dataframe tbody tr th:only-of-type {\n",
       "        vertical-align: middle;\n",
       "    }\n",
       "\n",
       "    .dataframe tbody tr th {\n",
       "        vertical-align: top;\n",
       "    }\n",
       "\n",
       "    .dataframe thead th {\n",
       "        text-align: right;\n",
       "    }\n",
       "</style>\n",
       "<table border=\"1\" class=\"dataframe\">\n",
       "  <thead>\n",
       "    <tr style=\"text-align: right;\">\n",
       "      <th></th>\n",
       "      <th>decile</th>\n",
       "      <th>min_resp</th>\n",
       "      <th>max_resp</th>\n",
       "      <th>avg_resp</th>\n",
       "      <th>cnt</th>\n",
       "      <th>cnt_resp</th>\n",
       "      <th>cnt_non_resp</th>\n",
       "      <th>rrate</th>\n",
       "      <th>cum_resp</th>\n",
       "      <th>cum_non_resp</th>\n",
       "      <th>cum_resp_pct</th>\n",
       "      <th>cum_non_resp_pct</th>\n",
       "      <th>KS</th>\n",
       "    </tr>\n",
       "  </thead>\n",
       "  <tbody>\n",
       "    <tr>\n",
       "      <th>5</th>\n",
       "      <td>10</td>\n",
       "      <td>0.383562</td>\n",
       "      <td>1.000000</td>\n",
       "      <td>0.518008</td>\n",
       "      <td>631.0</td>\n",
       "      <td>61.0</td>\n",
       "      <td>570.0</td>\n",
       "      <td>9.667195</td>\n",
       "      <td>61.0</td>\n",
       "      <td>570.0</td>\n",
       "      <td>0.082321</td>\n",
       "      <td>0.108386</td>\n",
       "      <td>-0.026064</td>\n",
       "    </tr>\n",
       "    <tr>\n",
       "      <th>4</th>\n",
       "      <td>9</td>\n",
       "      <td>0.246377</td>\n",
       "      <td>0.383333</td>\n",
       "      <td>0.316761</td>\n",
       "      <td>576.0</td>\n",
       "      <td>76.0</td>\n",
       "      <td>500.0</td>\n",
       "      <td>13.194444</td>\n",
       "      <td>137.0</td>\n",
       "      <td>1070.0</td>\n",
       "      <td>0.184885</td>\n",
       "      <td>0.203461</td>\n",
       "      <td>-0.018575</td>\n",
       "    </tr>\n",
       "    <tr>\n",
       "      <th>3</th>\n",
       "      <td>8</td>\n",
       "      <td>0.157143</td>\n",
       "      <td>0.245283</td>\n",
       "      <td>0.198685</td>\n",
       "      <td>621.0</td>\n",
       "      <td>77.0</td>\n",
       "      <td>544.0</td>\n",
       "      <td>12.399356</td>\n",
       "      <td>214.0</td>\n",
       "      <td>1614.0</td>\n",
       "      <td>0.288799</td>\n",
       "      <td>0.306902</td>\n",
       "      <td>-0.018104</td>\n",
       "    </tr>\n",
       "    <tr>\n",
       "      <th>2</th>\n",
       "      <td>7</td>\n",
       "      <td>0.102273</td>\n",
       "      <td>0.155844</td>\n",
       "      <td>0.125838</td>\n",
       "      <td>605.0</td>\n",
       "      <td>80.0</td>\n",
       "      <td>525.0</td>\n",
       "      <td>13.223140</td>\n",
       "      <td>294.0</td>\n",
       "      <td>2139.0</td>\n",
       "      <td>0.396761</td>\n",
       "      <td>0.406731</td>\n",
       "      <td>-0.009970</td>\n",
       "    </tr>\n",
       "    <tr>\n",
       "      <th>1</th>\n",
       "      <td>6</td>\n",
       "      <td>0.047619</td>\n",
       "      <td>0.100000</td>\n",
       "      <td>0.069110</td>\n",
       "      <td>570.0</td>\n",
       "      <td>64.0</td>\n",
       "      <td>506.0</td>\n",
       "      <td>11.228070</td>\n",
       "      <td>358.0</td>\n",
       "      <td>2645.0</td>\n",
       "      <td>0.483131</td>\n",
       "      <td>0.502947</td>\n",
       "      <td>-0.019816</td>\n",
       "    </tr>\n",
       "    <tr>\n",
       "      <th>0</th>\n",
       "      <td>5</td>\n",
       "      <td>0.000000</td>\n",
       "      <td>0.043478</td>\n",
       "      <td>0.003223</td>\n",
       "      <td>2997.0</td>\n",
       "      <td>383.0</td>\n",
       "      <td>2614.0</td>\n",
       "      <td>12.779446</td>\n",
       "      <td>741.0</td>\n",
       "      <td>5259.0</td>\n",
       "      <td>1.000000</td>\n",
       "      <td>1.000000</td>\n",
       "      <td>0.000000</td>\n",
       "    </tr>\n",
       "  </tbody>\n",
       "</table>\n",
       "</div>"
      ],
      "text/plain": [
       "   decile  min_resp  max_resp  avg_resp     cnt  cnt_resp  cnt_non_resp  \\\n",
       "5      10  0.383562  1.000000  0.518008   631.0      61.0         570.0   \n",
       "4       9  0.246377  0.383333  0.316761   576.0      76.0         500.0   \n",
       "3       8  0.157143  0.245283  0.198685   621.0      77.0         544.0   \n",
       "2       7  0.102273  0.155844  0.125838   605.0      80.0         525.0   \n",
       "1       6  0.047619  0.100000  0.069110   570.0      64.0         506.0   \n",
       "0       5  0.000000  0.043478  0.003223  2997.0     383.0        2614.0   \n",
       "\n",
       "       rrate  cum_resp  cum_non_resp  cum_resp_pct  cum_non_resp_pct        KS  \n",
       "5   9.667195      61.0         570.0      0.082321          0.108386 -0.026064  \n",
       "4  13.194444     137.0        1070.0      0.184885          0.203461 -0.018575  \n",
       "3  12.399356     214.0        1614.0      0.288799          0.306902 -0.018104  \n",
       "2  13.223140     294.0        2139.0      0.396761          0.406731 -0.009970  \n",
       "1  11.228070     358.0        2645.0      0.483131          0.502947 -0.019816  \n",
       "0  12.779446     741.0        5259.0      1.000000          1.000000  0.000000  "
      ]
     },
     "execution_count": 44,
     "metadata": {},
     "output_type": "execute_result"
    }
   ],
   "source": [
    "Prediction_h = classifier.predict_proba(test_X)\n",
    "test[\"prob_score\"] = Prediction_h[:,1]\n",
    "Rank_h = Rank_Ordering(test,\"prob_score\",\"TARGET\")\n",
    "Rank_h"
   ]
  },
  {
   "cell_type": "markdown",
   "metadata": {},
   "source": [
    "## Overall Conclusion\n",
    "a.\tFirst node. If NO_L_DR_TRANSACTIONS<-5.5\n",
    "i.\tIF TRUE- FLAG_HAS_CC=0\n",
    "1.\tIF TRUE= nO_OF_L_CR TRANACTIONS<=16.5\n",
    "a.\tIF TRUE=HOLDING_PERIOD<=13.5\n",
    "i.\tIF TRUE=SCR<=177.5\n",
    "1.\tIF Amt_dr<=70K\n",
    "a.\tTHEN wILL TAKE LOAN\n",
    "\n",
    "### Please note, this is the most important part of analysis"
   ]
  }
 ],
 "metadata": {
  "kernelspec": {
   "display_name": "Python 3",
   "language": "python",
   "name": "python3"
  },
  "language_info": {
   "codemirror_mode": {
    "name": "ipython",
    "version": 3
   },
   "file_extension": ".py",
   "mimetype": "text/x-python",
   "name": "python",
   "nbconvert_exporter": "python",
   "pygments_lexer": "ipython3",
   "version": "3.6.3"
  }
 },
 "nbformat": 4,
 "nbformat_minor": 2
}
